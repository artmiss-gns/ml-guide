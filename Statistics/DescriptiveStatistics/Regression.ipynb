{
 "cells": [
  {
   "cell_type": "code",
   "execution_count": 1,
   "id": "01f1657e-a6e0-4d99-aee0-4070cd30be59",
   "metadata": {},
   "outputs": [],
   "source": [
    "import numpy as np\n",
    "import matplotlib.pyplot as plt\n",
    "import seaborn as sns\n",
    "import pandas as pd\n",
    "%matplotlib inline"
   ]
  },
  {
   "cell_type": "code",
   "execution_count": 47,
   "id": "1934dc66-1574-4316-aa6e-b544883eecce",
   "metadata": {},
   "outputs": [],
   "source": [
    "# creating the sample\n",
    "sample_size = 20\n",
    "x = np.random.randn(sample_size)\n",
    "y = (2*x) + np.random.randn(sample_size)"
   ]
  },
  {
   "cell_type": "code",
   "execution_count": 48,
   "id": "e3f36992-b20c-469d-93b6-5f90c4568542",
   "metadata": {},
   "outputs": [
    {
     "data": {
      "text/plain": [
       "<AxesSubplot:>"
      ]
     },
     "execution_count": 48,
     "metadata": {},
     "output_type": "execute_result"
    },
    {
     "data": {
      "image/png": "[encoded data removed]",
      "text/plain": [
       "<Figure size 640x480 with 1 Axes>"
      ]
     },
     "metadata": {},
     "output_type": "display_data"
    }
   ],
   "source": [
    "sns.scatterplot(x=x, y=y)"
   ]
  },
  {
   "cell_type": "code",
   "execution_count": 49,
   "id": "0cca66f4-cbb7-4d1d-a897-7639d8758ba4",
   "metadata": {},
   "outputs": [
    {
     "data": {
      "text/html": [
       "<div>\n",
       "<style scoped>\n",
       "    .dataframe tbody tr th:only-of-type {\n",
       "        vertical-align: middle;\n",
       "    }\n",
       "\n",
       "    .dataframe tbody tr th {\n",
       "        vertical-align: top;\n",
       "    }\n",
       "\n",
       "    .dataframe thead th {\n",
       "        text-align: right;\n",
       "    }\n",
       "</style>\n",
       "<table border=\"1\" class=\"dataframe\">\n",
       "  <thead>\n",
       "    <tr style=\"text-align: right;\">\n",
       "      <th></th>\n",
       "      <th>x</th>\n",
       "      <th>y</th>\n",
       "    </tr>\n",
       "  </thead>\n",
       "  <tbody>\n",
       "    <tr>\n",
       "      <th>0</th>\n",
       "      <td>-1.519949</td>\n",
       "      <td>-4.948994</td>\n",
       "    </tr>\n",
       "    <tr>\n",
       "      <th>1</th>\n",
       "      <td>-0.927906</td>\n",
       "      <td>-1.460925</td>\n",
       "    </tr>\n",
       "    <tr>\n",
       "      <th>2</th>\n",
       "      <td>-1.020354</td>\n",
       "      <td>-1.203637</td>\n",
       "    </tr>\n",
       "    <tr>\n",
       "      <th>3</th>\n",
       "      <td>-1.544158</td>\n",
       "      <td>-3.371092</td>\n",
       "    </tr>\n",
       "    <tr>\n",
       "      <th>4</th>\n",
       "      <td>1.024511</td>\n",
       "      <td>2.527889</td>\n",
       "    </tr>\n",
       "  </tbody>\n",
       "</table>\n",
       "</div>"
      ],
      "text/plain": [
       "          x         y\n",
       "0 -1.519949 -4.948994\n",
       "1 -0.927906 -1.460925\n",
       "2 -1.020354 -1.203637\n",
       "3 -1.544158 -3.371092\n",
       "4  1.024511  2.527889"
      ]
     },
     "execution_count": 49,
     "metadata": {},
     "output_type": "execute_result"
    }
   ],
   "source": [
    "df = pd.DataFrame({'x': x, 'y': y})\n",
    "df.head()"
   ]
  },
  {
   "cell_type": "code",
   "execution_count": 50,
   "id": "7138723d-5786-480d-92b9-0ef3e90d40b7",
   "metadata": {},
   "outputs": [
    {
     "data": {
      "text/html": [
       "<div>\n",
       "<style scoped>\n",
       "    .dataframe tbody tr th:only-of-type {\n",
       "        vertical-align: middle;\n",
       "    }\n",
       "\n",
       "    .dataframe tbody tr th {\n",
       "        vertical-align: top;\n",
       "    }\n",
       "\n",
       "    .dataframe thead th {\n",
       "        text-align: right;\n",
       "    }\n",
       "</style>\n",
       "<table border=\"1\" class=\"dataframe\">\n",
       "  <thead>\n",
       "    <tr style=\"text-align: right;\">\n",
       "      <th></th>\n",
       "      <th>x</th>\n",
       "      <th>y</th>\n",
       "    </tr>\n",
       "  </thead>\n",
       "  <tbody>\n",
       "    <tr>\n",
       "      <th>x</th>\n",
       "      <td>1.000000</td>\n",
       "      <td>0.947962</td>\n",
       "    </tr>\n",
       "    <tr>\n",
       "      <th>y</th>\n",
       "      <td>0.947962</td>\n",
       "      <td>1.000000</td>\n",
       "    </tr>\n",
       "  </tbody>\n",
       "</table>\n",
       "</div>"
      ],
      "text/plain": [
       "          x         y\n",
       "x  1.000000  0.947962\n",
       "y  0.947962  1.000000"
      ]
     },
     "execution_count": 50,
     "metadata": {},
     "output_type": "execute_result"
    }
   ],
   "source": [
    "df.corr()"
   ]
  },
  {
   "cell_type": "code",
   "execution_count": 51,
   "id": "5c77b211-2183-44b3-80ca-53de3cbb3cdb",
   "metadata": {},
   "outputs": [],
   "source": [
    "# calculating correlation r:\n",
    "def correlation(x, y) :\n",
    "    SP_xy = np.sum((x - x.mean()) * (y - y.mean()))\n",
    "    SS_x = np.sum( np.power((x - x.mean()), 2) )\n",
    "    SS_y = np.sum( np.power((y - y.mean()), 2) )\n",
    "    r = (SP_xy) / np.power(SS_x * SS_y, 0.5)\n",
    "    return r"
   ]
  },
  {
   "cell_type": "code",
   "execution_count": 52,
   "id": "41b8a69b-8810-478d-a7c3-47daca2e3bc2",
   "metadata": {},
   "outputs": [
    {
     "data": {
      "text/plain": [
       "0.9479621525243083"
      ]
     },
     "execution_count": 52,
     "metadata": {},
     "output_type": "execute_result"
    }
   ],
   "source": [
    "correlation(x, y)"
   ]
  },
  {
   "cell_type": "code",
   "execution_count": 53,
   "id": "d66af5e3-1d2f-42cf-8d32-77ed0cebd967",
   "metadata": {},
   "outputs": [],
   "source": [
    "# regression line  --> y = bx + a\n",
    "r = correlation(x, y)\n",
    "SS_x = np.sum( np.power((x - x.mean()), 2) )\n",
    "SS_y = np.sum( np.power((y - y.mean()), 2) )\n",
    "\n",
    "b = r * np.power(SS_y/SS_x, 0.5)\n",
    "a = y.mean() - (b * x.mean())\n",
    "\n",
    "# y' = bx + a --> np.polyval(np.array([b, a]), x)"
   ]
  },
  {
   "cell_type": "code",
   "execution_count": 54,
   "id": "3b8fe36d-d070-4dc8-8fa4-ad076482692c",
   "metadata": {},
   "outputs": [],
   "source": [
    "def predict(x) :\n",
    "    return np.polyval(np.array([b, a]), x)"
   ]
  },
  {
   "cell_type": "code",
   "execution_count": 55,
   "id": "b301ffcc-721b-4f40-a24d-3fd8fe2eb2be",
   "metadata": {},
   "outputs": [],
   "source": [
    "x_ = np.arange(-5, 5)\n",
    "y_ = np.array(\n",
    "    [predict(i) for i in x_]\n",
    ")"
   ]
  },
  {
   "cell_type": "code",
   "execution_count": 56,
   "id": "c119bb95-727a-4ef1-a2ef-508d2a487c31",
   "metadata": {},
   "outputs": [
    {
     "data": {
      "image/png": "[encoded data removed]",
      "text/plain": [
       "<Figure size 640x480 with 1 Axes>"
      ]
     },
     "metadata": {},
     "output_type": "display_data"
    }
   ],
   "source": [
    "plt.scatter(x=x, y=y)\n",
    "plt.plot(x_, y_, color='red')\n",
    "plt.show()"
   ]
  },
  {
   "cell_type": "markdown",
   "id": "837f82b9-90b8-45e7-9e75-8687e9e1890d",
   "metadata": {},
   "source": [
    "### let's predict :)"
   ]
  },
  {
   "cell_type": "code",
   "execution_count": 61,
   "id": "fa604dae-7f0c-4961-844d-428d87753f82",
   "metadata": {},
   "outputs": [
    {
     "data": {
      "text/plain": [
       "(-0.34934575985431987, -0.8194573046216274)"
      ]
     },
     "execution_count": 61,
     "metadata": {},
     "output_type": "execute_result"
    }
   ],
   "source": [
    "actual_x = np.random.randn()\n",
    "actual_y = (2*actual_x) + np.random.randn() # the function we used to produce y for our data\n",
    "actual_x, actual_y"
   ]
  },
  {
   "cell_type": "code",
   "execution_count": 62,
   "id": "6aeded85-0f37-418b-aabd-868a385cf90d",
   "metadata": {},
   "outputs": [
    {
     "data": {
      "text/plain": [
       "-0.8508987823240906"
      ]
     },
     "execution_count": 62,
     "metadata": {},
     "output_type": "execute_result"
    }
   ],
   "source": [
    "predict(actual_x)"
   ]
  },
  {
   "cell_type": "markdown",
   "id": "58756d6d-1dcc-47d3-bce9-b672cacddf03",
   "metadata": {},
   "source": [
    "<br></br>\n",
    "as you can see, the answer is not axactly the same as the actual output,<br>\n",
    "now we will read about the **error of our prediction**"
   ]
  },
  {
   "cell_type": "markdown",
   "id": "9d451645-0547-4c8a-8b54-777aabe6a7cc",
   "metadata": {},
   "source": [
    "## standard error of estimate"
   ]
  },
  {
   "cell_type": "markdown",
   "id": "94c3f0d8-bed0-4296-8721-2226226bf640",
   "metadata": {},
   "source": [
    "it measures the average deviation of the residuals (the differences between the actual and predicted values) in the regression model.<br>\n",
    "The SEE is used to assess the goodness of fit of the regression model. A smaller SEE indicates a better fit and more accurate predictions, while a larger SEE indicates a poorer fit and less accurate predictions\n",
    "\n"
   ]
  },
  {
   "cell_type": "markdown",
   "id": "2b9d9667-3238-49a2-b5f9-f6bff6512d67",
   "metadata": {},
   "source": [
    "**a rough measure of the average amount by which known Y values deviate from their predictedY values.**"
   ]
  },
  {
   "cell_type": "code",
   "execution_count": 65,
   "id": "5aacefe2-7ecd-4ba6-851e-7b6eacbd867f",
   "metadata": {},
   "outputs": [
    {
     "data": {
      "text/plain": [
       "0.8053402904268985"
      ]
     },
     "execution_count": 65,
     "metadata": {},
     "output_type": "execute_result"
    }
   ],
   "source": [
    "# calculate SEE for our example :\n",
    "n = sample_size\n",
    "SEE = np.power( (SS_y * (1 - r**2)) / (n - 2), 0.5)\n",
    "SEE"
   ]
  },
  {
   "cell_type": "markdown",
   "id": "847b3370-4ec5-4db5-8bda-7cf6cc7ea141",
   "metadata": {},
   "source": [
    "so the actual Y should be in range of predicted Y +-SEE :"
   ]
  },
  {
   "cell_type": "code",
   "execution_count": 71,
   "id": "96643713-379f-4a46-bb65-b300f40ee214",
   "metadata": {},
   "outputs": [
    {
     "data": {
      "text/plain": [
       "False"
      ]
     },
     "execution_count": 71,
     "metadata": {},
     "output_type": "execute_result"
    }
   ],
   "source": [
    "predicted_y = predict(actual_x)\n",
    "actual_y in np.arange(predicted_y-SEE, predicted_y+SEE)"
   ]
  },
  {
   "cell_type": "code",
   "execution_count": 72,
   "id": "4fbe5e03-6ab4-44e4-8fed-904c5e369149",
   "metadata": {},
   "outputs": [
    {
     "data": {
      "text/plain": [
       "-0.8194573046216274"
      ]
     },
     "execution_count": 72,
     "metadata": {},
     "output_type": "execute_result"
    }
   ],
   "source": [
    "actual_y"
   ]
  },
  {
   "cell_type": "code",
   "execution_count": 73,
   "id": "46c5d39d-d40d-4b20-915a-945a49baa596",
   "metadata": {},
   "outputs": [
    {
     "data": {
      "text/plain": [
       "array([-1.65623907, -0.65623907])"
      ]
     },
     "execution_count": 73,
     "metadata": {},
     "output_type": "execute_result"
    }
   ],
   "source": [
    "np.arange(predicted_y-SEE, predicted_y+SEE)"
   ]
  },
  {
   "cell_type": "code",
   "execution_count": 75,
   "id": "ead9a61a-57e8-4ac4-a2cc-94424ca2a129",
   "metadata": {},
   "outputs": [
    {
     "data": {
      "text/plain": [
       "True"
      ]
     },
     "execution_count": 75,
     "metadata": {},
     "output_type": "execute_result"
    }
   ],
   "source": [
    "np.logical_and(predicted_y-SEE <= actual_y, actual_y <= predicted_y+SEE)"
   ]
  },
  {
   "cell_type": "markdown",
   "id": "49b08545-efa9-42fc-86b0-35a9f816c637",
   "metadata": {},
   "source": [
    "### two important points :\n",
    "- linearity\n",
    "- Homoscedasticity"
   ]
  },
  {
   "cell_type": "markdown",
   "id": "ba1d5507-83d2-4b23-a316-7256084160d7",
   "metadata": {},
   "source": [
    "## r^2\n",
    "- **measure of predictive accuracy**<br>\n",
    "- ***r2, always indicates the proportion of total variability in one variable that is predictable from its relationship with the other variable.*** --> if r^2 is 0.64, it means that 64 percent of the y is predictable from x"
   ]
  },
  {
   "cell_type": "markdown",
   "id": "4eabdee8-2875-4df9-8045-ef5832a1c65f",
   "metadata": {},
   "source": [
    "The r^2 value ranges from 0 to 1, with a value of 1 indicating that the regression model perfectly fits the data, and a value close to 0 indicating that the model does not fit the data well."
   ]
  },
  {
   "cell_type": "markdown",
   "id": "ac6a05b9-dd38-48c0-88f2-1ca0f4bb35e3",
   "metadata": {},
   "source": [
    "## regression toward the mean"
   ]
  },
  {
   "cell_type": "code",
   "execution_count": null,
   "id": "935b8c23-7467-4e5b-be4c-ebf590a6787b",
   "metadata": {},
   "outputs": [],
   "source": []
  }
 ],
 "metadata": {
  "kernelspec": {
   "display_name": "Python 3 (ipykernel)",
   "language": "python",
   "name": "python3"
  },
  "language_info": {
   "codemirror_mode": {
    "name": "ipython",
    "version": 3
   },
   "file_extension": ".py",
   "mimetype": "text/x-python",
   "name": "python",
   "nbconvert_exporter": "python",
   "pygments_lexer": "ipython3",
   "version": "3.9.12"
  }
 },
 "nbformat": 4,
 "nbformat_minor": 5
}
