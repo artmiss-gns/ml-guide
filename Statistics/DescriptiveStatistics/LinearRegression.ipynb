{
 "cells": [
  {
   "cell_type": "code",
   "execution_count": 17,
   "id": "b761fb47-2fbd-45c1-925f-622b24783f23",
   "metadata": {},
   "outputs": [],
   "source": [
    "import numpy as np\n",
    "import matplotlib.pyplot as plt\n",
    "%matplotlib inline"
   ]
  },
  {
   "cell_type": "code",
   "execution_count": 2,
   "id": "f5399c7c-2a60-4d0e-a385-2e92dcfef946",
   "metadata": {},
   "outputs": [],
   "source": [
    "x = np.array([\n",
    "    13, 9, 7, 5, 1])\n",
    "\n",
    "y = np.array([\n",
    "    14, 18, 12, 10, 6])"
   ]
  },
  {
   "cell_type": "code",
   "execution_count": 8,
   "id": "d33d3477-6590-4a3b-ab72-c1e9e1e8a457",
   "metadata": {},
   "outputs": [
    {
     "data": {
      "text/plain": [
       "80.0"
      ]
     },
     "execution_count": 8,
     "metadata": {},
     "output_type": "execute_result"
    }
   ],
   "source": [
    "ss_x = np.sum(np.power((x - x.mean()), 2))\n",
    "ss_x"
   ]
  },
  {
   "cell_type": "code",
   "execution_count": 9,
   "id": "8814d06d-f270-405c-b9c8-74ead7cc4a62",
   "metadata": {},
   "outputs": [
    {
     "data": {
      "text/plain": [
       "80.0"
      ]
     },
     "execution_count": 9,
     "metadata": {},
     "output_type": "execute_result"
    }
   ],
   "source": [
    "ss_y = np.sum(np.power((y - y.mean()), 2))\n",
    "ss_y"
   ]
  },
  {
   "cell_type": "code",
   "execution_count": 10,
   "id": "0ee5b19c-131c-4a69-aaa5-36b4ca9a52c4",
   "metadata": {},
   "outputs": [
    {
     "data": {
      "text/plain": [
       "64.0"
      ]
     },
     "execution_count": 10,
     "metadata": {},
     "output_type": "execute_result"
    }
   ],
   "source": [
    "sp_xy = np.sum( (x - x.mean()) * (y - y.mean()) )\n",
    "sp_xy"
   ]
  },
  {
   "cell_type": "code",
   "execution_count": 11,
   "id": "ac2699ef-0d35-4627-8dbb-48c2b32ba5c4",
   "metadata": {},
   "outputs": [
    {
     "data": {
      "text/plain": [
       "0.8"
      ]
     },
     "execution_count": 11,
     "metadata": {},
     "output_type": "execute_result"
    }
   ],
   "source": [
    "r = ( sp_xy / np.power(ss_x * ss_y, 0.5) )\n",
    "r"
   ]
  },
  {
   "cell_type": "markdown",
   "id": "b922c0ee-7ede-4795-a79f-737a3a78a790",
   "metadata": {},
   "source": [
    "<br>\n",
    "y' = bx + a"
   ]
  },
  {
   "cell_type": "code",
   "execution_count": 12,
   "id": "a7874428-e8ab-4d8f-bd00-585d55bc4739",
   "metadata": {},
   "outputs": [
    {
     "data": {
      "text/plain": [
       "0.8"
      ]
     },
     "execution_count": 12,
     "metadata": {},
     "output_type": "execute_result"
    }
   ],
   "source": [
    "b = r * np.power(ss_y / ss_x, 0.5)\n",
    "b"
   ]
  },
  {
   "cell_type": "code",
   "execution_count": 13,
   "id": "efc41b6f-a0fc-4ad1-9ed7-c028c8c50a86",
   "metadata": {},
   "outputs": [
    {
     "data": {
      "text/plain": [
       "6.3999999999999995"
      ]
     },
     "execution_count": 13,
     "metadata": {},
     "output_type": "execute_result"
    }
   ],
   "source": [
    "a = y.mean() - b*x.mean()\n",
    "a"
   ]
  },
  {
   "cell_type": "code",
   "execution_count": 71,
   "id": "ecb9dab3-fae5-4a5e-b57b-bd58b49877f1",
   "metadata": {},
   "outputs": [
    {
     "data": {
      "text/plain": [
       "array([-8.])"
      ]
     },
     "execution_count": 71,
     "metadata": {},
     "output_type": "execute_result"
    }
   ],
   "source": [
    "y_ = np.roots([b, a])\n",
    "y_"
   ]
  },
  {
   "cell_type": "code",
   "execution_count": 72,
   "id": "9ba2be55-422b-444a-93f7-2521f45e4862",
   "metadata": {},
   "outputs": [],
   "source": [
    "X = np.arange(1, 20)\n",
    "Y = np.polyval(np.array([b, a]), X)"
   ]
  },
  {
   "cell_type": "code",
   "execution_count": 94,
   "id": "26170dc2-af68-45d9-b7d3-0ebd0b146837",
   "metadata": {},
   "outputs": [
    {
     "data": {
      "image/png": "[encoded data removed]",
      "text/plain": [
       "<Figure size 432x288 with 1 Axes>"
      ]
     },
     "metadata": {
      "needs_background": "light"
     },
     "output_type": "display_data"
    }
   ],
   "source": [
    "plt.scatter(x, y)\n",
    "plt.plot(X, Y, color='red')\n",
    "plt.show()"
   ]
  },
  {
   "cell_type": "code",
   "execution_count": 92,
   "id": "e83c5e96-fe72-4f6f-adbf-d2222ead22fe",
   "metadata": {},
   "outputs": [
    {
     "data": {
      "text/plain": [
       "3.0983866769659327"
      ]
     },
     "execution_count": 92,
     "metadata": {},
     "output_type": "execute_result"
    }
   ],
   "source": [
    "standard_error = np.power( (ss_y * (1 - r**2)) / (len(x)-2), 0.5)\n",
    "standard_error"
   ]
  },
  {
   "cell_type": "markdown",
   "id": "e73992dd-cd50-4c9b-85f3-36f8b2faba3a",
   "metadata": {},
   "source": [
    "<br> <br>\n"
   ]
  },
  {
   "cell_type": "markdown",
   "id": "b5bf2339-952e-4e37-aea6-e81929fca481",
   "metadata": {},
   "source": [
    "### another example \n",
    "##### page 145"
   ]
  },
  {
   "cell_type": "code",
   "execution_count": 21,
   "id": "f4c77d7b-3c54-4944-ae23-203f0fe457e1",
   "metadata": {},
   "outputs": [],
   "source": [
    "import numpy as np\n",
    "import pandas as pd\n",
    "import seaborn as sns\n",
    "import matplotlib.pyplot as plt\n",
    "%matplotlib inline"
   ]
  },
  {
   "cell_type": "code",
   "execution_count": 2,
   "id": "283e2026-a66c-464c-a3f1-fc33c3dc4b44",
   "metadata": {},
   "outputs": [],
   "source": [
    "x = np.array([\n",
    "    5, 5, 2, 2, 3, 1, 2])\n",
    "y = np.array([\n",
    "    4, 3, 2, 2, 2, 1, 2])"
   ]
  },
  {
   "cell_type": "code",
   "execution_count": 23,
   "id": "b47b0ec5-ecec-4aaa-86b8-8739ae73dd2b",
   "metadata": {},
   "outputs": [
    {
     "data": {
      "text/plain": [
       "<matplotlib.collections.PathCollection at 0x15451e3e0>"
      ]
     },
     "execution_count": 23,
     "metadata": {},
     "output_type": "execute_result"
    },
    {
     "data": {
      "image/png": "[encoded data removed]",
      "text/plain": [
       "<Figure size 640x480 with 1 Axes>"
      ]
     },
     "metadata": {},
     "output_type": "display_data"
    }
   ],
   "source": [
    "plt.scatter(x, y)"
   ]
  },
  {
   "cell_type": "code",
   "execution_count": 70,
   "id": "d6ab208b-cc25-4803-aa3d-7723109020f0",
   "metadata": {},
   "outputs": [
    {
     "data": {
      "text/plain": [
       "poly1d([0.55769231, 0.69230769])"
      ]
     },
     "execution_count": 70,
     "metadata": {},
     "output_type": "execute_result"
    }
   ],
   "source": [
    "# y' = bx + a\n",
    "SS_x = np.sum((x - x.mean())**2)\n",
    "SS_y = np.sum((y - y.mean())**2)\n",
    "SP_xy = np.sum( (x - x.mean()) * (y - y.mean()) )\n",
    "r = (SP_xy) / np.sqrt(SS_x * SS_y)\n",
    "b = r * np.sqrt(SS_y / SS_x)\n",
    "a = y.mean() - b*x.mean()\n",
    "y_ = np.poly1d(np.array([b, a]))\n",
    "y_"
   ]
  },
  {
   "cell_type": "code",
   "execution_count": 73,
   "id": "48b0d3ee-8e3d-4866-b76b-224373b4f4a1",
   "metadata": {},
   "outputs": [
    {
     "data": {
      "text/plain": [
       "[<matplotlib.lines.Line2D at 0x1685cae30>]"
      ]
     },
     "execution_count": 73,
     "metadata": {},
     "output_type": "execute_result"
    },
    {
     "data": {
      "image/png": "[encoded data removed]",
      "text/plain": [
       "<Figure size 640x480 with 1 Axes>"
      ]
     },
     "metadata": {},
     "output_type": "display_data"
    }
   ],
   "source": [
    "plt.scatter(x, y)\n",
    "plt.plot(np.arange(1, 7),\n",
    "         np.polyval(y_, np.arange(1, 7)),\n",
    "         color='red'\n",
    ")"
   ]
  },
  {
   "cell_type": "code",
   "execution_count": 74,
   "id": "dc8e2364-195c-4c84-b580-13f4b27ade34",
   "metadata": {},
   "outputs": [
    {
     "data": {
      "text/plain": [
       "0.4019184762342504"
      ]
     },
     "execution_count": 74,
     "metadata": {},
     "output_type": "execute_result"
    }
   ],
   "source": [
    "### standard error of estimate    s_y|x\n",
    "n = len(x) # sample size\n",
    "\n",
    "standard_error_of_estimate = np.sqrt(\n",
    "    (SS_y * (1 - r**2)) /\n",
    "    (n - 2)\n",
    ")\n",
    "standard_error_of_estimate"
   ]
  },
  {
   "cell_type": "markdown",
   "id": "b5fb510b-b1fa-4e82-932b-eb16a61d7ae2",
   "metadata": {},
   "source": [
    "so predictions are within the range of y_(x) +- standard error of estimate"
   ]
  },
  {
   "cell_type": "code",
   "execution_count": 77,
   "id": "9d27c626-81fc-48d3-9c46-c30e2e544377",
   "metadata": {},
   "outputs": [
    {
     "data": {
      "text/plain": [
       "1.8076923076923075"
      ]
     },
     "execution_count": 77,
     "metadata": {},
     "output_type": "execute_result"
    }
   ],
   "source": [
    "y_(2)  # 2 member family"
   ]
  },
  {
   "cell_type": "code",
   "execution_count": 79,
   "id": "66996a02-30f9-4c1f-9c0a-c9ebcf9e5d2b",
   "metadata": {},
   "outputs": [
    {
     "data": {
      "text/plain": [
       "(1.405773831458057, 2.209610783926558)"
      ]
     },
     "execution_count": 79,
     "metadata": {},
     "output_type": "execute_result"
    }
   ],
   "source": [
    "(y_(2) - standard_error_of_estimate, y_(2) + standard_error_of_estimate) # the answer is within this range"
   ]
  },
  {
   "cell_type": "code",
   "execution_count": 80,
   "id": "5d3c20e5-ccdb-4e7b-a962-7bb54238debe",
   "metadata": {},
   "outputs": [
    {
     "data": {
      "text/plain": [
       "3.4807692307692304"
      ]
     },
     "execution_count": 80,
     "metadata": {},
     "output_type": "execute_result"
    }
   ],
   "source": [
    "y_(5) # 5 member family"
   ]
  },
  {
   "cell_type": "code",
   "execution_count": 81,
   "id": "15bc9ce5-f004-4aaf-acdc-54f049e5cfb1",
   "metadata": {},
   "outputs": [
    {
     "data": {
      "text/plain": [
       "(3.07885075453498, 3.882687707003481)"
      ]
     },
     "execution_count": 81,
     "metadata": {},
     "output_type": "execute_result"
    }
   ],
   "source": [
    "(y_(5) - standard_error_of_estimate, y_(5) + standard_error_of_estimate) # the answer is within this range"
   ]
  }
 ],
 "metadata": {
  "kernelspec": {
   "display_name": "Python 3 (ipykernel)",
   "language": "python",
   "name": "python3"
  },
  "language_info": {
   "codemirror_mode": {
    "name": "ipython",
    "version": 3
   },
   "file_extension": ".py",
   "mimetype": "text/x-python",
   "name": "python",
   "nbconvert_exporter": "python",
   "pygments_lexer": "ipython3",
   "version": "3.9.12"
  }
 },
 "nbformat": 4,
 "nbformat_minor": 5
}
