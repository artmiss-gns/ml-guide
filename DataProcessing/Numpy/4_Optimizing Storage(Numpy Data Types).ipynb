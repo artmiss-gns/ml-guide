{
 "cells": [
  {
   "cell_type": "code",
   "execution_count": 2,
   "id": "8cd3db51",
   "metadata": {},
   "outputs": [],
   "source": [
    "import numpy as np"
   ]
  },
  {
   "cell_type": "code",
   "execution_count": 4,
   "id": "e8e7be80",
   "metadata": {},
   "outputs": [
    {
     "data": {
      "text/plain": [
       "dtype('>i4')"
      ]
     },
     "execution_count": 4,
     "metadata": {},
     "output_type": "execute_result"
    }
   ],
   "source": [
    "x = np.dtype('>i4')  # 4 byte integer with big-ending\n",
    "x"
   ]
  },
  {
   "cell_type": "markdown",
   "id": "0057909c",
   "metadata": {},
   "source": [
    "___\n",
    "### structured data type "
   ]
  },
  {
   "cell_type": "code",
   "execution_count": 12,
   "id": "43855dc5",
   "metadata": {},
   "outputs": [],
   "source": [
    "dt = np.dtype([\n",
    "    ('names', np.unicode_, 16),\n",
    "    ('grades', np.float64, (2, )),\n",
    "])"
   ]
  },
  {
   "cell_type": "code",
   "execution_count": 13,
   "id": "15014294",
   "metadata": {},
   "outputs": [
    {
     "data": {
      "text/plain": [
       "'void640'"
      ]
     },
     "execution_count": 13,
     "metadata": {},
     "output_type": "execute_result"
    }
   ],
   "source": [
    "dt.name"
   ]
  },
  {
   "cell_type": "code",
   "execution_count": 16,
   "id": "6adc3a8e",
   "metadata": {},
   "outputs": [
    {
     "data": {
      "text/plain": [
       "dtype('<U16')"
      ]
     },
     "execution_count": 16,
     "metadata": {},
     "output_type": "execute_result"
    }
   ],
   "source": [
    "dt['names']"
   ]
  },
  {
   "cell_type": "code",
   "execution_count": 17,
   "id": "7fac91ce",
   "metadata": {},
   "outputs": [
    {
     "data": {
      "text/plain": [
       "dtype(('<f8', (2,)))"
      ]
     },
     "execution_count": 17,
     "metadata": {},
     "output_type": "execute_result"
    }
   ],
   "source": [
    "dt['grades']"
   ]
  },
  {
   "cell_type": "code",
   "execution_count": 20,
   "id": "fcadfd55",
   "metadata": {},
   "outputs": [],
   "source": [
    "obj = np.array([\n",
    "    ('sarah', (8.0, 7.0)),\n",
    "    ('john', (6.0, 7.0)),\n",
    "], dtype=dt)"
   ]
  },
  {
   "cell_type": "code",
   "execution_count": 21,
   "id": "eafb77b6",
   "metadata": {},
   "outputs": [
    {
     "data": {
      "text/plain": [
       "array([('sarah', [8., 7.]), ('john', [6., 7.])],\n",
       "      dtype=[('names', '<U16'), ('grades', '<f8', (2,))])"
      ]
     },
     "execution_count": 21,
     "metadata": {},
     "output_type": "execute_result"
    }
   ],
   "source": [
    "obj"
   ]
  },
  {
   "cell_type": "code",
   "execution_count": 29,
   "id": "09e5a210",
   "metadata": {},
   "outputs": [
    {
     "data": {
      "text/plain": [
       "array(['sarah', 'john'], dtype='<U16')"
      ]
     },
     "execution_count": 29,
     "metadata": {},
     "output_type": "execute_result"
    }
   ],
   "source": [
    "obj['names']"
   ]
  },
  {
   "cell_type": "code",
   "execution_count": 32,
   "id": "2ccfbe7c",
   "metadata": {},
   "outputs": [
    {
     "data": {
      "text/plain": [
       "array([[8., 7.],\n",
       "       [6., 7.]])"
      ]
     },
     "execution_count": 32,
     "metadata": {},
     "output_type": "execute_result"
    }
   ],
   "source": [
    "obj['grades']"
   ]
  },
  {
   "cell_type": "code",
   "execution_count": 35,
   "id": "35d59e16",
   "metadata": {},
   "outputs": [
    {
     "data": {
      "text/plain": [
       "array([8., 7.])"
      ]
     },
     "execution_count": 35,
     "metadata": {},
     "output_type": "execute_result"
    }
   ],
   "source": [
    "obj[0]['grades']"
   ]
  },
  {
   "cell_type": "code",
   "execution_count": 25,
   "id": "f588f727",
   "metadata": {},
   "outputs": [
    {
     "data": {
      "text/plain": [
       "array([8., 7.])"
      ]
     },
     "execution_count": 25,
     "metadata": {},
     "output_type": "execute_result"
    }
   ],
   "source": [
    "obj[0][1]"
   ]
  }
 ],
 "metadata": {
  "kernelspec": {
   "display_name": "Python 3 (ipykernel)",
   "language": "python",
   "name": "python3"
  },
  "language_info": {
   "codemirror_mode": {
    "name": "ipython",
    "version": 3
   },
   "file_extension": ".py",
   "mimetype": "text/x-python",
   "name": "python",
   "nbconvert_exporter": "python",
   "pygments_lexer": "ipython3",
   "version": "3.9.12"
  }
 },
 "nbformat": 4,
 "nbformat_minor": 5
}
