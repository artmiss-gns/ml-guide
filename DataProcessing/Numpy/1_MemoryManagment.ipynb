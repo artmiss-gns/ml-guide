{
 "cells": [
  {
   "cell_type": "markdown",
   "id": "7a822fd6-e6ce-4c2d-9cd8-d72f1ba04342",
   "metadata": {
    "tags": []
   },
   "source": [
    "# Memory Management in NumPy\n",
    "\n",
    "<ins>*some notes are alson written on Notion app*</ins>"
   ]
  },
  {
   "cell_type": "markdown",
   "id": "6a9d9e88-d3b6-4bdd-ab2b-94ddaf6101f5",
   "metadata": {
    "tags": []
   },
   "source": [
    "## Internal memory layout of an ndarray"
   ]
  },
  {
   "cell_type": "code",
   "execution_count": 1,
   "id": "8719bb2c-b6cc-48f0-bcc8-6bdd3c92debc",
   "metadata": {},
   "outputs": [],
   "source": [
    "import numpy as np"
   ]
  },
  {
   "cell_type": "code",
   "execution_count": 2,
   "id": "4a64e947-18e1-44eb-9656-8421b18afa54",
   "metadata": {},
   "outputs": [],
   "source": [
    "x = np.arange(5)"
   ]
  },
  {
   "cell_type": "code",
   "execution_count": 3,
   "id": "12a8136e-aeda-453c-80f7-2980cb7d51a0",
   "metadata": {},
   "outputs": [
    {
     "data": {
      "text/plain": [
       "  C_CONTIGUOUS : True\n",
       "  F_CONTIGUOUS : True\n",
       "  OWNDATA : True\n",
       "  WRITEABLE : True\n",
       "  ALIGNED : True\n",
       "  WRITEBACKIFCOPY : False\n",
       "  UPDATEIFCOPY : False"
      ]
     },
     "execution_count": 3,
     "metadata": {},
     "output_type": "execute_result"
    }
   ],
   "source": [
    "x.flags"
   ]
  },
  {
   "cell_type": "code",
   "execution_count": 58,
   "id": "ac9d067c-895d-4b44-90d8-5d0c04987945",
   "metadata": {},
   "outputs": [],
   "source": [
    "c_array = np.random.rand(10000, 10000)"
   ]
  },
  {
   "cell_type": "code",
   "execution_count": 59,
   "id": "6bda8d00-abe2-4e93-b5a4-571e88a164e0",
   "metadata": {},
   "outputs": [
    {
     "data": {
      "text/plain": [
       "(80000, 8)"
      ]
     },
     "execution_count": 59,
     "metadata": {},
     "output_type": "execute_result"
    }
   ],
   "source": [
    "c_array.strides"
   ]
  },
  {
   "cell_type": "code",
   "execution_count": 60,
   "id": "3bd49f9b-d26c-434b-ad83-f944ada88e6a",
   "metadata": {},
   "outputs": [],
   "source": [
    "f_array = np.asfortranarray(c_array)"
   ]
  },
  {
   "cell_type": "code",
   "execution_count": 61,
   "id": "dc2ab163-e7f9-4c5e-ad2a-6e9682c71fa8",
   "metadata": {},
   "outputs": [
    {
     "data": {
      "text/plain": [
       "(8, 80000)"
      ]
     },
     "execution_count": 61,
     "metadata": {},
     "output_type": "execute_result"
    }
   ],
   "source": [
    "f_array.strides"
   ]
  },
  {
   "cell_type": "code",
   "execution_count": 62,
   "id": "8996b7ca-72aa-4507-9bc3-4f1566319cdb",
   "metadata": {},
   "outputs": [
    {
     "data": {
      "text/plain": [
       "  C_CONTIGUOUS : True\n",
       "  F_CONTIGUOUS : False\n",
       "  OWNDATA : True\n",
       "  WRITEABLE : True\n",
       "  ALIGNED : True\n",
       "  WRITEBACKIFCOPY : False\n",
       "  UPDATEIFCOPY : False"
      ]
     },
     "execution_count": 62,
     "metadata": {},
     "output_type": "execute_result"
    }
   ],
   "source": [
    "c_array.flags"
   ]
  },
  {
   "cell_type": "code",
   "execution_count": 63,
   "id": "793a396f-7874-4cad-a936-faf178500a23",
   "metadata": {},
   "outputs": [
    {
     "data": {
      "text/plain": [
       "  C_CONTIGUOUS : False\n",
       "  F_CONTIGUOUS : True\n",
       "  OWNDATA : True\n",
       "  WRITEABLE : True\n",
       "  ALIGNED : True\n",
       "  WRITEBACKIFCOPY : False\n",
       "  UPDATEIFCOPY : False"
      ]
     },
     "execution_count": 63,
     "metadata": {},
     "output_type": "execute_result"
    }
   ],
   "source": [
    "f_array.flags"
   ]
  },
  {
   "cell_type": "code",
   "execution_count": 64,
   "id": "122d912a-7ee5-49d1-a226-87258bda2b51",
   "metadata": {},
   "outputs": [
    {
     "data": {
      "text/plain": [
       "False"
      ]
     },
     "execution_count": 64,
     "metadata": {},
     "output_type": "execute_result"
    }
   ],
   "source": [
    "np.may_share_memory(c_array, f_array)"
   ]
  },
  {
   "cell_type": "markdown",
   "id": "22c0ece1-8993-40ff-b558-f16c816aefb0",
   "metadata": {},
   "source": [
    "now let's check some operations on these two arrays to see the difference"
   ]
  },
  {
   "cell_type": "code",
   "execution_count": 73,
   "id": "51eef910-6979-400d-8ea8-5894f5097442",
   "metadata": {},
   "outputs": [],
   "source": [
    "def sum_row(arr) :\n",
    "    # return np.sum(arr[0, :])\n",
    "    return np.sum(arr, axis=1)"
   ]
  },
  {
   "cell_type": "code",
   "execution_count": 74,
   "id": "3073f029-615d-485c-ba92-4a2a04699d11",
   "metadata": {},
   "outputs": [],
   "source": [
    "def sum_col(arr) :\n",
    "    return np.sum(arr, axis=0)"
   ]
  },
  {
   "cell_type": "code",
   "execution_count": 75,
   "id": "f2a55db5-979f-4991-88dd-4c02ecf02e92",
   "metadata": {},
   "outputs": [
    {
     "name": "stdout",
     "output_type": "stream",
     "text": [
      "32.3 ms ± 916 µs per loop (mean ± std. dev. of 7 runs, 1 loop each)\n"
     ]
    }
   ],
   "source": [
    "%timeit sum_row(c_array)"
   ]
  },
  {
   "cell_type": "code",
   "execution_count": 76,
   "id": "91fc8962-4435-4786-96e9-bbc514539123",
   "metadata": {},
   "outputs": [
    {
     "name": "stdout",
     "output_type": "stream",
     "text": [
      "43 ms ± 74.2 µs per loop (mean ± std. dev. of 7 runs, 1 loop each)\n"
     ]
    }
   ],
   "source": [
    "%timeit sum_row(f_array)"
   ]
  },
  {
   "cell_type": "code",
   "execution_count": 77,
   "id": "80fc885d-ec32-454b-91b1-f05050abf899",
   "metadata": {},
   "outputs": [
    {
     "name": "stdout",
     "output_type": "stream",
     "text": [
      "44.5 ms ± 272 µs per loop (mean ± std. dev. of 7 runs, 10 loops each)\n"
     ]
    }
   ],
   "source": [
    "%timeit sum_col(c_array)"
   ]
  },
  {
   "cell_type": "code",
   "execution_count": 78,
   "id": "5c3d395a-ffcf-455c-bcf1-6986c58b7718",
   "metadata": {},
   "outputs": [
    {
     "name": "stdout",
     "output_type": "stream",
     "text": [
      "33.9 ms ± 133 µs per loop (mean ± std. dev. of 7 runs, 10 loops each)\n"
     ]
    }
   ],
   "source": [
    "%timeit sum_col(f_array)"
   ]
  },
  {
   "cell_type": "markdown",
   "id": "687b3763-8f96-46a5-92b1-b61620253e1f",
   "metadata": {
    "tags": []
   },
   "source": [
    "## Views ans Copies"
   ]
  },
  {
   "cell_type": "code",
   "execution_count": 83,
   "id": "f61c49f2-4f92-4b3e-bb44-72d32f4e55da",
   "metadata": {},
   "outputs": [
    {
     "data": {
      "text/plain": [
       "array([[4, 3, 3],\n",
       "       [7, 5, 5],\n",
       "       [9, 4, 9]])"
      ]
     },
     "execution_count": 83,
     "metadata": {},
     "output_type": "execute_result"
    }
   ],
   "source": [
    "x = np.random.randint(1, 10, size=(3, 3))\n",
    "x"
   ]
  },
  {
   "cell_type": "code",
   "execution_count": 84,
   "id": "a370c6e1-4fbf-451b-94d8-fa3c9c547e27",
   "metadata": {},
   "outputs": [
    {
     "data": {
      "text/plain": [
       "True"
      ]
     },
     "execution_count": 84,
     "metadata": {},
     "output_type": "execute_result"
    }
   ],
   "source": [
    "y = x\n",
    "np.may_share_memory(x, y)"
   ]
  },
  {
   "cell_type": "code",
   "execution_count": 85,
   "id": "c7bb40c9-27bd-4f8c-8693-4a2780d83503",
   "metadata": {},
   "outputs": [
    {
     "data": {
      "text/plain": [
       "array([[-1, -1, -1],\n",
       "       [ 7,  5,  5],\n",
       "       [ 9,  4,  9]])"
      ]
     },
     "execution_count": 85,
     "metadata": {},
     "output_type": "execute_result"
    }
   ],
   "source": [
    "y[0, :] = -1\n",
    "y"
   ]
  },
  {
   "cell_type": "code",
   "execution_count": 86,
   "id": "3dcf008f-6d2a-4ce8-8926-eeb5b564166a",
   "metadata": {},
   "outputs": [
    {
     "data": {
      "text/plain": [
       "array([[-1, -1, -1],\n",
       "       [ 7,  5,  5],\n",
       "       [ 9,  4,  9]])"
      ]
     },
     "execution_count": 86,
     "metadata": {},
     "output_type": "execute_result"
    }
   ],
   "source": [
    "x"
   ]
  },
  {
   "cell_type": "markdown",
   "id": "ea699cb7-48ec-4003-9d50-f63be43f0aff",
   "metadata": {},
   "source": [
    "so as we can see, when they share memory, if you change one of them, the other one will be changed too<br>\n",
    "in this case, we say **y is a view of x**"
   ]
  },
  {
   "cell_type": "markdown",
   "id": "70589b22-1415-4dbe-b6c1-4b773732b14d",
   "metadata": {},
   "source": [
    "___"
   ]
  },
  {
   "cell_type": "code",
   "execution_count": 88,
   "id": "c0c7c9f7-8508-4988-b862-026b068f1618",
   "metadata": {},
   "outputs": [
    {
     "data": {
      "text/plain": [
       "array([[1, 8, 6],\n",
       "       [2, 7, 6],\n",
       "       [3, 2, 9]])"
      ]
     },
     "execution_count": 88,
     "metadata": {},
     "output_type": "execute_result"
    }
   ],
   "source": [
    "x = np.random.randint(1, 10, size=(3, 3))\n",
    "x"
   ]
  },
  {
   "cell_type": "code",
   "execution_count": 97,
   "id": "e064fb32-20d5-460e-b2a9-356dcc90cb5a",
   "metadata": {},
   "outputs": [
    {
     "data": {
      "text/plain": [
       "array([1, 2, 3])"
      ]
     },
     "execution_count": 97,
     "metadata": {},
     "output_type": "execute_result"
    }
   ],
   "source": [
    "y = x[:, 0] \n",
    "y \n",
    "# here y is only the first column of x"
   ]
  },
  {
   "cell_type": "code",
   "execution_count": 98,
   "id": "57374c7c-eb31-4607-a12f-2b5b44a20dd4",
   "metadata": {},
   "outputs": [
    {
     "data": {
      "text/plain": [
       "True"
      ]
     },
     "execution_count": 98,
     "metadata": {},
     "output_type": "execute_result"
    }
   ],
   "source": [
    "np.may_share_memory(x, y)"
   ]
  },
  {
   "cell_type": "code",
   "execution_count": 99,
   "id": "faa5273c-304b-4ecf-8784-e8ac2b8b9a3f",
   "metadata": {},
   "outputs": [
    {
     "data": {
      "text/plain": [
       "array([0, 0, 0])"
      ]
     },
     "execution_count": 99,
     "metadata": {},
     "output_type": "execute_result"
    }
   ],
   "source": [
    "y[:] = 0\n",
    "y"
   ]
  },
  {
   "cell_type": "code",
   "execution_count": 100,
   "id": "bb107ede-a877-4756-975c-fb469519f987",
   "metadata": {},
   "outputs": [
    {
     "data": {
      "text/plain": [
       "array([[0, 8, 6],\n",
       "       [0, 7, 6],\n",
       "       [0, 2, 9]])"
      ]
     },
     "execution_count": 100,
     "metadata": {},
     "output_type": "execute_result"
    }
   ],
   "source": [
    "x"
   ]
  },
  {
   "cell_type": "markdown",
   "id": "758f5579-1afc-400a-9d4e-a214c79a9e56",
   "metadata": {},
   "source": [
    "in this example, although y is a just a part of x, still it's a view and if you change y, x will be changed too"
   ]
  },
  {
   "cell_type": "markdown",
   "id": "065bc695-cf21-4ac6-935e-c5564f79b9c9",
   "metadata": {},
   "source": [
    "___"
   ]
  },
  {
   "cell_type": "code",
   "execution_count": 121,
   "id": "ac4d79cd-eb6d-43a2-b631-5380265ece54",
   "metadata": {},
   "outputs": [
    {
     "data": {
      "text/plain": [
       "array([[1, 2, 3],\n",
       "       [4, 5, 6],\n",
       "       [7, 8, 9]])"
      ]
     },
     "execution_count": 121,
     "metadata": {},
     "output_type": "execute_result"
    }
   ],
   "source": [
    "x = np.arange(1, 10).reshape(3, 3)\n",
    "x"
   ]
  },
  {
   "cell_type": "code",
   "execution_count": 122,
   "id": "32ccd867-260b-441a-8bc5-8bd70c427592",
   "metadata": {},
   "outputs": [
    {
     "data": {
      "text/plain": [
       "array([[0.00000000e+000, 1.00937611e-320, 0.00000000e+000],\n",
       "       [0.00000000e+000, 0.00000000e+000, 1.16095484e-028],\n",
       "       [1.46899930e+179, 9.08367237e+223, 1.16466228e-028]])"
      ]
     },
     "execution_count": 122,
     "metadata": {},
     "output_type": "execute_result"
    }
   ],
   "source": [
    "y = np.empty((3, 3))\n",
    "y"
   ]
  },
  {
   "cell_type": "code",
   "execution_count": 123,
   "id": "686d5ab3-ad65-42ef-afba-312973ac674a",
   "metadata": {},
   "outputs": [
    {
     "data": {
      "text/plain": [
       "array([[1.00000000e+000, 2.00000000e+000, 3.00000000e+000],\n",
       "       [0.00000000e+000, 0.00000000e+000, 1.16095484e-028],\n",
       "       [1.46899930e+179, 9.08367237e+223, 1.16466228e-028]])"
      ]
     },
     "execution_count": 123,
     "metadata": {},
     "output_type": "execute_result"
    }
   ],
   "source": [
    "y[0, :] = x[0, :]\n",
    "y # first row of y is now has the same element as first row of x"
   ]
  },
  {
   "cell_type": "code",
   "execution_count": 124,
   "id": "60a5362a-72cc-45ed-a26b-e7aa55f00f81",
   "metadata": {},
   "outputs": [
    {
     "data": {
      "text/plain": [
       "array([[0.00000000e+000, 0.00000000e+000, 0.00000000e+000],\n",
       "       [0.00000000e+000, 0.00000000e+000, 1.16095484e-028],\n",
       "       [1.46899930e+179, 9.08367237e+223, 1.16466228e-028]])"
      ]
     },
     "execution_count": 124,
     "metadata": {},
     "output_type": "execute_result"
    }
   ],
   "source": [
    "y[0, :] = 0\n",
    "y"
   ]
  },
  {
   "cell_type": "code",
   "execution_count": 125,
   "id": "82f9a983-466e-4ec8-a496-0739c44a6d2b",
   "metadata": {},
   "outputs": [
    {
     "data": {
      "text/plain": [
       "array([[1, 2, 3],\n",
       "       [4, 5, 6],\n",
       "       [7, 8, 9]])"
      ]
     },
     "execution_count": 125,
     "metadata": {},
     "output_type": "execute_result"
    }
   ],
   "source": [
    "x"
   ]
  },
  {
   "cell_type": "markdown",
   "id": "a34ca355-3fbc-4df5-8b5b-4e89c7542c1a",
   "metadata": {},
   "source": [
    "after changing y, x is the same as it was before,\n",
    "so they should not share memory in this case :"
   ]
  },
  {
   "cell_type": "code",
   "execution_count": 126,
   "id": "bb7ea9b6-d652-4c98-97aa-c19de72b5c84",
   "metadata": {},
   "outputs": [
    {
     "data": {
      "text/plain": [
       "False"
      ]
     },
     "execution_count": 126,
     "metadata": {},
     "output_type": "execute_result"
    }
   ],
   "source": [
    "np.may_share_memory(x, y)"
   ]
  },
  {
   "cell_type": "markdown",
   "id": "97a656b8-df59-4aad-9522-8ccc44237de0",
   "metadata": {},
   "source": [
    "___"
   ]
  },
  {
   "cell_type": "code",
   "execution_count": null,
   "id": "48436019-4804-47ae-a1ec-b1780e4dadc7",
   "metadata": {},
   "outputs": [],
   "source": []
  }
 ],
 "metadata": {
  "kernelspec": {
   "display_name": "Python 3 (ipykernel)",
   "language": "python",
   "name": "python3"
  },
  "language_info": {
   "codemirror_mode": {
    "name": "ipython",
    "version": 3
   },
   "file_extension": ".py",
   "mimetype": "text/x-python",
   "name": "python",
   "nbconvert_exporter": "python",
   "pygments_lexer": "ipython3",
   "version": "3.9.12"
  }
 },
 "nbformat": 4,
 "nbformat_minor": 5
}
