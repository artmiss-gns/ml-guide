{
 "cells": [
  {
   "cell_type": "markdown",
   "id": "41b70238",
   "metadata": {},
   "source": [
    "## Basic Indexing"
   ]
  },
  {
   "cell_type": "code",
   "execution_count": 1,
   "id": "0699a9fd",
   "metadata": {},
   "outputs": [],
   "source": [
    "import numpy as np"
   ]
  },
  {
   "cell_type": "code",
   "execution_count": 2,
   "id": "62c9a689",
   "metadata": {},
   "outputs": [],
   "source": [
    "x = np.array([1, 2, 3, 4, 5])"
   ]
  },
  {
   "cell_type": "code",
   "execution_count": 7,
   "id": "0a2852e3",
   "metadata": {},
   "outputs": [
    {
     "data": {
      "text/plain": [
       "True"
      ]
     },
     "execution_count": 7,
     "metadata": {},
     "output_type": "execute_result"
    }
   ],
   "source": [
    "np.may_share_memory(x[1: 3], x)   # normal indexing is a view"
   ]
  },
  {
   "cell_type": "markdown",
   "id": "72675742",
   "metadata": {},
   "source": [
    "___"
   ]
  },
  {
   "cell_type": "markdown",
   "id": "8a7bab9f",
   "metadata": {},
   "source": [
    "### difference between x[i] and x[i:i+1]"
   ]
  },
  {
   "cell_type": "code",
   "execution_count": 12,
   "id": "be8c6870",
   "metadata": {},
   "outputs": [
    {
     "data": {
      "text/plain": [
       "array([[2, 1, 2],\n",
       "       [9, 9, 6],\n",
       "       [6, 0, 5]])"
      ]
     },
     "execution_count": 12,
     "metadata": {},
     "output_type": "execute_result"
    }
   ],
   "source": [
    "x = np.random.randint(10, size=(3, 3))\n",
    "x"
   ]
  },
  {
   "cell_type": "code",
   "execution_count": 13,
   "id": "0464d19b",
   "metadata": {},
   "outputs": [
    {
     "data": {
      "text/plain": [
       "(3,)"
      ]
     },
     "execution_count": 13,
     "metadata": {},
     "output_type": "execute_result"
    }
   ],
   "source": [
    "x[0].shape"
   ]
  },
  {
   "cell_type": "code",
   "execution_count": 14,
   "id": "e830d1ac",
   "metadata": {},
   "outputs": [
    {
     "data": {
      "text/plain": [
       "(1, 3)"
      ]
     },
     "execution_count": 14,
     "metadata": {},
     "output_type": "execute_result"
    }
   ],
   "source": [
    "x[0:1].shape"
   ]
  },
  {
   "cell_type": "markdown",
   "id": "7cc0b8dd",
   "metadata": {},
   "source": [
    "___"
   ]
  },
  {
   "cell_type": "markdown",
   "id": "2536520b",
   "metadata": {},
   "source": [
    "#### Elispsis"
   ]
  },
  {
   "cell_type": "code",
   "execution_count": 22,
   "id": "45a89eb8",
   "metadata": {},
   "outputs": [
    {
     "data": {
      "text/plain": [
       "array([[4, 6, 3, 4],\n",
       "       [8, 3, 4, 0],\n",
       "       [4, 3, 6, 9],\n",
       "       [2, 0, 4, 2]])"
      ]
     },
     "execution_count": 22,
     "metadata": {},
     "output_type": "execute_result"
    }
   ],
   "source": [
    "x = np.random.randint(10, size=(4, 4))\n",
    "x"
   ]
  },
  {
   "cell_type": "code",
   "execution_count": 24,
   "id": "a4014cb0",
   "metadata": {},
   "outputs": [
    {
     "data": {
      "text/plain": [
       "array([[ 4,  6,  3,  4],\n",
       "       [ 8, -1, -1,  0],\n",
       "       [ 4, -1, -1,  9],\n",
       "       [ 2,  0,  4,  2]])"
      ]
     },
     "execution_count": 24,
     "metadata": {},
     "output_type": "execute_result"
    }
   ],
   "source": [
    "x[1:3, 1:3] = -1 # broadcasting\n",
    "x"
   ]
  },
  {
   "cell_type": "markdown",
   "id": "0f9521b1",
   "metadata": {},
   "source": [
    "___"
   ]
  },
  {
   "cell_type": "code",
   "execution_count": 54,
   "id": "98570f49",
   "metadata": {},
   "outputs": [],
   "source": [
    "x = np.random.randint(10, size= (3, 3, 3, 3))"
   ]
  },
  {
   "cell_type": "code",
   "execution_count": 56,
   "id": "3eb310dd",
   "metadata": {},
   "outputs": [
    {
     "data": {
      "text/plain": [
       "True"
      ]
     },
     "execution_count": 56,
     "metadata": {},
     "output_type": "execute_result"
    }
   ],
   "source": [
    "np.all(x[..., 1] == x[:, :, :, 1]) # using ... which is called Ellispsis"
   ]
  },
  {
   "cell_type": "code",
   "execution_count": 58,
   "id": "00fb74ea",
   "metadata": {},
   "outputs": [
    {
     "data": {
      "text/plain": [
       "True"
      ]
     },
     "execution_count": 58,
     "metadata": {},
     "output_type": "execute_result"
    }
   ],
   "source": [
    "... == Ellipsis "
   ]
  },
  {
   "cell_type": "markdown",
   "id": "037d0f78",
   "metadata": {},
   "source": [
    "____"
   ]
  },
  {
   "cell_type": "markdown",
   "id": "a210e332",
   "metadata": {},
   "source": [
    "## newaxis\n",
    "\n",
    "\n",
    "**it's really great for __brodcasting__**"
   ]
  },
  {
   "cell_type": "code",
   "execution_count": 3,
   "id": "cf8e4b45",
   "metadata": {},
   "outputs": [
    {
     "data": {
      "text/plain": [
       "array([0, 1, 2, 3, 4])"
      ]
     },
     "execution_count": 3,
     "metadata": {},
     "output_type": "execute_result"
    }
   ],
   "source": [
    "x = np.arange(5)\n",
    "x"
   ]
  },
  {
   "cell_type": "code",
   "execution_count": 4,
   "id": "2c4a41be",
   "metadata": {},
   "outputs": [
    {
     "data": {
      "text/plain": [
       "array([[0],\n",
       "       [1],\n",
       "       [2],\n",
       "       [3],\n",
       "       [4]])"
      ]
     },
     "execution_count": 4,
     "metadata": {},
     "output_type": "execute_result"
    }
   ],
   "source": [
    "x[:, np.newaxis]  # pay attention that it is now 2 demmentional"
   ]
  },
  {
   "cell_type": "code",
   "execution_count": 5,
   "id": "cdb46dd9",
   "metadata": {},
   "outputs": [
    {
     "data": {
      "text/plain": [
       "array([[0, 1, 2, 3, 4]])"
      ]
     },
     "execution_count": 5,
     "metadata": {},
     "output_type": "execute_result"
    }
   ],
   "source": [
    "x[np.newaxis, :]"
   ]
  },
  {
   "cell_type": "code",
   "execution_count": 6,
   "id": "08f2abe6",
   "metadata": {},
   "outputs": [
    {
     "data": {
      "text/plain": [
       "array([[0, 1, 2, 3, 4],\n",
       "       [1, 2, 3, 4, 5],\n",
       "       [2, 3, 4, 5, 6],\n",
       "       [3, 4, 5, 6, 7],\n",
       "       [4, 5, 6, 7, 8]])"
      ]
     },
     "execution_count": 6,
     "metadata": {},
     "output_type": "execute_result"
    }
   ],
   "source": [
    "x[:, np.newaxis]+ x[np.newaxis, :] # this is one use case of broadcasting"
   ]
  },
  {
   "cell_type": "code",
   "execution_count": 7,
   "id": "4ac64ddd",
   "metadata": {},
   "outputs": [
    {
     "data": {
      "text/plain": [
       "array([[0, 1, 2, 3, 4],\n",
       "       [1, 2, 3, 4, 5],\n",
       "       [2, 3, 4, 5, 6],\n",
       "       [3, 4, 5, 6, 7],\n",
       "       [4, 5, 6, 7, 8]])"
      ]
     },
     "execution_count": 7,
     "metadata": {},
     "output_type": "execute_result"
    }
   ],
   "source": [
    "np.arange(5).reshape(-1, 1) + np.arange(5).reshape(1, -1) # you can also do it like this"
   ]
  },
  {
   "cell_type": "code",
   "execution_count": 8,
   "id": "18eba3a3-a722-4b19-8cac-b90b4aa12fd8",
   "metadata": {},
   "outputs": [
    {
     "data": {
      "text/plain": [
       "array([[0, 1, 2, 3, 4],\n",
       "       [1, 2, 3, 4, 5],\n",
       "       [2, 3, 4, 5, 6],\n",
       "       [3, 4, 5, 6, 7],\n",
       "       [4, 5, 6, 7, 8]])"
      ]
     },
     "execution_count": 8,
     "metadata": {},
     "output_type": "execute_result"
    }
   ],
   "source": [
    "x + x.reshape(-1, 1)"
   ]
  },
  {
   "cell_type": "markdown",
   "id": "d8e1d79c",
   "metadata": {},
   "source": [
    "___"
   ]
  },
  {
   "cell_type": "markdown",
   "id": "c1bc56ee",
   "metadata": {},
   "source": [
    "## Advance Indexing"
   ]
  },
  {
   "cell_type": "markdown",
   "id": "e1a0d60a",
   "metadata": {},
   "source": [
    "* Advanced Indexing results in a copy, not a view\n",
    "\n",
    "**in Basic indexing, what we have inside the [ ] is a tuple. for example x[1, 2] is simillar to x[(1, 2)]**\n",
    "**if you put anything but a ( ) inside the brackets, it will be Advance indexing for example : x[[1, 2]]**\n",
    "\n",
    "**The other case that you get advance indexing is this : x[(1, (1,2)]**\n",
    "**You have a tuple inside [ ] but whats inside it is a -sequence- and not a number**\n",
    "\n",
    "the output of each of these cases might be different"
   ]
  },
  {
   "cell_type": "code",
   "execution_count": 105,
   "id": "26f0b3bf",
   "metadata": {},
   "outputs": [
    {
     "data": {
      "text/plain": [
       "array([[[6, 5, 9],\n",
       "        [6, 2, 7],\n",
       "        [9, 0, 2]],\n",
       "\n",
       "       [[8, 0, 1],\n",
       "        [5, 3, 0],\n",
       "        [5, 0, 4]],\n",
       "\n",
       "       [[4, 2, 7],\n",
       "        [1, 7, 3],\n",
       "        [5, 1, 7]]])"
      ]
     },
     "execution_count": 105,
     "metadata": {},
     "output_type": "execute_result"
    }
   ],
   "source": [
    "x = np.random.randint(10, size=(3, 3, 3))\n",
    "x"
   ]
  },
  {
   "cell_type": "code",
   "execution_count": 115,
   "id": "be188be7",
   "metadata": {},
   "outputs": [
    {
     "data": {
      "text/plain": [
       "array([[[8, 0, 1],\n",
       "        [5, 3, 0],\n",
       "        [5, 0, 4]],\n",
       "\n",
       "       [[4, 2, 7],\n",
       "        [1, 7, 3],\n",
       "        [5, 1, 7]]])"
      ]
     },
     "execution_count": 115,
     "metadata": {},
     "output_type": "execute_result"
    }
   ],
   "source": [
    "x[[1, 2]] # advance indexing"
   ]
  },
  {
   "cell_type": "code",
   "execution_count": 118,
   "id": "d31bbba0",
   "metadata": {},
   "outputs": [
    {
     "data": {
      "text/plain": [
       "array([[[8, 0, 1],\n",
       "        [5, 3, 0],\n",
       "        [5, 0, 4]],\n",
       "\n",
       "       [[4, 2, 7],\n",
       "        [1, 7, 3],\n",
       "        [5, 1, 7]]])"
      ]
     },
     "execution_count": 118,
     "metadata": {},
     "output_type": "execute_result"
    }
   ],
   "source": [
    "x[(1, 2),] # advance indexing --> because we have sequence inside the tupple"
   ]
  },
  {
   "cell_type": "code",
   "execution_count": 114,
   "id": "74a71b2c",
   "metadata": {},
   "outputs": [
    {
     "data": {
      "text/plain": [
       "array([[5, 3, 0],\n",
       "       [5, 0, 4]])"
      ]
     },
     "execution_count": 114,
     "metadata": {},
     "output_type": "execute_result"
    }
   ],
   "source": [
    "x[(1, (1, 2))] # advance indexing"
   ]
  },
  {
   "cell_type": "code",
   "execution_count": 117,
   "id": "27c1052b",
   "metadata": {},
   "outputs": [
    {
     "data": {
      "text/plain": [
       "array([5, 0, 4])"
      ]
     },
     "execution_count": 117,
     "metadata": {},
     "output_type": "execute_result"
    }
   ],
   "source": [
    "x[(1, 2)]  # basic indexing"
   ]
  },
  {
   "cell_type": "code",
   "execution_count": 112,
   "id": "94b18b74",
   "metadata": {},
   "outputs": [
    {
     "data": {
      "text/plain": [
       "True"
      ]
     },
     "execution_count": 112,
     "metadata": {},
     "output_type": "execute_result"
    }
   ],
   "source": [
    "np.may_share_memory(x, x[(1, 2)]) # basic indexing"
   ]
  },
  {
   "cell_type": "code",
   "execution_count": 113,
   "id": "04364ab7",
   "metadata": {},
   "outputs": [
    {
     "data": {
      "text/plain": [
       "False"
      ]
     },
     "execution_count": 113,
     "metadata": {},
     "output_type": "execute_result"
    }
   ],
   "source": [
    "np.may_share_memory(x, x[[1, 2]]) # advance indexing"
   ]
  },
  {
   "cell_type": "markdown",
   "id": "d3f1a8ac",
   "metadata": {},
   "source": [
    "#### Boolean array indexing\n",
    "\n",
    "it's another type of advanced indexing"
   ]
  },
  {
   "cell_type": "code",
   "execution_count": 120,
   "id": "3be43707",
   "metadata": {},
   "outputs": [
    {
     "data": {
      "text/plain": [
       "array([[ 1., nan],\n",
       "       [nan,  2.],\n",
       "       [ 3.,  4.]])"
      ]
     },
     "execution_count": 120,
     "metadata": {},
     "output_type": "execute_result"
    }
   ],
   "source": [
    "x = np.array( [\n",
    "    [1, np.nan],\n",
    "    [np.nan, 2],\n",
    "    [3, 4]\n",
    "])\n",
    "x"
   ]
  },
  {
   "cell_type": "code",
   "execution_count": 126,
   "id": "afc89729",
   "metadata": {},
   "outputs": [
    {
     "data": {
      "text/plain": [
       "array([[False,  True],\n",
       "       [ True, False],\n",
       "       [False, False]])"
      ]
     },
     "execution_count": 126,
     "metadata": {},
     "output_type": "execute_result"
    }
   ],
   "source": [
    "np.isnan(x)"
   ]
  },
  {
   "cell_type": "code",
   "execution_count": 132,
   "id": "990a07a3",
   "metadata": {},
   "outputs": [
    {
     "data": {
      "text/plain": [
       "array([1., 2., 3., 4.])"
      ]
     },
     "execution_count": 132,
     "metadata": {},
     "output_type": "execute_result"
    }
   ],
   "source": [
    "# we want to get the elements that are not nan\n",
    "x[~np.isnan(x)]"
   ]
  },
  {
   "cell_type": "code",
   "execution_count": 135,
   "id": "03377003",
   "metadata": {},
   "outputs": [
    {
     "data": {
      "text/plain": [
       "array([[ -4,  -6,  -1],\n",
       "       [  4,   5, -10],\n",
       "       [ -4,   8,   3]])"
      ]
     },
     "execution_count": 135,
     "metadata": {},
     "output_type": "execute_result"
    }
   ],
   "source": [
    "# in this example we are going to get the negative numbers from the list and add 5 to them\n",
    "x = np.random.randint(-10, 10, size=(3, 3))\n",
    "x"
   ]
  },
  {
   "cell_type": "code",
   "execution_count": 138,
   "id": "4f58affc",
   "metadata": {},
   "outputs": [
    {
     "data": {
      "text/plain": [
       "array([[1, 4, 4],\n",
       "       [4, 5, 0],\n",
       "       [1, 8, 3]])"
      ]
     },
     "execution_count": 138,
     "metadata": {},
     "output_type": "execute_result"
    }
   ],
   "source": [
    "x[x<0] += 5\n",
    "x"
   ]
  },
  {
   "cell_type": "code",
   "execution_count": 140,
   "id": "c8c74877",
   "metadata": {},
   "outputs": [
    {
     "data": {
      "text/plain": [
       "array([[2, 0, 5],\n",
       "       [6, 3, 4],\n",
       "       [7, 8, 4]])"
      ]
     },
     "execution_count": 140,
     "metadata": {},
     "output_type": "execute_result"
    }
   ],
   "source": [
    "# another example : numbers that are divisable by 4\n",
    "x = np.random.randint(10, size=(3, 3))\n",
    "x"
   ]
  },
  {
   "cell_type": "code",
   "execution_count": 142,
   "id": "2d64e663",
   "metadata": {},
   "outputs": [
    {
     "data": {
      "text/plain": [
       "array([[False,  True, False],\n",
       "       [False, False,  True],\n",
       "       [False,  True,  True]])"
      ]
     },
     "execution_count": 142,
     "metadata": {},
     "output_type": "execute_result"
    }
   ],
   "source": [
    "mask = (x%4 == 0) # you can create a mask variable and use it later\n",
    "mask"
   ]
  },
  {
   "cell_type": "code",
   "execution_count": 143,
   "id": "82697214",
   "metadata": {},
   "outputs": [
    {
     "data": {
      "text/plain": [
       "array([0, 4, 8, 4])"
      ]
     },
     "execution_count": 143,
     "metadata": {},
     "output_type": "execute_result"
    }
   ],
   "source": [
    "x[mask]"
   ]
  },
  {
   "cell_type": "markdown",
   "id": "ada6165d",
   "metadata": {},
   "source": [
    "___\n",
    "The **normal distribution** is a probability distribution in which roughly 95.45% of values occur within two standard deviations of the mean."
   ]
  },
  {
   "cell_type": "code",
   "execution_count": 145,
   "id": "0850287d",
   "metadata": {},
   "outputs": [],
   "source": [
    "dist = np.random.normal(size=(1, 1000))"
   ]
  },
  {
   "cell_type": "code",
   "execution_count": 146,
   "id": "97106c0a",
   "metadata": {},
   "outputs": [],
   "source": [
    "std = dist.std()"
   ]
  },
  {
   "cell_type": "code",
   "execution_count": 152,
   "id": "a301b391",
   "metadata": {},
   "outputs": [
    {
     "data": {
      "text/plain": [
       "95.7"
      ]
     },
     "execution_count": 152,
     "metadata": {},
     "output_type": "execute_result"
    }
   ],
   "source": [
    "(len(dist[ (dist<2*std) & (dist>std*-2)]) / 1000) * 100 "
   ]
  },
  {
   "cell_type": "markdown",
   "id": "47679523",
   "metadata": {},
   "source": [
    "important point here is that we should use **&**   **|** because these two are vectorized operator for such operations <br>\n",
    "! also pay attention to put the conditions in paranteces !"
   ]
  },
  {
   "cell_type": "code",
   "execution_count": null,
   "id": "ed20776f",
   "metadata": {},
   "outputs": [],
   "source": []
  },
  {
   "cell_type": "markdown",
   "id": "160f6084-7fec-459a-a893-9c6c6cc7717f",
   "metadata": {},
   "source": [
    "### Brodcasting"
   ]
  },
  {
   "cell_type": "markdown",
   "id": "867c3c9c-7c58-4176-b242-01eb6740113c",
   "metadata": {},
   "source": [
    "???"
   ]
  },
  {
   "cell_type": "code",
   "execution_count": 13,
   "id": "6e6d9841-1413-45ec-a62e-792d7d440cdd",
   "metadata": {},
   "outputs": [
    {
     "data": {
      "text/plain": [
       "array([[0, 1, 2, 3, 4],\n",
       "       [1, 2, 3, 4, 5],\n",
       "       [2, 3, 4, 5, 6],\n",
       "       [3, 4, 5, 6, 7],\n",
       "       [4, 5, 6, 7, 8]])"
      ]
     },
     "execution_count": 13,
     "metadata": {},
     "output_type": "execute_result"
    }
   ],
   "source": [
    "x = np.arange(5)\n",
    "x + x.reshape(-1, 1)"
   ]
  },
  {
   "cell_type": "markdown",
   "id": "0a174af2-819a-48ac-bdb7-192a4aeda7e8",
   "metadata": {},
   "source": [
    "___"
   ]
  },
  {
   "cell_type": "code",
   "execution_count": 15,
   "id": "5474e05d-5377-4ac2-aa28-e2ed22fa48f5",
   "metadata": {},
   "outputs": [],
   "source": [
    "a = np.array([1, 2, 3])\n",
    "b = np.array([[1], [2], [3]])"
   ]
  },
  {
   "cell_type": "code",
   "execution_count": 16,
   "id": "6cddcc31-6412-4340-bb96-e1feef7a28b3",
   "metadata": {},
   "outputs": [
    {
     "data": {
      "text/plain": [
       "array([1, 2, 3])"
      ]
     },
     "execution_count": 16,
     "metadata": {},
     "output_type": "execute_result"
    }
   ],
   "source": [
    "a"
   ]
  },
  {
   "cell_type": "code",
   "execution_count": 17,
   "id": "57768bf1-ff15-4b36-aec8-2a4b915ed76e",
   "metadata": {},
   "outputs": [
    {
     "data": {
      "text/plain": [
       "array([[1],\n",
       "       [2],\n",
       "       [3]])"
      ]
     },
     "execution_count": 17,
     "metadata": {},
     "output_type": "execute_result"
    }
   ],
   "source": [
    "b"
   ]
  },
  {
   "cell_type": "code",
   "execution_count": 20,
   "id": "c8521074-c366-4dd0-b7d5-c50074cb4349",
   "metadata": {},
   "outputs": [
    {
     "data": {
      "text/plain": [
       "array([[[2, 3, 4],\n",
       "        [3, 4, 5],\n",
       "        [4, 5, 6]]])"
      ]
     },
     "execution_count": 20,
     "metadata": {},
     "output_type": "execute_result"
    }
   ],
   "source": [
    "a = a[np.newaxis]\n",
    "a + b"
   ]
  },
  {
   "cell_type": "code",
   "execution_count": 21,
   "id": "51a82298-2656-401c-b586-c64180422c8d",
   "metadata": {},
   "outputs": [
    {
     "data": {
      "text/plain": [
       "array([[2, 3, 4],\n",
       "       [3, 4, 5],\n",
       "       [4, 5, 6]])"
      ]
     },
     "execution_count": 21,
     "metadata": {},
     "output_type": "execute_result"
    }
   ],
   "source": [
    "# or you could do this instead\n",
    "a = np.array([1, 2, 3])\n",
    "a.reshape(1, -1) + b"
   ]
  },
  {
   "cell_type": "code",
   "execution_count": null,
   "id": "539ca0c1-db5a-4b2b-a8d6-23a7dae1e781",
   "metadata": {},
   "outputs": [],
   "source": []
  }
 ],
 "metadata": {
  "kernelspec": {
   "display_name": "Python 3 (ipykernel)",
   "language": "python",
   "name": "python3"
  },
  "language_info": {
   "codemirror_mode": {
    "name": "ipython",
    "version": 3
   },
   "file_extension": ".py",
   "mimetype": "text/x-python",
   "name": "python",
   "nbconvert_exporter": "python",
   "pygments_lexer": "ipython3",
   "version": "3.9.12"
  }
 },
 "nbformat": 4,
 "nbformat_minor": 5
}
