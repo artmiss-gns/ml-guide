{
 "cells": [
  {
   "cell_type": "code",
   "execution_count": 1,
   "id": "0d94568c",
   "metadata": {},
   "outputs": [],
   "source": [
    "import numpy as np"
   ]
  },
  {
   "cell_type": "code",
   "execution_count": 109,
   "id": "0875ba4b",
   "metadata": {},
   "outputs": [],
   "source": [
    "students = np.array([\n",
    "    ('ali', 180, 70),\n",
    "    ('mammad', 160, 75),\n",
    "    ('ari', 168, 65),\n",
    "    ('khashi', 173, 60),],\n",
    "    \n",
    "    dtype=[\n",
    "    ('name', 'U14'),\n",
    "    ('height', 'i8'),\n",
    "    ('weight', 'i8')])"
   ]
  },
  {
   "cell_type": "markdown",
   "id": "27cd7124-0834-48fe-829d-b649fa0602b1",
   "metadata": {},
   "source": [
    "please pay attention to the [(a,b,c)] part of the expression above: notice the ()? <br>\n",
    "You're basically telling NumPy to construct an array of 1 element, composed of three sub-elements <br>\n",
    "(one for each of your a,b,c), each sub-element being an object. If you don't put the (), NumPy will whine a lot.\n",
    "\n"
   ]
  },
  {
   "cell_type": "code",
   "execution_count": 110,
   "id": "a4103107",
   "metadata": {},
   "outputs": [
    {
     "data": {
      "text/plain": [
       "array(['ali', 'mammad', 'ari', 'khashi'], dtype='<U14')"
      ]
     },
     "execution_count": 110,
     "metadata": {},
     "output_type": "execute_result"
    }
   ],
   "source": [
    "students['name']"
   ]
  },
  {
   "cell_type": "code",
   "execution_count": 111,
   "id": "ddb4c497",
   "metadata": {},
   "outputs": [
    {
     "data": {
      "text/plain": [
       "('ali', 180, 70)"
      ]
     },
     "execution_count": 111,
     "metadata": {},
     "output_type": "execute_result"
    }
   ],
   "source": [
    "students[0]"
   ]
  },
  {
   "cell_type": "code",
   "execution_count": 112,
   "id": "7634f216",
   "metadata": {},
   "outputs": [
    {
     "data": {
      "text/plain": [
       "('mammad', 160, 75)"
      ]
     },
     "execution_count": 112,
     "metadata": {},
     "output_type": "execute_result"
    }
   ],
   "source": [
    "students[1]"
   ]
  },
  {
   "cell_type": "code",
   "execution_count": 113,
   "id": "8b0aacf8",
   "metadata": {},
   "outputs": [
    {
     "data": {
      "text/plain": [
       "'mammad'"
      ]
     },
     "execution_count": 113,
     "metadata": {},
     "output_type": "execute_result"
    }
   ],
   "source": [
    "students[1][0]"
   ]
  },
  {
   "cell_type": "code",
   "execution_count": 114,
   "id": "fd3f68a5",
   "metadata": {},
   "outputs": [
    {
     "data": {
      "text/plain": [
       "array(['ali', 'khashi'], dtype='<U14')"
      ]
     },
     "execution_count": 114,
     "metadata": {},
     "output_type": "execute_result"
    }
   ],
   "source": [
    "students[students['height'] > 170]['name']"
   ]
  },
  {
   "cell_type": "code",
   "execution_count": 115,
   "id": "f95179c4",
   "metadata": {},
   "outputs": [
    {
     "data": {
      "text/plain": [
       "('name', 'height', 'weight')"
      ]
     },
     "execution_count": 115,
     "metadata": {},
     "output_type": "execute_result"
    }
   ],
   "source": [
    "students.dtype.names # you can alson change the field names using this"
   ]
  },
  {
   "cell_type": "code",
   "execution_count": 116,
   "id": "ac5c7a98",
   "metadata": {},
   "outputs": [
    {
     "data": {
      "text/plain": [
       "array(['mammad', 'ari', 'khashi', 'ali'], dtype='<U14')"
      ]
     },
     "execution_count": 116,
     "metadata": {},
     "output_type": "execute_result"
    }
   ],
   "source": [
    "np.sort(students, order='height')['name']"
   ]
  },
  {
   "cell_type": "markdown",
   "id": "49ebf837",
   "metadata": {},
   "source": [
    "___"
   ]
  },
  {
   "cell_type": "markdown",
   "id": "fb7641cf",
   "metadata": {},
   "source": [
    "#### Example : Calculating BMI \n",
    "*BMI = weight ÷ height$^{2}$*\n",
    "\n",
    "weight is in kg <br>\n",
    "height is in meter"
   ]
  },
  {
   "cell_type": "code",
   "execution_count": 117,
   "id": "54defe91",
   "metadata": {},
   "outputs": [
    {
     "data": {
      "text/plain": [
       "array([('ali', 180, 70), ('mammad', 160, 75), ('ari', 168, 65),\n",
       "       ('khashi', 173, 60)],\n",
       "      dtype=[('name', '<U14'), ('height', '<i8'), ('weight', '<i8')])"
      ]
     },
     "execution_count": 117,
     "metadata": {},
     "output_type": "execute_result"
    }
   ],
   "source": [
    "students"
   ]
  },
  {
   "cell_type": "code",
   "execution_count": 118,
   "id": "9467b1be",
   "metadata": {},
   "outputs": [
    {
     "data": {
      "text/plain": [
       "array([(21.604939,), (29.296875,), (23.030045,), (20.047445,)],\n",
       "      dtype=[('bmi', '<f4')])"
      ]
     },
     "execution_count": 118,
     "metadata": {},
     "output_type": "execute_result"
    }
   ],
   "source": [
    "students_bmi = np.array(students['weight'] / (students['height']/100)**2, dtype=[('bmi', np.float32)])\n",
    "students_bmi"
   ]
  },
  {
   "cell_type": "code",
   "execution_count": 119,
   "id": "924ca080",
   "metadata": {},
   "outputs": [],
   "source": [
    "import numpy.lib.recfunctions as rfn"
   ]
  },
  {
   "cell_type": "code",
   "execution_count": 120,
   "id": "b662f6c6",
   "metadata": {},
   "outputs": [
    {
     "data": {
      "text/plain": [
       "array([('ali', 180, 70, 21.604939), ('mammad', 160, 75, 29.296875),\n",
       "       ('ari', 168, 65, 23.030045), ('khashi', 173, 60, 20.047445)],\n",
       "      dtype=[('name', '<U14'), ('height', '<i8'), ('weight', '<i8'), ('bmi', '<f4')])"
      ]
     },
     "execution_count": 120,
     "metadata": {},
     "output_type": "execute_result"
    }
   ],
   "source": [
    "students = rfn.merge_arrays((students, students_bmi), flatten = True, usemask = False)\n",
    "students"
   ]
  },
  {
   "cell_type": "code",
   "execution_count": 139,
   "id": "67821e62",
   "metadata": {},
   "outputs": [
    {
     "data": {
      "text/plain": [
       "array([('khashi', 20.047445), ('ali', 21.604939), ('ari', 23.030045),\n",
       "       ('mammad', 29.296875)],\n",
       "      dtype={'names':['name','bmi'], 'formats':['<U14','<f4'], 'offsets':[0,72], 'itemsize':76})"
      ]
     },
     "execution_count": 139,
     "metadata": {},
     "output_type": "execute_result"
    }
   ],
   "source": [
    "np.sort(students[['name', 'bmi']], order='bmi')"
   ]
  },
  {
   "cell_type": "markdown",
   "id": "12b68050-a5b0-4746-859f-43ab426f9c5e",
   "metadata": {},
   "source": [
    "___\n",
    "#### record_array vs structure_array"
   ]
  },
  {
   "cell_type": "markdown",
   "id": "b37e068f-51e2-4a99-a209-e7a67f0078b6",
   "metadata": {},
   "source": [
    "suppose we have these datas"
   ]
  },
  {
   "cell_type": "code",
   "execution_count": 4,
   "id": "0321098c-289c-4093-ab4e-3f3b53490ad9",
   "metadata": {},
   "outputs": [
    {
     "data": {
      "text/plain": [
       "array([ 1,  2,  3,  4,  5,  6,  7,  8,  9, 10])"
      ]
     },
     "execution_count": 4,
     "metadata": {},
     "output_type": "execute_result"
    }
   ],
   "source": [
    "id_ = np.arange(1, 11)\n",
    "id_"
   ]
  },
  {
   "cell_type": "code",
   "execution_count": 7,
   "id": "10b5a977-a7c6-4bf1-97d4-f9dfb9f56aa6",
   "metadata": {},
   "outputs": [
    {
     "data": {
      "text/plain": [
       "array([172, 160, 172, 169, 165, 154, 159, 190, 172, 160])"
      ]
     },
     "execution_count": 7,
     "metadata": {},
     "output_type": "execute_result"
    }
   ],
   "source": [
    "heights = np.random.randint(150, 200, size=10)\n",
    "heights"
   ]
  },
  {
   "cell_type": "code",
   "execution_count": 13,
   "id": "62d3c537-a551-4be5-9497-e6e52f89fd08",
   "metadata": {},
   "outputs": [
    {
     "data": {
      "text/plain": [
       "array([72, 91, 70, 56, 56, 74, 99, 66, 64, 64])"
      ]
     },
     "execution_count": 13,
     "metadata": {},
     "output_type": "execute_result"
    }
   ],
   "source": [
    "weights = np.random.randint(50, 100, size=10)\n",
    "weights"
   ]
  },
  {
   "cell_type": "markdown",
   "id": "09873b67-f41f-477c-831e-b8e5b0193d9e",
   "metadata": {
    "tags": []
   },
   "source": [
    "##### using record_array"
   ]
  },
  {
   "cell_type": "code",
   "execution_count": 25,
   "id": "a5dfa8d1-6081-4e8a-a5fb-32fabc631948",
   "metadata": {},
   "outputs": [
    {
     "data": {
      "text/plain": [
       "rec.array([( 1, 172, 72), ( 2, 160, 91), ( 3, 172, 70), ( 4, 169, 56),\n",
       "           ( 5, 165, 56), ( 6, 154, 74), ( 7, 159, 99), ( 8, 190, 66),\n",
       "           ( 9, 172, 64), (10, 160, 64)],\n",
       "          dtype=[('id', '<i8'), ('heights', '<i8'), ('weights', '<i8')])"
      ]
     },
     "execution_count": 25,
     "metadata": {},
     "output_type": "execute_result"
    }
   ],
   "source": [
    "rec_data = np.core.records.fromarrays(\n",
    "    [id_, heights, weights],\n",
    "    names='id, heights, weights',\n",
    "    formats= 'i8, i8, i8'\n",
    ")\n",
    "rec_data"
   ]
  },
  {
   "cell_type": "code",
   "execution_count": 28,
   "id": "b945c262-7d1c-46bd-98f7-e95d57803bc1",
   "metadata": {},
   "outputs": [
    {
     "data": {
      "text/plain": [
       "rec.array([( 1, 172), ( 2, 160), ( 3, 172), ( 4, 169), ( 5, 165),\n",
       "           ( 6, 154), ( 7, 159), ( 8, 190), ( 9, 172), (10, 160)],\n",
       "          dtype={'names':['id','heights'], 'formats':['<i8','<i8'], 'offsets':[0,8], 'itemsize':24})"
      ]
     },
     "execution_count": 28,
     "metadata": {},
     "output_type": "execute_result"
    }
   ],
   "source": [
    "rec_data[['id', 'heights']]"
   ]
  },
  {
   "cell_type": "markdown",
   "id": "69a23a61-8f8c-4d33-8417-afe0899ceab6",
   "metadata": {},
   "source": [
    "##### using structure_array"
   ]
  },
  {
   "cell_type": "code",
   "execution_count": 29,
   "id": "172ecd71-e721-4afd-8234-6872f28fa9e3",
   "metadata": {},
   "outputs": [
    {
     "data": {
      "text/plain": [
       "array([( 1, 172, 72), ( 2, 160, 91), ( 3, 172, 70), ( 4, 169, 56),\n",
       "       ( 5, 165, 56), ( 6, 154, 74), ( 7, 159, 99), ( 8, 190, 66),\n",
       "       ( 9, 172, 64), (10, 160, 64)],\n",
       "      dtype=[('id', '<i8'), ('heights', '<i8'), ('weights', '<i8')])"
      ]
     },
     "execution_count": 29,
     "metadata": {},
     "output_type": "execute_result"
    }
   ],
   "source": [
    "struct_array = np.array(\n",
    "    list(zip(id_, heights, weights)),\n",
    "    dtype=[\n",
    "        ('id', 'i8'),\n",
    "        ('heights', 'i8'),\n",
    "        ('weights', 'i8'),])\n",
    "struct_array"
   ]
  },
  {
   "cell_type": "code",
   "execution_count": 30,
   "id": "a4f69088-1974-4a35-844f-3e81647c7bf5",
   "metadata": {},
   "outputs": [
    {
     "data": {
      "text/plain": [
       "array([( 1, 172), ( 2, 160), ( 3, 172), ( 4, 169), ( 5, 165), ( 6, 154),\n",
       "       ( 7, 159), ( 8, 190), ( 9, 172), (10, 160)],\n",
       "      dtype={'names':['id','heights'], 'formats':['<i8','<i8'], 'offsets':[0,8], 'itemsize':24})"
      ]
     },
     "execution_count": 30,
     "metadata": {},
     "output_type": "execute_result"
    }
   ],
   "source": [
    "struct_array[['id', 'heights']]"
   ]
  },
  {
   "cell_type": "code",
   "execution_count": null,
   "id": "c25fa574-6823-447b-bcaf-6f355e81871c",
   "metadata": {},
   "outputs": [],
   "source": []
  }
 ],
 "metadata": {
  "kernelspec": {
   "display_name": "Python 3 (ipykernel)",
   "language": "python",
   "name": "python3"
  },
  "language_info": {
   "codemirror_mode": {
    "name": "ipython",
    "version": 3
   },
   "file_extension": ".py",
   "mimetype": "text/x-python",
   "name": "python",
   "nbconvert_exporter": "python",
   "pygments_lexer": "ipython3",
   "version": "3.9.12"
  }
 },
 "nbformat": 4,
 "nbformat_minor": 5
}
