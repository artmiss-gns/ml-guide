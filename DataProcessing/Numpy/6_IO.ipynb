{
 "cells": [
  {
   "cell_type": "code",
   "execution_count": 1,
   "id": "4e6f6e6f-c69c-4346-ba0c-8b388834d24d",
   "metadata": {},
   "outputs": [],
   "source": [
    "import numpy as np"
   ]
  },
  {
   "cell_type": "markdown",
   "id": "88460484-d7c1-4078-9403-b6fd0fd86ea7",
   "metadata": {
    "tags": []
   },
   "source": [
    "## Text and CSV Files"
   ]
  },
  {
   "cell_type": "code",
   "execution_count": 25,
   "id": "c41895de-7a31-4687-8750-4fd173cee13d",
   "metadata": {},
   "outputs": [],
   "source": [
    "id_ = np.arange(10)"
   ]
  },
  {
   "cell_type": "code",
   "execution_count": 26,
   "id": "6f911e01-a082-4b43-8b08-a5bc462324ec",
   "metadata": {},
   "outputs": [],
   "source": [
    "value = np.random.random(size=10)"
   ]
  },
  {
   "cell_type": "code",
   "execution_count": 27,
   "id": "ea9cda15-f5df-4e82-88bb-2a669df0050d",
   "metadata": {},
   "outputs": [],
   "source": [
    "date = np.array([np.random.randint(365) + np.datetime64('2022-01-01') for i in range(10) ])"
   ]
  },
  {
   "cell_type": "code",
   "execution_count": 53,
   "id": "4fc69dbf-1306-4de3-a02d-3bf9a18b399b",
   "metadata": {},
   "outputs": [
    {
     "data": {
      "text/plain": [
       "rec.array([(0, 0.1931487 , '2022-11-09'), (1, 0.5871547 , '2022-09-12'),\n",
       "           (2, 0.93555206, '2022-06-27'), (3, 0.87388146, '2022-03-09'),\n",
       "           (4, 0.37168115, '2022-04-08'), (5, 0.98898107, '2022-05-28'),\n",
       "           (6, 0.06707367, '2022-10-04'), (7, 0.8648645 , '2022-11-06'),\n",
       "           (8, 0.5264596 , '2022-10-11'), (9, 0.8824468 , '2022-10-08')],\n",
       "          dtype=[('id', '<i4'), ('value', '<f4'), ('date', '<U10')])"
      ]
     },
     "execution_count": 53,
     "metadata": {},
     "output_type": "execute_result"
    }
   ],
   "source": [
    "### using numpy records array\n",
    "data = np.core.records.fromarrays(\n",
    "    [id_, value, date],\n",
    "    names='id, value, date',\n",
    "    formats='i4, f4, U10')\n",
    "data"
   ]
  },
  {
   "cell_type": "code",
   "execution_count": 54,
   "id": "fa999145-03a7-414d-b90e-9573d22b8db6",
   "metadata": {},
   "outputs": [
    {
     "data": {
      "text/plain": [
       "array([(0, 0.1931487 , '2022-11-09'), (1, 0.5871547 , '2022-09-12'),\n",
       "       (2, 0.93555206, '2022-06-27'), (3, 0.87388146, '2022-03-09'),\n",
       "       (4, 0.37168115, '2022-04-08'), (5, 0.98898107, '2022-05-28'),\n",
       "       (6, 0.06707367, '2022-10-04'), (7, 0.8648645 , '2022-11-06'),\n",
       "       (8, 0.5264596 , '2022-10-11'), (9, 0.8824468 , '2022-10-08')],\n",
       "      dtype=[('id', '<i4'), ('value', '<f4'), ('date', '<U10')])"
      ]
     },
     "execution_count": 54,
     "metadata": {},
     "output_type": "execute_result"
    }
   ],
   "source": [
    "### using numpy structured array\n",
    "data2 = np.array(\n",
    "    list(zip(id_, value, date)),\n",
    "    dtype = [\n",
    "        ('id', 'i4'),\n",
    "        ('value', 'f4'),\n",
    "        ('date', 'U10'),\n",
    "    ])\n",
    "data2"
   ]
  },
  {
   "cell_type": "markdown",
   "id": "33ae25af-d03d-4b8c-ab18-3c03b92ced93",
   "metadata": {
    "tags": []
   },
   "source": [
    "now we are saving the data into a file:\n",
    "### saveing a numpy recored array as a csv file using np.savetxt"
   ]
  },
  {
   "cell_type": "code",
   "execution_count": 80,
   "id": "0e0bb687-fff5-4a77-9892-bd3b887631e6",
   "metadata": {},
   "outputs": [],
   "source": [
    "np.savetxt('./data.csv', data, fmt='%i, %.4f, %s', header='id, value, date')"
   ]
  },
  {
   "cell_type": "markdown",
   "id": "73988ab1-5185-4e6c-a81e-2023d0ec1c3b",
   "metadata": {
    "tags": []
   },
   "source": [
    "### reading from a file using numpy.genfromtxt"
   ]
  },
  {
   "cell_type": "code",
   "execution_count": 81,
   "id": "be44047e-43b0-4f68-b056-0e24c4a87710",
   "metadata": {},
   "outputs": [
    {
     "data": {
      "text/plain": [
       "array([(0, 0.1931, '2022-11-09'), (1, 0.5872, '2022-09-12'),\n",
       "       (2, 0.9356, '2022-06-27'), (3, 0.8739, '2022-03-09'),\n",
       "       (4, 0.3717, '2022-04-08'), (5, 0.989 , '2022-05-28'),\n",
       "       (6, 0.0671, '2022-10-04'), (7, 0.8649, '2022-11-06'),\n",
       "       (8, 0.5265, '2022-10-11'), (9, 0.8824, '2022-10-08')],\n",
       "      dtype=[('f0', '<i4'), ('f1', '<f4'), ('f2', '<U10')])"
      ]
     },
     "execution_count": 81,
     "metadata": {},
     "output_type": "execute_result"
    }
   ],
   "source": [
    "read_data = np.genfromtxt(\n",
    "    './data.csv',\n",
    "    dtype='i4, f4, U10',\n",
    "    delimiter=', ',\n",
    "    skip_header=True,\n",
    "\n",
    "\n",
    ")\n",
    "read_data"
   ]
  },
  {
   "cell_type": "code",
   "execution_count": 82,
   "id": "cdb6922a-5778-4a6c-a1e4-d2f81f16690a",
   "metadata": {},
   "outputs": [
    {
     "data": {
      "text/plain": [
       "rec.array([(0, 0.1931487 , '2022-11-09'), (1, 0.5871547 , '2022-09-12'),\n",
       "           (2, 0.93555206, '2022-06-27'), (3, 0.87388146, '2022-03-09'),\n",
       "           (4, 0.37168115, '2022-04-08'), (5, 0.98898107, '2022-05-28'),\n",
       "           (6, 0.06707367, '2022-10-04'), (7, 0.8648645 , '2022-11-06'),\n",
       "           (8, 0.5264596 , '2022-10-11'), (9, 0.8824468 , '2022-10-08')],\n",
       "          dtype=[('id', '<i4'), ('value', '<f4'), ('date', '<U10')])"
      ]
     },
     "execution_count": 82,
     "metadata": {},
     "output_type": "execute_result"
    }
   ],
   "source": [
    "data"
   ]
  },
  {
   "cell_type": "markdown",
   "id": "581f03eb-7cd9-48db-93ed-55a86b321881",
   "metadata": {},
   "source": [
    "Now the data is read in to the record array, you will find that the second field is more than four digits after the decimal points as we specified in exporting the CSV. The reason for this is because <ins>we use f4 as its data type when we read and write it</ins>. The empty digits will be filled by NumPy, but the valid four digits remain the same as in the file. You may also notice we lost the field name, so let's specify it:"
   ]
  },
  {
   "cell_type": "code",
   "execution_count": 84,
   "id": "8003b78c-48d6-412b-8ccb-73305f0a9098",
   "metadata": {},
   "outputs": [],
   "source": [
    "read_data.dtype.names = 'id', 'value', 'date'"
   ]
  },
  {
   "cell_type": "code",
   "execution_count": 85,
   "id": "cfa0f59b-26d7-4049-a6de-9cdbeb3b32bb",
   "metadata": {},
   "outputs": [
    {
     "data": {
      "text/plain": [
       "array([(0, 0.1931, '2022-11-09'), (1, 0.5872, '2022-09-12'),\n",
       "       (2, 0.9356, '2022-06-27'), (3, 0.8739, '2022-03-09'),\n",
       "       (4, 0.3717, '2022-04-08'), (5, 0.989 , '2022-05-28'),\n",
       "       (6, 0.0671, '2022-10-04'), (7, 0.8649, '2022-11-06'),\n",
       "       (8, 0.5265, '2022-10-11'), (9, 0.8824, '2022-10-08')],\n",
       "      dtype=[('id', '<i4'), ('value', '<f4'), ('date', '<U10')])"
      ]
     },
     "execution_count": 85,
     "metadata": {},
     "output_type": "execute_result"
    }
   ],
   "source": [
    "read_data"
   ]
  },
  {
   "cell_type": "markdown",
   "id": "79dde2cb-4e30-424e-8d83-2fb53544e6ef",
   "metadata": {
    "tags": []
   },
   "source": [
    "## .npy or .npz\n",
    "it saves the data as a binart code"
   ]
  },
  {
   "cell_type": "code",
   "execution_count": 87,
   "id": "d3db104f-5139-4303-a535-2dedfd10f26f",
   "metadata": {},
   "outputs": [
    {
     "data": {
      "text/plain": [
       "array([[0.81907766, 0.84366377, 0.45966812],\n",
       "       [0.26602213, 0.0448599 , 0.40899434],\n",
       "       [0.9477299 , 0.32208344, 0.12493178]])"
      ]
     },
     "execution_count": 87,
     "metadata": {},
     "output_type": "execute_result"
    }
   ],
   "source": [
    "array = np.random.random(size=(3, 3))\n",
    "array"
   ]
  },
  {
   "cell_type": "code",
   "execution_count": 88,
   "id": "c7a406f5-63d4-43d7-abd8-2a8a90dc5966",
   "metadata": {},
   "outputs": [],
   "source": [
    "np.save('array.npy', array, allow_pickle=False) # remember to put allow_pickle to False"
   ]
  },
  {
   "cell_type": "code",
   "execution_count": 89,
   "id": "68989be3-71f0-4461-947b-e51b07af88de",
   "metadata": {},
   "outputs": [],
   "source": [
    "load_array = np.load('array.npy') # allow_pickle is False by default here, so you can ignore it"
   ]
  },
  {
   "cell_type": "code",
   "execution_count": 91,
   "id": "382c440f-328b-4619-9c40-7a0fed3b7669",
   "metadata": {},
   "outputs": [
    {
     "data": {
      "text/plain": [
       "True"
      ]
     },
     "execution_count": 91,
     "metadata": {},
     "output_type": "execute_result"
    }
   ],
   "source": [
    "(load_array == array).all()"
   ]
  },
  {
   "cell_type": "markdown",
   "id": "b93278df-7c3f-4351-9e16-2d655f5a568b",
   "metadata": {},
   "source": [
    "Similarly, you can use the savez() function to save several arrays into a single file. If you want to save your files as compressed NumPy binary files, you can use savez_compressed() as follows:"
   ]
  },
  {
   "cell_type": "code",
   "execution_count": 104,
   "id": "fb588c9f-f72e-4e74-a535-dd4dcf0c461d",
   "metadata": {},
   "outputs": [],
   "source": [
    "arr1 = np.arange(5)\n",
    "arr2 = np.arange(10).reshape((2, 5))"
   ]
  },
  {
   "cell_type": "code",
   "execution_count": 105,
   "id": "9bbd4bfc-84a3-48cd-9409-5fca84304a5e",
   "metadata": {},
   "outputs": [],
   "source": [
    "np.savez('arr1_arr2.npz', arr1, arr2)"
   ]
  },
  {
   "cell_type": "code",
   "execution_count": 107,
   "id": "1711ff47-e54d-418a-a352-fc067b87cb59",
   "metadata": {},
   "outputs": [],
   "source": [
    "load_arr1_2 = np.load('arr1_arr2.npz')"
   ]
  },
  {
   "cell_type": "code",
   "execution_count": 116,
   "id": "8375c9aa-2f4e-4d39-86a0-3f2d349320ec",
   "metadata": {},
   "outputs": [
    {
     "data": {
      "text/plain": [
       "['arr_0', 'arr_1']"
      ]
     },
     "execution_count": 116,
     "metadata": {},
     "output_type": "execute_result"
    }
   ],
   "source": [
    "load_arr1_2.files"
   ]
  },
  {
   "cell_type": "code",
   "execution_count": 118,
   "id": "506796f8-1e4a-455a-98e2-6832c9cebfc9",
   "metadata": {},
   "outputs": [],
   "source": [
    "arr1_load, arr2_load = load_arr1_2['arr_0'], load_arr1_2['arr_1']"
   ]
  },
  {
   "cell_type": "code",
   "execution_count": 119,
   "id": "c93d2cd6-3630-4586-8cb0-a67cc8653972",
   "metadata": {},
   "outputs": [
    {
     "data": {
      "text/plain": [
       "array([0, 1, 2, 3, 4])"
      ]
     },
     "execution_count": 119,
     "metadata": {},
     "output_type": "execute_result"
    }
   ],
   "source": [
    "arr1_load"
   ]
  },
  {
   "cell_type": "code",
   "execution_count": 120,
   "id": "0cc85510-bfca-414c-a327-0c72c16fe9e6",
   "metadata": {},
   "outputs": [
    {
     "data": {
      "text/plain": [
       "array([[0, 1, 2, 3, 4],\n",
       "       [5, 6, 7, 8, 9]])"
      ]
     },
     "execution_count": 120,
     "metadata": {},
     "output_type": "execute_result"
    }
   ],
   "source": [
    "arr2_load"
   ]
  },
  {
   "cell_type": "markdown",
   "id": "b00803d8-fa85-4833-adb0-1e0e609359a5",
   "metadata": {},
   "source": [
    "When you save several arrays in a single file, if you give a keyword argument such as first_array=x, your array will be saved with this name. Otherwise, by default, your first array will be given a variable name, such as arr_0."
   ]
  }
 ],
 "metadata": {
  "kernelspec": {
   "display_name": "Python 3 (ipykernel)",
   "language": "python",
   "name": "python3"
  },
  "language_info": {
   "codemirror_mode": {
    "name": "ipython",
    "version": 3
   },
   "file_extension": ".py",
   "mimetype": "text/x-python",
   "name": "python",
   "nbconvert_exporter": "python",
   "pygments_lexer": "ipython3",
   "version": "3.9.12"
  }
 },
 "nbformat": 4,
 "nbformat_minor": 5
}
