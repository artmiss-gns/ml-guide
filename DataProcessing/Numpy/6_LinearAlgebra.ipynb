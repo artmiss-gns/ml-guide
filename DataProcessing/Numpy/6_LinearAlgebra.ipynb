{
 "cells": [
  {
   "cell_type": "markdown",
   "id": "165002a9-ac32-40bb-ad78-ed203181246f",
   "metadata": {
    "tags": []
   },
   "source": [
    "## Matrix Class"
   ]
  },
  {
   "cell_type": "code",
   "execution_count": 1,
   "id": "0b0b8cc7-77d5-4901-bbd8-e206a5a44f69",
   "metadata": {},
   "outputs": [],
   "source": [
    "import numpy as np"
   ]
  },
  {
   "cell_type": "code",
   "execution_count": 2,
   "id": "11835148-582d-4ae6-820c-2d7f67792f15",
   "metadata": {},
   "outputs": [],
   "source": [
    "nd_array = np.arange(9).reshape((3, 3))"
   ]
  },
  {
   "cell_type": "code",
   "execution_count": 4,
   "id": "83db5b33-c35f-453a-8fc1-35c32851cc6c",
   "metadata": {},
   "outputs": [
    {
     "data": {
      "text/plain": [
       "matrix([[0, 1, 2],\n",
       "        [3, 4, 5],\n",
       "        [6, 7, 8]])"
      ]
     },
     "execution_count": 4,
     "metadata": {},
     "output_type": "execute_result"
    }
   ],
   "source": [
    "x = np.matrix(nd_array)\n",
    "x"
   ]
  },
  {
   "cell_type": "code",
   "execution_count": 7,
   "id": "e6a52107-f422-4862-a272-53c7042c5a4c",
   "metadata": {},
   "outputs": [
    {
     "data": {
      "text/plain": [
       "matrix([[1., 0., 0.],\n",
       "        [0., 1., 0.],\n",
       "        [0., 0., 1.]])"
      ]
     },
     "execution_count": 7,
     "metadata": {},
     "output_type": "execute_result"
    }
   ],
   "source": [
    "y = np.mat(np.identity(3)) # np.matrix(np.identity(3))\n",
    "y"
   ]
  },
  {
   "cell_type": "markdown",
   "id": "6de1567c-7708-42bc-8826-d165108aaa67",
   "metadata": {},
   "source": [
    "numpy.matrix() creates a <ins>copy</ins><br> while numpy.mat() changes the <ins>view</ins> only; it's equivalent to numpy.matrix(data, copy = False)."
   ]
  },
  {
   "cell_type": "markdown",
   "id": "3838722a-cb8f-469b-aef2-a1f336ed1e1e",
   "metadata": {},
   "source": [
    "##### other ways of creating a matrix"
   ]
  },
  {
   "cell_type": "code",
   "execution_count": 8,
   "id": "30ad1beb-b6ca-48f3-8223-76825eb4a74d",
   "metadata": {},
   "outputs": [
    {
     "data": {
      "text/plain": [
       "matrix([[1, 2, 3],\n",
       "        [4, 5, 6],\n",
       "        [7, 8, 9]])"
      ]
     },
     "execution_count": 8,
     "metadata": {},
     "output_type": "execute_result"
    }
   ],
   "source": [
    "np.matrix('1 2 3; 4 5 6; 7 8 9')"
   ]
  },
  {
   "cell_type": "code",
   "execution_count": 10,
   "id": "94a1a7a6-7511-426b-8aa0-eb8519f5b32b",
   "metadata": {},
   "outputs": [
    {
     "data": {
      "text/plain": [
       "matrix([[1, 2, 3],\n",
       "        [4, 5, 6],\n",
       "        [7, 8, 9]])"
      ]
     },
     "execution_count": 10,
     "metadata": {},
     "output_type": "execute_result"
    }
   ],
   "source": [
    "np.matrix([[1, 2, 3], [4, 5, 6], [7, 8, 9]])"
   ]
  },
  {
   "cell_type": "markdown",
   "id": "6b3e9b89-1f0e-4766-80c6-705f1f7ab507",
   "metadata": {},
   "source": [
    "other operations are written on pytopia github"
   ]
  },
  {
   "cell_type": "markdown",
   "id": "69b2e6a8-4c74-44cb-bd25-2416eb845d2d",
   "metadata": {
    "tags": []
   },
   "source": [
    "## Polynomial mathematics\n"
   ]
  },
  {
   "cell_type": "markdown",
   "id": "de3c52ae-f281-45f8-a6a3-5b9e91067a70",
   "metadata": {},
   "source": [
    "##### calculating the coefficients of a polynomial:"
   ]
  },
  {
   "cell_type": "code",
   "execution_count": 11,
   "id": "49b5ae28-8809-4593-b3fa-c5c82e10c769",
   "metadata": {},
   "outputs": [],
   "source": [
    "root = np.array([1, 2, 3, 4])"
   ]
  },
  {
   "cell_type": "code",
   "execution_count": 12,
   "id": "647ac232-1813-4eaa-a265-981214ccccc1",
   "metadata": {},
   "outputs": [
    {
     "data": {
      "text/plain": [
       "array([  1., -10.,  35., -50.,  24.])"
      ]
     },
     "execution_count": 12,
     "metadata": {},
     "output_type": "execute_result"
    }
   ],
   "source": [
    "np.poly(root)"
   ]
  },
  {
   "cell_type": "markdown",
   "id": "fcc8322e-1b51-4168-a612-c13470fb444a",
   "metadata": {},
   "source": [
    "##### calculating the roots based on the coefficients"
   ]
  },
  {
   "cell_type": "code",
   "execution_count": 13,
   "id": "decdc14d-2c45-493f-88e9-daea789b2e93",
   "metadata": {},
   "outputs": [
    {
     "data": {
      "text/plain": [
       "array([4., 3., 2., 1.])"
      ]
     },
     "execution_count": 13,
     "metadata": {},
     "output_type": "execute_result"
    }
   ],
   "source": [
    "np.roots(np.array([  1., -10.,  35., -50.,  24.]))"
   ]
  },
  {
   "cell_type": "markdown",
   "id": "8c8eb445-df02-4888-a9af-9e19381aa178",
   "metadata": {},
   "source": [
    "Now, let's say we have the equation , and we want to know the value of y when x = 5. We can use numpy.polyval() to calculate this:"
   ]
  },
  {
   "cell_type": "code",
   "execution_count": 16,
   "id": "774af536-fb08-47a4-a9af-d0562d3fdf07",
   "metadata": {},
   "outputs": [
    {
     "data": {
      "text/plain": [
       "0.0"
      ]
     },
     "execution_count": 16,
     "metadata": {},
     "output_type": "execute_result"
    }
   ],
   "source": [
    "np.polyval(np.array([  1., -10.,  35., -50.,  24.]), x=2) # it returns 0 because x=2 is one of our roots"
   ]
  },
  {
   "cell_type": "markdown",
   "id": "0be19308-edab-4512-8adf-e87992319ec7",
   "metadata": {},
   "source": [
    "#### integrals and derivative"
   ]
  },
  {
   "cell_type": "code",
   "execution_count": 18,
   "id": "cda360da-3a7c-4758-bd59-14fed382c2f2",
   "metadata": {},
   "outputs": [],
   "source": [
    "coef = np.array([  1., -10.,  35., -50.,  24.])"
   ]
  },
  {
   "cell_type": "code",
   "execution_count": 24,
   "id": "4b45c31f-684a-4d2a-a708-b9888862847b",
   "metadata": {},
   "outputs": [
    {
     "data": {
      "text/plain": [
       "array([  0.2       ,  -2.5       ,  11.66666667, -25.        ,\n",
       "        24.        ,   0.        ])"
      ]
     },
     "execution_count": 24,
     "metadata": {},
     "output_type": "execute_result"
    }
   ],
   "source": [
    "integral = np.polyint(coef)\n",
    "integral"
   ]
  },
  {
   "cell_type": "code",
   "execution_count": 29,
   "id": "425e2810-fe24-41ad-b763-76ce54cedf0f",
   "metadata": {},
   "outputs": [
    {
     "data": {
      "text/plain": [
       "array([  1., -10.,  35., -50.,  24.])"
      ]
     },
     "execution_count": 29,
     "metadata": {},
     "output_type": "execute_result"
    }
   ],
   "source": [
    "derivative = np.polyder(integral)\n",
    "derivative"
   ]
  },
  {
   "cell_type": "code",
   "execution_count": 31,
   "id": "569c2f72-9469-4bed-bcfb-3b21ab8e8805",
   "metadata": {},
   "outputs": [
    {
     "data": {
      "text/plain": [
       "True"
      ]
     },
     "execution_count": 31,
     "metadata": {},
     "output_type": "execute_result"
    }
   ],
   "source": [
    "(derivative == coef).all() # because we know that derivative of the integral is equals to the poylinomial itself"
   ]
  }
 ],
 "metadata": {
  "kernelspec": {
   "display_name": "Python 3 (ipykernel)",
   "language": "python",
   "name": "python3"
  },
  "language_info": {
   "codemirror_mode": {
    "name": "ipython",
    "version": 3
   },
   "file_extension": ".py",
   "mimetype": "text/x-python",
   "name": "python",
   "nbconvert_exporter": "python",
   "pygments_lexer": "ipython3",
   "version": "3.9.12"
  }
 },
 "nbformat": 4,
 "nbformat_minor": 5
}
