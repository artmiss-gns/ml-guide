{
 "cells": [
  {
   "cell_type": "code",
   "execution_count": 2,
   "id": "1eaee09b",
   "metadata": {},
   "outputs": [],
   "source": [
    "import numpy as np"
   ]
  },
  {
   "cell_type": "markdown",
   "id": "9d33f409",
   "metadata": {},
   "source": [
    "### np.single"
   ]
  },
  {
   "cell_type": "code",
   "execution_count": 4,
   "id": "6057c528",
   "metadata": {},
   "outputs": [
    {
     "data": {
      "text/plain": [
       "array([ 1. ,  1.2,  1.3, 22. ], dtype=float32)"
      ]
     },
     "execution_count": 4,
     "metadata": {},
     "output_type": "execute_result"
    }
   ],
   "source": [
    "np.array([1, 1.2, 1.3, \"22\"], dtype=np.single)"
   ]
  },
  {
   "cell_type": "code",
   "execution_count": 5,
   "id": "d7e33a1c",
   "metadata": {},
   "outputs": [
    {
     "data": {
      "text/plain": [
       "array(['1', '1.2', '1.3', '22'], dtype='<U32')"
      ]
     },
     "execution_count": 5,
     "metadata": {},
     "output_type": "execute_result"
    }
   ],
   "source": [
    "np.array([1, 1.2, 1.3, \"22\"])"
   ]
  },
  {
   "cell_type": "markdown",
   "id": "54817104",
   "metadata": {},
   "source": [
    "___\n",
    "### String Types: Sized Unicode"
   ]
  },
  {
   "cell_type": "code",
   "execution_count": 16,
   "id": "4545a91a",
   "metadata": {},
   "outputs": [
    {
     "data": {
      "text/plain": [
       "array(['bob', 'kim', 'amy'], dtype='<U3')"
      ]
     },
     "execution_count": 16,
     "metadata": {},
     "output_type": "execute_result"
    }
   ],
   "source": [
    "names = np.array(['bob', 'kim', 'amy'])\n",
    "names"
   ]
  },
  {
   "cell_type": "code",
   "execution_count": 17,
   "id": "2f2ad23b",
   "metadata": {},
   "outputs": [
    {
     "data": {
      "text/plain": [
       "12"
      ]
     },
     "execution_count": 17,
     "metadata": {},
     "output_type": "execute_result"
    }
   ],
   "source": [
    "names.itemsize"
   ]
  },
  {
   "cell_type": "code",
   "execution_count": 12,
   "id": "cbab3797",
   "metadata": {},
   "outputs": [
    {
     "data": {
      "text/plain": [
       "array(['sarah', 'ashly', 'johny'], dtype='<U5')"
      ]
     },
     "execution_count": 12,
     "metadata": {},
     "output_type": "execute_result"
    }
   ],
   "source": [
    "names2 = np.array(['sarah', 'ashly', 'johny'])\n",
    "names2"
   ]
  },
  {
   "cell_type": "code",
   "execution_count": 13,
   "id": "d7771580",
   "metadata": {},
   "outputs": [
    {
     "data": {
      "text/plain": [
       "20"
      ]
     },
     "execution_count": 13,
     "metadata": {},
     "output_type": "execute_result"
    }
   ],
   "source": [
    "names2.itemsize"
   ]
  },
  {
   "cell_type": "code",
   "execution_count": 19,
   "id": "632c3899",
   "metadata": {},
   "outputs": [
    {
     "data": {
      "text/plain": [
       "array(['sarah', 'ashly', 'johny', 'josephine'], dtype='<U9')"
      ]
     },
     "execution_count": 19,
     "metadata": {},
     "output_type": "execute_result"
    }
   ],
   "source": [
    "names2 = np.append(names2, 'josephine')\n",
    "names2"
   ]
  },
  {
   "cell_type": "code",
   "execution_count": 20,
   "id": "e3431302",
   "metadata": {
    "scrolled": true
   },
   "outputs": [
    {
     "data": {
      "text/plain": [
       "36"
      ]
     },
     "execution_count": 20,
     "metadata": {},
     "output_type": "execute_result"
    }
   ],
   "source": [
    "names2.itemsize"
   ]
  },
  {
   "cell_type": "markdown",
   "id": "f656ef57",
   "metadata": {},
   "source": [
    "###### important point when modifing the array of strings: "
   ]
  },
  {
   "cell_type": "code",
   "execution_count": 21,
   "id": "d6e2c48a",
   "metadata": {},
   "outputs": [
    {
     "data": {
      "text/plain": [
       "array(['bob', 'kim', 'amy'], dtype='<U3')"
      ]
     },
     "execution_count": 21,
     "metadata": {},
     "output_type": "execute_result"
    }
   ],
   "source": [
    "x = np.array(['bob', 'kim', 'amy'])\n",
    "x"
   ]
  },
  {
   "cell_type": "code",
   "execution_count": 22,
   "id": "e61b5b12",
   "metadata": {},
   "outputs": [
    {
     "data": {
      "text/plain": [
       "array(['bob', 'ash', 'amy'], dtype='<U3')"
      ]
     },
     "execution_count": 22,
     "metadata": {},
     "output_type": "execute_result"
    }
   ],
   "source": [
    "x[1] = \"ashly\"\n",
    "x"
   ]
  },
  {
   "cell_type": "markdown",
   "id": "e9ad2c83",
   "metadata": {},
   "source": [
    "as you can see we couldn't fit 'ashly' into the array, why?<br>\n",
    "because as we can see, the dtype of the array is 'U3' which means each elment in the list can only contain 3<br>\n",
    "characters and when we want to replace a 3 char element in the array with 'ashly' which has 5 charcters,<br>\n",
    "it doesn't fit, so we only get the first 3 characters of the word so it'll fit into the array,<br>\n",
    "!!if we append 'ashly' into the array, the result will be different because the array will be resized"
   ]
  },
  {
   "cell_type": "markdown",
   "id": "fb785a4f",
   "metadata": {},
   "source": [
    "___\n",
    "### Structured Arrays\n",
    "<div class=\"alert alert-block alert-info\"> Important<div>"
   ]
  },
  {
   "cell_type": "markdown",
   "id": "4ed3a058",
   "metadata": {},
   "source": [
    "Originally, you learned that array items all have to be the same data type, but that wasn’t entirely correct. NumPy has a special kind of array, called a record array or structured array, with which you can specify a type and, optionally, a name on a per-column basis. This makes sorting and filtering even more powerful, and it can feel similar to working with data in Excel, CSVs, or relational databases.\n",
    "\n",
    "Structured arrays or record arrays are useful when you perform computations, and at the same time you could keep closely related data together. For example, when you process incident data and each incident contains geographic coordinates and the occurrence time, while you calculate the final result, you can easily find the associated geographic locations and timepoint for further visualization. NumPy also provides powerful capabilities to create arrays of records, as multiple data types live in one NumPy array. However, one principle in NumPy that still needs to be honored is that the data type in each field (you can think of this as a column in the records) needs to be homogeneous. Here are some simple examples that show you how it works:"
   ]
  },
  {
   "cell_type": "code",
   "execution_count": 21,
   "id": "7f0fc464",
   "metadata": {},
   "outputs": [
    {
     "data": {
      "text/plain": [
       "array([(0, 0., ''), (0, 0., '')],\n",
       "      dtype=[('f0', '<i4'), ('f1', '<f4'), ('f2', '<U10')])"
      ]
     },
     "execution_count": 21,
     "metadata": {},
     "output_type": "execute_result"
    }
   ],
   "source": [
    "x = np.empty((2,), dtype = ('i4, f4, U10')) \n",
    "x"
   ]
  },
  {
   "cell_type": "code",
   "execution_count": 22,
   "id": "de9ee0b5",
   "metadata": {},
   "outputs": [
    {
     "data": {
      "text/plain": [
       "array([( 0, 0. , ''), (12, 1.2, 'hi')],\n",
       "      dtype=[('f0', '<i4'), ('f1', '<f4'), ('f2', '<U10')])"
      ]
     },
     "execution_count": 22,
     "metadata": {},
     "output_type": "execute_result"
    }
   ],
   "source": [
    "x[1] = 12, 1.2, 'hi'\n",
    "x"
   ]
  },
  {
   "cell_type": "code",
   "execution_count": 23,
   "id": "677a3324",
   "metadata": {},
   "outputs": [
    {
     "data": {
      "text/plain": [
       "array([(18, 0.5, 'jack'), (24, 3.5, 'adam')],\n",
       "      dtype=[('f0', '<i4'), ('f1', '<f4'), ('f2', '<U10')])"
      ]
     },
     "execution_count": 23,
     "metadata": {},
     "output_type": "execute_result"
    }
   ],
   "source": [
    "x[:] = [(18, 0.5, 'jack'), (24, 3.5, 'adam')]\n",
    "x"
   ]
  },
  {
   "cell_type": "markdown",
   "id": "03050e9d",
   "metadata": {},
   "source": [
    "<br>we can use the field name to obtain the value of certain fields, so in the previous example, we used f2 to obtain the string field"
   ]
  },
  {
   "cell_type": "code",
   "execution_count": 17,
   "id": "bbfad86e",
   "metadata": {},
   "outputs": [
    {
     "data": {
      "text/plain": [
       "array([1, 2], dtype=int32)"
      ]
     },
     "execution_count": 17,
     "metadata": {},
     "output_type": "execute_result"
    }
   ],
   "source": [
    "x['f0'] # accessing the data using field name"
   ]
  },
  {
   "cell_type": "code",
   "execution_count": 18,
   "id": "6393eab8",
   "metadata": {},
   "outputs": [
    {
     "data": {
      "text/plain": [
       "array([0.5, 3.5], dtype=float32)"
      ]
     },
     "execution_count": 18,
     "metadata": {},
     "output_type": "execute_result"
    }
   ],
   "source": [
    "x['f1']"
   ]
  },
  {
   "cell_type": "code",
   "execution_count": 19,
   "id": "59945e2b",
   "metadata": {},
   "outputs": [
    {
     "data": {
      "text/plain": [
       "array(['jack', 'adam'], dtype='<U10')"
      ]
     },
     "execution_count": 19,
     "metadata": {},
     "output_type": "execute_result"
    }
   ],
   "source": [
    "x['f2']"
   ]
  },
  {
   "cell_type": "markdown",
   "id": "3ad7cd91",
   "metadata": {},
   "source": [
    "<br>\n",
    "You might be wondering whether the default field name can be changed to something meaningful in your analysis? Of course it can! This is how:\n",
    "\n"
   ]
  },
  {
   "cell_type": "code",
   "execution_count": 24,
   "id": "7a4fef6b",
   "metadata": {},
   "outputs": [],
   "source": [
    "x.dtype.names = 'age', 'score', 'name'"
   ]
  },
  {
   "cell_type": "code",
   "execution_count": 25,
   "id": "9a5d911b",
   "metadata": {},
   "outputs": [
    {
     "data": {
      "text/plain": [
       "array([(18, 0.5, 'jack'), (24, 3.5, 'adam')],\n",
       "      dtype=[('age', '<i4'), ('score', '<f4'), ('name', '<U10')])"
      ]
     },
     "execution_count": 25,
     "metadata": {},
     "output_type": "execute_result"
    }
   ],
   "source": [
    "x"
   ]
  },
  {
   "cell_type": "code",
   "execution_count": 26,
   "id": "862b3d72",
   "metadata": {},
   "outputs": [
    {
     "data": {
      "text/plain": [
       "array([18, 24], dtype=int32)"
      ]
     },
     "execution_count": 26,
     "metadata": {},
     "output_type": "execute_result"
    }
   ],
   "source": [
    "x['age']"
   ]
  },
  {
   "cell_type": "code",
   "execution_count": 27,
   "id": "e496cb5f",
   "metadata": {},
   "outputs": [
    {
     "data": {
      "text/plain": [
       "array(['jack', 'adam'], dtype='<U10')"
      ]
     },
     "execution_count": 27,
     "metadata": {},
     "output_type": "execute_result"
    }
   ],
   "source": [
    "x['name']"
   ]
  },
  {
   "cell_type": "markdown",
   "id": "6fd3f973",
   "metadata": {},
   "source": [
    "___\n",
    "By assigning the new field names back to the names attribute in the dtype object, we can have our customized field names. Or you can do this when you initialize the record arrays by using a list with a tuple, or a dictionary. In the following examples, we are going to create two identical record arrays with customized field names using a list, and a dictionary:"
   ]
  },
  {
   "cell_type": "code",
   "execution_count": 3,
   "id": "358cebf9",
   "metadata": {},
   "outputs": [
    {
     "data": {
      "text/plain": [
       "array([(1, [1., 1.]), (1, [1., 1.])],\n",
       "      dtype=[('id', '<i4'), ('value', '<f4', (2,))])"
      ]
     },
     "execution_count": 3,
     "metadata": {},
     "output_type": "execute_result"
    }
   ],
   "source": [
    "list_x = np.ones(\n",
    "    shape=(2, ),\n",
    "    dtype=[\n",
    "        ('id', 'i4'),\n",
    "        ('value', 'f4', (2, ))\n",
    "    ]\n",
    ")\n",
    "list_x"
   ]
  },
  {
   "cell_type": "code",
   "execution_count": 4,
   "id": "05d1e778",
   "metadata": {},
   "outputs": [
    {
     "data": {
      "text/plain": [
       "array([(1, [1., 1.]), (1, [1., 1.])],\n",
       "      dtype=[('id', '<i4'), ('value', '<f4', (2,))])"
      ]
     },
     "execution_count": 4,
     "metadata": {},
     "output_type": "execute_result"
    }
   ],
   "source": [
    "dic_x = np.ones(\n",
    "    shape=(2, ),\n",
    "    dtype={\n",
    "        'names': ['id', 'value'],\n",
    "        'formats': ['i4', '2f4'],\n",
    "    }\n",
    ")\n",
    "dic_x"
   ]
  },
  {
   "cell_type": "markdown",
   "id": "289fb4fe",
   "metadata": {},
   "source": [
    "! the dictionary keys must be exactly 'names' and 'formats'\n",
    "___"
   ]
  },
  {
   "cell_type": "code",
   "execution_count": 35,
   "id": "dd206a78",
   "metadata": {},
   "outputs": [
    {
     "data": {
      "text/plain": [
       "array([(18, 0.5, 'jack'), (24, 3.5, 'adam')],\n",
       "      dtype=[('age', '<i4'), ('score', '<f4'), ('name', '<U10')])"
      ]
     },
     "execution_count": 35,
     "metadata": {},
     "output_type": "execute_result"
    }
   ],
   "source": [
    "x"
   ]
  },
  {
   "cell_type": "code",
   "execution_count": 46,
   "id": "b699977f",
   "metadata": {},
   "outputs": [
    {
     "data": {
      "text/plain": [
       "array([('jack',), ('adam',)],\n",
       "      dtype={'names':['name'], 'formats':['<U10'], 'offsets':[8], 'itemsize':48})"
      ]
     },
     "execution_count": 46,
     "metadata": {},
     "output_type": "execute_result"
    }
   ],
   "source": [
    "x[['name']]"
   ]
  },
  {
   "cell_type": "code",
   "execution_count": 48,
   "id": "468500d5",
   "metadata": {},
   "outputs": [
    {
     "data": {
      "text/plain": [
       "array([('jack', 18), ('adam', 24)],\n",
       "      dtype={'names':['name','age'], 'formats':['<U10','<i4'], 'offsets':[8,0], 'itemsize':48})"
      ]
     },
     "execution_count": 48,
     "metadata": {},
     "output_type": "execute_result"
    }
   ],
   "source": [
    "x[['name', 'age']]"
   ]
  },
  {
   "cell_type": "markdown",
   "id": "ce6f37dd",
   "metadata": {},
   "source": [
    "___\n",
    "### SQL Like Query on Structured Data\n",
    "<div class=\"alert alert-block alert-info\"> Important<div>"
   ]
  },
  {
   "cell_type": "code",
   "execution_count": 58,
   "id": "58a060e6",
   "metadata": {},
   "outputs": [
    {
     "data": {
      "text/plain": [
       "array([('batman', 'DC',  80), ('superman', 'DC', 100),\n",
       "       ('iron man', 'Marvel',  85), ('flash', 'DC',  70),\n",
       "       ('hulk', 'Marvel',  95)],\n",
       "      dtype=[('name', '<U10'), ('universe', '<U6'), ('power', 'i1')])"
      ]
     },
     "execution_count": 58,
     "metadata": {},
     "output_type": "execute_result"
    }
   ],
   "source": [
    "heros = np.array([\n",
    "    ('batman', 'DC', 80),\n",
    "    ('superman', 'DC', 100),\n",
    "    ('iron man', 'Marvel', 85),\n",
    "    ('flash', 'DC', 70),\n",
    "    ('hulk', 'Marvel', 95),],\n",
    "    \n",
    "    dtype={\n",
    "    'names': ['name', 'universe', 'power'],\n",
    "    'formats': ['U10', 'U6', np.int8]\n",
    "    }\n",
    ")\n",
    "heros"
   ]
  },
  {
   "cell_type": "code",
   "execution_count": 59,
   "id": "7221a7f3",
   "metadata": {},
   "outputs": [
    {
     "data": {
      "text/plain": [
       "('batman', 'DC', 80)"
      ]
     },
     "execution_count": 59,
     "metadata": {},
     "output_type": "execute_result"
    }
   ],
   "source": [
    "heros[0]"
   ]
  },
  {
   "cell_type": "code",
   "execution_count": 60,
   "id": "e630577f",
   "metadata": {},
   "outputs": [
    {
     "data": {
      "text/plain": [
       "array(['batman', 'superman', 'iron man', 'flash', 'hulk'], dtype='<U10')"
      ]
     },
     "execution_count": 60,
     "metadata": {},
     "output_type": "execute_result"
    }
   ],
   "source": [
    "heros['name']"
   ]
  },
  {
   "cell_type": "code",
   "execution_count": 65,
   "id": "dc2cb0c7",
   "metadata": {},
   "outputs": [
    {
     "data": {
      "text/plain": [
       "array(['superman', 'iron man', 'hulk'], dtype='<U10')"
      ]
     },
     "execution_count": 65,
     "metadata": {},
     "output_type": "execute_result"
    }
   ],
   "source": [
    "heros[heros['power'] > 80]['name']"
   ]
  },
  {
   "cell_type": "code",
   "execution_count": 73,
   "id": "f638d05e",
   "metadata": {},
   "outputs": [
    {
     "data": {
      "text/plain": [
       "array(['flash', 'batman', 'iron man', 'hulk', 'superman'], dtype='<U10')"
      ]
     },
     "execution_count": 73,
     "metadata": {},
     "output_type": "execute_result"
    }
   ],
   "source": [
    "np.sort(heros, order='power')['name']"
   ]
  },
  {
   "cell_type": "markdown",
   "id": "c653bcc5",
   "metadata": {},
   "source": [
    "<br></br>\n",
    "___\n",
    "### Dates and time in NumPy"
   ]
  },
  {
   "cell_type": "code",
   "execution_count": 76,
   "id": "0f69ca0b",
   "metadata": {},
   "outputs": [
    {
     "data": {
      "text/plain": [
       "dtype('<M8[D]')"
      ]
     },
     "execution_count": 76,
     "metadata": {},
     "output_type": "execute_result"
    }
   ],
   "source": [
    "x = np.datetime64('2022-02-22')\n",
    "x.dtype"
   ]
  },
  {
   "cell_type": "code",
   "execution_count": 77,
   "id": "095e5c92",
   "metadata": {},
   "outputs": [
    {
     "data": {
      "text/plain": [
       "dtype('<M8[M]')"
      ]
     },
     "execution_count": 77,
     "metadata": {},
     "output_type": "execute_result"
    }
   ],
   "source": [
    "y = np.datetime64('2022-02')\n",
    "y.dtype"
   ]
  },
  {
   "cell_type": "markdown",
   "id": "d88e0056",
   "metadata": {},
   "source": [
    "we can also specify the type"
   ]
  },
  {
   "cell_type": "code",
   "execution_count": 78,
   "id": "fc9bb450",
   "metadata": {},
   "outputs": [
    {
     "data": {
      "text/plain": [
       "numpy.datetime64('2015-04-01')"
      ]
     },
     "execution_count": 78,
     "metadata": {},
     "output_type": "execute_result"
    }
   ],
   "source": [
    "y = np.datetime64('2015-04', 'D')\n",
    "y"
   ]
  },
  {
   "cell_type": "code",
   "execution_count": null,
   "id": "c5cbbafd",
   "metadata": {},
   "outputs": [],
   "source": []
  }
 ],
 "metadata": {
  "kernelspec": {
   "display_name": "Python 3 (ipykernel)",
   "language": "python",
   "name": "python3"
  },
  "language_info": {
   "codemirror_mode": {
    "name": "ipython",
    "version": 3
   },
   "file_extension": ".py",
   "mimetype": "text/x-python",
   "name": "python",
   "nbconvert_exporter": "python",
   "pygments_lexer": "ipython3",
   "version": "3.9.12"
  }
 },
 "nbformat": 4,
 "nbformat_minor": 5
}
