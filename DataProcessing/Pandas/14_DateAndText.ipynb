{
 "cells": [
  {
   "cell_type": "code",
   "execution_count": 1,
   "id": "741e67e6-776d-4f98-bb4a-e93bff973fa7",
   "metadata": {},
   "outputs": [],
   "source": [
    "import numpy as np\n",
    "import pandas as pd"
   ]
  },
  {
   "cell_type": "markdown",
   "id": "6146663e-ea69-434a-9dbc-22226750b249",
   "metadata": {},
   "source": [
    "### .dt"
   ]
  },
  {
   "cell_type": "code",
   "execution_count": 2,
   "id": "542722d9-af99-422b-bb36-c0014786579d",
   "metadata": {},
   "outputs": [
    {
     "data": {
      "text/plain": [
       "0   2002-01-22 00:00:00.000000000\n",
       "1   2007-04-08 22:58:17.788458752\n",
       "2   2012-06-23 21:56:35.576917504\n",
       "3   2017-09-08 20:54:53.365376256\n",
       "4   2022-11-24 19:53:11.153835008\n",
       "dtype: datetime64[ns]"
      ]
     },
     "execution_count": 2,
     "metadata": {},
     "output_type": "execute_result"
    }
   ],
   "source": [
    "s = pd.Series(pd.date_range(\"2002/01/22\", \"today\", periods=5))\n",
    "s"
   ]
  },
  {
   "cell_type": "code",
   "execution_count": 5,
   "id": "d05fb651-b49a-4e87-8c31-b51ec0e59b5c",
   "metadata": {},
   "outputs": [
    {
     "data": {
      "text/plain": [
       "0    22\n",
       "1     8\n",
       "2    23\n",
       "3     8\n",
       "4    24\n",
       "dtype: int64"
      ]
     },
     "execution_count": 5,
     "metadata": {},
     "output_type": "execute_result"
    }
   ],
   "source": [
    "s.dt.day"
   ]
  },
  {
   "cell_type": "code",
   "execution_count": 6,
   "id": "feb36ede-1cc3-4a32-98ea-7911387edbcb",
   "metadata": {},
   "outputs": [
    {
     "data": {
      "text/plain": [
       "0     1\n",
       "1     4\n",
       "2     6\n",
       "3     9\n",
       "4    11\n",
       "dtype: int64"
      ]
     },
     "execution_count": 6,
     "metadata": {},
     "output_type": "execute_result"
    }
   ],
   "source": [
    "s.dt.month"
   ]
  },
  {
   "cell_type": "code",
   "execution_count": 8,
   "id": "94295a70-c3c2-4043-b37a-abe948d72195",
   "metadata": {},
   "outputs": [
    {
     "data": {
      "text/plain": [
       "0      January\n",
       "1        April\n",
       "2         June\n",
       "3    September\n",
       "4     November\n",
       "dtype: object"
      ]
     },
     "execution_count": 8,
     "metadata": {},
     "output_type": "execute_result"
    }
   ],
   "source": [
    "s.dt.month_name()"
   ]
  },
  {
   "cell_type": "markdown",
   "id": "1d5d55ef-7510-4f94-9974-38937aef7e1a",
   "metadata": {},
   "source": [
    "There are many other functions and attributes that you can try,<br>\n",
    "This also brings nice expressions like this :"
   ]
  },
  {
   "cell_type": "code",
   "execution_count": 12,
   "id": "a60ee326-a72e-4a04-91b8-85dbfd10be4e",
   "metadata": {},
   "outputs": [
    {
     "data": {
      "text/plain": [
       "3   2017-09-08 20:54:53.365376256\n",
       "4   2022-11-24 19:53:11.153835008\n",
       "dtype: datetime64[ns]"
      ]
     },
     "execution_count": 12,
     "metadata": {},
     "output_type": "execute_result"
    }
   ],
   "source": [
    "s[s.dt.month > 6]"
   ]
  },
  {
   "cell_type": "code",
   "execution_count": 15,
   "id": "ef43c33a-b804-45b2-a844-d8604c204654",
   "metadata": {},
   "outputs": [
    {
     "data": {
      "text/plain": [
       "3    September\n",
       "4     November\n",
       "dtype: object"
      ]
     },
     "execution_count": 15,
     "metadata": {},
     "output_type": "execute_result"
    }
   ],
   "source": [
    "s[s.dt.month > 6].dt.month_name()"
   ]
  },
  {
   "cell_type": "markdown",
   "id": "4bc6da49-2ab3-4f46-895c-276fe5564b47",
   "metadata": {},
   "source": [
    "<br> <br>you can easily produce tz aware transformations: "
   ]
  },
  {
   "cell_type": "code",
   "execution_count": 26,
   "id": "33833330-9519-4214-ad4d-f4cd90786a39",
   "metadata": {},
   "outputs": [
    {
     "data": {
      "text/plain": [
       "0             2002-01-22 00:00:00+01:00\n",
       "1   2007-04-08 22:58:17.788458752+02:00\n",
       "2   2012-06-23 21:56:35.576917504+02:00\n",
       "3   2017-09-08 20:54:53.365376256+02:00\n",
       "4   2022-11-24 19:53:11.153835008+01:00\n",
       "dtype: datetime64[ns, Europe/Berlin]"
      ]
     },
     "execution_count": 26,
     "metadata": {},
     "output_type": "execute_result"
    }
   ],
   "source": [
    "stz  = s.dt.tz_localize(\"Europe/Berlin\")\n",
    "stz"
   ]
  },
  {
   "cell_type": "code",
   "execution_count": 27,
   "id": "f9b1a0a2-812f-40c3-9649-3787afb90a67",
   "metadata": {},
   "outputs": [
    {
     "data": {
      "text/plain": [
       "0      January\n",
       "1        April\n",
       "2         June\n",
       "3    September\n",
       "4     November\n",
       "dtype: object"
      ]
     },
     "execution_count": 27,
     "metadata": {},
     "output_type": "execute_result"
    }
   ],
   "source": [
    "stz.dt.month_name()"
   ]
  },
  {
   "cell_type": "markdown",
   "id": "e70b6f82-93f6-4a8d-998c-582d038c62df",
   "metadata": {},
   "source": [
    "<br> <Br>"
   ]
  },
  {
   "cell_type": "markdown",
   "id": "0fc060d9-002c-404f-91ea-a7072aff1014",
   "metadata": {},
   "source": [
    "you can also **chain** these types of operations"
   ]
  },
  {
   "cell_type": "code",
   "execution_count": 32,
   "id": "f0aa310d-be7e-4c35-b05b-e20db998d7b3",
   "metadata": {},
   "outputs": [
    {
     "data": {
      "text/plain": [
       "0             2002-01-21 15:30:00-05:00\n",
       "1   2007-04-08 15:28:17.788458752-04:00\n",
       "2   2012-06-23 13:26:35.576917504-04:00\n",
       "3   2017-09-08 12:24:53.365376256-04:00\n",
       "4   2022-11-24 11:23:11.153835008-05:00\n",
       "dtype: datetime64[ns, US/Eastern]"
      ]
     },
     "execution_count": 32,
     "metadata": {},
     "output_type": "execute_result"
    }
   ],
   "source": [
    "s.dt.tz_localize(\"Asia/Tehran\").dt.tz_convert(\"US/Eastern\")"
   ]
  },
  {
   "cell_type": "markdown",
   "id": "629add0d-f8b4-45ac-a7cf-0301b5f3eb06",
   "metadata": {},
   "source": [
    "<br> <br>\n",
    "you can also format datetime values as strings with **Series.dt.strftime()** which supports the same formats as the standard **strftime()** :"
   ]
  },
  {
   "cell_type": "code",
   "execution_count": 35,
   "id": "a4c4ccde-7e20-408d-ab82-fe4b1b4d0a42",
   "metadata": {},
   "outputs": [
    {
     "data": {
      "text/plain": [
       "0   2002-01-22\n",
       "1   2002-01-23\n",
       "2   2002-01-24\n",
       "3   2002-01-25\n",
       "4   2002-01-26\n",
       "dtype: datetime64[ns]"
      ]
     },
     "execution_count": 35,
     "metadata": {},
     "output_type": "execute_result"
    }
   ],
   "source": [
    "s = pd.Series(pd.date_range(\"2002-01-22\", periods=5))\n",
    "s"
   ]
  },
  {
   "cell_type": "code",
   "execution_count": 36,
   "id": "ee29867c-bdf5-4470-8d46-f9a57baced86",
   "metadata": {},
   "outputs": [
    {
     "data": {
      "text/plain": [
       "0    2002\n",
       "1    2002\n",
       "2    2002\n",
       "3    2002\n",
       "4    2002\n",
       "dtype: object"
      ]
     },
     "execution_count": 36,
     "metadata": {},
     "output_type": "execute_result"
    }
   ],
   "source": [
    "s.dt.strftime(\"%Y\")"
   ]
  },
  {
   "cell_type": "code",
   "execution_count": 38,
   "id": "9335c214-e336-4228-acd3-b8d7a2bf1b96",
   "metadata": {},
   "outputs": [
    {
     "data": {
      "text/plain": [
       "0    2002/00\n",
       "1    2002/00\n",
       "2    2002/00\n",
       "3    2002/00\n",
       "4    2002/00\n",
       "dtype: object"
      ]
     },
     "execution_count": 38,
     "metadata": {},
     "output_type": "execute_result"
    }
   ],
   "source": [
    "s.dt.strftime(\"%Y/%M\")"
   ]
  },
  {
   "cell_type": "markdown",
   "id": "b9ea6735-3f2d-4915-a9ea-fa08eeb90bf9",
   "metadata": {},
   "source": [
    "<br></br>\n",
    "the **dt** accessor works for periods and timedelta dtypes."
   ]
  },
  {
   "cell_type": "code",
   "execution_count": 40,
   "id": "02b5ec8e-62cd-459a-a94e-3d7fd7ba8b6d",
   "metadata": {},
   "outputs": [
    {
     "data": {
      "text/plain": [
       "0    2002-01-01\n",
       "1    2002-01-02\n",
       "2    2002-01-03\n",
       "3    2002-01-04\n",
       "4    2002-01-05\n",
       "dtype: period[D]"
      ]
     },
     "execution_count": 40,
     "metadata": {},
     "output_type": "execute_result"
    }
   ],
   "source": [
    "s = pd.Series(pd.period_range(\"2002/01\", periods=5, freq=\"D\"))\n",
    "s"
   ]
  },
  {
   "cell_type": "code",
   "execution_count": 41,
   "id": "3dafbe0d-a0d3-4975-8d6b-e257757766b0",
   "metadata": {},
   "outputs": [
    {
     "data": {
      "text/plain": [
       "0    2002\n",
       "1    2002\n",
       "2    2002\n",
       "3    2002\n",
       "4    2002\n",
       "dtype: int64"
      ]
     },
     "execution_count": 41,
     "metadata": {},
     "output_type": "execute_result"
    }
   ],
   "source": [
    "s.dt.year"
   ]
  },
  {
   "cell_type": "markdown",
   "id": "eb72732b-ade0-4047-ac5e-1c0e085e5494",
   "metadata": {},
   "source": [
    "<br>"
   ]
  },
  {
   "cell_type": "code",
   "execution_count": 42,
   "id": "8e30311d-f381-45ff-933f-5455c7d00dfc",
   "metadata": {},
   "outputs": [
    {
     "data": {
      "text/plain": [
       "0   1 days 00:00:02\n",
       "1   1 days 00:00:03\n",
       "2   1 days 00:00:04\n",
       "3   1 days 00:00:05\n",
       "4   1 days 00:00:06\n",
       "dtype: timedelta64[ns]"
      ]
     },
     "execution_count": 42,
     "metadata": {},
     "output_type": "execute_result"
    }
   ],
   "source": [
    "s = pd.Series(pd.timedelta_range(\"1 day 00:00:02\", periods=5, freq=\"S\"))\n",
    "s"
   ]
  },
  {
   "cell_type": "code",
   "execution_count": 43,
   "id": "fcb4870d-08df-4660-88ce-65cf1c767929",
   "metadata": {},
   "outputs": [
    {
     "data": {
      "text/plain": [
       "0    2\n",
       "1    3\n",
       "2    4\n",
       "3    5\n",
       "4    6\n",
       "dtype: int64"
      ]
     },
     "execution_count": 43,
     "metadata": {},
     "output_type": "execute_result"
    }
   ],
   "source": [
    "s.dt.seconds"
   ]
  },
  {
   "cell_type": "code",
   "execution_count": 44,
   "id": "117f3fca-e98f-4270-8ee3-f6e6488985a5",
   "metadata": {},
   "outputs": [
    {
     "data": {
      "text/html": [
       "<div>\n",
       "<style scoped>\n",
       "    .dataframe tbody tr th:only-of-type {\n",
       "        vertical-align: middle;\n",
       "    }\n",
       "\n",
       "    .dataframe tbody tr th {\n",
       "        vertical-align: top;\n",
       "    }\n",
       "\n",
       "    .dataframe thead th {\n",
       "        text-align: right;\n",
       "    }\n",
       "</style>\n",
       "<table border=\"1\" class=\"dataframe\">\n",
       "  <thead>\n",
       "    <tr style=\"text-align: right;\">\n",
       "      <th></th>\n",
       "      <th>days</th>\n",
       "      <th>hours</th>\n",
       "      <th>minutes</th>\n",
       "      <th>seconds</th>\n",
       "      <th>milliseconds</th>\n",
       "      <th>microseconds</th>\n",
       "      <th>nanoseconds</th>\n",
       "    </tr>\n",
       "  </thead>\n",
       "  <tbody>\n",
       "    <tr>\n",
       "      <th>0</th>\n",
       "      <td>1</td>\n",
       "      <td>0</td>\n",
       "      <td>0</td>\n",
       "      <td>2</td>\n",
       "      <td>0</td>\n",
       "      <td>0</td>\n",
       "      <td>0</td>\n",
       "    </tr>\n",
       "    <tr>\n",
       "      <th>1</th>\n",
       "      <td>1</td>\n",
       "      <td>0</td>\n",
       "      <td>0</td>\n",
       "      <td>3</td>\n",
       "      <td>0</td>\n",
       "      <td>0</td>\n",
       "      <td>0</td>\n",
       "    </tr>\n",
       "    <tr>\n",
       "      <th>2</th>\n",
       "      <td>1</td>\n",
       "      <td>0</td>\n",
       "      <td>0</td>\n",
       "      <td>4</td>\n",
       "      <td>0</td>\n",
       "      <td>0</td>\n",
       "      <td>0</td>\n",
       "    </tr>\n",
       "    <tr>\n",
       "      <th>3</th>\n",
       "      <td>1</td>\n",
       "      <td>0</td>\n",
       "      <td>0</td>\n",
       "      <td>5</td>\n",
       "      <td>0</td>\n",
       "      <td>0</td>\n",
       "      <td>0</td>\n",
       "    </tr>\n",
       "    <tr>\n",
       "      <th>4</th>\n",
       "      <td>1</td>\n",
       "      <td>0</td>\n",
       "      <td>0</td>\n",
       "      <td>6</td>\n",
       "      <td>0</td>\n",
       "      <td>0</td>\n",
       "      <td>0</td>\n",
       "    </tr>\n",
       "  </tbody>\n",
       "</table>\n",
       "</div>"
      ],
      "text/plain": [
       "   days  hours  minutes  seconds  milliseconds  microseconds  nanoseconds\n",
       "0     1      0        0        2             0             0            0\n",
       "1     1      0        0        3             0             0            0\n",
       "2     1      0        0        4             0             0            0\n",
       "3     1      0        0        5             0             0            0\n",
       "4     1      0        0        6             0             0            0"
      ]
     },
     "execution_count": 44,
     "metadata": {},
     "output_type": "execute_result"
    }
   ],
   "source": [
    "s.dt.components"
   ]
  },
  {
   "cell_type": "markdown",
   "id": "c9ff00b7-08bb-40bf-937c-9f091396b985",
   "metadata": {},
   "source": [
    "<Br>"
   ]
  },
  {
   "cell_type": "markdown",
   "id": "0191e938-e5de-47f6-8247-69595d98f9e9",
   "metadata": {},
   "source": [
    "#### Conculusion\n",
    "you can access these operations and attributes by using the **dt** "
   ]
  },
  {
   "cell_type": "markdown",
   "id": "4966f97d-5e43-46fe-bddc-60e62e94c85d",
   "metadata": {},
   "source": [
    "<br> <Br>"
   ]
  },
  {
   "cell_type": "markdown",
   "id": "9bd7131c-af76-4e45-bd9a-b5be1e56ad15",
   "metadata": {},
   "source": [
    "### Vectorized string methods"
   ]
  },
  {
   "cell_type": "code",
   "execution_count": 65,
   "id": "ef970a8f-44ed-488a-947e-2c15f0eb8127",
   "metadata": {},
   "outputs": [
    {
     "data": {
      "text/plain": [
       "0              A\n",
       "1              B\n",
       "2           abcd\n",
       "3    hello world\n",
       "4           <NA>\n",
       "5        bazinga\n",
       "dtype: string"
      ]
     },
     "execution_count": 65,
     "metadata": {},
     "output_type": "execute_result"
    }
   ],
   "source": [
    "s = pd.Series(\n",
    "    [\"A\", \"B\", \"abcd\", \"hello world\", np.NaN, \"bazinga\"],\n",
    "    dtype='string'\n",
    ")\n",
    "s"
   ]
  },
  {
   "cell_type": "code",
   "execution_count": 66,
   "id": "a44737b7-7fa9-4190-a8b6-7f6cebdd2688",
   "metadata": {},
   "outputs": [
    {
     "data": {
      "text/plain": [
       "0    False\n",
       "1    False\n",
       "2    False\n",
       "3     True\n",
       "4     <NA>\n",
       "5    False\n",
       "dtype: boolean"
      ]
     },
     "execution_count": 66,
     "metadata": {},
     "output_type": "execute_result"
    }
   ],
   "source": [
    "s.str.contains(\"hello\")"
   ]
  },
  {
   "cell_type": "code",
   "execution_count": 67,
   "id": "6162b3b7-0d6b-4511-b0bc-6d366aeb9639",
   "metadata": {},
   "outputs": [
    {
     "data": {
      "text/plain": [
       "0              a\n",
       "1              b\n",
       "2           abcd\n",
       "3    hello world\n",
       "4           <NA>\n",
       "5        bazinga\n",
       "dtype: string"
      ]
     },
     "execution_count": 67,
     "metadata": {},
     "output_type": "execute_result"
    }
   ],
   "source": [
    "s.str.lower()"
   ]
  },
  {
   "cell_type": "code",
   "execution_count": 68,
   "id": "c007ed4b-2947-4d13-bc38-ccdc653aa12f",
   "metadata": {},
   "outputs": [
    {
     "data": {
      "text/plain": [
       "0       1\n",
       "1       1\n",
       "2       4\n",
       "3      11\n",
       "4    <NA>\n",
       "5       7\n",
       "dtype: Int64"
      ]
     },
     "execution_count": 68,
     "metadata": {},
     "output_type": "execute_result"
    }
   ],
   "source": [
    "s.str.len()"
   ]
  },
  {
   "cell_type": "code",
   "execution_count": 69,
   "id": "58029fdd-b9da-4902-a9b2-ae8825391d54",
   "metadata": {},
   "outputs": [
    {
     "data": {
      "text/plain": [
       "0               [A]\n",
       "1               [B]\n",
       "2            [abcd]\n",
       "3    [hello, world]\n",
       "4              <NA>\n",
       "5         [bazinga]\n",
       "dtype: object"
      ]
     },
     "execution_count": 69,
     "metadata": {},
     "output_type": "execute_result"
    }
   ],
   "source": [
    "s.str.split()"
   ]
  },
  {
   "cell_type": "code",
   "execution_count": 70,
   "id": "e1162e2b-c5f3-4319-b174-72e7fc25d052",
   "metadata": {},
   "outputs": [
    {
     "data": {
      "text/plain": [
       "0          A\n",
       "1          B\n",
       "2       abcd\n",
       "3      hello\n",
       "4       <NA>\n",
       "5    bazinga\n",
       "dtype: object"
      ]
     },
     "execution_count": 70,
     "metadata": {},
     "output_type": "execute_result"
    }
   ],
   "source": [
    "s.str.split().str.get(0)"
   ]
  },
  {
   "cell_type": "code",
   "execution_count": 71,
   "id": "6de4ef9f-4644-4f65-8c6d-329e117ed6af",
   "metadata": {},
   "outputs": [
    {
     "data": {
      "text/html": [
       "<div>\n",
       "<style scoped>\n",
       "    .dataframe tbody tr th:only-of-type {\n",
       "        vertical-align: middle;\n",
       "    }\n",
       "\n",
       "    .dataframe tbody tr th {\n",
       "        vertical-align: top;\n",
       "    }\n",
       "\n",
       "    .dataframe thead th {\n",
       "        text-align: right;\n",
       "    }\n",
       "</style>\n",
       "<table border=\"1\" class=\"dataframe\">\n",
       "  <thead>\n",
       "    <tr style=\"text-align: right;\">\n",
       "      <th></th>\n",
       "      <th>0</th>\n",
       "      <th>1</th>\n",
       "    </tr>\n",
       "  </thead>\n",
       "  <tbody>\n",
       "    <tr>\n",
       "      <th>0</th>\n",
       "      <td>A</td>\n",
       "      <td>&lt;NA&gt;</td>\n",
       "    </tr>\n",
       "    <tr>\n",
       "      <th>1</th>\n",
       "      <td>B</td>\n",
       "      <td>&lt;NA&gt;</td>\n",
       "    </tr>\n",
       "    <tr>\n",
       "      <th>2</th>\n",
       "      <td>abcd</td>\n",
       "      <td>&lt;NA&gt;</td>\n",
       "    </tr>\n",
       "    <tr>\n",
       "      <th>3</th>\n",
       "      <td>hello</td>\n",
       "      <td>world</td>\n",
       "    </tr>\n",
       "    <tr>\n",
       "      <th>4</th>\n",
       "      <td>&lt;NA&gt;</td>\n",
       "      <td>&lt;NA&gt;</td>\n",
       "    </tr>\n",
       "    <tr>\n",
       "      <th>5</th>\n",
       "      <td>bazinga</td>\n",
       "      <td>&lt;NA&gt;</td>\n",
       "    </tr>\n",
       "  </tbody>\n",
       "</table>\n",
       "</div>"
      ],
      "text/plain": [
       "         0      1\n",
       "0        A   <NA>\n",
       "1        B   <NA>\n",
       "2     abcd   <NA>\n",
       "3    hello  world\n",
       "4     <NA>   <NA>\n",
       "5  bazinga   <NA>"
      ]
     },
     "execution_count": 71,
     "metadata": {},
     "output_type": "execute_result"
    }
   ],
   "source": [
    "s.str.split(' ', expand=True)"
   ]
  },
  {
   "cell_type": "markdown",
   "id": "9e4d7662-1304-4724-afc5-43a3a4c158da",
   "metadata": {},
   "source": [
    "Powerful pattern-matching methods are provided as well, but note that pattern-matching uses **regular expressions** "
   ]
  }
 ],
 "metadata": {
  "kernelspec": {
   "display_name": "Python 3 (ipykernel)",
   "language": "python",
   "name": "python3"
  },
  "language_info": {
   "codemirror_mode": {
    "name": "ipython",
    "version": 3
   },
   "file_extension": ".py",
   "mimetype": "text/x-python",
   "name": "python",
   "nbconvert_exporter": "python",
   "pygments_lexer": "ipython3",
   "version": "3.9.12"
  }
 },
 "nbformat": 4,
 "nbformat_minor": 5
}
