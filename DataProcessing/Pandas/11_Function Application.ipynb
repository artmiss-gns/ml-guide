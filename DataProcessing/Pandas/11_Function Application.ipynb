{
 "cells": [
  {
   "cell_type": "code",
   "execution_count": 2,
   "id": "f60b9e9f-5af4-47ac-8dec-9affcf2fe3cd",
   "metadata": {},
   "outputs": [],
   "source": [
    "import numpy as np\n",
    "import pandas as pd"
   ]
  },
  {
   "cell_type": "markdown",
   "id": "0afe6311-0f43-4db0-9b8a-3e9ca1aed7f6",
   "metadata": {},
   "source": [
    "To apply your own or another library’s functions to pandas objects, you should be aware of the three methods below. The appropriate method to use depends on whether your function expects to operate on an **entire DataFrame or Series** , **row- or column-wise**, or **elementwise**.\n",
    "\n",
    "- Tablewise Function Application: **pipe()**\n",
    "- Row or Column-wise Function Application: **apply()**\n",
    "- Aggregation API: **agg()** and **transform()**\n",
    "- Applying Elementwise Functions: **applymap()**"
   ]
  },
  {
   "cell_type": "markdown",
   "id": "380050f8-c386-4d14-9bb0-6c2eebc135d2",
   "metadata": {},
   "source": [
    "### Tablewise function application\n"
   ]
  },
  {
   "cell_type": "markdown",
   "id": "5e55d730-27e8-4c5b-87de-aaef5930abed",
   "metadata": {},
   "source": [
    "some functions, takes the whole dataframe and apply some operations on them"
   ]
  },
  {
   "cell_type": "markdown",
   "id": "6067a824-ec58-4644-9557-46b268a78588",
   "metadata": {},
   "source": [
    " if the function needs to be called in a **chain**, consider using the **pipe()** method."
   ]
  },
  {
   "cell_type": "code",
   "execution_count": 63,
   "id": "f9717ebc-4a67-40a3-a611-b10a8c510613",
   "metadata": {},
   "outputs": [
    {
     "data": {
      "text/html": [
       "<div>\n",
       "<style scoped>\n",
       "    .dataframe tbody tr th:only-of-type {\n",
       "        vertical-align: middle;\n",
       "    }\n",
       "\n",
       "    .dataframe tbody tr th {\n",
       "        vertical-align: top;\n",
       "    }\n",
       "\n",
       "    .dataframe thead th {\n",
       "        text-align: right;\n",
       "    }\n",
       "</style>\n",
       "<table border=\"1\" class=\"dataframe\">\n",
       "  <thead>\n",
       "    <tr style=\"text-align: right;\">\n",
       "      <th></th>\n",
       "      <th>city_and_country</th>\n",
       "    </tr>\n",
       "  </thead>\n",
       "  <tbody>\n",
       "    <tr>\n",
       "      <th>0</th>\n",
       "      <td>Chicago, IL</td>\n",
       "    </tr>\n",
       "    <tr>\n",
       "      <th>1</th>\n",
       "      <td>NewYork, NYC</td>\n",
       "    </tr>\n",
       "  </tbody>\n",
       "</table>\n",
       "</div>"
      ],
      "text/plain": [
       "  city_and_country\n",
       "0      Chicago, IL\n",
       "1     NewYork, NYC"
      ]
     },
     "execution_count": 63,
     "metadata": {},
     "output_type": "execute_result"
    }
   ],
   "source": [
    "df = pd.DataFrame(\n",
    "    {\n",
    "        'city_and_country': [\"Chicago, IL\", \"NewYork, NYC\"]\n",
    "    }\n",
    ")\n",
    "df"
   ]
  },
  {
   "cell_type": "code",
   "execution_count": 57,
   "id": "ad15386f-dc2c-4835-ac51-de173cc50064",
   "metadata": {},
   "outputs": [],
   "source": [
    "def extract_city_name(df) :\n",
    "    df['city_name'] = df['city_and_country'].str.split(', ').str.get(0)\n",
    "    return df"
   ]
  },
  {
   "cell_type": "code",
   "execution_count": 58,
   "id": "6ff57196-68fe-4641-afb8-00e3f4ecd5ef",
   "metadata": {},
   "outputs": [],
   "source": [
    "def add_country_name(df, country_name) :\n",
    "    df['city_and_country'] = df['city_name'] + '-' + country_name\n",
    "    return df"
   ]
  },
  {
   "cell_type": "code",
   "execution_count": 59,
   "id": "7e7c25fd-5f49-44c1-8878-33b52975000c",
   "metadata": {},
   "outputs": [
    {
     "data": {
      "text/html": [
       "<div>\n",
       "<style scoped>\n",
       "    .dataframe tbody tr th:only-of-type {\n",
       "        vertical-align: middle;\n",
       "    }\n",
       "\n",
       "    .dataframe tbody tr th {\n",
       "        vertical-align: top;\n",
       "    }\n",
       "\n",
       "    .dataframe thead th {\n",
       "        text-align: right;\n",
       "    }\n",
       "</style>\n",
       "<table border=\"1\" class=\"dataframe\">\n",
       "  <thead>\n",
       "    <tr style=\"text-align: right;\">\n",
       "      <th></th>\n",
       "      <th>city_and_country</th>\n",
       "      <th>city_name</th>\n",
       "    </tr>\n",
       "  </thead>\n",
       "  <tbody>\n",
       "    <tr>\n",
       "      <th>0</th>\n",
       "      <td>Chicago-US</td>\n",
       "      <td>Chicago</td>\n",
       "    </tr>\n",
       "    <tr>\n",
       "      <th>1</th>\n",
       "      <td>NewYork-US</td>\n",
       "      <td>NewYork</td>\n",
       "    </tr>\n",
       "  </tbody>\n",
       "</table>\n",
       "</div>"
      ],
      "text/plain": [
       "  city_and_country city_name\n",
       "0       Chicago-US   Chicago\n",
       "1       NewYork-US   NewYork"
      ]
     },
     "execution_count": 59,
     "metadata": {},
     "output_type": "execute_result"
    }
   ],
   "source": [
    "add_country_name(extract_city_name(df), 'US')"
   ]
  },
  {
   "cell_type": "markdown",
   "id": "6333e687-d915-4ce5-a880-d877060958e0",
   "metadata": {},
   "source": [
    "instead of doing that, you can do this: "
   ]
  },
  {
   "cell_type": "code",
   "execution_count": 62,
   "id": "0d699235-4390-4b70-9ea2-86816b48d965",
   "metadata": {},
   "outputs": [
    {
     "data": {
      "text/html": [
       "<div>\n",
       "<style scoped>\n",
       "    .dataframe tbody tr th:only-of-type {\n",
       "        vertical-align: middle;\n",
       "    }\n",
       "\n",
       "    .dataframe tbody tr th {\n",
       "        vertical-align: top;\n",
       "    }\n",
       "\n",
       "    .dataframe thead th {\n",
       "        text-align: right;\n",
       "    }\n",
       "</style>\n",
       "<table border=\"1\" class=\"dataframe\">\n",
       "  <thead>\n",
       "    <tr style=\"text-align: right;\">\n",
       "      <th></th>\n",
       "      <th>city_and_country</th>\n",
       "      <th>city_name</th>\n",
       "    </tr>\n",
       "  </thead>\n",
       "  <tbody>\n",
       "    <tr>\n",
       "      <th>0</th>\n",
       "      <td>Chicago-US</td>\n",
       "      <td>Chicago</td>\n",
       "    </tr>\n",
       "    <tr>\n",
       "      <th>1</th>\n",
       "      <td>NewYork-US</td>\n",
       "      <td>NewYork</td>\n",
       "    </tr>\n",
       "  </tbody>\n",
       "</table>\n",
       "</div>"
      ],
      "text/plain": [
       "  city_and_country city_name\n",
       "0       Chicago-US   Chicago\n",
       "1       NewYork-US   NewYork"
      ]
     },
     "execution_count": 62,
     "metadata": {},
     "output_type": "execute_result"
    }
   ],
   "source": [
    "df.pipe(extract_city_name).pipe(add_country_name, country_name='US')"
   ]
  },
  {
   "cell_type": "markdown",
   "id": "82f96ab8-7970-48a8-a2fd-9cdd1edc831f",
   "metadata": {},
   "source": [
    "pay attention that your functions must return the 'df', and if they return nothing, it won't work!"
   ]
  },
  {
   "cell_type": "markdown",
   "id": "77511e39-4c2a-431c-9ed5-a68feeaf9e8b",
   "metadata": {},
   "source": [
    "### Row or column-wise function application\n"
   ]
  },
  {
   "cell_type": "code",
   "execution_count": 67,
   "id": "422c9f23-5ca6-4c0d-bb2f-1a656a5b9ccb",
   "metadata": {},
   "outputs": [
    {
     "data": {
      "text/html": [
       "<div>\n",
       "<style scoped>\n",
       "    .dataframe tbody tr th:only-of-type {\n",
       "        vertical-align: middle;\n",
       "    }\n",
       "\n",
       "    .dataframe tbody tr th {\n",
       "        vertical-align: top;\n",
       "    }\n",
       "\n",
       "    .dataframe thead th {\n",
       "        text-align: right;\n",
       "    }\n",
       "</style>\n",
       "<table border=\"1\" class=\"dataframe\">\n",
       "  <thead>\n",
       "    <tr style=\"text-align: right;\">\n",
       "      <th></th>\n",
       "      <th>one</th>\n",
       "      <th>two</th>\n",
       "      <th>three</th>\n",
       "    </tr>\n",
       "  </thead>\n",
       "  <tbody>\n",
       "    <tr>\n",
       "      <th>a</th>\n",
       "      <td>-0.527831</td>\n",
       "      <td>2.235041</td>\n",
       "      <td>NaN</td>\n",
       "    </tr>\n",
       "    <tr>\n",
       "      <th>b</th>\n",
       "      <td>-0.345712</td>\n",
       "      <td>-1.494081</td>\n",
       "      <td>1.001526</td>\n",
       "    </tr>\n",
       "    <tr>\n",
       "      <th>c</th>\n",
       "      <td>0.036244</td>\n",
       "      <td>1.852079</td>\n",
       "      <td>-0.796647</td>\n",
       "    </tr>\n",
       "    <tr>\n",
       "      <th>d</th>\n",
       "      <td>NaN</td>\n",
       "      <td>0.324931</td>\n",
       "      <td>-0.157571</td>\n",
       "    </tr>\n",
       "  </tbody>\n",
       "</table>\n",
       "</div>"
      ],
      "text/plain": [
       "        one       two     three\n",
       "a -0.527831  2.235041       NaN\n",
       "b -0.345712 -1.494081  1.001526\n",
       "c  0.036244  1.852079 -0.796647\n",
       "d       NaN  0.324931 -0.157571"
      ]
     },
     "execution_count": 67,
     "metadata": {},
     "output_type": "execute_result"
    }
   ],
   "source": [
    "df = pd.DataFrame(\n",
    "    {\n",
    "        \"one\": pd.Series(np.random.randn(3), index=[\"a\", \"b\", \"c\"]),\n",
    "        \"two\": pd.Series(np.random.randn(4), index=[\"a\", \"b\", \"c\", \"d\"]),\n",
    "        \"three\": pd.Series(np.random.randn(3), index=[\"b\", \"c\", \"d\"]),\n",
    "    }\n",
    ")\n",
    "df"
   ]
  },
  {
   "cell_type": "code",
   "execution_count": 69,
   "id": "27702426-98fb-46fa-b265-e53159695f3f",
   "metadata": {},
   "outputs": [
    {
     "data": {
      "text/plain": [
       "one     -0.279100\n",
       "two      0.729493\n",
       "three    0.015769\n",
       "dtype: float64"
      ]
     },
     "execution_count": 69,
     "metadata": {},
     "output_type": "execute_result"
    }
   ],
   "source": [
    "df.apply(np.mean)"
   ]
  },
  {
   "cell_type": "code",
   "execution_count": 71,
   "id": "da609546-ba56-4f15-8e55-254564ea66ea",
   "metadata": {},
   "outputs": [
    {
     "data": {
      "text/plain": [
       "a    0.853605\n",
       "b   -0.279423\n",
       "c    0.363892\n",
       "d    0.083680\n",
       "dtype: float64"
      ]
     },
     "execution_count": 71,
     "metadata": {},
     "output_type": "execute_result"
    }
   ],
   "source": [
    "df.apply(np.mean, axis=1)"
   ]
  },
  {
   "cell_type": "code",
   "execution_count": 72,
   "id": "b79fb473-83a5-4f31-8ba3-f59d6150204f",
   "metadata": {},
   "outputs": [
    {
     "data": {
      "text/plain": [
       "one     -0.279100\n",
       "two      0.729493\n",
       "three    0.015769\n",
       "dtype: float64"
      ]
     },
     "execution_count": 72,
     "metadata": {},
     "output_type": "execute_result"
    }
   ],
   "source": [
    "df.apply(\"mean\")"
   ]
  },
  {
   "cell_type": "markdown",
   "id": "eee7e91a-21fc-43b0-9c93-1c1184bc1176",
   "metadata": {},
   "source": [
    "The return type of the function passed to apply() affects the type of the final output from DataFrame.apply for the default behaviour:\n",
    "\n",
    "- If the applied function returns a Series, the final output is a DataFrame. The columns match the index of the Series returned by the applied function.\n",
    "- If the applied function returns any other type, the final output is a Series.\n",
    "\n",
    "This default behaviour can be overridden using the result_type, which accepts three options: **reduce**, **broadcast**, and **expand**. These will determine how list-likes return values expand (or not) to a DataFrame."
   ]
  },
  {
   "cell_type": "code",
   "execution_count": 3,
   "id": "57d77ebe-8329-48e6-bae1-79874a31d36f",
   "metadata": {},
   "outputs": [
    {
     "data": {
      "text/html": [
       "<div>\n",
       "<style scoped>\n",
       "    .dataframe tbody tr th:only-of-type {\n",
       "        vertical-align: middle;\n",
       "    }\n",
       "\n",
       "    .dataframe tbody tr th {\n",
       "        vertical-align: top;\n",
       "    }\n",
       "\n",
       "    .dataframe thead th {\n",
       "        text-align: right;\n",
       "    }\n",
       "</style>\n",
       "<table border=\"1\" class=\"dataframe\">\n",
       "  <thead>\n",
       "    <tr style=\"text-align: right;\">\n",
       "      <th></th>\n",
       "      <th>A</th>\n",
       "      <th>B</th>\n",
       "      <th>C</th>\n",
       "    </tr>\n",
       "  </thead>\n",
       "  <tbody>\n",
       "    <tr>\n",
       "      <th>2000-01-01</th>\n",
       "      <td>0.646363</td>\n",
       "      <td>-1.991371</td>\n",
       "      <td>-0.629919</td>\n",
       "    </tr>\n",
       "    <tr>\n",
       "      <th>2000-01-02</th>\n",
       "      <td>-0.982122</td>\n",
       "      <td>0.791272</td>\n",
       "      <td>0.870482</td>\n",
       "    </tr>\n",
       "    <tr>\n",
       "      <th>2000-01-03</th>\n",
       "      <td>-0.295142</td>\n",
       "      <td>-0.887436</td>\n",
       "      <td>1.589199</td>\n",
       "    </tr>\n",
       "    <tr>\n",
       "      <th>2000-01-04</th>\n",
       "      <td>-0.164457</td>\n",
       "      <td>-0.093939</td>\n",
       "      <td>-1.059803</td>\n",
       "    </tr>\n",
       "    <tr>\n",
       "      <th>2000-01-05</th>\n",
       "      <td>-1.683638</td>\n",
       "      <td>-1.351925</td>\n",
       "      <td>0.433507</td>\n",
       "    </tr>\n",
       "    <tr>\n",
       "      <th>...</th>\n",
       "      <td>...</td>\n",
       "      <td>...</td>\n",
       "      <td>...</td>\n",
       "    </tr>\n",
       "    <tr>\n",
       "      <th>2002-09-22</th>\n",
       "      <td>-0.405605</td>\n",
       "      <td>0.881207</td>\n",
       "      <td>-0.320403</td>\n",
       "    </tr>\n",
       "    <tr>\n",
       "      <th>2002-09-23</th>\n",
       "      <td>-1.010377</td>\n",
       "      <td>0.146564</td>\n",
       "      <td>-0.379882</td>\n",
       "    </tr>\n",
       "    <tr>\n",
       "      <th>2002-09-24</th>\n",
       "      <td>1.746125</td>\n",
       "      <td>-0.747612</td>\n",
       "      <td>-1.514185</td>\n",
       "    </tr>\n",
       "    <tr>\n",
       "      <th>2002-09-25</th>\n",
       "      <td>1.247031</td>\n",
       "      <td>0.566825</td>\n",
       "      <td>0.638369</td>\n",
       "    </tr>\n",
       "    <tr>\n",
       "      <th>2002-09-26</th>\n",
       "      <td>0.149618</td>\n",
       "      <td>0.168639</td>\n",
       "      <td>-0.111543</td>\n",
       "    </tr>\n",
       "  </tbody>\n",
       "</table>\n",
       "<p>1000 rows × 3 columns</p>\n",
       "</div>"
      ],
      "text/plain": [
       "                   A         B         C\n",
       "2000-01-01  0.646363 -1.991371 -0.629919\n",
       "2000-01-02 -0.982122  0.791272  0.870482\n",
       "2000-01-03 -0.295142 -0.887436  1.589199\n",
       "2000-01-04 -0.164457 -0.093939 -1.059803\n",
       "2000-01-05 -1.683638 -1.351925  0.433507\n",
       "...              ...       ...       ...\n",
       "2002-09-22 -0.405605  0.881207 -0.320403\n",
       "2002-09-23 -1.010377  0.146564 -0.379882\n",
       "2002-09-24  1.746125 -0.747612 -1.514185\n",
       "2002-09-25  1.247031  0.566825  0.638369\n",
       "2002-09-26  0.149618  0.168639 -0.111543\n",
       "\n",
       "[1000 rows x 3 columns]"
      ]
     },
     "execution_count": 3,
     "metadata": {},
     "output_type": "execute_result"
    }
   ],
   "source": [
    "tsdf = pd.DataFrame(\n",
    "    np.random.randn(1000, 3),\n",
    "    columns=[\"A\", \"B\", \"C\"],\n",
    "    index=pd.date_range(\"1/1/2000\", periods=1000),\n",
    ")\n",
    "tsdf"
   ]
  },
  {
   "cell_type": "code",
   "execution_count": 4,
   "id": "cafc7601-d2ec-43eb-bf5d-9778bc8e6825",
   "metadata": {},
   "outputs": [
    {
     "data": {
      "text/plain": [
       "A   2000-05-20\n",
       "B   2002-07-04\n",
       "C   2000-02-18\n",
       "dtype: datetime64[ns]"
      ]
     },
     "execution_count": 4,
     "metadata": {},
     "output_type": "execute_result"
    }
   ],
   "source": [
    "tsdf.apply(pd.Series.idxmax)"
   ]
  },
  {
   "cell_type": "markdown",
   "id": "11a1ca90-80d7-48e4-94b4-543a6d8dae78",
   "metadata": {},
   "source": [
    "___"
   ]
  },
  {
   "cell_type": "code",
   "execution_count": 86,
   "id": "c175406c-a305-44c1-b170-445e8986c3b7",
   "metadata": {},
   "outputs": [],
   "source": [
    "def substract_and_devide(x, sub, dev):\n",
    "    return (x - sub)/dev"
   ]
  },
  {
   "cell_type": "code",
   "execution_count": 94,
   "id": "7ef02e8c-f3dc-4a3b-ba37-da4025077a46",
   "metadata": {},
   "outputs": [
    {
     "data": {
      "text/plain": [
       "1.0"
      ]
     },
     "execution_count": 94,
     "metadata": {},
     "output_type": "execute_result"
    }
   ],
   "source": [
    "substract_and_devide(3, 2, 1)"
   ]
  },
  {
   "cell_type": "code",
   "execution_count": 96,
   "id": "8997d13a-ac80-4385-944d-5b7bd2a983cc",
   "metadata": {},
   "outputs": [
    {
     "data": {
      "text/html": [
       "<div>\n",
       "<style scoped>\n",
       "    .dataframe tbody tr th:only-of-type {\n",
       "        vertical-align: middle;\n",
       "    }\n",
       "\n",
       "    .dataframe tbody tr th {\n",
       "        vertical-align: top;\n",
       "    }\n",
       "\n",
       "    .dataframe thead th {\n",
       "        text-align: right;\n",
       "    }\n",
       "</style>\n",
       "<table border=\"1\" class=\"dataframe\">\n",
       "  <thead>\n",
       "    <tr style=\"text-align: right;\">\n",
       "      <th></th>\n",
       "      <th>A</th>\n",
       "      <th>B</th>\n",
       "      <th>C</th>\n",
       "    </tr>\n",
       "  </thead>\n",
       "  <tbody>\n",
       "    <tr>\n",
       "      <th>2000-01-01</th>\n",
       "      <td>-3.501748</td>\n",
       "      <td>-1.691045</td>\n",
       "      <td>-2.921484</td>\n",
       "    </tr>\n",
       "    <tr>\n",
       "      <th>2000-01-02</th>\n",
       "      <td>-2.278006</td>\n",
       "      <td>-0.947675</td>\n",
       "      <td>-1.403341</td>\n",
       "    </tr>\n",
       "    <tr>\n",
       "      <th>2000-01-03</th>\n",
       "      <td>-2.541073</td>\n",
       "      <td>-2.628935</td>\n",
       "      <td>-1.264815</td>\n",
       "    </tr>\n",
       "    <tr>\n",
       "      <th>2000-01-04</th>\n",
       "      <td>-1.827911</td>\n",
       "      <td>-0.947848</td>\n",
       "      <td>-2.415320</td>\n",
       "    </tr>\n",
       "    <tr>\n",
       "      <th>2000-01-05</th>\n",
       "      <td>-3.147390</td>\n",
       "      <td>-2.464809</td>\n",
       "      <td>-3.335453</td>\n",
       "    </tr>\n",
       "    <tr>\n",
       "      <th>...</th>\n",
       "      <td>...</td>\n",
       "      <td>...</td>\n",
       "      <td>...</td>\n",
       "    </tr>\n",
       "    <tr>\n",
       "      <th>2002-09-22</th>\n",
       "      <td>-2.529966</td>\n",
       "      <td>-1.904061</td>\n",
       "      <td>-2.012666</td>\n",
       "    </tr>\n",
       "    <tr>\n",
       "      <th>2002-09-23</th>\n",
       "      <td>-3.088455</td>\n",
       "      <td>-1.684880</td>\n",
       "      <td>-0.167563</td>\n",
       "    </tr>\n",
       "    <tr>\n",
       "      <th>2002-09-24</th>\n",
       "      <td>-1.320803</td>\n",
       "      <td>-2.646608</td>\n",
       "      <td>-1.591851</td>\n",
       "    </tr>\n",
       "    <tr>\n",
       "      <th>2002-09-25</th>\n",
       "      <td>-3.994000</td>\n",
       "      <td>-1.539966</td>\n",
       "      <td>-0.748881</td>\n",
       "    </tr>\n",
       "    <tr>\n",
       "      <th>2002-09-26</th>\n",
       "      <td>-2.645059</td>\n",
       "      <td>0.403340</td>\n",
       "      <td>-2.344205</td>\n",
       "    </tr>\n",
       "  </tbody>\n",
       "</table>\n",
       "<p>1000 rows × 3 columns</p>\n",
       "</div>"
      ],
      "text/plain": [
       "                   A         B         C\n",
       "2000-01-01 -3.501748 -1.691045 -2.921484\n",
       "2000-01-02 -2.278006 -0.947675 -1.403341\n",
       "2000-01-03 -2.541073 -2.628935 -1.264815\n",
       "2000-01-04 -1.827911 -0.947848 -2.415320\n",
       "2000-01-05 -3.147390 -2.464809 -3.335453\n",
       "...              ...       ...       ...\n",
       "2002-09-22 -2.529966 -1.904061 -2.012666\n",
       "2002-09-23 -3.088455 -1.684880 -0.167563\n",
       "2002-09-24 -1.320803 -2.646608 -1.591851\n",
       "2002-09-25 -3.994000 -1.539966 -0.748881\n",
       "2002-09-26 -2.645059  0.403340 -2.344205\n",
       "\n",
       "[1000 rows x 3 columns]"
      ]
     },
     "execution_count": 96,
     "metadata": {},
     "output_type": "execute_result"
    }
   ],
   "source": [
    "tsdf.apply(substract_and_devide, args=[2, 1]) # you can give the parameters of you function to apply"
   ]
  },
  {
   "cell_type": "code",
   "execution_count": 97,
   "id": "ecb712b6-8201-43fb-914b-942d6756c207",
   "metadata": {},
   "outputs": [
    {
     "data": {
      "text/html": [
       "<div>\n",
       "<style scoped>\n",
       "    .dataframe tbody tr th:only-of-type {\n",
       "        vertical-align: middle;\n",
       "    }\n",
       "\n",
       "    .dataframe tbody tr th {\n",
       "        vertical-align: top;\n",
       "    }\n",
       "\n",
       "    .dataframe thead th {\n",
       "        text-align: right;\n",
       "    }\n",
       "</style>\n",
       "<table border=\"1\" class=\"dataframe\">\n",
       "  <thead>\n",
       "    <tr style=\"text-align: right;\">\n",
       "      <th></th>\n",
       "      <th>A</th>\n",
       "      <th>B</th>\n",
       "      <th>C</th>\n",
       "    </tr>\n",
       "  </thead>\n",
       "  <tbody>\n",
       "    <tr>\n",
       "      <th>2000-01-01</th>\n",
       "      <td>-3.501748</td>\n",
       "      <td>-1.691045</td>\n",
       "      <td>-2.921484</td>\n",
       "    </tr>\n",
       "    <tr>\n",
       "      <th>2000-01-02</th>\n",
       "      <td>-2.278006</td>\n",
       "      <td>-0.947675</td>\n",
       "      <td>-1.403341</td>\n",
       "    </tr>\n",
       "    <tr>\n",
       "      <th>2000-01-03</th>\n",
       "      <td>-2.541073</td>\n",
       "      <td>-2.628935</td>\n",
       "      <td>-1.264815</td>\n",
       "    </tr>\n",
       "    <tr>\n",
       "      <th>2000-01-04</th>\n",
       "      <td>-1.827911</td>\n",
       "      <td>-0.947848</td>\n",
       "      <td>-2.415320</td>\n",
       "    </tr>\n",
       "    <tr>\n",
       "      <th>2000-01-05</th>\n",
       "      <td>-3.147390</td>\n",
       "      <td>-2.464809</td>\n",
       "      <td>-3.335453</td>\n",
       "    </tr>\n",
       "    <tr>\n",
       "      <th>...</th>\n",
       "      <td>...</td>\n",
       "      <td>...</td>\n",
       "      <td>...</td>\n",
       "    </tr>\n",
       "    <tr>\n",
       "      <th>2002-09-22</th>\n",
       "      <td>-2.529966</td>\n",
       "      <td>-1.904061</td>\n",
       "      <td>-2.012666</td>\n",
       "    </tr>\n",
       "    <tr>\n",
       "      <th>2002-09-23</th>\n",
       "      <td>-3.088455</td>\n",
       "      <td>-1.684880</td>\n",
       "      <td>-0.167563</td>\n",
       "    </tr>\n",
       "    <tr>\n",
       "      <th>2002-09-24</th>\n",
       "      <td>-1.320803</td>\n",
       "      <td>-2.646608</td>\n",
       "      <td>-1.591851</td>\n",
       "    </tr>\n",
       "    <tr>\n",
       "      <th>2002-09-25</th>\n",
       "      <td>-3.994000</td>\n",
       "      <td>-1.539966</td>\n",
       "      <td>-0.748881</td>\n",
       "    </tr>\n",
       "    <tr>\n",
       "      <th>2002-09-26</th>\n",
       "      <td>-2.645059</td>\n",
       "      <td>0.403340</td>\n",
       "      <td>-2.344205</td>\n",
       "    </tr>\n",
       "  </tbody>\n",
       "</table>\n",
       "<p>1000 rows × 3 columns</p>\n",
       "</div>"
      ],
      "text/plain": [
       "                   A         B         C\n",
       "2000-01-01 -3.501748 -1.691045 -2.921484\n",
       "2000-01-02 -2.278006 -0.947675 -1.403341\n",
       "2000-01-03 -2.541073 -2.628935 -1.264815\n",
       "2000-01-04 -1.827911 -0.947848 -2.415320\n",
       "2000-01-05 -3.147390 -2.464809 -3.335453\n",
       "...              ...       ...       ...\n",
       "2002-09-22 -2.529966 -1.904061 -2.012666\n",
       "2002-09-23 -3.088455 -1.684880 -0.167563\n",
       "2002-09-24 -1.320803 -2.646608 -1.591851\n",
       "2002-09-25 -3.994000 -1.539966 -0.748881\n",
       "2002-09-26 -2.645059  0.403340 -2.344205\n",
       "\n",
       "[1000 rows x 3 columns]"
      ]
     },
     "execution_count": 97,
     "metadata": {},
     "output_type": "execute_result"
    }
   ],
   "source": [
    "tsdf.apply(substract_and_devide, sub=2, dev=1) # you can also give it as keyword argument"
   ]
  },
  {
   "cell_type": "markdown",
   "id": "cd70ba37-0ba9-46c7-b48d-2d1ccfc83c8d",
   "metadata": {},
   "source": [
    "___"
   ]
  },
  {
   "cell_type": "markdown",
   "id": "2289a9bc-cccb-4fb8-890c-9397ee71aceb",
   "metadata": {},
   "source": [
    "Another useful feature is the ability to pass Series methods to carry out some Series operation on each column or row:\n",
    "\n"
   ]
  },
  {
   "cell_type": "code",
   "execution_count": 3,
   "id": "37a25ba5-9061-44a6-b191-8303d9ec3ca7",
   "metadata": {},
   "outputs": [
    {
     "data": {
      "text/plain": [
       "0    0.0\n",
       "1    2.0\n",
       "2    NaN\n",
       "3    8.0\n",
       "dtype: float64"
      ]
     },
     "execution_count": 3,
     "metadata": {},
     "output_type": "execute_result"
    }
   ],
   "source": [
    "s = pd.Series([0, 2, np.nan, 8])\n",
    "s"
   ]
  },
  {
   "cell_type": "code",
   "execution_count": 6,
   "id": "4e48cf6c-c6f2-4582-8665-95aa6407e2f8",
   "metadata": {},
   "outputs": [
    {
     "data": {
      "text/plain": [
       "0    0.000000\n",
       "1    2.000000\n",
       "2    4.666667\n",
       "3    8.000000\n",
       "dtype: float64"
      ]
     },
     "execution_count": 6,
     "metadata": {},
     "output_type": "execute_result"
    }
   ],
   "source": [
    "s.interpolate(method='polynomial', order=2)"
   ]
  },
  {
   "cell_type": "code",
   "execution_count": 105,
   "id": "b1b80a6a-7a8d-4b8a-8962-b58b3e708a4d",
   "metadata": {},
   "outputs": [
    {
     "data": {
      "text/html": [
       "<div>\n",
       "<style scoped>\n",
       "    .dataframe tbody tr th:only-of-type {\n",
       "        vertical-align: middle;\n",
       "    }\n",
       "\n",
       "    .dataframe tbody tr th {\n",
       "        vertical-align: top;\n",
       "    }\n",
       "\n",
       "    .dataframe thead th {\n",
       "        text-align: right;\n",
       "    }\n",
       "</style>\n",
       "<table border=\"1\" class=\"dataframe\">\n",
       "  <thead>\n",
       "    <tr style=\"text-align: right;\">\n",
       "      <th></th>\n",
       "      <th>A</th>\n",
       "      <th>B</th>\n",
       "      <th>C</th>\n",
       "    </tr>\n",
       "  </thead>\n",
       "  <tbody>\n",
       "    <tr>\n",
       "      <th>2000-01-01</th>\n",
       "      <td>-1.501748</td>\n",
       "      <td>0.308955</td>\n",
       "      <td>-0.921484</td>\n",
       "    </tr>\n",
       "    <tr>\n",
       "      <th>2000-01-02</th>\n",
       "      <td>NaN</td>\n",
       "      <td>NaN</td>\n",
       "      <td>NaN</td>\n",
       "    </tr>\n",
       "    <tr>\n",
       "      <th>2000-01-03</th>\n",
       "      <td>NaN</td>\n",
       "      <td>NaN</td>\n",
       "      <td>NaN</td>\n",
       "    </tr>\n",
       "    <tr>\n",
       "      <th>2000-01-04</th>\n",
       "      <td>0.172089</td>\n",
       "      <td>1.052152</td>\n",
       "      <td>-0.415320</td>\n",
       "    </tr>\n",
       "    <tr>\n",
       "      <th>2000-01-05</th>\n",
       "      <td>-1.147390</td>\n",
       "      <td>-0.464809</td>\n",
       "      <td>-1.335453</td>\n",
       "    </tr>\n",
       "  </tbody>\n",
       "</table>\n",
       "</div>"
      ],
      "text/plain": [
       "                   A         B         C\n",
       "2000-01-01 -1.501748  0.308955 -0.921484\n",
       "2000-01-02       NaN       NaN       NaN\n",
       "2000-01-03       NaN       NaN       NaN\n",
       "2000-01-04  0.172089  1.052152 -0.415320\n",
       "2000-01-05 -1.147390 -0.464809 -1.335453"
      ]
     },
     "execution_count": 105,
     "metadata": {},
     "output_type": "execute_result"
    }
   ],
   "source": [
    "# first let's make some NaN elements in the data frame\n",
    "tsdf.iloc[1:3, :] = np.NaN\n",
    "tsdf.head()"
   ]
  },
  {
   "cell_type": "code",
   "execution_count": 107,
   "id": "ef7ba473-d86d-451f-abd5-aaebb94b7374",
   "metadata": {},
   "outputs": [
    {
     "data": {
      "text/html": [
       "<div>\n",
       "<style scoped>\n",
       "    .dataframe tbody tr th:only-of-type {\n",
       "        vertical-align: middle;\n",
       "    }\n",
       "\n",
       "    .dataframe tbody tr th {\n",
       "        vertical-align: top;\n",
       "    }\n",
       "\n",
       "    .dataframe thead th {\n",
       "        text-align: right;\n",
       "    }\n",
       "</style>\n",
       "<table border=\"1\" class=\"dataframe\">\n",
       "  <thead>\n",
       "    <tr style=\"text-align: right;\">\n",
       "      <th></th>\n",
       "      <th>A</th>\n",
       "      <th>B</th>\n",
       "      <th>C</th>\n",
       "    </tr>\n",
       "  </thead>\n",
       "  <tbody>\n",
       "    <tr>\n",
       "      <th>2000-01-01</th>\n",
       "      <td>-1.501748</td>\n",
       "      <td>0.308955</td>\n",
       "      <td>-0.921484</td>\n",
       "    </tr>\n",
       "    <tr>\n",
       "      <th>2000-01-02</th>\n",
       "      <td>-0.005091</td>\n",
       "      <td>1.439033</td>\n",
       "      <td>-0.208336</td>\n",
       "    </tr>\n",
       "    <tr>\n",
       "      <th>2000-01-03</th>\n",
       "      <td>0.552855</td>\n",
       "      <td>1.686766</td>\n",
       "      <td>-0.039614</td>\n",
       "    </tr>\n",
       "    <tr>\n",
       "      <th>2000-01-04</th>\n",
       "      <td>0.172089</td>\n",
       "      <td>1.052152</td>\n",
       "      <td>-0.415320</td>\n",
       "    </tr>\n",
       "    <tr>\n",
       "      <th>2000-01-05</th>\n",
       "      <td>-1.147390</td>\n",
       "      <td>-0.464809</td>\n",
       "      <td>-1.335453</td>\n",
       "    </tr>\n",
       "  </tbody>\n",
       "</table>\n",
       "</div>"
      ],
      "text/plain": [
       "                   A         B         C\n",
       "2000-01-01 -1.501748  0.308955 -0.921484\n",
       "2000-01-02 -0.005091  1.439033 -0.208336\n",
       "2000-01-03  0.552855  1.686766 -0.039614\n",
       "2000-01-04  0.172089  1.052152 -0.415320\n",
       "2000-01-05 -1.147390 -0.464809 -1.335453"
      ]
     },
     "execution_count": 107,
     "metadata": {},
     "output_type": "execute_result"
    }
   ],
   "source": [
    "# now, for handling these NaN elements, by using interpolate:\n",
    "tsdf.head().apply(pd.Series.interpolate, method='polynomial', order=2)"
   ]
  },
  {
   "cell_type": "markdown",
   "id": "20ec4b15-163b-4170-b7d4-c0e5db33635e",
   "metadata": {},
   "source": [
    "___\n",
    "Finally, apply() takes an argument **raw** which is False by default, which converts each row or column into a Series before applying the function. When set to True, the passed function will instead receive an ndarray object, which has **positive performance implications** if you do not need the indexing functionality."
   ]
  },
  {
   "cell_type": "markdown",
   "id": "889d0959-5a1b-49e6-92a1-03e28b458c83",
   "metadata": {},
   "source": [
    "for example if you know that the row is in form of numpy adarray and you know that some numpy function<br>\n",
    "will be faster on it, you can set raw=True"
   ]
  },
  {
   "cell_type": "markdown",
   "id": "61e6b357-c346-410f-8452-be5b95774158",
   "metadata": {},
   "source": [
    "### Aggregation API\n"
   ]
  },
  {
   "cell_type": "code",
   "execution_count": 8,
   "id": "43b6401b-2378-4fc2-8016-755971272e81",
   "metadata": {},
   "outputs": [],
   "source": [
    "tsdf = pd.DataFrame(\n",
    "    np.random.randn(10, 3),\n",
    "    columns=[\"A\", \"B\", \"C\"],\n",
    "    index=pd.date_range(\"1/1/2000\", periods=10),\n",
    ")"
   ]
  },
  {
   "cell_type": "code",
   "execution_count": 9,
   "id": "bd0b144d-a9ca-41f2-b2d7-1d9405f40b0a",
   "metadata": {},
   "outputs": [
    {
     "data": {
      "text/html": [
       "<div>\n",
       "<style scoped>\n",
       "    .dataframe tbody tr th:only-of-type {\n",
       "        vertical-align: middle;\n",
       "    }\n",
       "\n",
       "    .dataframe tbody tr th {\n",
       "        vertical-align: top;\n",
       "    }\n",
       "\n",
       "    .dataframe thead th {\n",
       "        text-align: right;\n",
       "    }\n",
       "</style>\n",
       "<table border=\"1\" class=\"dataframe\">\n",
       "  <thead>\n",
       "    <tr style=\"text-align: right;\">\n",
       "      <th></th>\n",
       "      <th>A</th>\n",
       "      <th>B</th>\n",
       "      <th>C</th>\n",
       "    </tr>\n",
       "  </thead>\n",
       "  <tbody>\n",
       "    <tr>\n",
       "      <th>2000-01-01</th>\n",
       "      <td>1.337564</td>\n",
       "      <td>1.430222</td>\n",
       "      <td>-1.347326</td>\n",
       "    </tr>\n",
       "    <tr>\n",
       "      <th>2000-01-02</th>\n",
       "      <td>0.059352</td>\n",
       "      <td>1.598077</td>\n",
       "      <td>1.998490</td>\n",
       "    </tr>\n",
       "    <tr>\n",
       "      <th>2000-01-03</th>\n",
       "      <td>-0.629846</td>\n",
       "      <td>-0.289471</td>\n",
       "      <td>-0.142053</td>\n",
       "    </tr>\n",
       "    <tr>\n",
       "      <th>2000-01-04</th>\n",
       "      <td>NaN</td>\n",
       "      <td>NaN</td>\n",
       "      <td>NaN</td>\n",
       "    </tr>\n",
       "    <tr>\n",
       "      <th>2000-01-05</th>\n",
       "      <td>NaN</td>\n",
       "      <td>NaN</td>\n",
       "      <td>NaN</td>\n",
       "    </tr>\n",
       "    <tr>\n",
       "      <th>2000-01-06</th>\n",
       "      <td>NaN</td>\n",
       "      <td>NaN</td>\n",
       "      <td>NaN</td>\n",
       "    </tr>\n",
       "    <tr>\n",
       "      <th>2000-01-07</th>\n",
       "      <td>NaN</td>\n",
       "      <td>NaN</td>\n",
       "      <td>NaN</td>\n",
       "    </tr>\n",
       "    <tr>\n",
       "      <th>2000-01-08</th>\n",
       "      <td>1.158912</td>\n",
       "      <td>-1.003115</td>\n",
       "      <td>-1.638364</td>\n",
       "    </tr>\n",
       "    <tr>\n",
       "      <th>2000-01-09</th>\n",
       "      <td>-0.298271</td>\n",
       "      <td>2.322714</td>\n",
       "      <td>0.315841</td>\n",
       "    </tr>\n",
       "    <tr>\n",
       "      <th>2000-01-10</th>\n",
       "      <td>-0.060760</td>\n",
       "      <td>0.149427</td>\n",
       "      <td>0.548375</td>\n",
       "    </tr>\n",
       "  </tbody>\n",
       "</table>\n",
       "</div>"
      ],
      "text/plain": [
       "                   A         B         C\n",
       "2000-01-01  1.337564  1.430222 -1.347326\n",
       "2000-01-02  0.059352  1.598077  1.998490\n",
       "2000-01-03 -0.629846 -0.289471 -0.142053\n",
       "2000-01-04       NaN       NaN       NaN\n",
       "2000-01-05       NaN       NaN       NaN\n",
       "2000-01-06       NaN       NaN       NaN\n",
       "2000-01-07       NaN       NaN       NaN\n",
       "2000-01-08  1.158912 -1.003115 -1.638364\n",
       "2000-01-09 -0.298271  2.322714  0.315841\n",
       "2000-01-10 -0.060760  0.149427  0.548375"
      ]
     },
     "execution_count": 9,
     "metadata": {},
     "output_type": "execute_result"
    }
   ],
   "source": [
    "tsdf.iloc[3:7] = np.nan\n",
    "tsdf"
   ]
  },
  {
   "cell_type": "markdown",
   "id": "bff62dad-8eef-436c-a523-8a08df1b7cac",
   "metadata": {},
   "source": [
    "Using a single function is equivalent to apply(). You can also pass named methods as strings. These will return a Series of the aggregated output:\n",
    "\n"
   ]
  },
  {
   "cell_type": "code",
   "execution_count": 10,
   "id": "2aefd0fc-4a40-4f6e-a0e7-34f89e82d9ed",
   "metadata": {},
   "outputs": [
    {
     "data": {
      "text/plain": [
       "A    1.566951\n",
       "B    4.207854\n",
       "C   -0.265037\n",
       "dtype: float64"
      ]
     },
     "execution_count": 10,
     "metadata": {},
     "output_type": "execute_result"
    }
   ],
   "source": [
    "tsdf.agg(np.sum)\n",
    "# you can also use aggregate() instead of agg()     they both do the same thing"
   ]
  },
  {
   "cell_type": "code",
   "execution_count": 11,
   "id": "f678f990-fb5f-4c95-b288-3fe8c17c5ef6",
   "metadata": {},
   "outputs": [
    {
     "data": {
      "text/plain": [
       "A    1.566951\n",
       "B    4.207854\n",
       "C   -0.265037\n",
       "dtype: float64"
      ]
     },
     "execution_count": 11,
     "metadata": {},
     "output_type": "execute_result"
    }
   ],
   "source": [
    "tsdf.sum()"
   ]
  },
  {
   "cell_type": "code",
   "execution_count": 113,
   "id": "078c1535-6578-4b7f-b72d-1cd40e931aad",
   "metadata": {},
   "outputs": [
    {
     "data": {
      "text/plain": [
       "0.3349363905386644"
      ]
     },
     "execution_count": 113,
     "metadata": {},
     "output_type": "execute_result"
    }
   ],
   "source": [
    "tsdf['A'].agg(np.sum)"
   ]
  },
  {
   "cell_type": "markdown",
   "id": "05763c05-3bfe-4904-9705-8526cf6eddb1",
   "metadata": {},
   "source": [
    "### Aggregating with multiple functions"
   ]
  },
  {
   "cell_type": "code",
   "execution_count": 114,
   "id": "fb4d601b-7d69-4ae5-ae77-5a11253ca1b8",
   "metadata": {},
   "outputs": [
    {
     "data": {
      "text/html": [
       "<div>\n",
       "<style scoped>\n",
       "    .dataframe tbody tr th:only-of-type {\n",
       "        vertical-align: middle;\n",
       "    }\n",
       "\n",
       "    .dataframe tbody tr th {\n",
       "        vertical-align: top;\n",
       "    }\n",
       "\n",
       "    .dataframe thead th {\n",
       "        text-align: right;\n",
       "    }\n",
       "</style>\n",
       "<table border=\"1\" class=\"dataframe\">\n",
       "  <thead>\n",
       "    <tr style=\"text-align: right;\">\n",
       "      <th></th>\n",
       "      <th>A</th>\n",
       "      <th>B</th>\n",
       "      <th>C</th>\n",
       "    </tr>\n",
       "  </thead>\n",
       "  <tbody>\n",
       "    <tr>\n",
       "      <th>sum</th>\n",
       "      <td>0.334936</td>\n",
       "      <td>-1.019666</td>\n",
       "      <td>-1.752516</td>\n",
       "    </tr>\n",
       "    <tr>\n",
       "      <th>mean</th>\n",
       "      <td>0.055823</td>\n",
       "      <td>-0.169944</td>\n",
       "      <td>-0.292086</td>\n",
       "    </tr>\n",
       "  </tbody>\n",
       "</table>\n",
       "</div>"
      ],
      "text/plain": [
       "             A         B         C\n",
       "sum   0.334936 -1.019666 -1.752516\n",
       "mean  0.055823 -0.169944 -0.292086"
      ]
     },
     "execution_count": 114,
     "metadata": {},
     "output_type": "execute_result"
    }
   ],
   "source": [
    "tsdf.agg(\n",
    "    [np.sum, np.mean]\n",
    ")"
   ]
  },
  {
   "cell_type": "markdown",
   "id": "8c8849b0-9f18-43ba-bbef-63a762102f7f",
   "metadata": {},
   "source": [
    "### Aggregating with a dict\n"
   ]
  },
  {
   "cell_type": "code",
   "execution_count": 121,
   "id": "de542181-1c90-4598-a944-84abf91155a7",
   "metadata": {},
   "outputs": [
    {
     "data": {
      "text/html": [
       "<div>\n",
       "<style scoped>\n",
       "    .dataframe tbody tr th:only-of-type {\n",
       "        vertical-align: middle;\n",
       "    }\n",
       "\n",
       "    .dataframe tbody tr th {\n",
       "        vertical-align: top;\n",
       "    }\n",
       "\n",
       "    .dataframe thead th {\n",
       "        text-align: right;\n",
       "    }\n",
       "</style>\n",
       "<table border=\"1\" class=\"dataframe\">\n",
       "  <thead>\n",
       "    <tr style=\"text-align: right;\">\n",
       "      <th></th>\n",
       "      <th>A</th>\n",
       "      <th>B</th>\n",
       "    </tr>\n",
       "  </thead>\n",
       "  <tbody>\n",
       "    <tr>\n",
       "      <th>mean</th>\n",
       "      <td>0.055823</td>\n",
       "      <td>-0.169944</td>\n",
       "    </tr>\n",
       "    <tr>\n",
       "      <th>sum</th>\n",
       "      <td>NaN</td>\n",
       "      <td>-1.019666</td>\n",
       "    </tr>\n",
       "  </tbody>\n",
       "</table>\n",
       "</div>"
      ],
      "text/plain": [
       "             A         B\n",
       "mean  0.055823 -0.169944\n",
       "sum        NaN -1.019666"
      ]
     },
     "execution_count": 121,
     "metadata": {},
     "output_type": "execute_result"
    }
   ],
   "source": [
    "tsdf.agg(\n",
    "    {'A': [np.mean],\n",
    "     'B': [np.mean, np.sum],\n",
    "    }\n",
    ")"
   ]
  },
  {
   "cell_type": "markdown",
   "id": "04bed960-234c-4bc8-9464-50b969b4bf3a",
   "metadata": {},
   "source": [
    "!!! if you use a function that is not aggregatable( is that even a word!?? ) like np.exp,\n",
    "you will recive a wired output !!! <br>\n",
    "or lambda function like lambda x: x*2<br>\n",
    "because this functions are not aggregatable like np.mean or np.sum"
   ]
  },
  {
   "cell_type": "markdown",
   "id": "aabff286-d153-4633-8765-5e359698021e",
   "metadata": {},
   "source": [
    "### Mixed dtypes"
   ]
  },
  {
   "cell_type": "code",
   "execution_count": 122,
   "id": "8e9ae0fc-be7c-4579-adb0-2172e117c5d5",
   "metadata": {},
   "outputs": [
    {
     "data": {
      "text/html": [
       "<div>\n",
       "<style scoped>\n",
       "    .dataframe tbody tr th:only-of-type {\n",
       "        vertical-align: middle;\n",
       "    }\n",
       "\n",
       "    .dataframe tbody tr th {\n",
       "        vertical-align: top;\n",
       "    }\n",
       "\n",
       "    .dataframe thead th {\n",
       "        text-align: right;\n",
       "    }\n",
       "</style>\n",
       "<table border=\"1\" class=\"dataframe\">\n",
       "  <thead>\n",
       "    <tr style=\"text-align: right;\">\n",
       "      <th></th>\n",
       "      <th>A</th>\n",
       "      <th>B</th>\n",
       "      <th>C</th>\n",
       "      <th>D</th>\n",
       "    </tr>\n",
       "  </thead>\n",
       "  <tbody>\n",
       "    <tr>\n",
       "      <th>0</th>\n",
       "      <td>1</td>\n",
       "      <td>1.0</td>\n",
       "      <td>foo</td>\n",
       "      <td>2013-01-01</td>\n",
       "    </tr>\n",
       "    <tr>\n",
       "      <th>1</th>\n",
       "      <td>2</td>\n",
       "      <td>2.0</td>\n",
       "      <td>bar</td>\n",
       "      <td>2013-01-02</td>\n",
       "    </tr>\n",
       "    <tr>\n",
       "      <th>2</th>\n",
       "      <td>3</td>\n",
       "      <td>3.0</td>\n",
       "      <td>baz</td>\n",
       "      <td>2013-01-03</td>\n",
       "    </tr>\n",
       "  </tbody>\n",
       "</table>\n",
       "</div>"
      ],
      "text/plain": [
       "   A    B    C          D\n",
       "0  1  1.0  foo 2013-01-01\n",
       "1  2  2.0  bar 2013-01-02\n",
       "2  3  3.0  baz 2013-01-03"
      ]
     },
     "execution_count": 122,
     "metadata": {},
     "output_type": "execute_result"
    }
   ],
   "source": [
    "mdf = pd.DataFrame(\n",
    "    {\n",
    "        \"A\": [1, 2, 3],\n",
    "        \"B\": [1.0, 2.0, 3.0],\n",
    "        \"C\": [\"foo\", \"bar\", \"baz\"],\n",
    "        \"D\": pd.date_range(\"20130101\", periods=3),\n",
    "    }\n",
    ")\n",
    "mdf"
   ]
  },
  {
   "cell_type": "code",
   "execution_count": 123,
   "id": "d0366f8f-d00a-45f0-8f68-aea1e255d390",
   "metadata": {},
   "outputs": [
    {
     "name": "stderr",
     "output_type": "stream",
     "text": [
      "/var/folders/ft/r3rwscxj6bxgq3r7vv3pf6340000gn/T/ipykernel_19294/1810792342.py:1: FutureWarning: ['D'] did not aggregate successfully. If any error is raised this will raise in a future version of pandas. Drop these columns/ops to avoid this warning.\n",
      "  mdf.agg(['min', 'sum'])\n"
     ]
    },
    {
     "data": {
      "text/html": [
       "<div>\n",
       "<style scoped>\n",
       "    .dataframe tbody tr th:only-of-type {\n",
       "        vertical-align: middle;\n",
       "    }\n",
       "\n",
       "    .dataframe tbody tr th {\n",
       "        vertical-align: top;\n",
       "    }\n",
       "\n",
       "    .dataframe thead th {\n",
       "        text-align: right;\n",
       "    }\n",
       "</style>\n",
       "<table border=\"1\" class=\"dataframe\">\n",
       "  <thead>\n",
       "    <tr style=\"text-align: right;\">\n",
       "      <th></th>\n",
       "      <th>A</th>\n",
       "      <th>B</th>\n",
       "      <th>C</th>\n",
       "      <th>D</th>\n",
       "    </tr>\n",
       "  </thead>\n",
       "  <tbody>\n",
       "    <tr>\n",
       "      <th>min</th>\n",
       "      <td>1</td>\n",
       "      <td>1.0</td>\n",
       "      <td>bar</td>\n",
       "      <td>2013-01-01</td>\n",
       "    </tr>\n",
       "    <tr>\n",
       "      <th>sum</th>\n",
       "      <td>6</td>\n",
       "      <td>6.0</td>\n",
       "      <td>foobarbaz</td>\n",
       "      <td>NaT</td>\n",
       "    </tr>\n",
       "  </tbody>\n",
       "</table>\n",
       "</div>"
      ],
      "text/plain": [
       "     A    B          C          D\n",
       "min  1  1.0        bar 2013-01-01\n",
       "sum  6  6.0  foobarbaz        NaT"
      ]
     },
     "execution_count": 123,
     "metadata": {},
     "output_type": "execute_result"
    }
   ],
   "source": [
    "mdf.agg(['min', 'sum'])"
   ]
  },
  {
   "cell_type": "code",
   "execution_count": 125,
   "id": "a439a670-46eb-4576-86ac-f2f34d77812b",
   "metadata": {},
   "outputs": [
    {
     "data": {
      "text/html": [
       "<div>\n",
       "<style scoped>\n",
       "    .dataframe tbody tr th:only-of-type {\n",
       "        vertical-align: middle;\n",
       "    }\n",
       "\n",
       "    .dataframe tbody tr th {\n",
       "        vertical-align: top;\n",
       "    }\n",
       "\n",
       "    .dataframe thead th {\n",
       "        text-align: right;\n",
       "    }\n",
       "</style>\n",
       "<table border=\"1\" class=\"dataframe\">\n",
       "  <thead>\n",
       "    <tr style=\"text-align: right;\">\n",
       "      <th></th>\n",
       "      <th>A</th>\n",
       "      <th>B</th>\n",
       "      <th>C</th>\n",
       "    </tr>\n",
       "  </thead>\n",
       "  <tbody>\n",
       "    <tr>\n",
       "      <th>min</th>\n",
       "      <td>1</td>\n",
       "      <td>1.0</td>\n",
       "      <td>bar</td>\n",
       "    </tr>\n",
       "    <tr>\n",
       "      <th>sum</th>\n",
       "      <td>6</td>\n",
       "      <td>6.0</td>\n",
       "      <td>foobarbaz</td>\n",
       "    </tr>\n",
       "  </tbody>\n",
       "</table>\n",
       "</div>"
      ],
      "text/plain": [
       "     A    B          C\n",
       "min  1  1.0        bar\n",
       "sum  6  6.0  foobarbaz"
      ]
     },
     "execution_count": 125,
     "metadata": {},
     "output_type": "execute_result"
    }
   ],
   "source": [
    "mdf.drop('D', axis=1).agg(['min', 'sum'])"
   ]
  },
  {
   "cell_type": "markdown",
   "id": "dcfb8dad-55c4-471e-b334-4b4d0364f5c4",
   "metadata": {},
   "source": [
    "### Custom describe\n"
   ]
  },
  {
   "cell_type": "code",
   "execution_count": 133,
   "id": "3fc776b0-c445-4cb9-8eba-825d19a5b445",
   "metadata": {},
   "outputs": [],
   "source": [
    "from functools import partial\n",
    "q_25 = partial(pd.Series.quantile, q=0.25)\n",
    "q_25.__name__ = \"25%\"\n",
    "q_75 = partial(pd.Series.quantile, q=0.75)\n",
    "q_75.__name__ = \"75%\""
   ]
  },
  {
   "cell_type": "code",
   "execution_count": 134,
   "id": "aa5ca755-8bed-4f1d-94b5-d578ce265705",
   "metadata": {},
   "outputs": [
    {
     "data": {
      "text/html": [
       "<div>\n",
       "<style scoped>\n",
       "    .dataframe tbody tr th:only-of-type {\n",
       "        vertical-align: middle;\n",
       "    }\n",
       "\n",
       "    .dataframe tbody tr th {\n",
       "        vertical-align: top;\n",
       "    }\n",
       "\n",
       "    .dataframe thead th {\n",
       "        text-align: right;\n",
       "    }\n",
       "</style>\n",
       "<table border=\"1\" class=\"dataframe\">\n",
       "  <thead>\n",
       "    <tr style=\"text-align: right;\">\n",
       "      <th></th>\n",
       "      <th>A</th>\n",
       "      <th>B</th>\n",
       "      <th>C</th>\n",
       "    </tr>\n",
       "  </thead>\n",
       "  <tbody>\n",
       "    <tr>\n",
       "      <th>count</th>\n",
       "      <td>6.000000</td>\n",
       "      <td>6.000000</td>\n",
       "      <td>6.000000</td>\n",
       "    </tr>\n",
       "    <tr>\n",
       "      <th>mean</th>\n",
       "      <td>0.055823</td>\n",
       "      <td>-0.169944</td>\n",
       "      <td>-0.292086</td>\n",
       "    </tr>\n",
       "    <tr>\n",
       "      <th>std</th>\n",
       "      <td>1.615580</td>\n",
       "      <td>0.661301</td>\n",
       "      <td>0.660579</td>\n",
       "    </tr>\n",
       "    <tr>\n",
       "      <th>min</th>\n",
       "      <td>-1.514748</td>\n",
       "      <td>-0.894342</td>\n",
       "      <td>-1.261432</td>\n",
       "    </tr>\n",
       "    <tr>\n",
       "      <th>25%</th>\n",
       "      <td>-1.210628</td>\n",
       "      <td>-0.562196</td>\n",
       "      <td>-0.601348</td>\n",
       "    </tr>\n",
       "    <tr>\n",
       "      <th>50%</th>\n",
       "      <td>-0.124855</td>\n",
       "      <td>-0.372484</td>\n",
       "      <td>-0.365027</td>\n",
       "    </tr>\n",
       "    <tr>\n",
       "      <th>75%</th>\n",
       "      <td>0.650618</td>\n",
       "      <td>0.160902</td>\n",
       "      <td>0.203897</td>\n",
       "    </tr>\n",
       "    <tr>\n",
       "      <th>max</th>\n",
       "      <td>2.762838</td>\n",
       "      <td>0.906380</td>\n",
       "      <td>0.525552</td>\n",
       "    </tr>\n",
       "  </tbody>\n",
       "</table>\n",
       "</div>"
      ],
      "text/plain": [
       "              A         B         C\n",
       "count  6.000000  6.000000  6.000000\n",
       "mean   0.055823 -0.169944 -0.292086\n",
       "std    1.615580  0.661301  0.660579\n",
       "min   -1.514748 -0.894342 -1.261432\n",
       "25%   -1.210628 -0.562196 -0.601348\n",
       "50%   -0.124855 -0.372484 -0.365027\n",
       "75%    0.650618  0.160902  0.203897\n",
       "max    2.762838  0.906380  0.525552"
      ]
     },
     "execution_count": 134,
     "metadata": {},
     "output_type": "execute_result"
    }
   ],
   "source": [
    "tsdf.describe()"
   ]
  },
  {
   "cell_type": "code",
   "execution_count": 139,
   "id": "d78a1b6f-b285-4b97-b2cd-95cff589c702",
   "metadata": {},
   "outputs": [
    {
     "data": {
      "text/html": [
       "<div>\n",
       "<style scoped>\n",
       "    .dataframe tbody tr th:only-of-type {\n",
       "        vertical-align: middle;\n",
       "    }\n",
       "\n",
       "    .dataframe tbody tr th {\n",
       "        vertical-align: top;\n",
       "    }\n",
       "\n",
       "    .dataframe thead th {\n",
       "        text-align: right;\n",
       "    }\n",
       "</style>\n",
       "<table border=\"1\" class=\"dataframe\">\n",
       "  <thead>\n",
       "    <tr style=\"text-align: right;\">\n",
       "      <th></th>\n",
       "      <th>A</th>\n",
       "      <th>B</th>\n",
       "      <th>C</th>\n",
       "    </tr>\n",
       "  </thead>\n",
       "  <tbody>\n",
       "    <tr>\n",
       "      <th>count</th>\n",
       "      <td>6.000000</td>\n",
       "      <td>6.000000</td>\n",
       "      <td>6.000000</td>\n",
       "    </tr>\n",
       "    <tr>\n",
       "      <th>mean</th>\n",
       "      <td>0.055823</td>\n",
       "      <td>-0.169944</td>\n",
       "      <td>-0.292086</td>\n",
       "    </tr>\n",
       "    <tr>\n",
       "      <th>std</th>\n",
       "      <td>1.615580</td>\n",
       "      <td>0.661301</td>\n",
       "      <td>0.660579</td>\n",
       "    </tr>\n",
       "    <tr>\n",
       "      <th>min</th>\n",
       "      <td>-1.514748</td>\n",
       "      <td>-0.894342</td>\n",
       "      <td>-1.261432</td>\n",
       "    </tr>\n",
       "    <tr>\n",
       "      <th>25%</th>\n",
       "      <td>-1.210628</td>\n",
       "      <td>-0.562196</td>\n",
       "      <td>-0.601348</td>\n",
       "    </tr>\n",
       "    <tr>\n",
       "      <th>median</th>\n",
       "      <td>-0.124855</td>\n",
       "      <td>-0.372484</td>\n",
       "      <td>-0.365027</td>\n",
       "    </tr>\n",
       "    <tr>\n",
       "      <th>75%</th>\n",
       "      <td>0.650618</td>\n",
       "      <td>0.160902</td>\n",
       "      <td>0.203897</td>\n",
       "    </tr>\n",
       "    <tr>\n",
       "      <th>max</th>\n",
       "      <td>2.762838</td>\n",
       "      <td>0.906380</td>\n",
       "      <td>0.525552</td>\n",
       "    </tr>\n",
       "  </tbody>\n",
       "</table>\n",
       "</div>"
      ],
      "text/plain": [
       "               A         B         C\n",
       "count   6.000000  6.000000  6.000000\n",
       "mean    0.055823 -0.169944 -0.292086\n",
       "std     1.615580  0.661301  0.660579\n",
       "min    -1.514748 -0.894342 -1.261432\n",
       "25%    -1.210628 -0.562196 -0.601348\n",
       "median -0.124855 -0.372484 -0.365027\n",
       "75%     0.650618  0.160902  0.203897\n",
       "max     2.762838  0.906380  0.525552"
      ]
     },
     "execution_count": 139,
     "metadata": {},
     "output_type": "execute_result"
    }
   ],
   "source": [
    "tsdf.agg(\n",
    "    [\n",
    "        'count',\n",
    "        'mean',\n",
    "        'std',\n",
    "        'min',\n",
    "        q_25,\n",
    "        'median',\n",
    "        q_75,\n",
    "        'max'\n",
    "    ]\n",
    ")"
   ]
  },
  {
   "cell_type": "markdown",
   "id": "6571d2e5-f4e9-4279-85a0-d45db690fce0",
   "metadata": {},
   "source": [
    "### Transform API\n"
   ]
  },
  {
   "cell_type": "markdown",
   "id": "684258aa-3578-4e34-bb2f-090ec88ab7cf",
   "metadata": {},
   "source": [
    "The transform() method returns an object that is indexed the same (same size) as the original. This API allows you to provide multiple operations at the same time rather than one-by-one. Its API is quite similar to the .agg API."
   ]
  },
  {
   "cell_type": "code",
   "execution_count": 142,
   "id": "9d9b7d1c-f209-413d-af13-7730fb52d92e",
   "metadata": {},
   "outputs": [
    {
     "data": {
      "text/html": [
       "<div>\n",
       "<style scoped>\n",
       "    .dataframe tbody tr th:only-of-type {\n",
       "        vertical-align: middle;\n",
       "    }\n",
       "\n",
       "    .dataframe tbody tr th {\n",
       "        vertical-align: top;\n",
       "    }\n",
       "\n",
       "    .dataframe thead th {\n",
       "        text-align: right;\n",
       "    }\n",
       "</style>\n",
       "<table border=\"1\" class=\"dataframe\">\n",
       "  <thead>\n",
       "    <tr style=\"text-align: right;\">\n",
       "      <th></th>\n",
       "      <th>A</th>\n",
       "      <th>B</th>\n",
       "      <th>C</th>\n",
       "    </tr>\n",
       "  </thead>\n",
       "  <tbody>\n",
       "    <tr>\n",
       "      <th>2000-01-01</th>\n",
       "      <td>-0.134446</td>\n",
       "      <td>-1.165682</td>\n",
       "      <td>0.559153</td>\n",
       "    </tr>\n",
       "    <tr>\n",
       "      <th>2000-01-02</th>\n",
       "      <td>0.754433</td>\n",
       "      <td>-0.279370</td>\n",
       "      <td>-0.241849</td>\n",
       "    </tr>\n",
       "    <tr>\n",
       "      <th>2000-01-03</th>\n",
       "      <td>-0.146348</td>\n",
       "      <td>0.357000</td>\n",
       "      <td>-0.639142</td>\n",
       "    </tr>\n",
       "    <tr>\n",
       "      <th>2000-01-04</th>\n",
       "      <td>NaN</td>\n",
       "      <td>NaN</td>\n",
       "      <td>NaN</td>\n",
       "    </tr>\n",
       "    <tr>\n",
       "      <th>2000-01-05</th>\n",
       "      <td>NaN</td>\n",
       "      <td>NaN</td>\n",
       "      <td>NaN</td>\n",
       "    </tr>\n",
       "    <tr>\n",
       "      <th>2000-01-06</th>\n",
       "      <td>NaN</td>\n",
       "      <td>NaN</td>\n",
       "      <td>NaN</td>\n",
       "    </tr>\n",
       "    <tr>\n",
       "      <th>2000-01-07</th>\n",
       "      <td>NaN</td>\n",
       "      <td>NaN</td>\n",
       "      <td>NaN</td>\n",
       "    </tr>\n",
       "    <tr>\n",
       "      <th>2000-01-08</th>\n",
       "      <td>-0.801472</td>\n",
       "      <td>-0.039668</td>\n",
       "      <td>0.124807</td>\n",
       "    </tr>\n",
       "    <tr>\n",
       "      <th>2000-01-09</th>\n",
       "      <td>-0.069687</td>\n",
       "      <td>-1.240844</td>\n",
       "      <td>0.078372</td>\n",
       "    </tr>\n",
       "    <tr>\n",
       "      <th>2000-01-10</th>\n",
       "      <td>-2.079853</td>\n",
       "      <td>1.213023</td>\n",
       "      <td>-0.104695</td>\n",
       "    </tr>\n",
       "  </tbody>\n",
       "</table>\n",
       "</div>"
      ],
      "text/plain": [
       "                   A         B         C\n",
       "2000-01-01 -0.134446 -1.165682  0.559153\n",
       "2000-01-02  0.754433 -0.279370 -0.241849\n",
       "2000-01-03 -0.146348  0.357000 -0.639142\n",
       "2000-01-04       NaN       NaN       NaN\n",
       "2000-01-05       NaN       NaN       NaN\n",
       "2000-01-06       NaN       NaN       NaN\n",
       "2000-01-07       NaN       NaN       NaN\n",
       "2000-01-08 -0.801472 -0.039668  0.124807\n",
       "2000-01-09 -0.069687 -1.240844  0.078372\n",
       "2000-01-10 -2.079853  1.213023 -0.104695"
      ]
     },
     "execution_count": 142,
     "metadata": {},
     "output_type": "execute_result"
    }
   ],
   "source": [
    "tsdf = pd.DataFrame(\n",
    "    np.random.randn(10, 3),\n",
    "    columns=[\"A\", \"B\", \"C\"],\n",
    "    index=pd.date_range(\"1/1/2000\", periods=10),\n",
    ")\n",
    "\n",
    "tsdf.iloc[3:7] = np.nan\n",
    "tsdf"
   ]
  },
  {
   "cell_type": "code",
   "execution_count": 143,
   "id": "0fc076aa-fc4b-4efb-a4d2-1874615314be",
   "metadata": {},
   "outputs": [
    {
     "data": {
      "text/html": [
       "<div>\n",
       "<style scoped>\n",
       "    .dataframe tbody tr th:only-of-type {\n",
       "        vertical-align: middle;\n",
       "    }\n",
       "\n",
       "    .dataframe tbody tr th {\n",
       "        vertical-align: top;\n",
       "    }\n",
       "\n",
       "    .dataframe thead th {\n",
       "        text-align: right;\n",
       "    }\n",
       "</style>\n",
       "<table border=\"1\" class=\"dataframe\">\n",
       "  <thead>\n",
       "    <tr style=\"text-align: right;\">\n",
       "      <th></th>\n",
       "      <th>A</th>\n",
       "      <th>B</th>\n",
       "      <th>C</th>\n",
       "    </tr>\n",
       "  </thead>\n",
       "  <tbody>\n",
       "    <tr>\n",
       "      <th>2000-01-01</th>\n",
       "      <td>0.134446</td>\n",
       "      <td>1.165682</td>\n",
       "      <td>0.559153</td>\n",
       "    </tr>\n",
       "    <tr>\n",
       "      <th>2000-01-02</th>\n",
       "      <td>0.754433</td>\n",
       "      <td>0.279370</td>\n",
       "      <td>0.241849</td>\n",
       "    </tr>\n",
       "    <tr>\n",
       "      <th>2000-01-03</th>\n",
       "      <td>0.146348</td>\n",
       "      <td>0.357000</td>\n",
       "      <td>0.639142</td>\n",
       "    </tr>\n",
       "    <tr>\n",
       "      <th>2000-01-04</th>\n",
       "      <td>NaN</td>\n",
       "      <td>NaN</td>\n",
       "      <td>NaN</td>\n",
       "    </tr>\n",
       "    <tr>\n",
       "      <th>2000-01-05</th>\n",
       "      <td>NaN</td>\n",
       "      <td>NaN</td>\n",
       "      <td>NaN</td>\n",
       "    </tr>\n",
       "    <tr>\n",
       "      <th>2000-01-06</th>\n",
       "      <td>NaN</td>\n",
       "      <td>NaN</td>\n",
       "      <td>NaN</td>\n",
       "    </tr>\n",
       "    <tr>\n",
       "      <th>2000-01-07</th>\n",
       "      <td>NaN</td>\n",
       "      <td>NaN</td>\n",
       "      <td>NaN</td>\n",
       "    </tr>\n",
       "    <tr>\n",
       "      <th>2000-01-08</th>\n",
       "      <td>0.801472</td>\n",
       "      <td>0.039668</td>\n",
       "      <td>0.124807</td>\n",
       "    </tr>\n",
       "    <tr>\n",
       "      <th>2000-01-09</th>\n",
       "      <td>0.069687</td>\n",
       "      <td>1.240844</td>\n",
       "      <td>0.078372</td>\n",
       "    </tr>\n",
       "    <tr>\n",
       "      <th>2000-01-10</th>\n",
       "      <td>2.079853</td>\n",
       "      <td>1.213023</td>\n",
       "      <td>0.104695</td>\n",
       "    </tr>\n",
       "  </tbody>\n",
       "</table>\n",
       "</div>"
      ],
      "text/plain": [
       "                   A         B         C\n",
       "2000-01-01  0.134446  1.165682  0.559153\n",
       "2000-01-02  0.754433  0.279370  0.241849\n",
       "2000-01-03  0.146348  0.357000  0.639142\n",
       "2000-01-04       NaN       NaN       NaN\n",
       "2000-01-05       NaN       NaN       NaN\n",
       "2000-01-06       NaN       NaN       NaN\n",
       "2000-01-07       NaN       NaN       NaN\n",
       "2000-01-08  0.801472  0.039668  0.124807\n",
       "2000-01-09  0.069687  1.240844  0.078372\n",
       "2000-01-10  2.079853  1.213023  0.104695"
      ]
     },
     "execution_count": 143,
     "metadata": {},
     "output_type": "execute_result"
    }
   ],
   "source": [
    "tsdf.transform(np.abs)"
   ]
  },
  {
   "cell_type": "markdown",
   "id": "8f8a458f-c288-4e24-a79b-0924487082c5",
   "metadata": {},
   "source": [
    "### Transform with multiple functions\n"
   ]
  },
  {
   "cell_type": "code",
   "execution_count": 144,
   "id": "c749edc4-631c-48a8-894a-84e3dcef88be",
   "metadata": {},
   "outputs": [
    {
     "data": {
      "text/html": [
       "<div>\n",
       "<style scoped>\n",
       "    .dataframe tbody tr th:only-of-type {\n",
       "        vertical-align: middle;\n",
       "    }\n",
       "\n",
       "    .dataframe tbody tr th {\n",
       "        vertical-align: top;\n",
       "    }\n",
       "\n",
       "    .dataframe thead tr th {\n",
       "        text-align: left;\n",
       "    }\n",
       "</style>\n",
       "<table border=\"1\" class=\"dataframe\">\n",
       "  <thead>\n",
       "    <tr>\n",
       "      <th></th>\n",
       "      <th colspan=\"2\" halign=\"left\">A</th>\n",
       "      <th colspan=\"2\" halign=\"left\">B</th>\n",
       "      <th colspan=\"2\" halign=\"left\">C</th>\n",
       "    </tr>\n",
       "    <tr>\n",
       "      <th></th>\n",
       "      <th>absolute</th>\n",
       "      <th>&lt;lambda&gt;</th>\n",
       "      <th>absolute</th>\n",
       "      <th>&lt;lambda&gt;</th>\n",
       "      <th>absolute</th>\n",
       "      <th>&lt;lambda&gt;</th>\n",
       "    </tr>\n",
       "  </thead>\n",
       "  <tbody>\n",
       "    <tr>\n",
       "      <th>2000-01-01</th>\n",
       "      <td>0.134446</td>\n",
       "      <td>0</td>\n",
       "      <td>1.165682</td>\n",
       "      <td>0</td>\n",
       "      <td>0.559153</td>\n",
       "      <td>0</td>\n",
       "    </tr>\n",
       "    <tr>\n",
       "      <th>2000-01-02</th>\n",
       "      <td>0.754433</td>\n",
       "      <td>0</td>\n",
       "      <td>0.279370</td>\n",
       "      <td>0</td>\n",
       "      <td>0.241849</td>\n",
       "      <td>0</td>\n",
       "    </tr>\n",
       "    <tr>\n",
       "      <th>2000-01-03</th>\n",
       "      <td>0.146348</td>\n",
       "      <td>0</td>\n",
       "      <td>0.357000</td>\n",
       "      <td>0</td>\n",
       "      <td>0.639142</td>\n",
       "      <td>0</td>\n",
       "    </tr>\n",
       "    <tr>\n",
       "      <th>2000-01-04</th>\n",
       "      <td>NaN</td>\n",
       "      <td>0</td>\n",
       "      <td>NaN</td>\n",
       "      <td>0</td>\n",
       "      <td>NaN</td>\n",
       "      <td>0</td>\n",
       "    </tr>\n",
       "    <tr>\n",
       "      <th>2000-01-05</th>\n",
       "      <td>NaN</td>\n",
       "      <td>0</td>\n",
       "      <td>NaN</td>\n",
       "      <td>0</td>\n",
       "      <td>NaN</td>\n",
       "      <td>0</td>\n",
       "    </tr>\n",
       "    <tr>\n",
       "      <th>2000-01-06</th>\n",
       "      <td>NaN</td>\n",
       "      <td>0</td>\n",
       "      <td>NaN</td>\n",
       "      <td>0</td>\n",
       "      <td>NaN</td>\n",
       "      <td>0</td>\n",
       "    </tr>\n",
       "    <tr>\n",
       "      <th>2000-01-07</th>\n",
       "      <td>NaN</td>\n",
       "      <td>0</td>\n",
       "      <td>NaN</td>\n",
       "      <td>0</td>\n",
       "      <td>NaN</td>\n",
       "      <td>0</td>\n",
       "    </tr>\n",
       "    <tr>\n",
       "      <th>2000-01-08</th>\n",
       "      <td>0.801472</td>\n",
       "      <td>0</td>\n",
       "      <td>0.039668</td>\n",
       "      <td>0</td>\n",
       "      <td>0.124807</td>\n",
       "      <td>0</td>\n",
       "    </tr>\n",
       "    <tr>\n",
       "      <th>2000-01-09</th>\n",
       "      <td>0.069687</td>\n",
       "      <td>0</td>\n",
       "      <td>1.240844</td>\n",
       "      <td>0</td>\n",
       "      <td>0.078372</td>\n",
       "      <td>0</td>\n",
       "    </tr>\n",
       "    <tr>\n",
       "      <th>2000-01-10</th>\n",
       "      <td>2.079853</td>\n",
       "      <td>0</td>\n",
       "      <td>1.213023</td>\n",
       "      <td>0</td>\n",
       "      <td>0.104695</td>\n",
       "      <td>0</td>\n",
       "    </tr>\n",
       "  </tbody>\n",
       "</table>\n",
       "</div>"
      ],
      "text/plain": [
       "                   A                  B                  C         \n",
       "            absolute <lambda>  absolute <lambda>  absolute <lambda>\n",
       "2000-01-01  0.134446        0  1.165682        0  0.559153        0\n",
       "2000-01-02  0.754433        0  0.279370        0  0.241849        0\n",
       "2000-01-03  0.146348        0  0.357000        0  0.639142        0\n",
       "2000-01-04       NaN        0       NaN        0       NaN        0\n",
       "2000-01-05       NaN        0       NaN        0       NaN        0\n",
       "2000-01-06       NaN        0       NaN        0       NaN        0\n",
       "2000-01-07       NaN        0       NaN        0       NaN        0\n",
       "2000-01-08  0.801472        0  0.039668        0  0.124807        0\n",
       "2000-01-09  0.069687        0  1.240844        0  0.078372        0\n",
       "2000-01-10  2.079853        0  1.213023        0  0.104695        0"
      ]
     },
     "execution_count": 144,
     "metadata": {},
     "output_type": "execute_result"
    }
   ],
   "source": [
    "tsdf.transform([np.abs, lambda x: 0])"
   ]
  },
  {
   "cell_type": "markdown",
   "id": "23b4caf1-6461-425e-8544-593cd3398f80",
   "metadata": {},
   "source": [
    "### Transforming with a dict\n"
   ]
  },
  {
   "cell_type": "code",
   "execution_count": 145,
   "id": "800a2e71-8d8c-4b6f-8caf-ee7b76a70e5f",
   "metadata": {},
   "outputs": [
    {
     "data": {
      "text/html": [
       "<div>\n",
       "<style scoped>\n",
       "    .dataframe tbody tr th:only-of-type {\n",
       "        vertical-align: middle;\n",
       "    }\n",
       "\n",
       "    .dataframe tbody tr th {\n",
       "        vertical-align: top;\n",
       "    }\n",
       "\n",
       "    .dataframe thead th {\n",
       "        text-align: right;\n",
       "    }\n",
       "</style>\n",
       "<table border=\"1\" class=\"dataframe\">\n",
       "  <thead>\n",
       "    <tr style=\"text-align: right;\">\n",
       "      <th></th>\n",
       "      <th>A</th>\n",
       "      <th>B</th>\n",
       "      <th>C</th>\n",
       "    </tr>\n",
       "  </thead>\n",
       "  <tbody>\n",
       "    <tr>\n",
       "      <th>2000-01-01</th>\n",
       "      <td>0.134446</td>\n",
       "      <td>0.311710</td>\n",
       "      <td>0</td>\n",
       "    </tr>\n",
       "    <tr>\n",
       "      <th>2000-01-02</th>\n",
       "      <td>0.754433</td>\n",
       "      <td>0.756260</td>\n",
       "      <td>0</td>\n",
       "    </tr>\n",
       "    <tr>\n",
       "      <th>2000-01-03</th>\n",
       "      <td>0.146348</td>\n",
       "      <td>1.429036</td>\n",
       "      <td>0</td>\n",
       "    </tr>\n",
       "    <tr>\n",
       "      <th>2000-01-04</th>\n",
       "      <td>NaN</td>\n",
       "      <td>NaN</td>\n",
       "      <td>0</td>\n",
       "    </tr>\n",
       "    <tr>\n",
       "      <th>2000-01-05</th>\n",
       "      <td>NaN</td>\n",
       "      <td>NaN</td>\n",
       "      <td>0</td>\n",
       "    </tr>\n",
       "    <tr>\n",
       "      <th>2000-01-06</th>\n",
       "      <td>NaN</td>\n",
       "      <td>NaN</td>\n",
       "      <td>0</td>\n",
       "    </tr>\n",
       "    <tr>\n",
       "      <th>2000-01-07</th>\n",
       "      <td>NaN</td>\n",
       "      <td>NaN</td>\n",
       "      <td>0</td>\n",
       "    </tr>\n",
       "    <tr>\n",
       "      <th>2000-01-08</th>\n",
       "      <td>0.801472</td>\n",
       "      <td>0.961109</td>\n",
       "      <td>0</td>\n",
       "    </tr>\n",
       "    <tr>\n",
       "      <th>2000-01-09</th>\n",
       "      <td>0.069687</td>\n",
       "      <td>0.289140</td>\n",
       "      <td>0</td>\n",
       "    </tr>\n",
       "    <tr>\n",
       "      <th>2000-01-10</th>\n",
       "      <td>2.079853</td>\n",
       "      <td>3.363638</td>\n",
       "      <td>0</td>\n",
       "    </tr>\n",
       "  </tbody>\n",
       "</table>\n",
       "</div>"
      ],
      "text/plain": [
       "                   A         B  C\n",
       "2000-01-01  0.134446  0.311710  0\n",
       "2000-01-02  0.754433  0.756260  0\n",
       "2000-01-03  0.146348  1.429036  0\n",
       "2000-01-04       NaN       NaN  0\n",
       "2000-01-05       NaN       NaN  0\n",
       "2000-01-06       NaN       NaN  0\n",
       "2000-01-07       NaN       NaN  0\n",
       "2000-01-08  0.801472  0.961109  0\n",
       "2000-01-09  0.069687  0.289140  0\n",
       "2000-01-10  2.079853  3.363638  0"
      ]
     },
     "execution_count": 145,
     "metadata": {},
     "output_type": "execute_result"
    }
   ],
   "source": [
    "tsdf.transform(\n",
    "    {\n",
    "        'A': np.abs,\n",
    "        'B': np.exp,\n",
    "        'C': lambda x: 0,\n",
    "    }\n",
    ")"
   ]
  },
  {
   "cell_type": "code",
   "execution_count": 148,
   "id": "47d10db6-2194-43c1-96ed-f7c84a840f01",
   "metadata": {},
   "outputs": [
    {
     "data": {
      "text/html": [
       "<div>\n",
       "<style scoped>\n",
       "    .dataframe tbody tr th:only-of-type {\n",
       "        vertical-align: middle;\n",
       "    }\n",
       "\n",
       "    .dataframe tbody tr th {\n",
       "        vertical-align: top;\n",
       "    }\n",
       "\n",
       "    .dataframe thead tr th {\n",
       "        text-align: left;\n",
       "    }\n",
       "</style>\n",
       "<table border=\"1\" class=\"dataframe\">\n",
       "  <thead>\n",
       "    <tr>\n",
       "      <th></th>\n",
       "      <th>A</th>\n",
       "      <th colspan=\"2\" halign=\"left\">B</th>\n",
       "    </tr>\n",
       "    <tr>\n",
       "      <th></th>\n",
       "      <th>absolute</th>\n",
       "      <th>&lt;lambda&gt;</th>\n",
       "      <th>exp</th>\n",
       "    </tr>\n",
       "  </thead>\n",
       "  <tbody>\n",
       "    <tr>\n",
       "      <th>2000-01-01</th>\n",
       "      <td>0.134446</td>\n",
       "      <td>0</td>\n",
       "      <td>0.311710</td>\n",
       "    </tr>\n",
       "    <tr>\n",
       "      <th>2000-01-02</th>\n",
       "      <td>0.754433</td>\n",
       "      <td>0</td>\n",
       "      <td>0.756260</td>\n",
       "    </tr>\n",
       "    <tr>\n",
       "      <th>2000-01-03</th>\n",
       "      <td>0.146348</td>\n",
       "      <td>0</td>\n",
       "      <td>1.429036</td>\n",
       "    </tr>\n",
       "    <tr>\n",
       "      <th>2000-01-04</th>\n",
       "      <td>NaN</td>\n",
       "      <td>0</td>\n",
       "      <td>NaN</td>\n",
       "    </tr>\n",
       "    <tr>\n",
       "      <th>2000-01-05</th>\n",
       "      <td>NaN</td>\n",
       "      <td>0</td>\n",
       "      <td>NaN</td>\n",
       "    </tr>\n",
       "    <tr>\n",
       "      <th>2000-01-06</th>\n",
       "      <td>NaN</td>\n",
       "      <td>0</td>\n",
       "      <td>NaN</td>\n",
       "    </tr>\n",
       "    <tr>\n",
       "      <th>2000-01-07</th>\n",
       "      <td>NaN</td>\n",
       "      <td>0</td>\n",
       "      <td>NaN</td>\n",
       "    </tr>\n",
       "    <tr>\n",
       "      <th>2000-01-08</th>\n",
       "      <td>0.801472</td>\n",
       "      <td>0</td>\n",
       "      <td>0.961109</td>\n",
       "    </tr>\n",
       "    <tr>\n",
       "      <th>2000-01-09</th>\n",
       "      <td>0.069687</td>\n",
       "      <td>0</td>\n",
       "      <td>0.289140</td>\n",
       "    </tr>\n",
       "    <tr>\n",
       "      <th>2000-01-10</th>\n",
       "      <td>2.079853</td>\n",
       "      <td>0</td>\n",
       "      <td>3.363638</td>\n",
       "    </tr>\n",
       "  </tbody>\n",
       "</table>\n",
       "</div>"
      ],
      "text/plain": [
       "                   A        B          \n",
       "            absolute <lambda>       exp\n",
       "2000-01-01  0.134446        0  0.311710\n",
       "2000-01-02  0.754433        0  0.756260\n",
       "2000-01-03  0.146348        0  1.429036\n",
       "2000-01-04       NaN        0       NaN\n",
       "2000-01-05       NaN        0       NaN\n",
       "2000-01-06       NaN        0       NaN\n",
       "2000-01-07       NaN        0       NaN\n",
       "2000-01-08  0.801472        0  0.961109\n",
       "2000-01-09  0.069687        0  0.289140\n",
       "2000-01-10  2.079853        0  3.363638"
      ]
     },
     "execution_count": 148,
     "metadata": {},
     "output_type": "execute_result"
    }
   ],
   "source": [
    "tsdf.transform(\n",
    "    {\n",
    "        \"A\": np.abs,\n",
    "        \"B\": [lambda x: 0, np.exp]\n",
    "    }\n",
    ")\n"
   ]
  },
  {
   "cell_type": "markdown",
   "id": "e93c0f8b-56be-4eed-9e0a-40a469a4cc72",
   "metadata": {},
   "source": [
    "Note:Two major differences between apply and transform\n",
    "\n",
    "There are two major differences between the transform and apply groupby methods.\n",
    "\n",
    "- **Input**:\n",
    "apply implicitly passes all the columns for each group as a DataFrame to the custom function.\n",
    "while transform passes each column for each group individually as a Series to the custom function.\n",
    "- **Output**:\n",
    "The custom function passed to apply can return a scalar, or a Series or DataFrame (or numpy array or even list).\n",
    "The custom function passed to transform must return a sequence (a one dimensional Series, array or list) the same length as the group.\n",
    "So, transform works on just one Series at a time and apply works on the entire DataFrame at once."
   ]
  },
  {
   "cell_type": "code",
   "execution_count": 151,
   "id": "9809bf62-f69c-48b4-b364-544dd575301c",
   "metadata": {},
   "outputs": [],
   "source": [
    "# df.transform(np.sum) --> raises ValueError: Function did not transform\n",
    "# df.transform(add_two_columns, axis='columns') --> raises ValueError: Function did not transform\n",
    "\n",
    "# these two work fine for apply()"
   ]
  },
  {
   "cell_type": "code",
   "execution_count": 152,
   "id": "536ec1a9-fd0a-4362-aae9-d09a8d127ad5",
   "metadata": {},
   "outputs": [],
   "source": [
    "def add_1(s):\n",
    "    return s + 1"
   ]
  },
  {
   "cell_type": "code",
   "execution_count": 153,
   "id": "3515b876-566c-4087-a749-4e3034ea6d36",
   "metadata": {},
   "outputs": [
    {
     "data": {
      "text/html": [
       "<div>\n",
       "<style scoped>\n",
       "    .dataframe tbody tr th:only-of-type {\n",
       "        vertical-align: middle;\n",
       "    }\n",
       "\n",
       "    .dataframe tbody tr th {\n",
       "        vertical-align: top;\n",
       "    }\n",
       "\n",
       "    .dataframe thead th {\n",
       "        text-align: right;\n",
       "    }\n",
       "</style>\n",
       "<table border=\"1\" class=\"dataframe\">\n",
       "  <thead>\n",
       "    <tr style=\"text-align: right;\">\n",
       "      <th></th>\n",
       "      <th>A</th>\n",
       "      <th>B</th>\n",
       "      <th>C</th>\n",
       "    </tr>\n",
       "  </thead>\n",
       "  <tbody>\n",
       "    <tr>\n",
       "      <th>2000-01-01</th>\n",
       "      <td>0.865554</td>\n",
       "      <td>-0.165682</td>\n",
       "      <td>1.559153</td>\n",
       "    </tr>\n",
       "    <tr>\n",
       "      <th>2000-01-02</th>\n",
       "      <td>1.754433</td>\n",
       "      <td>0.720630</td>\n",
       "      <td>0.758151</td>\n",
       "    </tr>\n",
       "    <tr>\n",
       "      <th>2000-01-03</th>\n",
       "      <td>0.853652</td>\n",
       "      <td>1.357000</td>\n",
       "      <td>0.360858</td>\n",
       "    </tr>\n",
       "    <tr>\n",
       "      <th>2000-01-04</th>\n",
       "      <td>NaN</td>\n",
       "      <td>NaN</td>\n",
       "      <td>NaN</td>\n",
       "    </tr>\n",
       "    <tr>\n",
       "      <th>2000-01-05</th>\n",
       "      <td>NaN</td>\n",
       "      <td>NaN</td>\n",
       "      <td>NaN</td>\n",
       "    </tr>\n",
       "    <tr>\n",
       "      <th>2000-01-06</th>\n",
       "      <td>NaN</td>\n",
       "      <td>NaN</td>\n",
       "      <td>NaN</td>\n",
       "    </tr>\n",
       "    <tr>\n",
       "      <th>2000-01-07</th>\n",
       "      <td>NaN</td>\n",
       "      <td>NaN</td>\n",
       "      <td>NaN</td>\n",
       "    </tr>\n",
       "    <tr>\n",
       "      <th>2000-01-08</th>\n",
       "      <td>0.198528</td>\n",
       "      <td>0.960332</td>\n",
       "      <td>1.124807</td>\n",
       "    </tr>\n",
       "    <tr>\n",
       "      <th>2000-01-09</th>\n",
       "      <td>0.930313</td>\n",
       "      <td>-0.240844</td>\n",
       "      <td>1.078372</td>\n",
       "    </tr>\n",
       "    <tr>\n",
       "      <th>2000-01-10</th>\n",
       "      <td>-1.079853</td>\n",
       "      <td>2.213023</td>\n",
       "      <td>0.895305</td>\n",
       "    </tr>\n",
       "  </tbody>\n",
       "</table>\n",
       "</div>"
      ],
      "text/plain": [
       "                   A         B         C\n",
       "2000-01-01  0.865554 -0.165682  1.559153\n",
       "2000-01-02  1.754433  0.720630  0.758151\n",
       "2000-01-03  0.853652  1.357000  0.360858\n",
       "2000-01-04       NaN       NaN       NaN\n",
       "2000-01-05       NaN       NaN       NaN\n",
       "2000-01-06       NaN       NaN       NaN\n",
       "2000-01-07       NaN       NaN       NaN\n",
       "2000-01-08  0.198528  0.960332  1.124807\n",
       "2000-01-09  0.930313 -0.240844  1.078372\n",
       "2000-01-10 -1.079853  2.213023  0.895305"
      ]
     },
     "execution_count": 153,
     "metadata": {},
     "output_type": "execute_result"
    }
   ],
   "source": [
    "tsdf.apply(add_1)"
   ]
  },
  {
   "cell_type": "code",
   "execution_count": 154,
   "id": "1c339363-d2e9-4cf8-998e-c6c54088cea3",
   "metadata": {},
   "outputs": [
    {
     "data": {
      "text/html": [
       "<div>\n",
       "<style scoped>\n",
       "    .dataframe tbody tr th:only-of-type {\n",
       "        vertical-align: middle;\n",
       "    }\n",
       "\n",
       "    .dataframe tbody tr th {\n",
       "        vertical-align: top;\n",
       "    }\n",
       "\n",
       "    .dataframe thead th {\n",
       "        text-align: right;\n",
       "    }\n",
       "</style>\n",
       "<table border=\"1\" class=\"dataframe\">\n",
       "  <thead>\n",
       "    <tr style=\"text-align: right;\">\n",
       "      <th></th>\n",
       "      <th>A</th>\n",
       "      <th>B</th>\n",
       "      <th>C</th>\n",
       "    </tr>\n",
       "  </thead>\n",
       "  <tbody>\n",
       "    <tr>\n",
       "      <th>2000-01-01</th>\n",
       "      <td>0.865554</td>\n",
       "      <td>-0.165682</td>\n",
       "      <td>1.559153</td>\n",
       "    </tr>\n",
       "    <tr>\n",
       "      <th>2000-01-02</th>\n",
       "      <td>1.754433</td>\n",
       "      <td>0.720630</td>\n",
       "      <td>0.758151</td>\n",
       "    </tr>\n",
       "    <tr>\n",
       "      <th>2000-01-03</th>\n",
       "      <td>0.853652</td>\n",
       "      <td>1.357000</td>\n",
       "      <td>0.360858</td>\n",
       "    </tr>\n",
       "    <tr>\n",
       "      <th>2000-01-04</th>\n",
       "      <td>NaN</td>\n",
       "      <td>NaN</td>\n",
       "      <td>NaN</td>\n",
       "    </tr>\n",
       "    <tr>\n",
       "      <th>2000-01-05</th>\n",
       "      <td>NaN</td>\n",
       "      <td>NaN</td>\n",
       "      <td>NaN</td>\n",
       "    </tr>\n",
       "    <tr>\n",
       "      <th>2000-01-06</th>\n",
       "      <td>NaN</td>\n",
       "      <td>NaN</td>\n",
       "      <td>NaN</td>\n",
       "    </tr>\n",
       "    <tr>\n",
       "      <th>2000-01-07</th>\n",
       "      <td>NaN</td>\n",
       "      <td>NaN</td>\n",
       "      <td>NaN</td>\n",
       "    </tr>\n",
       "    <tr>\n",
       "      <th>2000-01-08</th>\n",
       "      <td>0.198528</td>\n",
       "      <td>0.960332</td>\n",
       "      <td>1.124807</td>\n",
       "    </tr>\n",
       "    <tr>\n",
       "      <th>2000-01-09</th>\n",
       "      <td>0.930313</td>\n",
       "      <td>-0.240844</td>\n",
       "      <td>1.078372</td>\n",
       "    </tr>\n",
       "    <tr>\n",
       "      <th>2000-01-10</th>\n",
       "      <td>-1.079853</td>\n",
       "      <td>2.213023</td>\n",
       "      <td>0.895305</td>\n",
       "    </tr>\n",
       "  </tbody>\n",
       "</table>\n",
       "</div>"
      ],
      "text/plain": [
       "                   A         B         C\n",
       "2000-01-01  0.865554 -0.165682  1.559153\n",
       "2000-01-02  1.754433  0.720630  0.758151\n",
       "2000-01-03  0.853652  1.357000  0.360858\n",
       "2000-01-04       NaN       NaN       NaN\n",
       "2000-01-05       NaN       NaN       NaN\n",
       "2000-01-06       NaN       NaN       NaN\n",
       "2000-01-07       NaN       NaN       NaN\n",
       "2000-01-08  0.198528  0.960332  1.124807\n",
       "2000-01-09  0.930313 -0.240844  1.078372\n",
       "2000-01-10 -1.079853  2.213023  0.895305"
      ]
     },
     "execution_count": 154,
     "metadata": {},
     "output_type": "execute_result"
    }
   ],
   "source": [
    "tsdf.transform(add_1)"
   ]
  },
  {
   "cell_type": "markdown",
   "id": "fd4056ea-e6f3-4b8e-b3a9-686a0ddfd52f",
   "metadata": {},
   "source": [
    "### Applying elementwise functions\n"
   ]
  },
  {
   "cell_type": "markdown",
   "id": "88c33c64-06da-4fb7-938c-ffd02a61e4fc",
   "metadata": {},
   "source": [
    "Since not all functions can be vectorized (accept NumPy arrays and return another array or value), the methods **applymap**() on **DataFrame** and analogously **map**() on **Series** accept any Python function taking a single value and returning a single value. For example:"
   ]
  },
  {
   "cell_type": "code",
   "execution_count": 156,
   "id": "43934168-c6c6-4a67-814d-4e3f512f4ba5",
   "metadata": {},
   "outputs": [
    {
     "data": {
      "text/html": [
       "<div>\n",
       "<style scoped>\n",
       "    .dataframe tbody tr th:only-of-type {\n",
       "        vertical-align: middle;\n",
       "    }\n",
       "\n",
       "    .dataframe tbody tr th {\n",
       "        vertical-align: top;\n",
       "    }\n",
       "\n",
       "    .dataframe thead th {\n",
       "        text-align: right;\n",
       "    }\n",
       "</style>\n",
       "<table border=\"1\" class=\"dataframe\">\n",
       "  <thead>\n",
       "    <tr style=\"text-align: right;\">\n",
       "      <th></th>\n",
       "      <th>one</th>\n",
       "      <th>two</th>\n",
       "      <th>three</th>\n",
       "    </tr>\n",
       "  </thead>\n",
       "  <tbody>\n",
       "    <tr>\n",
       "      <th>a</th>\n",
       "      <td>-0.527831</td>\n",
       "      <td>2.235041</td>\n",
       "      <td>NaN</td>\n",
       "    </tr>\n",
       "    <tr>\n",
       "      <th>b</th>\n",
       "      <td>-0.345712</td>\n",
       "      <td>-1.494081</td>\n",
       "      <td>1.001526</td>\n",
       "    </tr>\n",
       "    <tr>\n",
       "      <th>c</th>\n",
       "      <td>0.036244</td>\n",
       "      <td>1.852079</td>\n",
       "      <td>-0.796647</td>\n",
       "    </tr>\n",
       "    <tr>\n",
       "      <th>d</th>\n",
       "      <td>NaN</td>\n",
       "      <td>0.324931</td>\n",
       "      <td>-0.157571</td>\n",
       "    </tr>\n",
       "  </tbody>\n",
       "</table>\n",
       "</div>"
      ],
      "text/plain": [
       "        one       two     three\n",
       "a -0.527831  2.235041       NaN\n",
       "b -0.345712 -1.494081  1.001526\n",
       "c  0.036244  1.852079 -0.796647\n",
       "d       NaN  0.324931 -0.157571"
      ]
     },
     "execution_count": 156,
     "metadata": {},
     "output_type": "execute_result"
    }
   ],
   "source": [
    "df"
   ]
  },
  {
   "cell_type": "code",
   "execution_count": 157,
   "id": "87682a42-e9fb-4829-aa35-653d6f6ecde9",
   "metadata": {},
   "outputs": [],
   "source": [
    "def f(x):\n",
    "    return len(str(x))"
   ]
  },
  {
   "cell_type": "code",
   "execution_count": 158,
   "id": "653b9786-46b1-402a-95a4-2a099c68b0dc",
   "metadata": {},
   "outputs": [
    {
     "data": {
      "text/plain": [
       "a    19\n",
       "b    20\n",
       "c    19\n",
       "d     3\n",
       "Name: one, dtype: int64"
      ]
     },
     "execution_count": 158,
     "metadata": {},
     "output_type": "execute_result"
    }
   ],
   "source": [
    "df['one'].apply(f)"
   ]
  },
  {
   "cell_type": "code",
   "execution_count": 159,
   "id": "3f4763bb-dd8e-4811-b358-5c617fca01a1",
   "metadata": {},
   "outputs": [
    {
     "data": {
      "text/plain": [
       "a    19\n",
       "b    20\n",
       "c    19\n",
       "d     3\n",
       "Name: one, dtype: int64"
      ]
     },
     "execution_count": 159,
     "metadata": {},
     "output_type": "execute_result"
    }
   ],
   "source": [
    "df['one'].map(f)"
   ]
  },
  {
   "cell_type": "code",
   "execution_count": 160,
   "id": "28fd9f4e-dd2e-42ae-92a8-2428e7771a08",
   "metadata": {},
   "outputs": [
    {
     "data": {
      "text/html": [
       "<div>\n",
       "<style scoped>\n",
       "    .dataframe tbody tr th:only-of-type {\n",
       "        vertical-align: middle;\n",
       "    }\n",
       "\n",
       "    .dataframe tbody tr th {\n",
       "        vertical-align: top;\n",
       "    }\n",
       "\n",
       "    .dataframe thead th {\n",
       "        text-align: right;\n",
       "    }\n",
       "</style>\n",
       "<table border=\"1\" class=\"dataframe\">\n",
       "  <thead>\n",
       "    <tr style=\"text-align: right;\">\n",
       "      <th></th>\n",
       "      <th>one</th>\n",
       "      <th>two</th>\n",
       "      <th>three</th>\n",
       "    </tr>\n",
       "  </thead>\n",
       "  <tbody>\n",
       "    <tr>\n",
       "      <th>a</th>\n",
       "      <td>19</td>\n",
       "      <td>17</td>\n",
       "      <td>3</td>\n",
       "    </tr>\n",
       "    <tr>\n",
       "      <th>b</th>\n",
       "      <td>20</td>\n",
       "      <td>19</td>\n",
       "      <td>15</td>\n",
       "    </tr>\n",
       "    <tr>\n",
       "      <th>c</th>\n",
       "      <td>19</td>\n",
       "      <td>18</td>\n",
       "      <td>19</td>\n",
       "    </tr>\n",
       "    <tr>\n",
       "      <th>d</th>\n",
       "      <td>3</td>\n",
       "      <td>18</td>\n",
       "      <td>19</td>\n",
       "    </tr>\n",
       "  </tbody>\n",
       "</table>\n",
       "</div>"
      ],
      "text/plain": [
       "   one  two  three\n",
       "a   19   17      3\n",
       "b   20   19     15\n",
       "c   19   18     19\n",
       "d    3   18     19"
      ]
     },
     "execution_count": 160,
     "metadata": {},
     "output_type": "execute_result"
    }
   ],
   "source": [
    "df.applymap(f)"
   ]
  },
  {
   "cell_type": "code",
   "execution_count": 161,
   "id": "94ebe617-2690-4dd7-b273-371f21a35ae5",
   "metadata": {},
   "outputs": [
    {
     "data": {
      "text/plain": [
       "one      81\n",
       "two      81\n",
       "three    83\n",
       "dtype: int64"
      ]
     },
     "execution_count": 161,
     "metadata": {},
     "output_type": "execute_result"
    }
   ],
   "source": [
    "df.apply(f)"
   ]
  },
  {
   "cell_type": "markdown",
   "id": "2d42c53c-e042-44d6-820d-3ab879c8f3fd",
   "metadata": {},
   "source": [
    "Series.map() has an additional feature; it can be used to easily “link” or “map” values defined by a secondary series:\n",
    "\n"
   ]
  },
  {
   "cell_type": "code",
   "execution_count": 171,
   "id": "165293ad-76c9-416b-bf98-4db0c8f0a9f1",
   "metadata": {},
   "outputs": [
    {
     "data": {
      "text/plain": [
       "0    X\n",
       "1    X\n",
       "2    Y\n",
       "3    X\n",
       "4    Y\n",
       "5    Y\n",
       "dtype: object"
      ]
     },
     "execution_count": 171,
     "metadata": {},
     "output_type": "execute_result"
    }
   ],
   "source": [
    "s = pd.Series(\n",
    "    [\n",
    "        'X', 'X', 'Y', 'X', 'Y', 'Y'\n",
    "    ],\n",
    ")\n",
    "s"
   ]
  },
  {
   "cell_type": "code",
   "execution_count": 172,
   "id": "c6f93e35-5da9-4613-9810-42054501b532",
   "metadata": {},
   "outputs": [
    {
     "data": {
      "text/plain": [
       "0    0\n",
       "1    0\n",
       "2    1\n",
       "3    0\n",
       "4    1\n",
       "5    1\n",
       "dtype: int64"
      ]
     },
     "execution_count": 172,
     "metadata": {},
     "output_type": "execute_result"
    }
   ],
   "source": [
    "s.map(\n",
    "    pd.Series({'X': 0, 'Y': 1})\n",
    ")"
   ]
  },
  {
   "cell_type": "markdown",
   "id": "593be1e3-e018-4e70-b644-c3e3cb2022b1",
   "metadata": {},
   "source": [
    "___\n",
    "training"
   ]
  },
  {
   "cell_type": "code",
   "execution_count": 174,
   "id": "89f01798-9375-4fdd-b4e7-40d4cfa7595d",
   "metadata": {},
   "outputs": [
    {
     "data": {
      "text/html": [
       "<div>\n",
       "<style scoped>\n",
       "    .dataframe tbody tr th:only-of-type {\n",
       "        vertical-align: middle;\n",
       "    }\n",
       "\n",
       "    .dataframe tbody tr th {\n",
       "        vertical-align: top;\n",
       "    }\n",
       "\n",
       "    .dataframe thead th {\n",
       "        text-align: right;\n",
       "    }\n",
       "</style>\n",
       "<table border=\"1\" class=\"dataframe\">\n",
       "  <thead>\n",
       "    <tr style=\"text-align: right;\">\n",
       "      <th></th>\n",
       "      <th>A</th>\n",
       "      <th>B</th>\n",
       "      <th>C</th>\n",
       "    </tr>\n",
       "  </thead>\n",
       "  <tbody>\n",
       "    <tr>\n",
       "      <th>2000-01-01</th>\n",
       "      <td>-0.134446</td>\n",
       "      <td>-1.165682</td>\n",
       "      <td>0.559153</td>\n",
       "    </tr>\n",
       "    <tr>\n",
       "      <th>2000-01-02</th>\n",
       "      <td>0.754433</td>\n",
       "      <td>-0.279370</td>\n",
       "      <td>-0.241849</td>\n",
       "    </tr>\n",
       "    <tr>\n",
       "      <th>2000-01-03</th>\n",
       "      <td>-0.146348</td>\n",
       "      <td>0.357000</td>\n",
       "      <td>-0.639142</td>\n",
       "    </tr>\n",
       "    <tr>\n",
       "      <th>2000-01-04</th>\n",
       "      <td>NaN</td>\n",
       "      <td>NaN</td>\n",
       "      <td>NaN</td>\n",
       "    </tr>\n",
       "    <tr>\n",
       "      <th>2000-01-05</th>\n",
       "      <td>NaN</td>\n",
       "      <td>NaN</td>\n",
       "      <td>NaN</td>\n",
       "    </tr>\n",
       "  </tbody>\n",
       "</table>\n",
       "</div>"
      ],
      "text/plain": [
       "                   A         B         C\n",
       "2000-01-01 -0.134446 -1.165682  0.559153\n",
       "2000-01-02  0.754433 -0.279370 -0.241849\n",
       "2000-01-03 -0.146348  0.357000 -0.639142\n",
       "2000-01-04       NaN       NaN       NaN\n",
       "2000-01-05       NaN       NaN       NaN"
      ]
     },
     "execution_count": 174,
     "metadata": {},
     "output_type": "execute_result"
    }
   ],
   "source": [
    "tsdf.head()"
   ]
  },
  {
   "cell_type": "code",
   "execution_count": 178,
   "id": "edbc5b6e-20d6-4c02-b7dc-91f8e194f01a",
   "metadata": {},
   "outputs": [
    {
     "data": {
      "text/html": [
       "<div>\n",
       "<style scoped>\n",
       "    .dataframe tbody tr th:only-of-type {\n",
       "        vertical-align: middle;\n",
       "    }\n",
       "\n",
       "    .dataframe tbody tr th {\n",
       "        vertical-align: top;\n",
       "    }\n",
       "\n",
       "    .dataframe thead th {\n",
       "        text-align: right;\n",
       "    }\n",
       "</style>\n",
       "<table border=\"1\" class=\"dataframe\">\n",
       "  <thead>\n",
       "    <tr style=\"text-align: right;\">\n",
       "      <th></th>\n",
       "      <th>A</th>\n",
       "      <th>B</th>\n",
       "      <th>C</th>\n",
       "    </tr>\n",
       "  </thead>\n",
       "  <tbody>\n",
       "    <tr>\n",
       "      <th>2000-01-01</th>\n",
       "      <td>-0.134446</td>\n",
       "      <td>-1.165682</td>\n",
       "      <td>0.559153</td>\n",
       "    </tr>\n",
       "    <tr>\n",
       "      <th>2000-01-02</th>\n",
       "      <td>0.754433</td>\n",
       "      <td>-0.279370</td>\n",
       "      <td>-0.241849</td>\n",
       "    </tr>\n",
       "    <tr>\n",
       "      <th>2000-01-03</th>\n",
       "      <td>-0.146348</td>\n",
       "      <td>0.357000</td>\n",
       "      <td>-0.639142</td>\n",
       "    </tr>\n",
       "    <tr>\n",
       "      <th>2000-01-04</th>\n",
       "      <td>-0.146348</td>\n",
       "      <td>0.357000</td>\n",
       "      <td>-0.639142</td>\n",
       "    </tr>\n",
       "    <tr>\n",
       "      <th>2000-01-05</th>\n",
       "      <td>-0.146348</td>\n",
       "      <td>0.357000</td>\n",
       "      <td>-0.639142</td>\n",
       "    </tr>\n",
       "  </tbody>\n",
       "</table>\n",
       "</div>"
      ],
      "text/plain": [
       "                   A         B         C\n",
       "2000-01-01 -0.134446 -1.165682  0.559153\n",
       "2000-01-02  0.754433 -0.279370 -0.241849\n",
       "2000-01-03 -0.146348  0.357000 -0.639142\n",
       "2000-01-04 -0.146348  0.357000 -0.639142\n",
       "2000-01-05 -0.146348  0.357000 -0.639142"
      ]
     },
     "execution_count": 178,
     "metadata": {},
     "output_type": "execute_result"
    }
   ],
   "source": [
    "tsdf.head().transform(pd.Series.interpolate, method='linear', order=2)"
   ]
  },
  {
   "cell_type": "code",
   "execution_count": 177,
   "id": "3c9c1f32-9b96-408a-83e0-bffca022a177",
   "metadata": {},
   "outputs": [
    {
     "data": {
      "text/html": [
       "<div>\n",
       "<style scoped>\n",
       "    .dataframe tbody tr th:only-of-type {\n",
       "        vertical-align: middle;\n",
       "    }\n",
       "\n",
       "    .dataframe tbody tr th {\n",
       "        vertical-align: top;\n",
       "    }\n",
       "\n",
       "    .dataframe thead th {\n",
       "        text-align: right;\n",
       "    }\n",
       "</style>\n",
       "<table border=\"1\" class=\"dataframe\">\n",
       "  <thead>\n",
       "    <tr style=\"text-align: right;\">\n",
       "      <th></th>\n",
       "      <th>A</th>\n",
       "      <th>B</th>\n",
       "      <th>C</th>\n",
       "    </tr>\n",
       "  </thead>\n",
       "  <tbody>\n",
       "    <tr>\n",
       "      <th>2000-01-01</th>\n",
       "      <td>-0.134446</td>\n",
       "      <td>-1.165682</td>\n",
       "      <td>0.559153</td>\n",
       "    </tr>\n",
       "    <tr>\n",
       "      <th>2000-01-02</th>\n",
       "      <td>0.754433</td>\n",
       "      <td>-0.279370</td>\n",
       "      <td>-0.241849</td>\n",
       "    </tr>\n",
       "    <tr>\n",
       "      <th>2000-01-03</th>\n",
       "      <td>-0.146348</td>\n",
       "      <td>0.357000</td>\n",
       "      <td>-0.639142</td>\n",
       "    </tr>\n",
       "    <tr>\n",
       "      <th>2000-01-04</th>\n",
       "      <td>-0.146348</td>\n",
       "      <td>0.357000</td>\n",
       "      <td>-0.639142</td>\n",
       "    </tr>\n",
       "    <tr>\n",
       "      <th>2000-01-05</th>\n",
       "      <td>-0.146348</td>\n",
       "      <td>0.357000</td>\n",
       "      <td>-0.639142</td>\n",
       "    </tr>\n",
       "  </tbody>\n",
       "</table>\n",
       "</div>"
      ],
      "text/plain": [
       "                   A         B         C\n",
       "2000-01-01 -0.134446 -1.165682  0.559153\n",
       "2000-01-02  0.754433 -0.279370 -0.241849\n",
       "2000-01-03 -0.146348  0.357000 -0.639142\n",
       "2000-01-04 -0.146348  0.357000 -0.639142\n",
       "2000-01-05 -0.146348  0.357000 -0.639142"
      ]
     },
     "execution_count": 177,
     "metadata": {},
     "output_type": "execute_result"
    }
   ],
   "source": [
    "tsdf.head().apply(pd.Series.interpolate, method='linear', order=2)"
   ]
  }
 ],
 "metadata": {
  "kernelspec": {
   "display_name": "Python 3 (ipykernel)",
   "language": "python",
   "name": "python3"
  },
  "language_info": {
   "codemirror_mode": {
    "name": "ipython",
    "version": 3
   },
   "file_extension": ".py",
   "mimetype": "text/x-python",
   "name": "python",
   "nbconvert_exporter": "python",
   "pygments_lexer": "ipython3",
   "version": "3.10.4"
  }
 },
 "nbformat": 4,
 "nbformat_minor": 5
}
