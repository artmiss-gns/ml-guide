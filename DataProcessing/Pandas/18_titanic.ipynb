{
 "cells": [
  {
   "cell_type": "code",
   "execution_count": 60,
   "id": "b56f2c0c-9cc0-4ec2-9afa-4595e9e91516",
   "metadata": {},
   "outputs": [],
   "source": [
    "import numpy as np\n",
    "import pandas as pd\n",
    "import seaborn as sns\n",
    "import matplotlib.pyplot as plt\n",
    "%matplotlib inline"
   ]
  },
  {
   "cell_type": "code",
   "execution_count": 2,
   "id": "1d916df2-82d2-4fb8-a751-c5ef4a9a622c",
   "metadata": {},
   "outputs": [
    {
     "data": {
      "text/html": [
       "<div>\n",
       "<style scoped>\n",
       "    .dataframe tbody tr th:only-of-type {\n",
       "        vertical-align: middle;\n",
       "    }\n",
       "\n",
       "    .dataframe tbody tr th {\n",
       "        vertical-align: top;\n",
       "    }\n",
       "\n",
       "    .dataframe thead th {\n",
       "        text-align: right;\n",
       "    }\n",
       "</style>\n",
       "<table border=\"1\" class=\"dataframe\">\n",
       "  <thead>\n",
       "    <tr style=\"text-align: right;\">\n",
       "      <th></th>\n",
       "      <th>survived</th>\n",
       "      <th>pclass</th>\n",
       "      <th>sex</th>\n",
       "      <th>age</th>\n",
       "      <th>sibsp</th>\n",
       "      <th>parch</th>\n",
       "      <th>fare</th>\n",
       "      <th>embarked</th>\n",
       "      <th>class</th>\n",
       "      <th>who</th>\n",
       "      <th>adult_male</th>\n",
       "      <th>deck</th>\n",
       "      <th>embark_town</th>\n",
       "      <th>alive</th>\n",
       "      <th>alone</th>\n",
       "    </tr>\n",
       "  </thead>\n",
       "  <tbody>\n",
       "    <tr>\n",
       "      <th>0</th>\n",
       "      <td>0</td>\n",
       "      <td>3</td>\n",
       "      <td>male</td>\n",
       "      <td>22.0</td>\n",
       "      <td>1</td>\n",
       "      <td>0</td>\n",
       "      <td>7.2500</td>\n",
       "      <td>S</td>\n",
       "      <td>Third</td>\n",
       "      <td>man</td>\n",
       "      <td>True</td>\n",
       "      <td>NaN</td>\n",
       "      <td>Southampton</td>\n",
       "      <td>no</td>\n",
       "      <td>False</td>\n",
       "    </tr>\n",
       "    <tr>\n",
       "      <th>1</th>\n",
       "      <td>1</td>\n",
       "      <td>1</td>\n",
       "      <td>female</td>\n",
       "      <td>38.0</td>\n",
       "      <td>1</td>\n",
       "      <td>0</td>\n",
       "      <td>71.2833</td>\n",
       "      <td>C</td>\n",
       "      <td>First</td>\n",
       "      <td>woman</td>\n",
       "      <td>False</td>\n",
       "      <td>C</td>\n",
       "      <td>Cherbourg</td>\n",
       "      <td>yes</td>\n",
       "      <td>False</td>\n",
       "    </tr>\n",
       "    <tr>\n",
       "      <th>2</th>\n",
       "      <td>1</td>\n",
       "      <td>3</td>\n",
       "      <td>female</td>\n",
       "      <td>26.0</td>\n",
       "      <td>0</td>\n",
       "      <td>0</td>\n",
       "      <td>7.9250</td>\n",
       "      <td>S</td>\n",
       "      <td>Third</td>\n",
       "      <td>woman</td>\n",
       "      <td>False</td>\n",
       "      <td>NaN</td>\n",
       "      <td>Southampton</td>\n",
       "      <td>yes</td>\n",
       "      <td>True</td>\n",
       "    </tr>\n",
       "    <tr>\n",
       "      <th>3</th>\n",
       "      <td>1</td>\n",
       "      <td>1</td>\n",
       "      <td>female</td>\n",
       "      <td>35.0</td>\n",
       "      <td>1</td>\n",
       "      <td>0</td>\n",
       "      <td>53.1000</td>\n",
       "      <td>S</td>\n",
       "      <td>First</td>\n",
       "      <td>woman</td>\n",
       "      <td>False</td>\n",
       "      <td>C</td>\n",
       "      <td>Southampton</td>\n",
       "      <td>yes</td>\n",
       "      <td>False</td>\n",
       "    </tr>\n",
       "    <tr>\n",
       "      <th>4</th>\n",
       "      <td>0</td>\n",
       "      <td>3</td>\n",
       "      <td>male</td>\n",
       "      <td>35.0</td>\n",
       "      <td>0</td>\n",
       "      <td>0</td>\n",
       "      <td>8.0500</td>\n",
       "      <td>S</td>\n",
       "      <td>Third</td>\n",
       "      <td>man</td>\n",
       "      <td>True</td>\n",
       "      <td>NaN</td>\n",
       "      <td>Southampton</td>\n",
       "      <td>no</td>\n",
       "      <td>True</td>\n",
       "    </tr>\n",
       "  </tbody>\n",
       "</table>\n",
       "</div>"
      ],
      "text/plain": [
       "   survived  pclass     sex   age  sibsp  parch     fare embarked  class  \\\n",
       "0         0       3    male  22.0      1      0   7.2500        S  Third   \n",
       "1         1       1  female  38.0      1      0  71.2833        C  First   \n",
       "2         1       3  female  26.0      0      0   7.9250        S  Third   \n",
       "3         1       1  female  35.0      1      0  53.1000        S  First   \n",
       "4         0       3    male  35.0      0      0   8.0500        S  Third   \n",
       "\n",
       "     who  adult_male deck  embark_town alive  alone  \n",
       "0    man        True  NaN  Southampton    no  False  \n",
       "1  woman       False    C    Cherbourg   yes  False  \n",
       "2  woman       False  NaN  Southampton   yes   True  \n",
       "3  woman       False    C  Southampton   yes  False  \n",
       "4    man        True  NaN  Southampton    no   True  "
      ]
     },
     "execution_count": 2,
     "metadata": {},
     "output_type": "execute_result"
    }
   ],
   "source": [
    "df = sns.load_dataset('titanic')\n",
    "df.head()"
   ]
  },
  {
   "cell_type": "markdown",
   "id": "3560cf1f-8371-45fd-ab4e-837d343076f4",
   "metadata": {},
   "source": [
    "## Check DataTypes"
   ]
  },
  {
   "cell_type": "code",
   "execution_count": 3,
   "id": "0cfd10a2-23f2-44b9-8c17-4c9a96b12fdb",
   "metadata": {},
   "outputs": [
    {
     "name": "stdout",
     "output_type": "stream",
     "text": [
      "<class 'pandas.core.frame.DataFrame'>\n",
      "RangeIndex: 891 entries, 0 to 890\n",
      "Data columns (total 15 columns):\n",
      " #   Column       Non-Null Count  Dtype   \n",
      "---  ------       --------------  -----   \n",
      " 0   survived     891 non-null    int64   \n",
      " 1   pclass       891 non-null    int64   \n",
      " 2   sex          891 non-null    object  \n",
      " 3   age          714 non-null    float64 \n",
      " 4   sibsp        891 non-null    int64   \n",
      " 5   parch        891 non-null    int64   \n",
      " 6   fare         891 non-null    float64 \n",
      " 7   embarked     889 non-null    object  \n",
      " 8   class        891 non-null    category\n",
      " 9   who          891 non-null    object  \n",
      " 10  adult_male   891 non-null    bool    \n",
      " 11  deck         203 non-null    category\n",
      " 12  embark_town  889 non-null    object  \n",
      " 13  alive        891 non-null    object  \n",
      " 14  alone        891 non-null    bool    \n",
      "dtypes: bool(2), category(2), float64(2), int64(4), object(5)\n",
      "memory usage: 80.7+ KB\n"
     ]
    }
   ],
   "source": [
    "df.info()"
   ]
  },
  {
   "cell_type": "code",
   "execution_count": 4,
   "id": "72eacf9a-7694-40cd-8632-ab786714062d",
   "metadata": {},
   "outputs": [
    {
     "data": {
      "text/plain": [
       "survived          int64\n",
       "pclass            int64\n",
       "sex              object\n",
       "age             float64\n",
       "sibsp             int64\n",
       "parch             int64\n",
       "fare            float64\n",
       "embarked         object\n",
       "class          category\n",
       "who              object\n",
       "adult_male         bool\n",
       "deck           category\n",
       "embark_town      object\n",
       "alive            object\n",
       "alone              bool\n",
       "dtype: object"
      ]
     },
     "execution_count": 4,
     "metadata": {},
     "output_type": "execute_result"
    }
   ],
   "source": [
    "df.dtypes"
   ]
  },
  {
   "cell_type": "markdown",
   "id": "7f15e700-b82a-424c-a1fe-a6c115d8f7a7",
   "metadata": {},
   "source": [
    "#### fixing datatypes"
   ]
  },
  {
   "cell_type": "code",
   "execution_count": 5,
   "id": "581015da-a9e5-4f6e-a7b0-4f0401fab74f",
   "metadata": {},
   "outputs": [
    {
     "data": {
      "text/plain": [
       "{'sex': 2, 'embarked': 3, 'who': 3, 'embark_town': 3, 'alive': 2}"
      ]
     },
     "execution_count": 5,
     "metadata": {},
     "output_type": "execute_result"
    }
   ],
   "source": [
    "{col: df[col].nunique() for col in df if df[col].dtype == 'object'}"
   ]
  },
  {
   "cell_type": "code",
   "execution_count": 6,
   "id": "b4ea57dc-b586-4bb7-a3a8-78ce276d3d47",
   "metadata": {},
   "outputs": [
    {
     "data": {
      "text/html": [
       "<div>\n",
       "<style scoped>\n",
       "    .dataframe tbody tr th:only-of-type {\n",
       "        vertical-align: middle;\n",
       "    }\n",
       "\n",
       "    .dataframe tbody tr th {\n",
       "        vertical-align: top;\n",
       "    }\n",
       "\n",
       "    .dataframe thead th {\n",
       "        text-align: right;\n",
       "    }\n",
       "</style>\n",
       "<table border=\"1\" class=\"dataframe\">\n",
       "  <thead>\n",
       "    <tr style=\"text-align: right;\">\n",
       "      <th></th>\n",
       "      <th>survived</th>\n",
       "      <th>pclass</th>\n",
       "      <th>sex</th>\n",
       "      <th>age</th>\n",
       "      <th>sibsp</th>\n",
       "      <th>parch</th>\n",
       "      <th>fare</th>\n",
       "      <th>embarked</th>\n",
       "      <th>class</th>\n",
       "      <th>who</th>\n",
       "      <th>adult_male</th>\n",
       "      <th>deck</th>\n",
       "      <th>embark_town</th>\n",
       "      <th>alive</th>\n",
       "      <th>alone</th>\n",
       "    </tr>\n",
       "  </thead>\n",
       "  <tbody>\n",
       "    <tr>\n",
       "      <th>0</th>\n",
       "      <td>0</td>\n",
       "      <td>3</td>\n",
       "      <td>male</td>\n",
       "      <td>22.0</td>\n",
       "      <td>1</td>\n",
       "      <td>0</td>\n",
       "      <td>7.2500</td>\n",
       "      <td>S</td>\n",
       "      <td>Third</td>\n",
       "      <td>man</td>\n",
       "      <td>True</td>\n",
       "      <td>NaN</td>\n",
       "      <td>Southampton</td>\n",
       "      <td>no</td>\n",
       "      <td>False</td>\n",
       "    </tr>\n",
       "    <tr>\n",
       "      <th>1</th>\n",
       "      <td>1</td>\n",
       "      <td>1</td>\n",
       "      <td>female</td>\n",
       "      <td>38.0</td>\n",
       "      <td>1</td>\n",
       "      <td>0</td>\n",
       "      <td>71.2833</td>\n",
       "      <td>C</td>\n",
       "      <td>First</td>\n",
       "      <td>woman</td>\n",
       "      <td>False</td>\n",
       "      <td>C</td>\n",
       "      <td>Cherbourg</td>\n",
       "      <td>yes</td>\n",
       "      <td>False</td>\n",
       "    </tr>\n",
       "    <tr>\n",
       "      <th>2</th>\n",
       "      <td>1</td>\n",
       "      <td>3</td>\n",
       "      <td>female</td>\n",
       "      <td>26.0</td>\n",
       "      <td>0</td>\n",
       "      <td>0</td>\n",
       "      <td>7.9250</td>\n",
       "      <td>S</td>\n",
       "      <td>Third</td>\n",
       "      <td>woman</td>\n",
       "      <td>False</td>\n",
       "      <td>NaN</td>\n",
       "      <td>Southampton</td>\n",
       "      <td>yes</td>\n",
       "      <td>True</td>\n",
       "    </tr>\n",
       "    <tr>\n",
       "      <th>3</th>\n",
       "      <td>1</td>\n",
       "      <td>1</td>\n",
       "      <td>female</td>\n",
       "      <td>35.0</td>\n",
       "      <td>1</td>\n",
       "      <td>0</td>\n",
       "      <td>53.1000</td>\n",
       "      <td>S</td>\n",
       "      <td>First</td>\n",
       "      <td>woman</td>\n",
       "      <td>False</td>\n",
       "      <td>C</td>\n",
       "      <td>Southampton</td>\n",
       "      <td>yes</td>\n",
       "      <td>False</td>\n",
       "    </tr>\n",
       "    <tr>\n",
       "      <th>4</th>\n",
       "      <td>0</td>\n",
       "      <td>3</td>\n",
       "      <td>male</td>\n",
       "      <td>35.0</td>\n",
       "      <td>0</td>\n",
       "      <td>0</td>\n",
       "      <td>8.0500</td>\n",
       "      <td>S</td>\n",
       "      <td>Third</td>\n",
       "      <td>man</td>\n",
       "      <td>True</td>\n",
       "      <td>NaN</td>\n",
       "      <td>Southampton</td>\n",
       "      <td>no</td>\n",
       "      <td>True</td>\n",
       "    </tr>\n",
       "  </tbody>\n",
       "</table>\n",
       "</div>"
      ],
      "text/plain": [
       "   survived  pclass     sex   age  sibsp  parch     fare embarked  class  \\\n",
       "0         0       3    male  22.0      1      0   7.2500        S  Third   \n",
       "1         1       1  female  38.0      1      0  71.2833        C  First   \n",
       "2         1       3  female  26.0      0      0   7.9250        S  Third   \n",
       "3         1       1  female  35.0      1      0  53.1000        S  First   \n",
       "4         0       3    male  35.0      0      0   8.0500        S  Third   \n",
       "\n",
       "     who  adult_male deck  embark_town alive  alone  \n",
       "0    man        True  NaN  Southampton    no  False  \n",
       "1  woman       False    C    Cherbourg   yes  False  \n",
       "2  woman       False  NaN  Southampton   yes   True  \n",
       "3  woman       False    C  Southampton   yes  False  \n",
       "4    man        True  NaN  Southampton    no   True  "
      ]
     },
     "execution_count": 6,
     "metadata": {},
     "output_type": "execute_result"
    }
   ],
   "source": [
    "df = df.astype({\n",
    "    'sex': 'category',\n",
    "    'embarked': 'category',\n",
    "    'who': 'category',\n",
    "    'embark_town': 'category',\n",
    "    'alive': 'category',\n",
    "    }\n",
    ")\n",
    "df.head()"
   ]
  },
  {
   "cell_type": "code",
   "execution_count": 7,
   "id": "94f14a08-5716-41b3-b0be-5de2241c5dad",
   "metadata": {},
   "outputs": [
    {
     "data": {
      "text/html": [
       "<div>\n",
       "<style scoped>\n",
       "    .dataframe tbody tr th:only-of-type {\n",
       "        vertical-align: middle;\n",
       "    }\n",
       "\n",
       "    .dataframe tbody tr th {\n",
       "        vertical-align: top;\n",
       "    }\n",
       "\n",
       "    .dataframe thead th {\n",
       "        text-align: right;\n",
       "    }\n",
       "</style>\n",
       "<table border=\"1\" class=\"dataframe\">\n",
       "  <thead>\n",
       "    <tr style=\"text-align: right;\">\n",
       "      <th></th>\n",
       "      <th>survived</th>\n",
       "      <th>pclass</th>\n",
       "      <th>sex</th>\n",
       "      <th>age</th>\n",
       "      <th>sibsp</th>\n",
       "      <th>parch</th>\n",
       "      <th>fare</th>\n",
       "      <th>embarked</th>\n",
       "      <th>class</th>\n",
       "      <th>who</th>\n",
       "      <th>adult_male</th>\n",
       "      <th>deck</th>\n",
       "      <th>embark_town</th>\n",
       "      <th>alive</th>\n",
       "      <th>alone</th>\n",
       "    </tr>\n",
       "  </thead>\n",
       "  <tbody>\n",
       "    <tr>\n",
       "      <th>0</th>\n",
       "      <td>0</td>\n",
       "      <td>3</td>\n",
       "      <td>1</td>\n",
       "      <td>22.0</td>\n",
       "      <td>1</td>\n",
       "      <td>0</td>\n",
       "      <td>7.2500</td>\n",
       "      <td>S</td>\n",
       "      <td>Third</td>\n",
       "      <td>man</td>\n",
       "      <td>True</td>\n",
       "      <td>NaN</td>\n",
       "      <td>Southampton</td>\n",
       "      <td>0</td>\n",
       "      <td>False</td>\n",
       "    </tr>\n",
       "    <tr>\n",
       "      <th>1</th>\n",
       "      <td>1</td>\n",
       "      <td>1</td>\n",
       "      <td>0</td>\n",
       "      <td>38.0</td>\n",
       "      <td>1</td>\n",
       "      <td>0</td>\n",
       "      <td>71.2833</td>\n",
       "      <td>C</td>\n",
       "      <td>First</td>\n",
       "      <td>woman</td>\n",
       "      <td>False</td>\n",
       "      <td>C</td>\n",
       "      <td>Cherbourg</td>\n",
       "      <td>1</td>\n",
       "      <td>False</td>\n",
       "    </tr>\n",
       "    <tr>\n",
       "      <th>2</th>\n",
       "      <td>1</td>\n",
       "      <td>3</td>\n",
       "      <td>0</td>\n",
       "      <td>26.0</td>\n",
       "      <td>0</td>\n",
       "      <td>0</td>\n",
       "      <td>7.9250</td>\n",
       "      <td>S</td>\n",
       "      <td>Third</td>\n",
       "      <td>woman</td>\n",
       "      <td>False</td>\n",
       "      <td>NaN</td>\n",
       "      <td>Southampton</td>\n",
       "      <td>1</td>\n",
       "      <td>True</td>\n",
       "    </tr>\n",
       "    <tr>\n",
       "      <th>3</th>\n",
       "      <td>1</td>\n",
       "      <td>1</td>\n",
       "      <td>0</td>\n",
       "      <td>35.0</td>\n",
       "      <td>1</td>\n",
       "      <td>0</td>\n",
       "      <td>53.1000</td>\n",
       "      <td>S</td>\n",
       "      <td>First</td>\n",
       "      <td>woman</td>\n",
       "      <td>False</td>\n",
       "      <td>C</td>\n",
       "      <td>Southampton</td>\n",
       "      <td>1</td>\n",
       "      <td>False</td>\n",
       "    </tr>\n",
       "    <tr>\n",
       "      <th>4</th>\n",
       "      <td>0</td>\n",
       "      <td>3</td>\n",
       "      <td>1</td>\n",
       "      <td>35.0</td>\n",
       "      <td>0</td>\n",
       "      <td>0</td>\n",
       "      <td>8.0500</td>\n",
       "      <td>S</td>\n",
       "      <td>Third</td>\n",
       "      <td>man</td>\n",
       "      <td>True</td>\n",
       "      <td>NaN</td>\n",
       "      <td>Southampton</td>\n",
       "      <td>0</td>\n",
       "      <td>True</td>\n",
       "    </tr>\n",
       "  </tbody>\n",
       "</table>\n",
       "</div>"
      ],
      "text/plain": [
       "   survived  pclass  sex   age  sibsp  parch     fare embarked  class    who  \\\n",
       "0         0       3    1  22.0      1      0   7.2500        S  Third    man   \n",
       "1         1       1    0  38.0      1      0  71.2833        C  First  woman   \n",
       "2         1       3    0  26.0      0      0   7.9250        S  Third  woman   \n",
       "3         1       1    0  35.0      1      0  53.1000        S  First  woman   \n",
       "4         0       3    1  35.0      0      0   8.0500        S  Third    man   \n",
       "\n",
       "   adult_male deck  embark_town  alive  alone  \n",
       "0        True  NaN  Southampton      0  False  \n",
       "1       False    C    Cherbourg      1  False  \n",
       "2       False  NaN  Southampton      1   True  \n",
       "3       False    C  Southampton      1  False  \n",
       "4        True  NaN  Southampton      0   True  "
      ]
     },
     "execution_count": 7,
     "metadata": {},
     "output_type": "execute_result"
    }
   ],
   "source": [
    "df.sex = df.sex.cat.codes\n",
    "df.alive = df.alive.cat.codes\n",
    "df.head()"
   ]
  },
  {
   "cell_type": "markdown",
   "id": "12d3c164-ee00-412b-a1c4-053b5d0d34ca",
   "metadata": {},
   "source": [
    "it seems that `embarked` and `embark_town` are similar, lets check this :"
   ]
  },
  {
   "cell_type": "code",
   "execution_count": 8,
   "id": "a0f90f94-0b34-458a-b8da-5abaa519451c",
   "metadata": {},
   "outputs": [
    {
     "data": {
      "text/plain": [
       "True"
      ]
     },
     "execution_count": 8,
     "metadata": {},
     "output_type": "execute_result"
    }
   ],
   "source": [
    "df['embarked'].equals(\n",
    "    df['embark_town'].apply(lambda city: city[0])\n",
    ")"
   ]
  },
  {
   "cell_type": "markdown",
   "id": "ba460035-b60b-4915-a744-6fd45c8b16f6",
   "metadata": {},
   "source": [
    "our guess is correct, lets drop embarked column :"
   ]
  },
  {
   "cell_type": "code",
   "execution_count": 9,
   "id": "f6176660-9b7d-480f-b3b4-b5532589b458",
   "metadata": {},
   "outputs": [],
   "source": [
    "df = df.drop('embarked', axis=1)"
   ]
  },
  {
   "cell_type": "markdown",
   "id": "b2c8822b-ee1d-45dc-9066-66e01b7b68bf",
   "metadata": {},
   "source": [
    "<br> also, if you check, some columns seem to be the same, let's check them <br>\n",
    "if they are the same, drop them"
   ]
  },
  {
   "cell_type": "code",
   "execution_count": 10,
   "id": "faa3ac52-0a2a-483a-bc76-c7cd0766a7ce",
   "metadata": {},
   "outputs": [
    {
     "data": {
      "text/plain": [
       "0      man\n",
       "1    woman\n",
       "2    woman\n",
       "3    woman\n",
       "4      man\n",
       "Name: who, dtype: category\n",
       "Categories (3, object): ['child', 'man', 'woman']"
      ]
     },
     "execution_count": 10,
     "metadata": {},
     "output_type": "execute_result"
    }
   ],
   "source": [
    "df['who'].head()"
   ]
  },
  {
   "cell_type": "code",
   "execution_count": 11,
   "id": "14f60b13-ffea-4bbf-ad4d-3252e4953df0",
   "metadata": {},
   "outputs": [
    {
     "data": {
      "text/plain": [
       "0    1\n",
       "1    0\n",
       "2    0\n",
       "3    0\n",
       "4    1\n",
       "Name: sex, dtype: int8"
      ]
     },
     "execution_count": 11,
     "metadata": {},
     "output_type": "execute_result"
    }
   ],
   "source": [
    "df['sex'].head()"
   ]
  },
  {
   "cell_type": "code",
   "execution_count": 12,
   "id": "21d950c0-0245-4ee2-af8f-2a841603253a",
   "metadata": {},
   "outputs": [
    {
     "data": {
      "text/plain": [
       "3"
      ]
     },
     "execution_count": 12,
     "metadata": {},
     "output_type": "execute_result"
    }
   ],
   "source": [
    "df['who'].nunique()"
   ]
  },
  {
   "cell_type": "code",
   "execution_count": 13,
   "id": "044901f6-44c2-4c2c-9836-c4cd6d207ebc",
   "metadata": {},
   "outputs": [
    {
     "data": {
      "text/plain": [
       "2"
      ]
     },
     "execution_count": 13,
     "metadata": {},
     "output_type": "execute_result"
    }
   ],
   "source": [
    "df['sex'].nunique()"
   ]
  },
  {
   "cell_type": "markdown",
   "id": "810ba2d9-aa6d-4e6f-b335-afc67f01cf95",
   "metadata": {},
   "source": [
    "they are not the same"
   ]
  },
  {
   "cell_type": "markdown",
   "id": "a8eee876-fd59-4d18-afe7-9f30fc82f015",
   "metadata": {},
   "source": [
    "## check correlation"
   ]
  },
  {
   "cell_type": "code",
   "execution_count": 14,
   "id": "6a6b53f1-fc53-4d84-ad8d-716c83237e1d",
   "metadata": {},
   "outputs": [
    {
     "data": {
      "text/html": [
       "<style type=\"text/css\">\n",
       "#T_ba9b0_row0_col0, #T_ba9b0_row0_col8, #T_ba9b0_row1_col1, #T_ba9b0_row2_col2, #T_ba9b0_row3_col3, #T_ba9b0_row4_col4, #T_ba9b0_row5_col5, #T_ba9b0_row6_col6, #T_ba9b0_row7_col7, #T_ba9b0_row8_col0, #T_ba9b0_row8_col8, #T_ba9b0_row9_col9 {\n",
       "  background-color: #00441b;\n",
       "  color: #f1f1f1;\n",
       "}\n",
       "#T_ba9b0_row0_col1, #T_ba9b0_row5_col7, #T_ba9b0_row8_col1 {\n",
       "  background-color: #e3f4de;\n",
       "  color: #000000;\n",
       "}\n",
       "#T_ba9b0_row0_col2, #T_ba9b0_row0_col7, #T_ba9b0_row1_col3, #T_ba9b0_row1_col6, #T_ba9b0_row4_col9, #T_ba9b0_row5_col9, #T_ba9b0_row6_col1, #T_ba9b0_row7_col0, #T_ba9b0_row7_col8, #T_ba9b0_row8_col2, #T_ba9b0_row8_col7, #T_ba9b0_row9_col4, #T_ba9b0_row9_col5 {\n",
       "  background-color: #f7fcf5;\n",
       "  color: #000000;\n",
       "}\n",
       "#T_ba9b0_row0_col3, #T_ba9b0_row2_col5, #T_ba9b0_row8_col3 {\n",
       "  background-color: #d0edca;\n",
       "  color: #000000;\n",
       "}\n",
       "#T_ba9b0_row0_col4, #T_ba9b0_row8_col4 {\n",
       "  background-color: #aadda4;\n",
       "  color: #000000;\n",
       "}\n",
       "#T_ba9b0_row0_col5, #T_ba9b0_row1_col4, #T_ba9b0_row1_col7, #T_ba9b0_row8_col5 {\n",
       "  background-color: #91d28e;\n",
       "  color: #000000;\n",
       "}\n",
       "#T_ba9b0_row0_col6, #T_ba9b0_row6_col0, #T_ba9b0_row6_col8, #T_ba9b0_row8_col6 {\n",
       "  background-color: #6bc072;\n",
       "  color: #000000;\n",
       "}\n",
       "#T_ba9b0_row0_col9, #T_ba9b0_row6_col7, #T_ba9b0_row8_col9 {\n",
       "  background-color: #caeac3;\n",
       "  color: #000000;\n",
       "}\n",
       "#T_ba9b0_row1_col0, #T_ba9b0_row1_col8 {\n",
       "  background-color: #e2f4dd;\n",
       "  color: #000000;\n",
       "}\n",
       "#T_ba9b0_row1_col2, #T_ba9b0_row2_col1 {\n",
       "  background-color: #8ace88;\n",
       "  color: #000000;\n",
       "}\n",
       "#T_ba9b0_row1_col5 {\n",
       "  background-color: #9fd899;\n",
       "  color: #000000;\n",
       "}\n",
       "#T_ba9b0_row1_col9 {\n",
       "  background-color: #84cc83;\n",
       "  color: #000000;\n",
       "}\n",
       "#T_ba9b0_row2_col0, #T_ba9b0_row2_col8 {\n",
       "  background-color: #f6fcf4;\n",
       "  color: #000000;\n",
       "}\n",
       "#T_ba9b0_row2_col3, #T_ba9b0_row6_col3 {\n",
       "  background-color: #acdea6;\n",
       "  color: #000000;\n",
       "}\n",
       "#T_ba9b0_row2_col4 {\n",
       "  background-color: #bae3b3;\n",
       "  color: #000000;\n",
       "}\n",
       "#T_ba9b0_row2_col6, #T_ba9b0_row7_col6 {\n",
       "  background-color: #cbeac4;\n",
       "  color: #000000;\n",
       "}\n",
       "#T_ba9b0_row2_col7, #T_ba9b0_row7_col2 {\n",
       "  background-color: #005723;\n",
       "  color: #f1f1f1;\n",
       "}\n",
       "#T_ba9b0_row2_col9 {\n",
       "  background-color: #5bb86a;\n",
       "  color: #f1f1f1;\n",
       "}\n",
       "#T_ba9b0_row3_col0, #T_ba9b0_row3_col8 {\n",
       "  background-color: #b6e2af;\n",
       "  color: #000000;\n",
       "}\n",
       "#T_ba9b0_row3_col1 {\n",
       "  background-color: #e7f6e2;\n",
       "  color: #000000;\n",
       "}\n",
       "#T_ba9b0_row3_col2, #T_ba9b0_row5_col0, #T_ba9b0_row5_col8 {\n",
       "  background-color: #94d390;\n",
       "  color: #000000;\n",
       "}\n",
       "#T_ba9b0_row3_col4 {\n",
       "  background-color: #daf0d4;\n",
       "  color: #000000;\n",
       "}\n",
       "#T_ba9b0_row3_col5 {\n",
       "  background-color: #c8e9c1;\n",
       "  color: #000000;\n",
       "}\n",
       "#T_ba9b0_row3_col6, #T_ba9b0_row7_col1, #T_ba9b0_row9_col3 {\n",
       "  background-color: #92d28f;\n",
       "  color: #000000;\n",
       "}\n",
       "#T_ba9b0_row3_col7 {\n",
       "  background-color: #65bd6f;\n",
       "  color: #f1f1f1;\n",
       "}\n",
       "#T_ba9b0_row3_col9, #T_ba9b0_row5_col6 {\n",
       "  background-color: #76c578;\n",
       "  color: #000000;\n",
       "}\n",
       "#T_ba9b0_row4_col0, #T_ba9b0_row4_col8 {\n",
       "  background-color: #aedea7;\n",
       "  color: #000000;\n",
       "}\n",
       "#T_ba9b0_row4_col1 {\n",
       "  background-color: #95d391;\n",
       "  color: #000000;\n",
       "}\n",
       "#T_ba9b0_row4_col2 {\n",
       "  background-color: #bee5b8;\n",
       "  color: #000000;\n",
       "}\n",
       "#T_ba9b0_row4_col3 {\n",
       "  background-color: #f1faee;\n",
       "  color: #000000;\n",
       "}\n",
       "#T_ba9b0_row4_col5, #T_ba9b0_row5_col4 {\n",
       "  background-color: #3fa95c;\n",
       "  color: #f1f1f1;\n",
       "}\n",
       "#T_ba9b0_row4_col6 {\n",
       "  background-color: #83cb82;\n",
       "  color: #000000;\n",
       "}\n",
       "#T_ba9b0_row4_col7, #T_ba9b0_row5_col2 {\n",
       "  background-color: #d5efcf;\n",
       "  color: #000000;\n",
       "}\n",
       "#T_ba9b0_row5_col1 {\n",
       "  background-color: #a4da9e;\n",
       "  color: #000000;\n",
       "}\n",
       "#T_ba9b0_row5_col3 {\n",
       "  background-color: #e4f5df;\n",
       "  color: #000000;\n",
       "}\n",
       "#T_ba9b0_row6_col2 {\n",
       "  background-color: #cbebc5;\n",
       "  color: #000000;\n",
       "}\n",
       "#T_ba9b0_row6_col4 {\n",
       "  background-color: #7fc97f;\n",
       "  color: #000000;\n",
       "}\n",
       "#T_ba9b0_row6_col5 {\n",
       "  background-color: #72c375;\n",
       "  color: #000000;\n",
       "}\n",
       "#T_ba9b0_row6_col9 {\n",
       "  background-color: #d4eece;\n",
       "  color: #000000;\n",
       "}\n",
       "#T_ba9b0_row7_col3 {\n",
       "  background-color: #7dc87e;\n",
       "  color: #000000;\n",
       "}\n",
       "#T_ba9b0_row7_col4 {\n",
       "  background-color: #d1edcb;\n",
       "  color: #000000;\n",
       "}\n",
       "#T_ba9b0_row7_col5 {\n",
       "  background-color: #e0f3db;\n",
       "  color: #000000;\n",
       "}\n",
       "#T_ba9b0_row7_col9 {\n",
       "  background-color: #42ab5d;\n",
       "  color: #f1f1f1;\n",
       "}\n",
       "#T_ba9b0_row9_col0, #T_ba9b0_row9_col8 {\n",
       "  background-color: #ccebc6;\n",
       "  color: #000000;\n",
       "}\n",
       "#T_ba9b0_row9_col1 {\n",
       "  background-color: #88ce87;\n",
       "  color: #000000;\n",
       "}\n",
       "#T_ba9b0_row9_col2 {\n",
       "  background-color: #60ba6c;\n",
       "  color: #f1f1f1;\n",
       "}\n",
       "#T_ba9b0_row9_col6 {\n",
       "  background-color: #d9f0d3;\n",
       "  color: #000000;\n",
       "}\n",
       "#T_ba9b0_row9_col7 {\n",
       "  background-color: #43ac5e;\n",
       "  color: #f1f1f1;\n",
       "}\n",
       "</style>\n",
       "<table id=\"T_ba9b0\">\n",
       "  <thead>\n",
       "    <tr>\n",
       "      <th class=\"blank level0\" >&nbsp;</th>\n",
       "      <th id=\"T_ba9b0_level0_col0\" class=\"col_heading level0 col0\" >survived</th>\n",
       "      <th id=\"T_ba9b0_level0_col1\" class=\"col_heading level0 col1\" >pclass</th>\n",
       "      <th id=\"T_ba9b0_level0_col2\" class=\"col_heading level0 col2\" >sex</th>\n",
       "      <th id=\"T_ba9b0_level0_col3\" class=\"col_heading level0 col3\" >age</th>\n",
       "      <th id=\"T_ba9b0_level0_col4\" class=\"col_heading level0 col4\" >sibsp</th>\n",
       "      <th id=\"T_ba9b0_level0_col5\" class=\"col_heading level0 col5\" >parch</th>\n",
       "      <th id=\"T_ba9b0_level0_col6\" class=\"col_heading level0 col6\" >fare</th>\n",
       "      <th id=\"T_ba9b0_level0_col7\" class=\"col_heading level0 col7\" >adult_male</th>\n",
       "      <th id=\"T_ba9b0_level0_col8\" class=\"col_heading level0 col8\" >alive</th>\n",
       "      <th id=\"T_ba9b0_level0_col9\" class=\"col_heading level0 col9\" >alone</th>\n",
       "    </tr>\n",
       "  </thead>\n",
       "  <tbody>\n",
       "    <tr>\n",
       "      <th id=\"T_ba9b0_level0_row0\" class=\"row_heading level0 row0\" >survived</th>\n",
       "      <td id=\"T_ba9b0_row0_col0\" class=\"data row0 col0\" >1.000000</td>\n",
       "      <td id=\"T_ba9b0_row0_col1\" class=\"data row0 col1\" >-0.338481</td>\n",
       "      <td id=\"T_ba9b0_row0_col2\" class=\"data row0 col2\" >-0.543351</td>\n",
       "      <td id=\"T_ba9b0_row0_col3\" class=\"data row0 col3\" >-0.077221</td>\n",
       "      <td id=\"T_ba9b0_row0_col4\" class=\"data row0 col4\" >-0.035322</td>\n",
       "      <td id=\"T_ba9b0_row0_col5\" class=\"data row0 col5\" >0.081629</td>\n",
       "      <td id=\"T_ba9b0_row0_col6\" class=\"data row0 col6\" >0.257307</td>\n",
       "      <td id=\"T_ba9b0_row0_col7\" class=\"data row0 col7\" >-0.557080</td>\n",
       "      <td id=\"T_ba9b0_row0_col8\" class=\"data row0 col8\" >1.000000</td>\n",
       "      <td id=\"T_ba9b0_row0_col9\" class=\"data row0 col9\" >-0.203367</td>\n",
       "    </tr>\n",
       "    <tr>\n",
       "      <th id=\"T_ba9b0_level0_row1\" class=\"row_heading level0 row1\" >pclass</th>\n",
       "      <td id=\"T_ba9b0_row1_col0\" class=\"data row1 col0\" >-0.338481</td>\n",
       "      <td id=\"T_ba9b0_row1_col1\" class=\"data row1 col1\" >1.000000</td>\n",
       "      <td id=\"T_ba9b0_row1_col2\" class=\"data row1 col2\" >0.131900</td>\n",
       "      <td id=\"T_ba9b0_row1_col3\" class=\"data row1 col3\" >-0.369226</td>\n",
       "      <td id=\"T_ba9b0_row1_col4\" class=\"data row1 col4\" >0.083081</td>\n",
       "      <td id=\"T_ba9b0_row1_col5\" class=\"data row1 col5\" >0.018443</td>\n",
       "      <td id=\"T_ba9b0_row1_col6\" class=\"data row1 col6\" >-0.549500</td>\n",
       "      <td id=\"T_ba9b0_row1_col7\" class=\"data row1 col7\" >0.094035</td>\n",
       "      <td id=\"T_ba9b0_row1_col8\" class=\"data row1 col8\" >-0.338481</td>\n",
       "      <td id=\"T_ba9b0_row1_col9\" class=\"data row1 col9\" >0.135207</td>\n",
       "    </tr>\n",
       "    <tr>\n",
       "      <th id=\"T_ba9b0_level0_row2\" class=\"row_heading level0 row2\" >sex</th>\n",
       "      <td id=\"T_ba9b0_row2_col0\" class=\"data row2 col0\" >-0.543351</td>\n",
       "      <td id=\"T_ba9b0_row2_col1\" class=\"data row2 col1\" >0.131900</td>\n",
       "      <td id=\"T_ba9b0_row2_col2\" class=\"data row2 col2\" >1.000000</td>\n",
       "      <td id=\"T_ba9b0_row2_col3\" class=\"data row2 col3\" >0.093254</td>\n",
       "      <td id=\"T_ba9b0_row2_col4\" class=\"data row2 col4\" >-0.114631</td>\n",
       "      <td id=\"T_ba9b0_row2_col5\" class=\"data row2 col5\" >-0.245489</td>\n",
       "      <td id=\"T_ba9b0_row2_col6\" class=\"data row2 col6\" >-0.182333</td>\n",
       "      <td id=\"T_ba9b0_row2_col7\" class=\"data row2 col7\" >0.908578</td>\n",
       "      <td id=\"T_ba9b0_row2_col8\" class=\"data row2 col8\" >-0.543351</td>\n",
       "      <td id=\"T_ba9b0_row2_col9\" class=\"data row2 col9\" >0.303646</td>\n",
       "    </tr>\n",
       "    <tr>\n",
       "      <th id=\"T_ba9b0_level0_row3\" class=\"row_heading level0 row3\" >age</th>\n",
       "      <td id=\"T_ba9b0_row3_col0\" class=\"data row3 col0\" >-0.077221</td>\n",
       "      <td id=\"T_ba9b0_row3_col1\" class=\"data row3 col1\" >-0.369226</td>\n",
       "      <td id=\"T_ba9b0_row3_col2\" class=\"data row3 col2\" >0.093254</td>\n",
       "      <td id=\"T_ba9b0_row3_col3\" class=\"data row3 col3\" >1.000000</td>\n",
       "      <td id=\"T_ba9b0_row3_col4\" class=\"data row3 col4\" >-0.308247</td>\n",
       "      <td id=\"T_ba9b0_row3_col5\" class=\"data row3 col5\" >-0.189119</td>\n",
       "      <td id=\"T_ba9b0_row3_col6\" class=\"data row3 col6\" >0.096067</td>\n",
       "      <td id=\"T_ba9b0_row3_col7\" class=\"data row3 col7\" >0.280328</td>\n",
       "      <td id=\"T_ba9b0_row3_col8\" class=\"data row3 col8\" >-0.077221</td>\n",
       "      <td id=\"T_ba9b0_row3_col9\" class=\"data row3 col9\" >0.198270</td>\n",
       "    </tr>\n",
       "    <tr>\n",
       "      <th id=\"T_ba9b0_level0_row4\" class=\"row_heading level0 row4\" >sibsp</th>\n",
       "      <td id=\"T_ba9b0_row4_col0\" class=\"data row4 col0\" >-0.035322</td>\n",
       "      <td id=\"T_ba9b0_row4_col1\" class=\"data row4 col1\" >0.083081</td>\n",
       "      <td id=\"T_ba9b0_row4_col2\" class=\"data row4 col2\" >-0.114631</td>\n",
       "      <td id=\"T_ba9b0_row4_col3\" class=\"data row4 col3\" >-0.308247</td>\n",
       "      <td id=\"T_ba9b0_row4_col4\" class=\"data row4 col4\" >1.000000</td>\n",
       "      <td id=\"T_ba9b0_row4_col5\" class=\"data row4 col5\" >0.414838</td>\n",
       "      <td id=\"T_ba9b0_row4_col6\" class=\"data row4 col6\" >0.159651</td>\n",
       "      <td id=\"T_ba9b0_row4_col7\" class=\"data row4 col7\" >-0.253586</td>\n",
       "      <td id=\"T_ba9b0_row4_col8\" class=\"data row4 col8\" >-0.035322</td>\n",
       "      <td id=\"T_ba9b0_row4_col9\" class=\"data row4 col9\" >-0.584471</td>\n",
       "    </tr>\n",
       "    <tr>\n",
       "      <th id=\"T_ba9b0_level0_row5\" class=\"row_heading level0 row5\" >parch</th>\n",
       "      <td id=\"T_ba9b0_row5_col0\" class=\"data row5 col0\" >0.081629</td>\n",
       "      <td id=\"T_ba9b0_row5_col1\" class=\"data row5 col1\" >0.018443</td>\n",
       "      <td id=\"T_ba9b0_row5_col2\" class=\"data row5 col2\" >-0.245489</td>\n",
       "      <td id=\"T_ba9b0_row5_col3\" class=\"data row5 col3\" >-0.189119</td>\n",
       "      <td id=\"T_ba9b0_row5_col4\" class=\"data row5 col4\" >0.414838</td>\n",
       "      <td id=\"T_ba9b0_row5_col5\" class=\"data row5 col5\" >1.000000</td>\n",
       "      <td id=\"T_ba9b0_row5_col6\" class=\"data row5 col6\" >0.216225</td>\n",
       "      <td id=\"T_ba9b0_row5_col7\" class=\"data row5 col7\" >-0.349943</td>\n",
       "      <td id=\"T_ba9b0_row5_col8\" class=\"data row5 col8\" >0.081629</td>\n",
       "      <td id=\"T_ba9b0_row5_col9\" class=\"data row5 col9\" >-0.583398</td>\n",
       "    </tr>\n",
       "    <tr>\n",
       "      <th id=\"T_ba9b0_level0_row6\" class=\"row_heading level0 row6\" >fare</th>\n",
       "      <td id=\"T_ba9b0_row6_col0\" class=\"data row6 col0\" >0.257307</td>\n",
       "      <td id=\"T_ba9b0_row6_col1\" class=\"data row6 col1\" >-0.549500</td>\n",
       "      <td id=\"T_ba9b0_row6_col2\" class=\"data row6 col2\" >-0.182333</td>\n",
       "      <td id=\"T_ba9b0_row6_col3\" class=\"data row6 col3\" >0.096067</td>\n",
       "      <td id=\"T_ba9b0_row6_col4\" class=\"data row6 col4\" >0.159651</td>\n",
       "      <td id=\"T_ba9b0_row6_col5\" class=\"data row6 col5\" >0.216225</td>\n",
       "      <td id=\"T_ba9b0_row6_col6\" class=\"data row6 col6\" >1.000000</td>\n",
       "      <td id=\"T_ba9b0_row6_col7\" class=\"data row6 col7\" >-0.182024</td>\n",
       "      <td id=\"T_ba9b0_row6_col8\" class=\"data row6 col8\" >0.257307</td>\n",
       "      <td id=\"T_ba9b0_row6_col9\" class=\"data row6 col9\" >-0.271832</td>\n",
       "    </tr>\n",
       "    <tr>\n",
       "      <th id=\"T_ba9b0_level0_row7\" class=\"row_heading level0 row7\" >adult_male</th>\n",
       "      <td id=\"T_ba9b0_row7_col0\" class=\"data row7 col0\" >-0.557080</td>\n",
       "      <td id=\"T_ba9b0_row7_col1\" class=\"data row7 col1\" >0.094035</td>\n",
       "      <td id=\"T_ba9b0_row7_col2\" class=\"data row7 col2\" >0.908578</td>\n",
       "      <td id=\"T_ba9b0_row7_col3\" class=\"data row7 col3\" >0.280328</td>\n",
       "      <td id=\"T_ba9b0_row7_col4\" class=\"data row7 col4\" >-0.253586</td>\n",
       "      <td id=\"T_ba9b0_row7_col5\" class=\"data row7 col5\" >-0.349943</td>\n",
       "      <td id=\"T_ba9b0_row7_col6\" class=\"data row7 col6\" >-0.182024</td>\n",
       "      <td id=\"T_ba9b0_row7_col7\" class=\"data row7 col7\" >1.000000</td>\n",
       "      <td id=\"T_ba9b0_row7_col8\" class=\"data row7 col8\" >-0.557080</td>\n",
       "      <td id=\"T_ba9b0_row7_col9\" class=\"data row7 col9\" >0.404744</td>\n",
       "    </tr>\n",
       "    <tr>\n",
       "      <th id=\"T_ba9b0_level0_row8\" class=\"row_heading level0 row8\" >alive</th>\n",
       "      <td id=\"T_ba9b0_row8_col0\" class=\"data row8 col0\" >1.000000</td>\n",
       "      <td id=\"T_ba9b0_row8_col1\" class=\"data row8 col1\" >-0.338481</td>\n",
       "      <td id=\"T_ba9b0_row8_col2\" class=\"data row8 col2\" >-0.543351</td>\n",
       "      <td id=\"T_ba9b0_row8_col3\" class=\"data row8 col3\" >-0.077221</td>\n",
       "      <td id=\"T_ba9b0_row8_col4\" class=\"data row8 col4\" >-0.035322</td>\n",
       "      <td id=\"T_ba9b0_row8_col5\" class=\"data row8 col5\" >0.081629</td>\n",
       "      <td id=\"T_ba9b0_row8_col6\" class=\"data row8 col6\" >0.257307</td>\n",
       "      <td id=\"T_ba9b0_row8_col7\" class=\"data row8 col7\" >-0.557080</td>\n",
       "      <td id=\"T_ba9b0_row8_col8\" class=\"data row8 col8\" >1.000000</td>\n",
       "      <td id=\"T_ba9b0_row8_col9\" class=\"data row8 col9\" >-0.203367</td>\n",
       "    </tr>\n",
       "    <tr>\n",
       "      <th id=\"T_ba9b0_level0_row9\" class=\"row_heading level0 row9\" >alone</th>\n",
       "      <td id=\"T_ba9b0_row9_col0\" class=\"data row9 col0\" >-0.203367</td>\n",
       "      <td id=\"T_ba9b0_row9_col1\" class=\"data row9 col1\" >0.135207</td>\n",
       "      <td id=\"T_ba9b0_row9_col2\" class=\"data row9 col2\" >0.303646</td>\n",
       "      <td id=\"T_ba9b0_row9_col3\" class=\"data row9 col3\" >0.198270</td>\n",
       "      <td id=\"T_ba9b0_row9_col4\" class=\"data row9 col4\" >-0.584471</td>\n",
       "      <td id=\"T_ba9b0_row9_col5\" class=\"data row9 col5\" >-0.583398</td>\n",
       "      <td id=\"T_ba9b0_row9_col6\" class=\"data row9 col6\" >-0.271832</td>\n",
       "      <td id=\"T_ba9b0_row9_col7\" class=\"data row9 col7\" >0.404744</td>\n",
       "      <td id=\"T_ba9b0_row9_col8\" class=\"data row9 col8\" >-0.203367</td>\n",
       "      <td id=\"T_ba9b0_row9_col9\" class=\"data row9 col9\" >1.000000</td>\n",
       "    </tr>\n",
       "  </tbody>\n",
       "</table>\n"
      ],
      "text/plain": [
       "<pandas.io.formats.style.Styler at 0x103a97d90>"
      ]
     },
     "execution_count": 14,
     "metadata": {},
     "output_type": "execute_result"
    }
   ],
   "source": [
    "df.corr().style.background_gradient(cmap='Greens')"
   ]
  },
  {
   "cell_type": "markdown",
   "id": "40b81142-bc7e-457a-922b-9bee785ee9e5",
   "metadata": {},
   "source": [
    "<br> <br>"
   ]
  },
  {
   "cell_type": "code",
   "execution_count": 15,
   "id": "3ec0e7c7-17d2-4127-9b0b-b5a874c0b684",
   "metadata": {},
   "outputs": [
    {
     "data": {
      "text/html": [
       "<style type=\"text/css\">\n",
       "#T_d6a5f_row0_col0, #T_d6a5f_row8_col0 {\n",
       "  background-color: #b40426;\n",
       "  color: #f1f1f1;\n",
       "}\n",
       "#T_d6a5f_row1_col0 {\n",
       "  background-color: #6687ed;\n",
       "  color: #f1f1f1;\n",
       "}\n",
       "#T_d6a5f_row2_col0 {\n",
       "  background-color: #3d50c3;\n",
       "  color: #f1f1f1;\n",
       "}\n",
       "#T_d6a5f_row3_col0 {\n",
       "  background-color: #a1c0ff;\n",
       "  color: #000000;\n",
       "}\n",
       "#T_d6a5f_row4_col0 {\n",
       "  background-color: #aac7fd;\n",
       "  color: #000000;\n",
       "}\n",
       "#T_d6a5f_row5_col0 {\n",
       "  background-color: #c4d5f3;\n",
       "  color: #000000;\n",
       "}\n",
       "#T_d6a5f_row6_col0 {\n",
       "  background-color: #e2dad5;\n",
       "  color: #000000;\n",
       "}\n",
       "#T_d6a5f_row7_col0 {\n",
       "  background-color: #3b4cc0;\n",
       "  color: #f1f1f1;\n",
       "}\n",
       "#T_d6a5f_row9_col0 {\n",
       "  background-color: #85a8fc;\n",
       "  color: #f1f1f1;\n",
       "}\n",
       "</style>\n",
       "<table id=\"T_d6a5f\">\n",
       "  <thead>\n",
       "    <tr>\n",
       "      <th class=\"blank level0\" >&nbsp;</th>\n",
       "      <th id=\"T_d6a5f_level0_col0\" class=\"col_heading level0 col0\" >survived</th>\n",
       "    </tr>\n",
       "  </thead>\n",
       "  <tbody>\n",
       "    <tr>\n",
       "      <th id=\"T_d6a5f_level0_row0\" class=\"row_heading level0 row0\" >survived</th>\n",
       "      <td id=\"T_d6a5f_row0_col0\" class=\"data row0 col0\" >1.000000</td>\n",
       "    </tr>\n",
       "    <tr>\n",
       "      <th id=\"T_d6a5f_level0_row1\" class=\"row_heading level0 row1\" >pclass</th>\n",
       "      <td id=\"T_d6a5f_row1_col0\" class=\"data row1 col0\" >-0.338481</td>\n",
       "    </tr>\n",
       "    <tr>\n",
       "      <th id=\"T_d6a5f_level0_row2\" class=\"row_heading level0 row2\" >sex</th>\n",
       "      <td id=\"T_d6a5f_row2_col0\" class=\"data row2 col0\" >-0.543351</td>\n",
       "    </tr>\n",
       "    <tr>\n",
       "      <th id=\"T_d6a5f_level0_row3\" class=\"row_heading level0 row3\" >age</th>\n",
       "      <td id=\"T_d6a5f_row3_col0\" class=\"data row3 col0\" >-0.077221</td>\n",
       "    </tr>\n",
       "    <tr>\n",
       "      <th id=\"T_d6a5f_level0_row4\" class=\"row_heading level0 row4\" >sibsp</th>\n",
       "      <td id=\"T_d6a5f_row4_col0\" class=\"data row4 col0\" >-0.035322</td>\n",
       "    </tr>\n",
       "    <tr>\n",
       "      <th id=\"T_d6a5f_level0_row5\" class=\"row_heading level0 row5\" >parch</th>\n",
       "      <td id=\"T_d6a5f_row5_col0\" class=\"data row5 col0\" >0.081629</td>\n",
       "    </tr>\n",
       "    <tr>\n",
       "      <th id=\"T_d6a5f_level0_row6\" class=\"row_heading level0 row6\" >fare</th>\n",
       "      <td id=\"T_d6a5f_row6_col0\" class=\"data row6 col0\" >0.257307</td>\n",
       "    </tr>\n",
       "    <tr>\n",
       "      <th id=\"T_d6a5f_level0_row7\" class=\"row_heading level0 row7\" >adult_male</th>\n",
       "      <td id=\"T_d6a5f_row7_col0\" class=\"data row7 col0\" >-0.557080</td>\n",
       "    </tr>\n",
       "    <tr>\n",
       "      <th id=\"T_d6a5f_level0_row8\" class=\"row_heading level0 row8\" >alive</th>\n",
       "      <td id=\"T_d6a5f_row8_col0\" class=\"data row8 col0\" >1.000000</td>\n",
       "    </tr>\n",
       "    <tr>\n",
       "      <th id=\"T_d6a5f_level0_row9\" class=\"row_heading level0 row9\" >alone</th>\n",
       "      <td id=\"T_d6a5f_row9_col0\" class=\"data row9 col0\" >-0.203367</td>\n",
       "    </tr>\n",
       "  </tbody>\n",
       "</table>\n"
      ],
      "text/plain": [
       "<pandas.io.formats.style.Styler at 0x128b526d0>"
      ]
     },
     "execution_count": 15,
     "metadata": {},
     "output_type": "execute_result"
    }
   ],
   "source": [
    "df.corr()[ ['survived'] ].style.background_gradient(cmap='coolwarm')"
   ]
  },
  {
   "cell_type": "markdown",
   "id": "67551cdd-434b-4621-a89e-246fb3db39a3",
   "metadata": {},
   "source": [
    "<br></br>\n",
    "you could also use `corrwith()`"
   ]
  },
  {
   "cell_type": "code",
   "execution_count": 16,
   "id": "67058d96-b558-4e8a-9d9b-da662fde33a2",
   "metadata": {},
   "outputs": [
    {
     "data": {
      "text/html": [
       "<style type=\"text/css\">\n",
       "#T_6ae83_row0_col0, #T_6ae83_row8_col0 {\n",
       "  background-color: #b40426;\n",
       "  color: #f1f1f1;\n",
       "}\n",
       "#T_6ae83_row1_col0 {\n",
       "  background-color: #6687ed;\n",
       "  color: #f1f1f1;\n",
       "}\n",
       "#T_6ae83_row2_col0 {\n",
       "  background-color: #3d50c3;\n",
       "  color: #f1f1f1;\n",
       "}\n",
       "#T_6ae83_row3_col0 {\n",
       "  background-color: #a1c0ff;\n",
       "  color: #000000;\n",
       "}\n",
       "#T_6ae83_row4_col0 {\n",
       "  background-color: #aac7fd;\n",
       "  color: #000000;\n",
       "}\n",
       "#T_6ae83_row5_col0 {\n",
       "  background-color: #c4d5f3;\n",
       "  color: #000000;\n",
       "}\n",
       "#T_6ae83_row6_col0 {\n",
       "  background-color: #e2dad5;\n",
       "  color: #000000;\n",
       "}\n",
       "#T_6ae83_row7_col0 {\n",
       "  background-color: #3b4cc0;\n",
       "  color: #f1f1f1;\n",
       "}\n",
       "#T_6ae83_row9_col0 {\n",
       "  background-color: #85a8fc;\n",
       "  color: #f1f1f1;\n",
       "}\n",
       "</style>\n",
       "<table id=\"T_6ae83\">\n",
       "  <thead>\n",
       "    <tr>\n",
       "      <th class=\"blank level0\" >&nbsp;</th>\n",
       "      <th id=\"T_6ae83_level0_col0\" class=\"col_heading level0 col0\" >0</th>\n",
       "    </tr>\n",
       "  </thead>\n",
       "  <tbody>\n",
       "    <tr>\n",
       "      <th id=\"T_6ae83_level0_row0\" class=\"row_heading level0 row0\" >survived</th>\n",
       "      <td id=\"T_6ae83_row0_col0\" class=\"data row0 col0\" >1.000000</td>\n",
       "    </tr>\n",
       "    <tr>\n",
       "      <th id=\"T_6ae83_level0_row1\" class=\"row_heading level0 row1\" >pclass</th>\n",
       "      <td id=\"T_6ae83_row1_col0\" class=\"data row1 col0\" >-0.338481</td>\n",
       "    </tr>\n",
       "    <tr>\n",
       "      <th id=\"T_6ae83_level0_row2\" class=\"row_heading level0 row2\" >sex</th>\n",
       "      <td id=\"T_6ae83_row2_col0\" class=\"data row2 col0\" >-0.543351</td>\n",
       "    </tr>\n",
       "    <tr>\n",
       "      <th id=\"T_6ae83_level0_row3\" class=\"row_heading level0 row3\" >age</th>\n",
       "      <td id=\"T_6ae83_row3_col0\" class=\"data row3 col0\" >-0.077221</td>\n",
       "    </tr>\n",
       "    <tr>\n",
       "      <th id=\"T_6ae83_level0_row4\" class=\"row_heading level0 row4\" >sibsp</th>\n",
       "      <td id=\"T_6ae83_row4_col0\" class=\"data row4 col0\" >-0.035322</td>\n",
       "    </tr>\n",
       "    <tr>\n",
       "      <th id=\"T_6ae83_level0_row5\" class=\"row_heading level0 row5\" >parch</th>\n",
       "      <td id=\"T_6ae83_row5_col0\" class=\"data row5 col0\" >0.081629</td>\n",
       "    </tr>\n",
       "    <tr>\n",
       "      <th id=\"T_6ae83_level0_row6\" class=\"row_heading level0 row6\" >fare</th>\n",
       "      <td id=\"T_6ae83_row6_col0\" class=\"data row6 col0\" >0.257307</td>\n",
       "    </tr>\n",
       "    <tr>\n",
       "      <th id=\"T_6ae83_level0_row7\" class=\"row_heading level0 row7\" >adult_male</th>\n",
       "      <td id=\"T_6ae83_row7_col0\" class=\"data row7 col0\" >-0.557080</td>\n",
       "    </tr>\n",
       "    <tr>\n",
       "      <th id=\"T_6ae83_level0_row8\" class=\"row_heading level0 row8\" >alive</th>\n",
       "      <td id=\"T_6ae83_row8_col0\" class=\"data row8 col0\" >1.000000</td>\n",
       "    </tr>\n",
       "    <tr>\n",
       "      <th id=\"T_6ae83_level0_row9\" class=\"row_heading level0 row9\" >alone</th>\n",
       "      <td id=\"T_6ae83_row9_col0\" class=\"data row9 col0\" >-0.203367</td>\n",
       "    </tr>\n",
       "  </tbody>\n",
       "</table>\n"
      ],
      "text/plain": [
       "<pandas.io.formats.style.Styler at 0x128b4ecd0>"
      ]
     },
     "execution_count": 16,
     "metadata": {},
     "output_type": "execute_result"
    }
   ],
   "source": [
    "df.corrwith(df['survived']).to_frame().style.background_gradient(cmap='coolwarm')"
   ]
  },
  {
   "cell_type": "markdown",
   "id": "bcac00f6-a44c-4b82-8b30-fa7e53eba75e",
   "metadata": {},
   "source": [
    "it seems that we have a good **negative** correlation between **survived** and **sex**  "
   ]
  },
  {
   "cell_type": "markdown",
   "id": "a2172892-f06b-4349-bb0e-a7710ae40b5c",
   "metadata": {},
   "source": [
    "<br> you can deffine your custom hihglites :"
   ]
  },
  {
   "cell_type": "code",
   "execution_count": 17,
   "id": "ff5e3464-6370-4074-a387-d91c68e4808a",
   "metadata": {},
   "outputs": [],
   "source": [
    "def highlight_cells(val, thresholds, abs_value=True):\n",
    "    red_thresh, yellow_thresh, green_thresh = thresholds\n",
    "    if abs_value:\n",
    "        val = abs(val)\n",
    "    \n",
    "    if val > green_thresh:\n",
    "        color = 'palegreen'\n",
    "    elif val > yellow_thresh:\n",
    "        color = 'yellow'\n",
    "    else:\n",
    "        color = ''\n",
    "    \n",
    "    return 'background-color: {}'.format(color)"
   ]
  },
  {
   "cell_type": "code",
   "execution_count": 18,
   "id": "ad7564df-917a-46cf-9ac8-86bd129195c2",
   "metadata": {},
   "outputs": [
    {
     "data": {
      "text/html": [
       "<style type=\"text/css\">\n",
       "#T_a2186_row0_col0, #T_a2186_row2_col0, #T_a2186_row7_col0, #T_a2186_row8_col0 {\n",
       "  background-color: palegreen;\n",
       "}\n",
       "#T_a2186_row1_col0, #T_a2186_row6_col0, #T_a2186_row9_col0 {\n",
       "  background-color: yellow;\n",
       "}\n",
       "#T_a2186_row3_col0, #T_a2186_row4_col0, #T_a2186_row5_col0 {\n",
       "  background-color: ;\n",
       "}\n",
       "</style>\n",
       "<table id=\"T_a2186\">\n",
       "  <thead>\n",
       "    <tr>\n",
       "      <th class=\"blank level0\" >&nbsp;</th>\n",
       "      <th id=\"T_a2186_level0_col0\" class=\"col_heading level0 col0\" >survived</th>\n",
       "    </tr>\n",
       "  </thead>\n",
       "  <tbody>\n",
       "    <tr>\n",
       "      <th id=\"T_a2186_level0_row0\" class=\"row_heading level0 row0\" >survived</th>\n",
       "      <td id=\"T_a2186_row0_col0\" class=\"data row0 col0\" >1.000000</td>\n",
       "    </tr>\n",
       "    <tr>\n",
       "      <th id=\"T_a2186_level0_row1\" class=\"row_heading level0 row1\" >pclass</th>\n",
       "      <td id=\"T_a2186_row1_col0\" class=\"data row1 col0\" >-0.338481</td>\n",
       "    </tr>\n",
       "    <tr>\n",
       "      <th id=\"T_a2186_level0_row2\" class=\"row_heading level0 row2\" >sex</th>\n",
       "      <td id=\"T_a2186_row2_col0\" class=\"data row2 col0\" >-0.543351</td>\n",
       "    </tr>\n",
       "    <tr>\n",
       "      <th id=\"T_a2186_level0_row3\" class=\"row_heading level0 row3\" >age</th>\n",
       "      <td id=\"T_a2186_row3_col0\" class=\"data row3 col0\" >-0.077221</td>\n",
       "    </tr>\n",
       "    <tr>\n",
       "      <th id=\"T_a2186_level0_row4\" class=\"row_heading level0 row4\" >sibsp</th>\n",
       "      <td id=\"T_a2186_row4_col0\" class=\"data row4 col0\" >-0.035322</td>\n",
       "    </tr>\n",
       "    <tr>\n",
       "      <th id=\"T_a2186_level0_row5\" class=\"row_heading level0 row5\" >parch</th>\n",
       "      <td id=\"T_a2186_row5_col0\" class=\"data row5 col0\" >0.081629</td>\n",
       "    </tr>\n",
       "    <tr>\n",
       "      <th id=\"T_a2186_level0_row6\" class=\"row_heading level0 row6\" >fare</th>\n",
       "      <td id=\"T_a2186_row6_col0\" class=\"data row6 col0\" >0.257307</td>\n",
       "    </tr>\n",
       "    <tr>\n",
       "      <th id=\"T_a2186_level0_row7\" class=\"row_heading level0 row7\" >adult_male</th>\n",
       "      <td id=\"T_a2186_row7_col0\" class=\"data row7 col0\" >-0.557080</td>\n",
       "    </tr>\n",
       "    <tr>\n",
       "      <th id=\"T_a2186_level0_row8\" class=\"row_heading level0 row8\" >alive</th>\n",
       "      <td id=\"T_a2186_row8_col0\" class=\"data row8 col0\" >1.000000</td>\n",
       "    </tr>\n",
       "    <tr>\n",
       "      <th id=\"T_a2186_level0_row9\" class=\"row_heading level0 row9\" >alone</th>\n",
       "      <td id=\"T_a2186_row9_col0\" class=\"data row9 col0\" >-0.203367</td>\n",
       "    </tr>\n",
       "  </tbody>\n",
       "</table>\n"
      ],
      "text/plain": [
       "<pandas.io.formats.style.Styler at 0x128b4e490>"
      ]
     },
     "execution_count": 18,
     "metadata": {},
     "output_type": "execute_result"
    }
   ],
   "source": [
    "df.corr()[ ['survived'] ].style.applymap(highlight_cells, thresholds=[0, 0.2, 0.5])"
   ]
  },
  {
   "cell_type": "markdown",
   "id": "ae036344-82a7-4f66-b259-07a1a522e6f2",
   "metadata": {},
   "source": [
    "<br> <br>"
   ]
  },
  {
   "cell_type": "code",
   "execution_count": 19,
   "id": "2e2beed6-b84b-4b26-a62e-267d9843e9d7",
   "metadata": {},
   "outputs": [
    {
     "data": {
      "text/html": [
       "<style type=\"text/css\">\n",
       "#T_4ecd0_row0_col3, #T_4ecd0_row1_col5, #T_4ecd0_row1_col7, #T_4ecd0_row1_col9, #T_4ecd0_row3_col2, #T_4ecd0_row3_col6, #T_4ecd0_row4_col0, #T_4ecd0_row4_col8, #T_4ecd0_row5_col1, #T_4ecd0_row8_col4 {\n",
       "  background-color: yellow;\n",
       "}\n",
       "</style>\n",
       "<table id=\"T_4ecd0\">\n",
       "  <thead>\n",
       "    <tr>\n",
       "      <th class=\"blank level0\" >&nbsp;</th>\n",
       "      <th id=\"T_4ecd0_level0_col0\" class=\"col_heading level0 col0\" >survived</th>\n",
       "      <th id=\"T_4ecd0_level0_col1\" class=\"col_heading level0 col1\" >pclass</th>\n",
       "      <th id=\"T_4ecd0_level0_col2\" class=\"col_heading level0 col2\" >sex</th>\n",
       "      <th id=\"T_4ecd0_level0_col3\" class=\"col_heading level0 col3\" >age</th>\n",
       "      <th id=\"T_4ecd0_level0_col4\" class=\"col_heading level0 col4\" >sibsp</th>\n",
       "      <th id=\"T_4ecd0_level0_col5\" class=\"col_heading level0 col5\" >parch</th>\n",
       "      <th id=\"T_4ecd0_level0_col6\" class=\"col_heading level0 col6\" >fare</th>\n",
       "      <th id=\"T_4ecd0_level0_col7\" class=\"col_heading level0 col7\" >adult_male</th>\n",
       "      <th id=\"T_4ecd0_level0_col8\" class=\"col_heading level0 col8\" >alive</th>\n",
       "      <th id=\"T_4ecd0_level0_col9\" class=\"col_heading level0 col9\" >alone</th>\n",
       "    </tr>\n",
       "  </thead>\n",
       "  <tbody>\n",
       "    <tr>\n",
       "      <th id=\"T_4ecd0_level0_row0\" class=\"row_heading level0 row0\" >survived</th>\n",
       "      <td id=\"T_4ecd0_row0_col0\" class=\"data row0 col0\" >1.000000</td>\n",
       "      <td id=\"T_4ecd0_row0_col1\" class=\"data row0 col1\" >0.338481</td>\n",
       "      <td id=\"T_4ecd0_row0_col2\" class=\"data row0 col2\" >0.543351</td>\n",
       "      <td id=\"T_4ecd0_row0_col3\" class=\"data row0 col3\" >0.077221</td>\n",
       "      <td id=\"T_4ecd0_row0_col4\" class=\"data row0 col4\" >0.035322</td>\n",
       "      <td id=\"T_4ecd0_row0_col5\" class=\"data row0 col5\" >0.081629</td>\n",
       "      <td id=\"T_4ecd0_row0_col6\" class=\"data row0 col6\" >0.257307</td>\n",
       "      <td id=\"T_4ecd0_row0_col7\" class=\"data row0 col7\" >0.557080</td>\n",
       "      <td id=\"T_4ecd0_row0_col8\" class=\"data row0 col8\" >1.000000</td>\n",
       "      <td id=\"T_4ecd0_row0_col9\" class=\"data row0 col9\" >0.203367</td>\n",
       "    </tr>\n",
       "    <tr>\n",
       "      <th id=\"T_4ecd0_level0_row1\" class=\"row_heading level0 row1\" >pclass</th>\n",
       "      <td id=\"T_4ecd0_row1_col0\" class=\"data row1 col0\" >0.338481</td>\n",
       "      <td id=\"T_4ecd0_row1_col1\" class=\"data row1 col1\" >1.000000</td>\n",
       "      <td id=\"T_4ecd0_row1_col2\" class=\"data row1 col2\" >0.131900</td>\n",
       "      <td id=\"T_4ecd0_row1_col3\" class=\"data row1 col3\" >0.369226</td>\n",
       "      <td id=\"T_4ecd0_row1_col4\" class=\"data row1 col4\" >0.083081</td>\n",
       "      <td id=\"T_4ecd0_row1_col5\" class=\"data row1 col5\" >0.018443</td>\n",
       "      <td id=\"T_4ecd0_row1_col6\" class=\"data row1 col6\" >0.549500</td>\n",
       "      <td id=\"T_4ecd0_row1_col7\" class=\"data row1 col7\" >0.094035</td>\n",
       "      <td id=\"T_4ecd0_row1_col8\" class=\"data row1 col8\" >0.338481</td>\n",
       "      <td id=\"T_4ecd0_row1_col9\" class=\"data row1 col9\" >0.135207</td>\n",
       "    </tr>\n",
       "    <tr>\n",
       "      <th id=\"T_4ecd0_level0_row2\" class=\"row_heading level0 row2\" >sex</th>\n",
       "      <td id=\"T_4ecd0_row2_col0\" class=\"data row2 col0\" >0.543351</td>\n",
       "      <td id=\"T_4ecd0_row2_col1\" class=\"data row2 col1\" >0.131900</td>\n",
       "      <td id=\"T_4ecd0_row2_col2\" class=\"data row2 col2\" >1.000000</td>\n",
       "      <td id=\"T_4ecd0_row2_col3\" class=\"data row2 col3\" >0.093254</td>\n",
       "      <td id=\"T_4ecd0_row2_col4\" class=\"data row2 col4\" >0.114631</td>\n",
       "      <td id=\"T_4ecd0_row2_col5\" class=\"data row2 col5\" >0.245489</td>\n",
       "      <td id=\"T_4ecd0_row2_col6\" class=\"data row2 col6\" >0.182333</td>\n",
       "      <td id=\"T_4ecd0_row2_col7\" class=\"data row2 col7\" >0.908578</td>\n",
       "      <td id=\"T_4ecd0_row2_col8\" class=\"data row2 col8\" >0.543351</td>\n",
       "      <td id=\"T_4ecd0_row2_col9\" class=\"data row2 col9\" >0.303646</td>\n",
       "    </tr>\n",
       "    <tr>\n",
       "      <th id=\"T_4ecd0_level0_row3\" class=\"row_heading level0 row3\" >age</th>\n",
       "      <td id=\"T_4ecd0_row3_col0\" class=\"data row3 col0\" >0.077221</td>\n",
       "      <td id=\"T_4ecd0_row3_col1\" class=\"data row3 col1\" >0.369226</td>\n",
       "      <td id=\"T_4ecd0_row3_col2\" class=\"data row3 col2\" >0.093254</td>\n",
       "      <td id=\"T_4ecd0_row3_col3\" class=\"data row3 col3\" >1.000000</td>\n",
       "      <td id=\"T_4ecd0_row3_col4\" class=\"data row3 col4\" >0.308247</td>\n",
       "      <td id=\"T_4ecd0_row3_col5\" class=\"data row3 col5\" >0.189119</td>\n",
       "      <td id=\"T_4ecd0_row3_col6\" class=\"data row3 col6\" >0.096067</td>\n",
       "      <td id=\"T_4ecd0_row3_col7\" class=\"data row3 col7\" >0.280328</td>\n",
       "      <td id=\"T_4ecd0_row3_col8\" class=\"data row3 col8\" >0.077221</td>\n",
       "      <td id=\"T_4ecd0_row3_col9\" class=\"data row3 col9\" >0.198270</td>\n",
       "    </tr>\n",
       "    <tr>\n",
       "      <th id=\"T_4ecd0_level0_row4\" class=\"row_heading level0 row4\" >sibsp</th>\n",
       "      <td id=\"T_4ecd0_row4_col0\" class=\"data row4 col0\" >0.035322</td>\n",
       "      <td id=\"T_4ecd0_row4_col1\" class=\"data row4 col1\" >0.083081</td>\n",
       "      <td id=\"T_4ecd0_row4_col2\" class=\"data row4 col2\" >0.114631</td>\n",
       "      <td id=\"T_4ecd0_row4_col3\" class=\"data row4 col3\" >0.308247</td>\n",
       "      <td id=\"T_4ecd0_row4_col4\" class=\"data row4 col4\" >1.000000</td>\n",
       "      <td id=\"T_4ecd0_row4_col5\" class=\"data row4 col5\" >0.414838</td>\n",
       "      <td id=\"T_4ecd0_row4_col6\" class=\"data row4 col6\" >0.159651</td>\n",
       "      <td id=\"T_4ecd0_row4_col7\" class=\"data row4 col7\" >0.253586</td>\n",
       "      <td id=\"T_4ecd0_row4_col8\" class=\"data row4 col8\" >0.035322</td>\n",
       "      <td id=\"T_4ecd0_row4_col9\" class=\"data row4 col9\" >0.584471</td>\n",
       "    </tr>\n",
       "    <tr>\n",
       "      <th id=\"T_4ecd0_level0_row5\" class=\"row_heading level0 row5\" >parch</th>\n",
       "      <td id=\"T_4ecd0_row5_col0\" class=\"data row5 col0\" >0.081629</td>\n",
       "      <td id=\"T_4ecd0_row5_col1\" class=\"data row5 col1\" >0.018443</td>\n",
       "      <td id=\"T_4ecd0_row5_col2\" class=\"data row5 col2\" >0.245489</td>\n",
       "      <td id=\"T_4ecd0_row5_col3\" class=\"data row5 col3\" >0.189119</td>\n",
       "      <td id=\"T_4ecd0_row5_col4\" class=\"data row5 col4\" >0.414838</td>\n",
       "      <td id=\"T_4ecd0_row5_col5\" class=\"data row5 col5\" >1.000000</td>\n",
       "      <td id=\"T_4ecd0_row5_col6\" class=\"data row5 col6\" >0.216225</td>\n",
       "      <td id=\"T_4ecd0_row5_col7\" class=\"data row5 col7\" >0.349943</td>\n",
       "      <td id=\"T_4ecd0_row5_col8\" class=\"data row5 col8\" >0.081629</td>\n",
       "      <td id=\"T_4ecd0_row5_col9\" class=\"data row5 col9\" >0.583398</td>\n",
       "    </tr>\n",
       "    <tr>\n",
       "      <th id=\"T_4ecd0_level0_row6\" class=\"row_heading level0 row6\" >fare</th>\n",
       "      <td id=\"T_4ecd0_row6_col0\" class=\"data row6 col0\" >0.257307</td>\n",
       "      <td id=\"T_4ecd0_row6_col1\" class=\"data row6 col1\" >0.549500</td>\n",
       "      <td id=\"T_4ecd0_row6_col2\" class=\"data row6 col2\" >0.182333</td>\n",
       "      <td id=\"T_4ecd0_row6_col3\" class=\"data row6 col3\" >0.096067</td>\n",
       "      <td id=\"T_4ecd0_row6_col4\" class=\"data row6 col4\" >0.159651</td>\n",
       "      <td id=\"T_4ecd0_row6_col5\" class=\"data row6 col5\" >0.216225</td>\n",
       "      <td id=\"T_4ecd0_row6_col6\" class=\"data row6 col6\" >1.000000</td>\n",
       "      <td id=\"T_4ecd0_row6_col7\" class=\"data row6 col7\" >0.182024</td>\n",
       "      <td id=\"T_4ecd0_row6_col8\" class=\"data row6 col8\" >0.257307</td>\n",
       "      <td id=\"T_4ecd0_row6_col9\" class=\"data row6 col9\" >0.271832</td>\n",
       "    </tr>\n",
       "    <tr>\n",
       "      <th id=\"T_4ecd0_level0_row7\" class=\"row_heading level0 row7\" >adult_male</th>\n",
       "      <td id=\"T_4ecd0_row7_col0\" class=\"data row7 col0\" >0.557080</td>\n",
       "      <td id=\"T_4ecd0_row7_col1\" class=\"data row7 col1\" >0.094035</td>\n",
       "      <td id=\"T_4ecd0_row7_col2\" class=\"data row7 col2\" >0.908578</td>\n",
       "      <td id=\"T_4ecd0_row7_col3\" class=\"data row7 col3\" >0.280328</td>\n",
       "      <td id=\"T_4ecd0_row7_col4\" class=\"data row7 col4\" >0.253586</td>\n",
       "      <td id=\"T_4ecd0_row7_col5\" class=\"data row7 col5\" >0.349943</td>\n",
       "      <td id=\"T_4ecd0_row7_col6\" class=\"data row7 col6\" >0.182024</td>\n",
       "      <td id=\"T_4ecd0_row7_col7\" class=\"data row7 col7\" >1.000000</td>\n",
       "      <td id=\"T_4ecd0_row7_col8\" class=\"data row7 col8\" >0.557080</td>\n",
       "      <td id=\"T_4ecd0_row7_col9\" class=\"data row7 col9\" >0.404744</td>\n",
       "    </tr>\n",
       "    <tr>\n",
       "      <th id=\"T_4ecd0_level0_row8\" class=\"row_heading level0 row8\" >alive</th>\n",
       "      <td id=\"T_4ecd0_row8_col0\" class=\"data row8 col0\" >1.000000</td>\n",
       "      <td id=\"T_4ecd0_row8_col1\" class=\"data row8 col1\" >0.338481</td>\n",
       "      <td id=\"T_4ecd0_row8_col2\" class=\"data row8 col2\" >0.543351</td>\n",
       "      <td id=\"T_4ecd0_row8_col3\" class=\"data row8 col3\" >0.077221</td>\n",
       "      <td id=\"T_4ecd0_row8_col4\" class=\"data row8 col4\" >0.035322</td>\n",
       "      <td id=\"T_4ecd0_row8_col5\" class=\"data row8 col5\" >0.081629</td>\n",
       "      <td id=\"T_4ecd0_row8_col6\" class=\"data row8 col6\" >0.257307</td>\n",
       "      <td id=\"T_4ecd0_row8_col7\" class=\"data row8 col7\" >0.557080</td>\n",
       "      <td id=\"T_4ecd0_row8_col8\" class=\"data row8 col8\" >1.000000</td>\n",
       "      <td id=\"T_4ecd0_row8_col9\" class=\"data row8 col9\" >0.203367</td>\n",
       "    </tr>\n",
       "    <tr>\n",
       "      <th id=\"T_4ecd0_level0_row9\" class=\"row_heading level0 row9\" >alone</th>\n",
       "      <td id=\"T_4ecd0_row9_col0\" class=\"data row9 col0\" >0.203367</td>\n",
       "      <td id=\"T_4ecd0_row9_col1\" class=\"data row9 col1\" >0.135207</td>\n",
       "      <td id=\"T_4ecd0_row9_col2\" class=\"data row9 col2\" >0.303646</td>\n",
       "      <td id=\"T_4ecd0_row9_col3\" class=\"data row9 col3\" >0.198270</td>\n",
       "      <td id=\"T_4ecd0_row9_col4\" class=\"data row9 col4\" >0.584471</td>\n",
       "      <td id=\"T_4ecd0_row9_col5\" class=\"data row9 col5\" >0.583398</td>\n",
       "      <td id=\"T_4ecd0_row9_col6\" class=\"data row9 col6\" >0.271832</td>\n",
       "      <td id=\"T_4ecd0_row9_col7\" class=\"data row9 col7\" >0.404744</td>\n",
       "      <td id=\"T_4ecd0_row9_col8\" class=\"data row9 col8\" >0.203367</td>\n",
       "      <td id=\"T_4ecd0_row9_col9\" class=\"data row9 col9\" >1.000000</td>\n",
       "    </tr>\n",
       "  </tbody>\n",
       "</table>\n"
      ],
      "text/plain": [
       "<pandas.io.formats.style.Styler at 0x128b4e610>"
      ]
     },
     "execution_count": 19,
     "metadata": {},
     "output_type": "execute_result"
    }
   ],
   "source": [
    "abs(df.corr()).style.highlight_min(axis=0)"
   ]
  },
  {
   "cell_type": "markdown",
   "id": "d28317e5-d656-4855-8dc0-b7c99bb7cdae",
   "metadata": {},
   "source": [
    "## Describe"
   ]
  },
  {
   "cell_type": "code",
   "execution_count": 20,
   "id": "5f9cb250-4cd7-40af-a8a3-d2b3c9266a50",
   "metadata": {},
   "outputs": [
    {
     "data": {
      "text/html": [
       "<div>\n",
       "<style scoped>\n",
       "    .dataframe tbody tr th:only-of-type {\n",
       "        vertical-align: middle;\n",
       "    }\n",
       "\n",
       "    .dataframe tbody tr th {\n",
       "        vertical-align: top;\n",
       "    }\n",
       "\n",
       "    .dataframe thead th {\n",
       "        text-align: right;\n",
       "    }\n",
       "</style>\n",
       "<table border=\"1\" class=\"dataframe\">\n",
       "  <thead>\n",
       "    <tr style=\"text-align: right;\">\n",
       "      <th></th>\n",
       "      <th>survived</th>\n",
       "      <th>pclass</th>\n",
       "      <th>sex</th>\n",
       "      <th>age</th>\n",
       "      <th>sibsp</th>\n",
       "      <th>parch</th>\n",
       "      <th>fare</th>\n",
       "      <th>alive</th>\n",
       "    </tr>\n",
       "  </thead>\n",
       "  <tbody>\n",
       "    <tr>\n",
       "      <th>count</th>\n",
       "      <td>891.000000</td>\n",
       "      <td>891.000000</td>\n",
       "      <td>891.000000</td>\n",
       "      <td>714.000000</td>\n",
       "      <td>891.000000</td>\n",
       "      <td>891.000000</td>\n",
       "      <td>891.000000</td>\n",
       "      <td>891.000000</td>\n",
       "    </tr>\n",
       "    <tr>\n",
       "      <th>mean</th>\n",
       "      <td>0.383838</td>\n",
       "      <td>2.308642</td>\n",
       "      <td>0.647587</td>\n",
       "      <td>29.699118</td>\n",
       "      <td>0.523008</td>\n",
       "      <td>0.381594</td>\n",
       "      <td>32.204208</td>\n",
       "      <td>0.383838</td>\n",
       "    </tr>\n",
       "    <tr>\n",
       "      <th>std</th>\n",
       "      <td>0.486592</td>\n",
       "      <td>0.836071</td>\n",
       "      <td>0.477990</td>\n",
       "      <td>14.526497</td>\n",
       "      <td>1.102743</td>\n",
       "      <td>0.806057</td>\n",
       "      <td>49.693429</td>\n",
       "      <td>0.486592</td>\n",
       "    </tr>\n",
       "    <tr>\n",
       "      <th>min</th>\n",
       "      <td>0.000000</td>\n",
       "      <td>1.000000</td>\n",
       "      <td>0.000000</td>\n",
       "      <td>0.420000</td>\n",
       "      <td>0.000000</td>\n",
       "      <td>0.000000</td>\n",
       "      <td>0.000000</td>\n",
       "      <td>0.000000</td>\n",
       "    </tr>\n",
       "    <tr>\n",
       "      <th>25%</th>\n",
       "      <td>0.000000</td>\n",
       "      <td>2.000000</td>\n",
       "      <td>0.000000</td>\n",
       "      <td>20.125000</td>\n",
       "      <td>0.000000</td>\n",
       "      <td>0.000000</td>\n",
       "      <td>7.910400</td>\n",
       "      <td>0.000000</td>\n",
       "    </tr>\n",
       "    <tr>\n",
       "      <th>50%</th>\n",
       "      <td>0.000000</td>\n",
       "      <td>3.000000</td>\n",
       "      <td>1.000000</td>\n",
       "      <td>28.000000</td>\n",
       "      <td>0.000000</td>\n",
       "      <td>0.000000</td>\n",
       "      <td>14.454200</td>\n",
       "      <td>0.000000</td>\n",
       "    </tr>\n",
       "    <tr>\n",
       "      <th>75%</th>\n",
       "      <td>1.000000</td>\n",
       "      <td>3.000000</td>\n",
       "      <td>1.000000</td>\n",
       "      <td>38.000000</td>\n",
       "      <td>1.000000</td>\n",
       "      <td>0.000000</td>\n",
       "      <td>31.000000</td>\n",
       "      <td>1.000000</td>\n",
       "    </tr>\n",
       "    <tr>\n",
       "      <th>max</th>\n",
       "      <td>1.000000</td>\n",
       "      <td>3.000000</td>\n",
       "      <td>1.000000</td>\n",
       "      <td>80.000000</td>\n",
       "      <td>8.000000</td>\n",
       "      <td>6.000000</td>\n",
       "      <td>512.329200</td>\n",
       "      <td>1.000000</td>\n",
       "    </tr>\n",
       "  </tbody>\n",
       "</table>\n",
       "</div>"
      ],
      "text/plain": [
       "         survived      pclass         sex         age       sibsp       parch  \\\n",
       "count  891.000000  891.000000  891.000000  714.000000  891.000000  891.000000   \n",
       "mean     0.383838    2.308642    0.647587   29.699118    0.523008    0.381594   \n",
       "std      0.486592    0.836071    0.477990   14.526497    1.102743    0.806057   \n",
       "min      0.000000    1.000000    0.000000    0.420000    0.000000    0.000000   \n",
       "25%      0.000000    2.000000    0.000000   20.125000    0.000000    0.000000   \n",
       "50%      0.000000    3.000000    1.000000   28.000000    0.000000    0.000000   \n",
       "75%      1.000000    3.000000    1.000000   38.000000    1.000000    0.000000   \n",
       "max      1.000000    3.000000    1.000000   80.000000    8.000000    6.000000   \n",
       "\n",
       "             fare       alive  \n",
       "count  891.000000  891.000000  \n",
       "mean    32.204208    0.383838  \n",
       "std     49.693429    0.486592  \n",
       "min      0.000000    0.000000  \n",
       "25%      7.910400    0.000000  \n",
       "50%     14.454200    0.000000  \n",
       "75%     31.000000    1.000000  \n",
       "max    512.329200    1.000000  "
      ]
     },
     "execution_count": 20,
     "metadata": {},
     "output_type": "execute_result"
    }
   ],
   "source": [
    "df.describe()"
   ]
  },
  {
   "cell_type": "markdown",
   "id": "f5cdfe0d-f34f-4ed9-9da1-5104e085a1c4",
   "metadata": {},
   "source": [
    "> - the mean of survived people is 0.38, which means almost 38% of people survived (??)\n",
    "> - in age column, the std is 14 and mean is 29, we can say that the age range of most of the people is in 15,43 years"
   ]
  },
  {
   "cell_type": "code",
   "execution_count": 21,
   "id": "b1cc80c4-0b02-4cb1-99f3-c8e22a1d92bc",
   "metadata": {},
   "outputs": [
    {
     "data": {
      "text/html": [
       "<div>\n",
       "<style scoped>\n",
       "    .dataframe tbody tr th:only-of-type {\n",
       "        vertical-align: middle;\n",
       "    }\n",
       "\n",
       "    .dataframe tbody tr th {\n",
       "        vertical-align: top;\n",
       "    }\n",
       "\n",
       "    .dataframe thead th {\n",
       "        text-align: right;\n",
       "    }\n",
       "</style>\n",
       "<table border=\"1\" class=\"dataframe\">\n",
       "  <thead>\n",
       "    <tr style=\"text-align: right;\">\n",
       "      <th></th>\n",
       "      <th>survived</th>\n",
       "      <th>pclass</th>\n",
       "      <th>sex</th>\n",
       "      <th>age</th>\n",
       "      <th>sibsp</th>\n",
       "      <th>parch</th>\n",
       "      <th>fare</th>\n",
       "      <th>class</th>\n",
       "      <th>who</th>\n",
       "      <th>adult_male</th>\n",
       "      <th>deck</th>\n",
       "      <th>embark_town</th>\n",
       "      <th>alive</th>\n",
       "      <th>alone</th>\n",
       "    </tr>\n",
       "  </thead>\n",
       "  <tbody>\n",
       "    <tr>\n",
       "      <th>803</th>\n",
       "      <td>1</td>\n",
       "      <td>3</td>\n",
       "      <td>1</td>\n",
       "      <td>0.42</td>\n",
       "      <td>0</td>\n",
       "      <td>1</td>\n",
       "      <td>8.5167</td>\n",
       "      <td>Third</td>\n",
       "      <td>child</td>\n",
       "      <td>False</td>\n",
       "      <td>NaN</td>\n",
       "      <td>Cherbourg</td>\n",
       "      <td>1</td>\n",
       "      <td>False</td>\n",
       "    </tr>\n",
       "  </tbody>\n",
       "</table>\n",
       "</div>"
      ],
      "text/plain": [
       "     survived  pclass  sex   age  sibsp  parch    fare  class    who  \\\n",
       "803         1       3    1  0.42      0      1  8.5167  Third  child   \n",
       "\n",
       "     adult_male deck embark_town  alive  alone  \n",
       "803       False  NaN   Cherbourg      1  False  "
      ]
     },
     "execution_count": 21,
     "metadata": {},
     "output_type": "execute_result"
    }
   ],
   "source": [
    "df[df['age'] == 0.42]"
   ]
  },
  {
   "cell_type": "code",
   "execution_count": 22,
   "id": "c78bbafb-5181-40b6-8dcf-da56e1a78632",
   "metadata": {},
   "outputs": [
    {
     "data": {
      "text/html": [
       "<div>\n",
       "<style scoped>\n",
       "    .dataframe tbody tr th:only-of-type {\n",
       "        vertical-align: middle;\n",
       "    }\n",
       "\n",
       "    .dataframe tbody tr th {\n",
       "        vertical-align: top;\n",
       "    }\n",
       "\n",
       "    .dataframe thead th {\n",
       "        text-align: right;\n",
       "    }\n",
       "</style>\n",
       "<table border=\"1\" class=\"dataframe\">\n",
       "  <thead>\n",
       "    <tr style=\"text-align: right;\">\n",
       "      <th></th>\n",
       "      <th>class</th>\n",
       "      <th>who</th>\n",
       "      <th>deck</th>\n",
       "      <th>embark_town</th>\n",
       "    </tr>\n",
       "  </thead>\n",
       "  <tbody>\n",
       "    <tr>\n",
       "      <th>count</th>\n",
       "      <td>891</td>\n",
       "      <td>891</td>\n",
       "      <td>203</td>\n",
       "      <td>889</td>\n",
       "    </tr>\n",
       "    <tr>\n",
       "      <th>unique</th>\n",
       "      <td>3</td>\n",
       "      <td>3</td>\n",
       "      <td>7</td>\n",
       "      <td>3</td>\n",
       "    </tr>\n",
       "    <tr>\n",
       "      <th>top</th>\n",
       "      <td>Third</td>\n",
       "      <td>man</td>\n",
       "      <td>C</td>\n",
       "      <td>Southampton</td>\n",
       "    </tr>\n",
       "    <tr>\n",
       "      <th>freq</th>\n",
       "      <td>491</td>\n",
       "      <td>537</td>\n",
       "      <td>59</td>\n",
       "      <td>644</td>\n",
       "    </tr>\n",
       "  </tbody>\n",
       "</table>\n",
       "</div>"
      ],
      "text/plain": [
       "        class  who deck  embark_town\n",
       "count     891  891  203          889\n",
       "unique      3    3    7            3\n",
       "top     Third  man    C  Southampton\n",
       "freq      491  537   59          644"
      ]
     },
     "execution_count": 22,
     "metadata": {},
     "output_type": "execute_result"
    }
   ],
   "source": [
    "df.describe(include=['category'])"
   ]
  },
  {
   "cell_type": "markdown",
   "id": "0941c793-cf23-4a68-9dc3-fa48f5e07d57",
   "metadata": {},
   "source": [
    "## Missing Values Check"
   ]
  },
  {
   "cell_type": "code",
   "execution_count": 23,
   "id": "07b4202a-d40e-49e9-aa80-38e9ae0cf7e6",
   "metadata": {},
   "outputs": [
    {
     "data": {
      "text/html": [
       "<div>\n",
       "<style scoped>\n",
       "    .dataframe tbody tr th:only-of-type {\n",
       "        vertical-align: middle;\n",
       "    }\n",
       "\n",
       "    .dataframe tbody tr th {\n",
       "        vertical-align: top;\n",
       "    }\n",
       "\n",
       "    .dataframe thead th {\n",
       "        text-align: right;\n",
       "    }\n",
       "</style>\n",
       "<table border=\"1\" class=\"dataframe\">\n",
       "  <thead>\n",
       "    <tr style=\"text-align: right;\">\n",
       "      <th></th>\n",
       "      <th>survived</th>\n",
       "      <th>pclass</th>\n",
       "      <th>sex</th>\n",
       "      <th>age</th>\n",
       "      <th>sibsp</th>\n",
       "      <th>parch</th>\n",
       "      <th>fare</th>\n",
       "      <th>class</th>\n",
       "      <th>who</th>\n",
       "      <th>adult_male</th>\n",
       "      <th>deck</th>\n",
       "      <th>embark_town</th>\n",
       "      <th>alive</th>\n",
       "      <th>alone</th>\n",
       "    </tr>\n",
       "  </thead>\n",
       "  <tbody>\n",
       "    <tr>\n",
       "      <th>0</th>\n",
       "      <td>0</td>\n",
       "      <td>3</td>\n",
       "      <td>1</td>\n",
       "      <td>22.0</td>\n",
       "      <td>1</td>\n",
       "      <td>0</td>\n",
       "      <td>7.2500</td>\n",
       "      <td>Third</td>\n",
       "      <td>man</td>\n",
       "      <td>True</td>\n",
       "      <td>NaN</td>\n",
       "      <td>Southampton</td>\n",
       "      <td>0</td>\n",
       "      <td>False</td>\n",
       "    </tr>\n",
       "    <tr>\n",
       "      <th>1</th>\n",
       "      <td>1</td>\n",
       "      <td>1</td>\n",
       "      <td>0</td>\n",
       "      <td>38.0</td>\n",
       "      <td>1</td>\n",
       "      <td>0</td>\n",
       "      <td>71.2833</td>\n",
       "      <td>First</td>\n",
       "      <td>woman</td>\n",
       "      <td>False</td>\n",
       "      <td>C</td>\n",
       "      <td>Cherbourg</td>\n",
       "      <td>1</td>\n",
       "      <td>False</td>\n",
       "    </tr>\n",
       "    <tr>\n",
       "      <th>2</th>\n",
       "      <td>1</td>\n",
       "      <td>3</td>\n",
       "      <td>0</td>\n",
       "      <td>26.0</td>\n",
       "      <td>0</td>\n",
       "      <td>0</td>\n",
       "      <td>7.9250</td>\n",
       "      <td>Third</td>\n",
       "      <td>woman</td>\n",
       "      <td>False</td>\n",
       "      <td>NaN</td>\n",
       "      <td>Southampton</td>\n",
       "      <td>1</td>\n",
       "      <td>True</td>\n",
       "    </tr>\n",
       "    <tr>\n",
       "      <th>3</th>\n",
       "      <td>1</td>\n",
       "      <td>1</td>\n",
       "      <td>0</td>\n",
       "      <td>35.0</td>\n",
       "      <td>1</td>\n",
       "      <td>0</td>\n",
       "      <td>53.1000</td>\n",
       "      <td>First</td>\n",
       "      <td>woman</td>\n",
       "      <td>False</td>\n",
       "      <td>C</td>\n",
       "      <td>Southampton</td>\n",
       "      <td>1</td>\n",
       "      <td>False</td>\n",
       "    </tr>\n",
       "    <tr>\n",
       "      <th>4</th>\n",
       "      <td>0</td>\n",
       "      <td>3</td>\n",
       "      <td>1</td>\n",
       "      <td>35.0</td>\n",
       "      <td>0</td>\n",
       "      <td>0</td>\n",
       "      <td>8.0500</td>\n",
       "      <td>Third</td>\n",
       "      <td>man</td>\n",
       "      <td>True</td>\n",
       "      <td>NaN</td>\n",
       "      <td>Southampton</td>\n",
       "      <td>0</td>\n",
       "      <td>True</td>\n",
       "    </tr>\n",
       "  </tbody>\n",
       "</table>\n",
       "</div>"
      ],
      "text/plain": [
       "   survived  pclass  sex   age  sibsp  parch     fare  class    who  \\\n",
       "0         0       3    1  22.0      1      0   7.2500  Third    man   \n",
       "1         1       1    0  38.0      1      0  71.2833  First  woman   \n",
       "2         1       3    0  26.0      0      0   7.9250  Third  woman   \n",
       "3         1       1    0  35.0      1      0  53.1000  First  woman   \n",
       "4         0       3    1  35.0      0      0   8.0500  Third    man   \n",
       "\n",
       "   adult_male deck  embark_town  alive  alone  \n",
       "0        True  NaN  Southampton      0  False  \n",
       "1       False    C    Cherbourg      1  False  \n",
       "2       False  NaN  Southampton      1   True  \n",
       "3       False    C  Southampton      1  False  \n",
       "4        True  NaN  Southampton      0   True  "
      ]
     },
     "execution_count": 23,
     "metadata": {},
     "output_type": "execute_result"
    }
   ],
   "source": [
    "df.head()"
   ]
  },
  {
   "cell_type": "code",
   "execution_count": 24,
   "id": "8d132161-7205-4008-a177-ca7f85647270",
   "metadata": {},
   "outputs": [
    {
     "data": {
      "text/plain": [
       "survived         0\n",
       "pclass           0\n",
       "sex              0\n",
       "age            177\n",
       "sibsp            0\n",
       "parch            0\n",
       "fare             0\n",
       "class            0\n",
       "who              0\n",
       "adult_male       0\n",
       "deck           688\n",
       "embark_town      2\n",
       "alive            0\n",
       "alone            0\n",
       "dtype: int64"
      ]
     },
     "execution_count": 24,
     "metadata": {},
     "output_type": "execute_result"
    }
   ],
   "source": [
    "df.isna().sum()"
   ]
  },
  {
   "cell_type": "code",
   "execution_count": 25,
   "id": "de1f725c-2bc4-4c4d-b6f1-06dd1e47f956",
   "metadata": {},
   "outputs": [
    {
     "data": {
      "text/plain": [
       "<AxesSubplot:>"
      ]
     },
     "execution_count": 25,
     "metadata": {},
     "output_type": "execute_result"
    },
    {
     "data": {
      "image/png": "[encoded data removed]",
      "text/plain": [
       "<Figure size 640x480 with 1 Axes>"
      ]
     },
     "metadata": {},
     "output_type": "display_data"
    }
   ],
   "source": [
    "sns.barplot(\n",
    "    x=df.isna().sum() / df.shape[0]*100,\n",
    "    y=df.columns\n",
    ")"
   ]
  },
  {
   "cell_type": "markdown",
   "id": "3774065b-cc92-42dd-a3c0-d72e1f4ee04a",
   "metadata": {},
   "source": [
    "deck has too many NA values, lets drop them :"
   ]
  },
  {
   "cell_type": "code",
   "execution_count": 26,
   "id": "ec4dec9a-461a-49b9-9f30-0a46f257982e",
   "metadata": {},
   "outputs": [
    {
     "data": {
      "text/html": [
       "<div>\n",
       "<style scoped>\n",
       "    .dataframe tbody tr th:only-of-type {\n",
       "        vertical-align: middle;\n",
       "    }\n",
       "\n",
       "    .dataframe tbody tr th {\n",
       "        vertical-align: top;\n",
       "    }\n",
       "\n",
       "    .dataframe thead th {\n",
       "        text-align: right;\n",
       "    }\n",
       "</style>\n",
       "<table border=\"1\" class=\"dataframe\">\n",
       "  <thead>\n",
       "    <tr style=\"text-align: right;\">\n",
       "      <th></th>\n",
       "      <th>survived</th>\n",
       "      <th>pclass</th>\n",
       "      <th>sex</th>\n",
       "      <th>age</th>\n",
       "      <th>sibsp</th>\n",
       "      <th>parch</th>\n",
       "      <th>fare</th>\n",
       "      <th>class</th>\n",
       "      <th>who</th>\n",
       "      <th>adult_male</th>\n",
       "      <th>embark_town</th>\n",
       "      <th>alive</th>\n",
       "      <th>alone</th>\n",
       "    </tr>\n",
       "  </thead>\n",
       "  <tbody>\n",
       "    <tr>\n",
       "      <th>0</th>\n",
       "      <td>0</td>\n",
       "      <td>3</td>\n",
       "      <td>1</td>\n",
       "      <td>22.0</td>\n",
       "      <td>1</td>\n",
       "      <td>0</td>\n",
       "      <td>7.2500</td>\n",
       "      <td>Third</td>\n",
       "      <td>man</td>\n",
       "      <td>True</td>\n",
       "      <td>Southampton</td>\n",
       "      <td>0</td>\n",
       "      <td>False</td>\n",
       "    </tr>\n",
       "    <tr>\n",
       "      <th>1</th>\n",
       "      <td>1</td>\n",
       "      <td>1</td>\n",
       "      <td>0</td>\n",
       "      <td>38.0</td>\n",
       "      <td>1</td>\n",
       "      <td>0</td>\n",
       "      <td>71.2833</td>\n",
       "      <td>First</td>\n",
       "      <td>woman</td>\n",
       "      <td>False</td>\n",
       "      <td>Cherbourg</td>\n",
       "      <td>1</td>\n",
       "      <td>False</td>\n",
       "    </tr>\n",
       "    <tr>\n",
       "      <th>2</th>\n",
       "      <td>1</td>\n",
       "      <td>3</td>\n",
       "      <td>0</td>\n",
       "      <td>26.0</td>\n",
       "      <td>0</td>\n",
       "      <td>0</td>\n",
       "      <td>7.9250</td>\n",
       "      <td>Third</td>\n",
       "      <td>woman</td>\n",
       "      <td>False</td>\n",
       "      <td>Southampton</td>\n",
       "      <td>1</td>\n",
       "      <td>True</td>\n",
       "    </tr>\n",
       "    <tr>\n",
       "      <th>3</th>\n",
       "      <td>1</td>\n",
       "      <td>1</td>\n",
       "      <td>0</td>\n",
       "      <td>35.0</td>\n",
       "      <td>1</td>\n",
       "      <td>0</td>\n",
       "      <td>53.1000</td>\n",
       "      <td>First</td>\n",
       "      <td>woman</td>\n",
       "      <td>False</td>\n",
       "      <td>Southampton</td>\n",
       "      <td>1</td>\n",
       "      <td>False</td>\n",
       "    </tr>\n",
       "    <tr>\n",
       "      <th>4</th>\n",
       "      <td>0</td>\n",
       "      <td>3</td>\n",
       "      <td>1</td>\n",
       "      <td>35.0</td>\n",
       "      <td>0</td>\n",
       "      <td>0</td>\n",
       "      <td>8.0500</td>\n",
       "      <td>Third</td>\n",
       "      <td>man</td>\n",
       "      <td>True</td>\n",
       "      <td>Southampton</td>\n",
       "      <td>0</td>\n",
       "      <td>True</td>\n",
       "    </tr>\n",
       "  </tbody>\n",
       "</table>\n",
       "</div>"
      ],
      "text/plain": [
       "   survived  pclass  sex   age  sibsp  parch     fare  class    who  \\\n",
       "0         0       3    1  22.0      1      0   7.2500  Third    man   \n",
       "1         1       1    0  38.0      1      0  71.2833  First  woman   \n",
       "2         1       3    0  26.0      0      0   7.9250  Third  woman   \n",
       "3         1       1    0  35.0      1      0  53.1000  First  woman   \n",
       "4         0       3    1  35.0      0      0   8.0500  Third    man   \n",
       "\n",
       "   adult_male  embark_town  alive  alone  \n",
       "0        True  Southampton      0  False  \n",
       "1       False    Cherbourg      1  False  \n",
       "2       False  Southampton      1   True  \n",
       "3       False  Southampton      1  False  \n",
       "4        True  Southampton      0   True  "
      ]
     },
     "execution_count": 26,
     "metadata": {},
     "output_type": "execute_result"
    }
   ],
   "source": [
    "df = df.drop(columns='deck')\n",
    "df.head()"
   ]
  },
  {
   "cell_type": "markdown",
   "id": "3b209b45-6da5-4d67-bcd8-12d9eae20584",
   "metadata": {},
   "source": [
    "but we an keep age, and guess other values, lets examine age :"
   ]
  },
  {
   "cell_type": "code",
   "execution_count": 27,
   "id": "9c9ae9e8-6840-4d47-9d22-4bfcb5be36ea",
   "metadata": {},
   "outputs": [
    {
     "data": {
      "text/plain": [
       "0    22.0\n",
       "1    38.0\n",
       "2    26.0\n",
       "3    35.0\n",
       "4    35.0\n",
       "Name: age, dtype: float64"
      ]
     },
     "execution_count": 27,
     "metadata": {},
     "output_type": "execute_result"
    }
   ],
   "source": [
    "df['age'].head()"
   ]
  },
  {
   "cell_type": "code",
   "execution_count": 28,
   "id": "068fed33-2585-4c15-9662-16ae15c36ff2",
   "metadata": {},
   "outputs": [
    {
     "data": {
      "text/plain": [
       "177"
      ]
     },
     "execution_count": 28,
     "metadata": {},
     "output_type": "execute_result"
    }
   ],
   "source": [
    "df['age'].isna().sum()"
   ]
  },
  {
   "cell_type": "markdown",
   "id": "86030456-a04a-4d56-bead-f2b89b4fae30",
   "metadata": {},
   "source": [
    "lets fill the nan values with the mean :"
   ]
  },
  {
   "cell_type": "code",
   "execution_count": 29,
   "id": "34363754-9f8f-403c-a59b-20fb972f38ad",
   "metadata": {},
   "outputs": [
    {
     "data": {
      "text/plain": [
       "0    22.0\n",
       "1    38.0\n",
       "2    26.0\n",
       "3    35.0\n",
       "4    35.0\n",
       "Name: age, dtype: float64"
      ]
     },
     "execution_count": 29,
     "metadata": {},
     "output_type": "execute_result"
    }
   ],
   "source": [
    "new_age = df['age'].fillna(value=df['age'].mean())\n",
    "new_age.head()"
   ]
  },
  {
   "cell_type": "markdown",
   "id": "caecebd2-ddae-4a35-89d4-dd36c3e9379c",
   "metadata": {},
   "source": [
    "let's see the results : <br>"
   ]
  },
  {
   "cell_type": "code",
   "execution_count": 30,
   "id": "4dba0cae-c63b-4d6b-a486-c67efd0860de",
   "metadata": {},
   "outputs": [
    {
     "data": {
      "image/png": "[encoded data removed]",
      "text/plain": [
       "<Figure size 640x480 with 1 Axes>"
      ]
     },
     "metadata": {},
     "output_type": "display_data"
    }
   ],
   "source": [
    "sns.histplot(new_age);"
   ]
  },
  {
   "cell_type": "markdown",
   "id": "15b9cc88-3733-4653-8dc7-45a824724195",
   "metadata": {},
   "source": [
    "good, but the mean is too big, let's test somthing else :<br> <br>"
   ]
  },
  {
   "cell_type": "code",
   "execution_count": 31,
   "id": "cfa6961b-97ba-449c-9f80-075f88d9a8d6",
   "metadata": {},
   "outputs": [
    {
     "data": {
      "text/html": [
       "<style type=\"text/css\">\n",
       "#T_1694a_row0_col0, #T_1694a_row8_col0 {\n",
       "  background-color: #80a3fa;\n",
       "  color: #f1f1f1;\n",
       "}\n",
       "#T_1694a_row1_col0 {\n",
       "  background-color: #3b4cc0;\n",
       "  color: #f1f1f1;\n",
       "}\n",
       "#T_1694a_row2_col0, #T_1694a_row6_col0 {\n",
       "  background-color: #abc8fd;\n",
       "  color: #000000;\n",
       "}\n",
       "#T_1694a_row3_col0 {\n",
       "  background-color: #b40426;\n",
       "  color: #f1f1f1;\n",
       "}\n",
       "#T_1694a_row4_col0 {\n",
       "  background-color: #485fd1;\n",
       "  color: #f1f1f1;\n",
       "}\n",
       "#T_1694a_row5_col0 {\n",
       "  background-color: #6384eb;\n",
       "  color: #f1f1f1;\n",
       "}\n",
       "#T_1694a_row7_col0 {\n",
       "  background-color: #d6dce4;\n",
       "  color: #000000;\n",
       "}\n",
       "#T_1694a_row9_col0 {\n",
       "  background-color: #c5d6f2;\n",
       "  color: #000000;\n",
       "}\n",
       "</style>\n",
       "<table id=\"T_1694a\">\n",
       "  <thead>\n",
       "    <tr>\n",
       "      <th class=\"blank level0\" >&nbsp;</th>\n",
       "      <th id=\"T_1694a_level0_col0\" class=\"col_heading level0 col0\" >age</th>\n",
       "    </tr>\n",
       "  </thead>\n",
       "  <tbody>\n",
       "    <tr>\n",
       "      <th id=\"T_1694a_level0_row0\" class=\"row_heading level0 row0\" >survived</th>\n",
       "      <td id=\"T_1694a_row0_col0\" class=\"data row0 col0\" >-0.077221</td>\n",
       "    </tr>\n",
       "    <tr>\n",
       "      <th id=\"T_1694a_level0_row1\" class=\"row_heading level0 row1\" >pclass</th>\n",
       "      <td id=\"T_1694a_row1_col0\" class=\"data row1 col0\" >-0.369226</td>\n",
       "    </tr>\n",
       "    <tr>\n",
       "      <th id=\"T_1694a_level0_row2\" class=\"row_heading level0 row2\" >sex</th>\n",
       "      <td id=\"T_1694a_row2_col0\" class=\"data row2 col0\" >0.093254</td>\n",
       "    </tr>\n",
       "    <tr>\n",
       "      <th id=\"T_1694a_level0_row3\" class=\"row_heading level0 row3\" >age</th>\n",
       "      <td id=\"T_1694a_row3_col0\" class=\"data row3 col0\" >1.000000</td>\n",
       "    </tr>\n",
       "    <tr>\n",
       "      <th id=\"T_1694a_level0_row4\" class=\"row_heading level0 row4\" >sibsp</th>\n",
       "      <td id=\"T_1694a_row4_col0\" class=\"data row4 col0\" >-0.308247</td>\n",
       "    </tr>\n",
       "    <tr>\n",
       "      <th id=\"T_1694a_level0_row5\" class=\"row_heading level0 row5\" >parch</th>\n",
       "      <td id=\"T_1694a_row5_col0\" class=\"data row5 col0\" >-0.189119</td>\n",
       "    </tr>\n",
       "    <tr>\n",
       "      <th id=\"T_1694a_level0_row6\" class=\"row_heading level0 row6\" >fare</th>\n",
       "      <td id=\"T_1694a_row6_col0\" class=\"data row6 col0\" >0.096067</td>\n",
       "    </tr>\n",
       "    <tr>\n",
       "      <th id=\"T_1694a_level0_row7\" class=\"row_heading level0 row7\" >adult_male</th>\n",
       "      <td id=\"T_1694a_row7_col0\" class=\"data row7 col0\" >0.280328</td>\n",
       "    </tr>\n",
       "    <tr>\n",
       "      <th id=\"T_1694a_level0_row8\" class=\"row_heading level0 row8\" >alive</th>\n",
       "      <td id=\"T_1694a_row8_col0\" class=\"data row8 col0\" >-0.077221</td>\n",
       "    </tr>\n",
       "    <tr>\n",
       "      <th id=\"T_1694a_level0_row9\" class=\"row_heading level0 row9\" >alone</th>\n",
       "      <td id=\"T_1694a_row9_col0\" class=\"data row9 col0\" >0.198270</td>\n",
       "    </tr>\n",
       "  </tbody>\n",
       "</table>\n"
      ],
      "text/plain": [
       "<pandas.io.formats.style.Styler at 0x128e73fd0>"
      ]
     },
     "execution_count": 31,
     "metadata": {},
     "output_type": "execute_result"
    }
   ],
   "source": [
    "df.corr()[['age']].style.background_gradient(cmap='coolwarm')"
   ]
  },
  {
   "cell_type": "markdown",
   "id": "292537d1-face-4ddf-b035-f90bc3114335",
   "metadata": {},
   "source": [
    "we have a good correlatoin with `plcass`"
   ]
  },
  {
   "cell_type": "markdown",
   "id": "b317c1e5-94fc-44bd-81e0-21a9ac461c40",
   "metadata": {},
   "source": [
    "___"
   ]
  },
  {
   "cell_type": "code",
   "execution_count": 32,
   "id": "d5d3cffc-3aac-4ee4-8a06-7c10fd373d8b",
   "metadata": {},
   "outputs": [
    {
     "data": {
      "text/plain": [
       "0"
      ]
     },
     "execution_count": 32,
     "metadata": {},
     "output_type": "execute_result"
    }
   ],
   "source": [
    "df['pclass'].isna().sum()"
   ]
  },
  {
   "cell_type": "markdown",
   "id": "80c5ce8b-2758-4eda-b6df-c298dd419566",
   "metadata": {},
   "source": [
    "and it has no nan values."
   ]
  },
  {
   "cell_type": "code",
   "execution_count": 33,
   "id": "9691d57e-ad54-4307-88d9-6b73a4944f23",
   "metadata": {},
   "outputs": [
    {
     "data": {
      "text/plain": [
       "pclass\n",
       "1    38.233441\n",
       "2    29.877630\n",
       "3    25.140620\n",
       "Name: age, dtype: float64"
      ]
     },
     "execution_count": 33,
     "metadata": {},
     "output_type": "execute_result"
    }
   ],
   "source": [
    "df.groupby(df['pclass'])['age'].mean()"
   ]
  },
  {
   "cell_type": "code",
   "execution_count": 34,
   "id": "fd4f8aaf-532e-4bfb-adfa-ab33d6d6569f",
   "metadata": {},
   "outputs": [],
   "source": [
    "def age_fillna_method(index, df) :\n",
    "    pclass1_mean, pclass2_mean, pclass3_mean = df.groupby(df['pclass'])['age'].mean() \n",
    "    \n",
    "    if df.iloc[index, :]['pclass'] == 1 : return pclass1_mean\n",
    "    elif df.iloc[index, :]['pclass'] == 2 : return pclass2_mean\n",
    "    elif df.iloc[index, :]['pclass'] == 3 : return pclass3_mean\n"
   ]
  },
  {
   "cell_type": "code",
   "execution_count": 35,
   "id": "f6bea224-1286-4a8d-9ce4-06de8ace91cc",
   "metadata": {},
   "outputs": [
    {
     "data": {
      "text/plain": [
       "0      False\n",
       "1      False\n",
       "2      False\n",
       "3      False\n",
       "4      False\n",
       "       ...  \n",
       "886    False\n",
       "887    False\n",
       "888     True\n",
       "889    False\n",
       "890    False\n",
       "Name: age, Length: 891, dtype: bool"
      ]
     },
     "execution_count": 35,
     "metadata": {},
     "output_type": "execute_result"
    }
   ],
   "source": [
    "nan_age = df['age'].isna()\n",
    "nan_age"
   ]
  },
  {
   "cell_type": "code",
   "execution_count": 36,
   "id": "6b679810-569e-4a0d-815e-8c7a369a00ce",
   "metadata": {},
   "outputs": [
    {
     "data": {
      "text/plain": [
       "0    22.0\n",
       "1    38.0\n",
       "2    26.0\n",
       "3    35.0\n",
       "4    35.0\n",
       "5     NaN\n",
       "6    54.0\n",
       "7     2.0\n",
       "8    27.0\n",
       "9    14.0\n",
       "Name: age, dtype: float64"
      ]
     },
     "execution_count": 36,
     "metadata": {},
     "output_type": "execute_result"
    }
   ],
   "source": [
    "df['age'].head(10)"
   ]
  },
  {
   "cell_type": "code",
   "execution_count": 48,
   "id": "bdc0046e-82db-4d20-b7a2-3a17f165ebc2",
   "metadata": {
    "tags": []
   },
   "outputs": [],
   "source": [
    "# for index, value in nan_age.iteritems() :\n",
    "#     if value is True : # the age is NaN\n",
    "#         df['age'].loc[index] = age_fillna_method(index, df)\n",
    "        "
   ]
  },
  {
   "cell_type": "code",
   "execution_count": 49,
   "id": "73afc19b-60f6-488a-b988-e745aea4b694",
   "metadata": {},
   "outputs": [
    {
     "data": {
      "text/plain": [
       "0    22.00000\n",
       "1    38.00000\n",
       "2    26.00000\n",
       "3    35.00000\n",
       "4    35.00000\n",
       "5    25.14062\n",
       "6    54.00000\n",
       "7     2.00000\n",
       "8    27.00000\n",
       "9    14.00000\n",
       "Name: age, dtype: float64"
      ]
     },
     "execution_count": 49,
     "metadata": {},
     "output_type": "execute_result"
    }
   ],
   "source": [
    "df['age'].head(10)"
   ]
  },
  {
   "cell_type": "code",
   "execution_count": 99,
   "id": "f79d9c58-204c-4185-87df-a69518cc2df0",
   "metadata": {},
   "outputs": [
    {
     "data": {
      "image/png": "[encoded data removed]",
      "text/plain": [
       "<Figure size 640x480 with 1 Axes>"
      ]
     },
     "metadata": {},
     "output_type": "display_data"
    }
   ],
   "source": [
    "sns.histplot(new_age, label='mean of the whole data'); \n",
    "sns.histplot(df['age'], label='label of each section'); \n",
    "plt.legend();"
   ]
  },
  {
   "cell_type": "code",
   "execution_count": 51,
   "id": "0554cac1-4c49-4a01-a030-06f99e6b566a",
   "metadata": {},
   "outputs": [
    {
     "data": {
      "text/plain": [
       "3    491\n",
       "1    216\n",
       "2    184\n",
       "Name: pclass, dtype: int64"
      ]
     },
     "execution_count": 97,
     "metadata": {},
     "output_type": "execute_result"
    }
   ],
   "source": [
    "df['pclass'].value_counts()"
   ]
  },
  {
   "cell_type": "markdown",
   "id": "4f4080fb-1fdf-41eb-b487-b6d9bda03bf9",
   "metadata": {},
   "source": [
    "___"
   ]
  },
  {
   "cell_type": "code",
   "execution_count": 98,
   "id": "c8dba7c3-4dcf-49a2-b850-92cbe23b9224",
   "metadata": {},
   "outputs": [
    {
     "data": {
      "text/plain": [
       "pclass\n",
       "1    38.233441\n",
       "2    29.877630\n",
       "3    25.140620\n",
       "Name: age, dtype: float64"
      ]
     },
     "execution_count": 98,
     "metadata": {},
     "output_type": "execute_result"
    }
   ],
   "source": [
    "df.groupby('pclass')['age'].mean()"
   ]
  },
  {
   "cell_type": "code",
   "execution_count": 77,
   "id": "65bbc493-85f5-43cb-8d7b-9250654757df",
   "metadata": {},
   "outputs": [
    {
     "data": {
      "text/plain": [
       "adult_male  sex\n",
       "False       0      27.852746\n",
       "            1       5.466750\n",
       "True        1      31.909719\n",
       "Name: age, dtype: float64"
      ]
     },
     "execution_count": 77,
     "metadata": {},
     "output_type": "execute_result"
    }
   ],
   "source": [
    "df.groupby(['adult_male', 'sex', ]).age.mean()"
   ]
  },
  {
   "cell_type": "code",
   "execution_count": 112,
   "id": "9b811660-6aa2-4704-900f-cf65ed4ad726",
   "metadata": {},
   "outputs": [
    {
     "data": {
      "text/plain": [
       "<matplotlib.legend.Legend at 0x14b566dc0>"
      ]
     },
     "execution_count": 112,
     "metadata": {},
     "output_type": "execute_result"
    },
    {
     "data": {
      "image/png": "[encoded data removed]",
      "text/plain": [
       "<Figure size 640x480 with 1 Axes>"
      ]
     },
     "metadata": {},
     "output_type": "display_data"
    }
   ],
   "source": [
    "df['age_1'] = df['age'].fillna(df.groupby(['adult_male', 'sex'])['age'].transform('mean'))\n",
    "df['age_2'] = df['age'].fillna(df.groupby(['adult_male', 'sex', 'sibsp', 'alone'])['age'].transform('mean'))\n",
    "ax = sns.histplot(df.age)\n",
    "ax = sns.histplot(df.age_1, ax=ax, color='y', label='age_1')\n",
    "ax = sns.histplot(df.age_2, ax=ax, color='r', label='age_2')\n",
    "\n",
    "sns.histplot(new_age, label='mean of the whole data'); \n",
    "sns.histplot(df['age'], label='label of each section');\n",
    "plt.legend()"
   ]
  }
 ],
 "metadata": {
  "kernelspec": {
   "display_name": "Python 3 (ipykernel)",
   "language": "python",
   "name": "python3"
  },
  "language_info": {
   "codemirror_mode": {
    "name": "ipython",
    "version": 3
   },
   "file_extension": ".py",
   "mimetype": "text/x-python",
   "name": "python",
   "nbconvert_exporter": "python",
   "pygments_lexer": "ipython3",
   "version": "3.9.12"
  }
 },
 "nbformat": 4,
 "nbformat_minor": 5
}
