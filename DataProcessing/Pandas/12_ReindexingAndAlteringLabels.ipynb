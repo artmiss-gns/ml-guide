{
 "cells": [
  {
   "cell_type": "code",
   "execution_count": 1,
   "id": "9a0d254a-2fcc-4c4a-9ff0-a27619d29366",
   "metadata": {},
   "outputs": [],
   "source": [
    "import numpy as np\n",
    "import pandas as pd"
   ]
  },
  {
   "cell_type": "markdown",
   "id": "fbb3f0d9-ddd4-4ea6-932d-c928569028d6",
   "metadata": {},
   "source": [
    "#### reindex() "
   ]
  },
  {
   "cell_type": "markdown",
   "id": "8bbbd474-38cb-4abe-be20-8941e4b1845a",
   "metadata": {},
   "source": [
    "it's more like **filtering**"
   ]
  },
  {
   "cell_type": "code",
   "execution_count": 2,
   "id": "6090ff9c-de42-48f6-8b3e-e993031abac3",
   "metadata": {},
   "outputs": [],
   "source": [
    "s1 = pd.Series([1, 2, 3, 4, 5], index=['a', 'b', 'c' ,'d', 'e'])\n",
    "s2 = pd.Series([6, 7, 8, 9, 0], index=['a', 'b', 'c' ,'d', 'e'])"
   ]
  },
  {
   "cell_type": "code",
   "execution_count": 3,
   "id": "fb5aa1b0-0943-43c3-aeda-2090e464075f",
   "metadata": {},
   "outputs": [
    {
     "data": {
      "text/plain": [
       "a    1.0\n",
       "b    2.0\n",
       "q    NaN\n",
       "dtype: float64"
      ]
     },
     "execution_count": 3,
     "metadata": {},
     "output_type": "execute_result"
    }
   ],
   "source": [
    "s1.reindex(['a' ,'b', 'q'])"
   ]
  },
  {
   "cell_type": "code",
   "execution_count": 4,
   "id": "2da08464-9d17-4d12-8602-81bec539891a",
   "metadata": {},
   "outputs": [
    {
     "data": {
      "text/plain": [
       "a    1\n",
       "b    2\n",
       "c    3\n",
       "d    4\n",
       "e    5\n",
       "dtype: int64"
      ]
     },
     "execution_count": 4,
     "metadata": {},
     "output_type": "execute_result"
    }
   ],
   "source": [
    "s1.reindex(s2.index)"
   ]
  },
  {
   "cell_type": "code",
   "execution_count": 5,
   "id": "1688e704-8e92-4d1f-81b9-34089a4b0bd6",
   "metadata": {},
   "outputs": [
    {
     "data": {
      "text/plain": [
       "a    1\n",
       "a    1\n",
       "b    2\n",
       "dtype: int64"
      ]
     },
     "execution_count": 5,
     "metadata": {},
     "output_type": "execute_result"
    }
   ],
   "source": [
    "s1.reindex(['a', 'a', 'b'])"
   ]
  },
  {
   "cell_type": "markdown",
   "id": "68f27575-b950-459d-8319-324d3a5464f9",
   "metadata": {},
   "source": [
    "<br> you can do this with DataFrames too"
   ]
  },
  {
   "cell_type": "code",
   "execution_count": 6,
   "id": "9893a132-1429-4634-957f-091015e5f7d8",
   "metadata": {},
   "outputs": [
    {
     "data": {
      "text/html": [
       "<div>\n",
       "<style scoped>\n",
       "    .dataframe tbody tr th:only-of-type {\n",
       "        vertical-align: middle;\n",
       "    }\n",
       "\n",
       "    .dataframe tbody tr th {\n",
       "        vertical-align: top;\n",
       "    }\n",
       "\n",
       "    .dataframe thead th {\n",
       "        text-align: right;\n",
       "    }\n",
       "</style>\n",
       "<table border=\"1\" class=\"dataframe\">\n",
       "  <thead>\n",
       "    <tr style=\"text-align: right;\">\n",
       "      <th></th>\n",
       "      <th>one</th>\n",
       "      <th>two</th>\n",
       "      <th>three</th>\n",
       "    </tr>\n",
       "  </thead>\n",
       "  <tbody>\n",
       "    <tr>\n",
       "      <th>a</th>\n",
       "      <td>0.729924</td>\n",
       "      <td>1.037791</td>\n",
       "      <td>NaN</td>\n",
       "    </tr>\n",
       "    <tr>\n",
       "      <th>b</th>\n",
       "      <td>0.163467</td>\n",
       "      <td>-1.100254</td>\n",
       "      <td>-1.462609</td>\n",
       "    </tr>\n",
       "    <tr>\n",
       "      <th>c</th>\n",
       "      <td>-0.077453</td>\n",
       "      <td>-0.787528</td>\n",
       "      <td>0.682092</td>\n",
       "    </tr>\n",
       "    <tr>\n",
       "      <th>d</th>\n",
       "      <td>NaN</td>\n",
       "      <td>-2.190634</td>\n",
       "      <td>-0.246684</td>\n",
       "    </tr>\n",
       "  </tbody>\n",
       "</table>\n",
       "</div>"
      ],
      "text/plain": [
       "        one       two     three\n",
       "a  0.729924  1.037791       NaN\n",
       "b  0.163467 -1.100254 -1.462609\n",
       "c -0.077453 -0.787528  0.682092\n",
       "d       NaN -2.190634 -0.246684"
      ]
     },
     "execution_count": 6,
     "metadata": {},
     "output_type": "execute_result"
    }
   ],
   "source": [
    "df = pd.DataFrame(\n",
    "    {\n",
    "        \"one\": pd.Series(np.random.randn(3), index=[\"a\", \"b\", \"c\"]),\n",
    "        \"two\": pd.Series(np.random.randn(4), index=[\"a\", \"b\", \"c\", \"d\"]),\n",
    "        \"three\": pd.Series(np.random.randn(3), index=[\"b\", \"c\", \"d\"]),\n",
    "    }\n",
    ")\n",
    "\n",
    "df"
   ]
  },
  {
   "cell_type": "code",
   "execution_count": 7,
   "id": "74b4d982-a303-43b0-b9bc-3140487782c6",
   "metadata": {},
   "outputs": [
    {
     "data": {
      "text/html": [
       "<div>\n",
       "<style scoped>\n",
       "    .dataframe tbody tr th:only-of-type {\n",
       "        vertical-align: middle;\n",
       "    }\n",
       "\n",
       "    .dataframe tbody tr th {\n",
       "        vertical-align: top;\n",
       "    }\n",
       "\n",
       "    .dataframe thead th {\n",
       "        text-align: right;\n",
       "    }\n",
       "</style>\n",
       "<table border=\"1\" class=\"dataframe\">\n",
       "  <thead>\n",
       "    <tr style=\"text-align: right;\">\n",
       "      <th></th>\n",
       "      <th>one</th>\n",
       "      <th>two</th>\n",
       "      <th>three</th>\n",
       "    </tr>\n",
       "  </thead>\n",
       "  <tbody>\n",
       "    <tr>\n",
       "      <th>a</th>\n",
       "      <td>0.729924</td>\n",
       "      <td>1.037791</td>\n",
       "      <td>NaN</td>\n",
       "    </tr>\n",
       "    <tr>\n",
       "      <th>b</th>\n",
       "      <td>0.163467</td>\n",
       "      <td>-1.100254</td>\n",
       "      <td>-1.462609</td>\n",
       "    </tr>\n",
       "    <tr>\n",
       "      <th>c</th>\n",
       "      <td>-0.077453</td>\n",
       "      <td>-0.787528</td>\n",
       "      <td>0.682092</td>\n",
       "    </tr>\n",
       "    <tr>\n",
       "      <th>z</th>\n",
       "      <td>NaN</td>\n",
       "      <td>NaN</td>\n",
       "      <td>NaN</td>\n",
       "    </tr>\n",
       "  </tbody>\n",
       "</table>\n",
       "</div>"
      ],
      "text/plain": [
       "        one       two     three\n",
       "a  0.729924  1.037791       NaN\n",
       "b  0.163467 -1.100254 -1.462609\n",
       "c -0.077453 -0.787528  0.682092\n",
       "z       NaN       NaN       NaN"
      ]
     },
     "execution_count": 7,
     "metadata": {},
     "output_type": "execute_result"
    }
   ],
   "source": [
    "df.reindex(index=['a', 'b', 'c', 'z'])"
   ]
  },
  {
   "cell_type": "code",
   "execution_count": 8,
   "id": "44f1a5f0-2494-48dc-af87-85fa92bd7c8f",
   "metadata": {},
   "outputs": [
    {
     "data": {
      "text/html": [
       "<div>\n",
       "<style scoped>\n",
       "    .dataframe tbody tr th:only-of-type {\n",
       "        vertical-align: middle;\n",
       "    }\n",
       "\n",
       "    .dataframe tbody tr th {\n",
       "        vertical-align: top;\n",
       "    }\n",
       "\n",
       "    .dataframe thead th {\n",
       "        text-align: right;\n",
       "    }\n",
       "</style>\n",
       "<table border=\"1\" class=\"dataframe\">\n",
       "  <thead>\n",
       "    <tr style=\"text-align: right;\">\n",
       "      <th></th>\n",
       "      <th>one</th>\n",
       "      <th>four</th>\n",
       "    </tr>\n",
       "  </thead>\n",
       "  <tbody>\n",
       "    <tr>\n",
       "      <th>a</th>\n",
       "      <td>0.729924</td>\n",
       "      <td>NaN</td>\n",
       "    </tr>\n",
       "    <tr>\n",
       "      <th>c</th>\n",
       "      <td>-0.077453</td>\n",
       "      <td>NaN</td>\n",
       "    </tr>\n",
       "    <tr>\n",
       "      <th>z</th>\n",
       "      <td>NaN</td>\n",
       "      <td>NaN</td>\n",
       "    </tr>\n",
       "  </tbody>\n",
       "</table>\n",
       "</div>"
      ],
      "text/plain": [
       "        one  four\n",
       "a  0.729924   NaN\n",
       "c -0.077453   NaN\n",
       "z       NaN   NaN"
      ]
     },
     "execution_count": 8,
     "metadata": {},
     "output_type": "execute_result"
    }
   ],
   "source": [
    "df.reindex(index=['a', 'c', 'z'], columns=['one', 'four'])"
   ]
  },
  {
   "cell_type": "markdown",
   "id": "867cc3d0-18ef-476f-bb1d-1ae03b2626fb",
   "metadata": {},
   "source": [
    "unlike Series you can give dataframe a **column** option, which will filter columns too !"
   ]
  },
  {
   "cell_type": "markdown",
   "id": "f0094b2c-1e20-4954-bfc4-2c094e17bd6a",
   "metadata": {},
   "source": [
    "Note that the Index objects containing the actual axis labels can be shared between objects. So if we have a Series and a DataFrame, the following can be done:\n",
    "\n"
   ]
  },
  {
   "cell_type": "code",
   "execution_count": 9,
   "id": "03abfc38-6031-4135-8c06-643fd01d9d1a",
   "metadata": {},
   "outputs": [
    {
     "data": {
      "text/html": [
       "<div>\n",
       "<style scoped>\n",
       "    .dataframe tbody tr th:only-of-type {\n",
       "        vertical-align: middle;\n",
       "    }\n",
       "\n",
       "    .dataframe tbody tr th {\n",
       "        vertical-align: top;\n",
       "    }\n",
       "\n",
       "    .dataframe thead th {\n",
       "        text-align: right;\n",
       "    }\n",
       "</style>\n",
       "<table border=\"1\" class=\"dataframe\">\n",
       "  <thead>\n",
       "    <tr style=\"text-align: right;\">\n",
       "      <th></th>\n",
       "      <th>one</th>\n",
       "      <th>two</th>\n",
       "      <th>three</th>\n",
       "    </tr>\n",
       "  </thead>\n",
       "  <tbody>\n",
       "    <tr>\n",
       "      <th>a</th>\n",
       "      <td>0.729924</td>\n",
       "      <td>1.037791</td>\n",
       "      <td>NaN</td>\n",
       "    </tr>\n",
       "    <tr>\n",
       "      <th>b</th>\n",
       "      <td>0.163467</td>\n",
       "      <td>-1.100254</td>\n",
       "      <td>-1.462609</td>\n",
       "    </tr>\n",
       "    <tr>\n",
       "      <th>c</th>\n",
       "      <td>-0.077453</td>\n",
       "      <td>-0.787528</td>\n",
       "      <td>0.682092</td>\n",
       "    </tr>\n",
       "    <tr>\n",
       "      <th>d</th>\n",
       "      <td>NaN</td>\n",
       "      <td>-2.190634</td>\n",
       "      <td>-0.246684</td>\n",
       "    </tr>\n",
       "    <tr>\n",
       "      <th>e</th>\n",
       "      <td>NaN</td>\n",
       "      <td>NaN</td>\n",
       "      <td>NaN</td>\n",
       "    </tr>\n",
       "  </tbody>\n",
       "</table>\n",
       "</div>"
      ],
      "text/plain": [
       "        one       two     three\n",
       "a  0.729924  1.037791       NaN\n",
       "b  0.163467 -1.100254 -1.462609\n",
       "c -0.077453 -0.787528  0.682092\n",
       "d       NaN -2.190634 -0.246684\n",
       "e       NaN       NaN       NaN"
      ]
     },
     "execution_count": 9,
     "metadata": {},
     "output_type": "execute_result"
    }
   ],
   "source": [
    "tmp = df.reindex(index=s1.index)\n",
    "tmp"
   ]
  },
  {
   "cell_type": "code",
   "execution_count": 13,
   "id": "f699efdb-1577-4f31-9558-f51682d7685e",
   "metadata": {},
   "outputs": [
    {
     "data": {
      "text/plain": [
       "False"
      ]
     },
     "execution_count": 13,
     "metadata": {},
     "output_type": "execute_result"
    }
   ],
   "source": [
    "# and now, it i change the value of s1['a'], tmp is gonna change too...\n",
    "s1.index is tmp.index"
   ]
  },
  {
   "cell_type": "code",
   "execution_count": 11,
   "id": "ef5b9bab-9e64-431a-b6e9-2973ae91c2ec",
   "metadata": {},
   "outputs": [
    {
     "data": {
      "text/plain": [
       "z    1\n",
       "b    2\n",
       "c    3\n",
       "d    4\n",
       "e    5\n",
       "dtype: int64"
      ]
     },
     "execution_count": 11,
     "metadata": {},
     "output_type": "execute_result"
    }
   ],
   "source": [
    "s1.index = ['z', *s1.index[1:]]\n",
    "s1"
   ]
  },
  {
   "cell_type": "code",
   "execution_count": 14,
   "id": "4f61188f-9134-45d1-99d5-a1881fb86888",
   "metadata": {},
   "outputs": [
    {
     "data": {
      "text/html": [
       "<div>\n",
       "<style scoped>\n",
       "    .dataframe tbody tr th:only-of-type {\n",
       "        vertical-align: middle;\n",
       "    }\n",
       "\n",
       "    .dataframe tbody tr th {\n",
       "        vertical-align: top;\n",
       "    }\n",
       "\n",
       "    .dataframe thead th {\n",
       "        text-align: right;\n",
       "    }\n",
       "</style>\n",
       "<table border=\"1\" class=\"dataframe\">\n",
       "  <thead>\n",
       "    <tr style=\"text-align: right;\">\n",
       "      <th></th>\n",
       "      <th>one</th>\n",
       "      <th>two</th>\n",
       "      <th>three</th>\n",
       "    </tr>\n",
       "  </thead>\n",
       "  <tbody>\n",
       "    <tr>\n",
       "      <th>a</th>\n",
       "      <td>0.729924</td>\n",
       "      <td>1.037791</td>\n",
       "      <td>NaN</td>\n",
       "    </tr>\n",
       "    <tr>\n",
       "      <th>b</th>\n",
       "      <td>0.163467</td>\n",
       "      <td>-1.100254</td>\n",
       "      <td>-1.462609</td>\n",
       "    </tr>\n",
       "    <tr>\n",
       "      <th>c</th>\n",
       "      <td>-0.077453</td>\n",
       "      <td>-0.787528</td>\n",
       "      <td>0.682092</td>\n",
       "    </tr>\n",
       "    <tr>\n",
       "      <th>d</th>\n",
       "      <td>NaN</td>\n",
       "      <td>-2.190634</td>\n",
       "      <td>-0.246684</td>\n",
       "    </tr>\n",
       "    <tr>\n",
       "      <th>e</th>\n",
       "      <td>NaN</td>\n",
       "      <td>NaN</td>\n",
       "      <td>NaN</td>\n",
       "    </tr>\n",
       "  </tbody>\n",
       "</table>\n",
       "</div>"
      ],
      "text/plain": [
       "        one       two     three\n",
       "a  0.729924  1.037791       NaN\n",
       "b  0.163467 -1.100254 -1.462609\n",
       "c -0.077453 -0.787528  0.682092\n",
       "d       NaN -2.190634 -0.246684\n",
       "e       NaN       NaN       NaN"
      ]
     },
     "execution_count": 14,
     "metadata": {},
     "output_type": "execute_result"
    }
   ],
   "source": [
    "tmp"
   ]
  },
  {
   "cell_type": "markdown",
   "id": "1749d761-c22f-46dc-a402-3015fb4ef543",
   "metadata": {},
   "source": [
    "When writing performance-sensitive code, there is a good reason to spend some time becoming a reindexing ninja:<br>\n",
    "many operations are faster on **pre-aligned data**. Adding two unaligned DataFrames internally triggers a reindexing step. For exploratory analysis you will hardly notice the difference (because reindex has been heavily optimized), but when CPU cycles matter sprinkling a few explicit reindex calls here and there can have an impact"
   ]
  },
  {
   "cell_type": "markdown",
   "id": "e206604c-9659-479c-a87b-ea376f29693e",
   "metadata": {},
   "source": [
    "### reindex_like()"
   ]
  },
  {
   "cell_type": "markdown",
   "id": "9599586a-cc33-4a00-8c58-71060e605a83",
   "metadata": {},
   "source": [
    "You may wish to take an object and reindex its axes to be labeled the same as another object. While the syntax for this is straightforward albeit verbose, it is a common enough operation that the reindex_like() method is available to make this simpler:"
   ]
  },
  {
   "cell_type": "code",
   "execution_count": 15,
   "id": "6a1009ec-daa1-400c-9868-2ed4423e4f39",
   "metadata": {},
   "outputs": [
    {
     "data": {
      "text/html": [
       "<div>\n",
       "<style scoped>\n",
       "    .dataframe tbody tr th:only-of-type {\n",
       "        vertical-align: middle;\n",
       "    }\n",
       "\n",
       "    .dataframe tbody tr th {\n",
       "        vertical-align: top;\n",
       "    }\n",
       "\n",
       "    .dataframe thead th {\n",
       "        text-align: right;\n",
       "    }\n",
       "</style>\n",
       "<table border=\"1\" class=\"dataframe\">\n",
       "  <thead>\n",
       "    <tr style=\"text-align: right;\">\n",
       "      <th></th>\n",
       "      <th>one</th>\n",
       "      <th>two</th>\n",
       "      <th>three</th>\n",
       "    </tr>\n",
       "  </thead>\n",
       "  <tbody>\n",
       "    <tr>\n",
       "      <th>a</th>\n",
       "      <td>0.729924</td>\n",
       "      <td>1.037791</td>\n",
       "      <td>NaN</td>\n",
       "    </tr>\n",
       "    <tr>\n",
       "      <th>b</th>\n",
       "      <td>0.163467</td>\n",
       "      <td>-1.100254</td>\n",
       "      <td>-1.462609</td>\n",
       "    </tr>\n",
       "    <tr>\n",
       "      <th>c</th>\n",
       "      <td>-0.077453</td>\n",
       "      <td>-0.787528</td>\n",
       "      <td>0.682092</td>\n",
       "    </tr>\n",
       "    <tr>\n",
       "      <th>d</th>\n",
       "      <td>NaN</td>\n",
       "      <td>-2.190634</td>\n",
       "      <td>-0.246684</td>\n",
       "    </tr>\n",
       "  </tbody>\n",
       "</table>\n",
       "</div>"
      ],
      "text/plain": [
       "        one       two     three\n",
       "a  0.729924  1.037791       NaN\n",
       "b  0.163467 -1.100254 -1.462609\n",
       "c -0.077453 -0.787528  0.682092\n",
       "d       NaN -2.190634 -0.246684"
      ]
     },
     "execution_count": 15,
     "metadata": {},
     "output_type": "execute_result"
    }
   ],
   "source": [
    "df"
   ]
  },
  {
   "cell_type": "code",
   "execution_count": 19,
   "id": "f348da87-3cf9-4215-acb6-a0254e7cccd5",
   "metadata": {},
   "outputs": [
    {
     "data": {
      "text/html": [
       "<div>\n",
       "<style scoped>\n",
       "    .dataframe tbody tr th:only-of-type {\n",
       "        vertical-align: middle;\n",
       "    }\n",
       "\n",
       "    .dataframe tbody tr th {\n",
       "        vertical-align: top;\n",
       "    }\n",
       "\n",
       "    .dataframe thead th {\n",
       "        text-align: right;\n",
       "    }\n",
       "</style>\n",
       "<table border=\"1\" class=\"dataframe\">\n",
       "  <thead>\n",
       "    <tr style=\"text-align: right;\">\n",
       "      <th></th>\n",
       "      <th>one</th>\n",
       "    </tr>\n",
       "  </thead>\n",
       "  <tbody>\n",
       "    <tr>\n",
       "      <th>c</th>\n",
       "      <td>-0.077453</td>\n",
       "    </tr>\n",
       "    <tr>\n",
       "      <th>b</th>\n",
       "      <td>0.163467</td>\n",
       "    </tr>\n",
       "    <tr>\n",
       "      <th>a</th>\n",
       "      <td>0.729924</td>\n",
       "    </tr>\n",
       "    <tr>\n",
       "      <th>f</th>\n",
       "      <td>NaN</td>\n",
       "    </tr>\n",
       "  </tbody>\n",
       "</table>\n",
       "</div>"
      ],
      "text/plain": [
       "        one\n",
       "c -0.077453\n",
       "b  0.163467\n",
       "a  0.729924\n",
       "f       NaN"
      ]
     },
     "execution_count": 19,
     "metadata": {},
     "output_type": "execute_result"
    }
   ],
   "source": [
    "df2 = df.reindex(['c', 'b', 'a', 'f'], columns=['one'])\n",
    "df2"
   ]
  },
  {
   "cell_type": "code",
   "execution_count": 20,
   "id": "2273a110-6713-4949-b3e2-1d76260a9ac2",
   "metadata": {},
   "outputs": [
    {
     "data": {
      "text/html": [
       "<div>\n",
       "<style scoped>\n",
       "    .dataframe tbody tr th:only-of-type {\n",
       "        vertical-align: middle;\n",
       "    }\n",
       "\n",
       "    .dataframe tbody tr th {\n",
       "        vertical-align: top;\n",
       "    }\n",
       "\n",
       "    .dataframe thead th {\n",
       "        text-align: right;\n",
       "    }\n",
       "</style>\n",
       "<table border=\"1\" class=\"dataframe\">\n",
       "  <thead>\n",
       "    <tr style=\"text-align: right;\">\n",
       "      <th></th>\n",
       "      <th>one</th>\n",
       "    </tr>\n",
       "  </thead>\n",
       "  <tbody>\n",
       "    <tr>\n",
       "      <th>c</th>\n",
       "      <td>-0.077453</td>\n",
       "    </tr>\n",
       "    <tr>\n",
       "      <th>b</th>\n",
       "      <td>0.163467</td>\n",
       "    </tr>\n",
       "    <tr>\n",
       "      <th>a</th>\n",
       "      <td>0.729924</td>\n",
       "    </tr>\n",
       "    <tr>\n",
       "      <th>f</th>\n",
       "      <td>NaN</td>\n",
       "    </tr>\n",
       "  </tbody>\n",
       "</table>\n",
       "</div>"
      ],
      "text/plain": [
       "        one\n",
       "c -0.077453\n",
       "b  0.163467\n",
       "a  0.729924\n",
       "f       NaN"
      ]
     },
     "execution_count": 20,
     "metadata": {},
     "output_type": "execute_result"
    }
   ],
   "source": [
    "df.reindex_like(df2)"
   ]
  },
  {
   "cell_type": "markdown",
   "id": "5039d80c-724a-4881-a13a-12f50b0f8d92",
   "metadata": {},
   "source": [
    "### Aligning objects with each other with\n"
   ]
  },
  {
   "cell_type": "markdown",
   "id": "ac2bfb53-623d-4ab5-a551-49288ec07203",
   "metadata": {},
   "source": [
    "The align() method is the fastest way to simultaneously align two objects. It supports a join argument (related to joining and merging which will be covered later):"
   ]
  },
  {
   "cell_type": "markdown",
   "id": "d05ed4db-4adc-4a88-9f71-2d1888e7fa02",
   "metadata": {},
   "source": [
    "- join='outer': take the union of the indexes (default)\n",
    "- join='left': use the calling object’s index\n",
    "- join='right': use the passed object’s index\n",
    "- join='inner': intersect the indexes"
   ]
  },
  {
   "cell_type": "code",
   "execution_count": 24,
   "id": "31a8f684-4542-4670-9590-73a35571d13b",
   "metadata": {},
   "outputs": [
    {
     "data": {
      "text/plain": [
       "a    1.084174\n",
       "b   -1.945504\n",
       "c    1.731469\n",
       "d   -0.344387\n",
       "e   -1.063203\n",
       "dtype: float64"
      ]
     },
     "execution_count": 24,
     "metadata": {},
     "output_type": "execute_result"
    }
   ],
   "source": [
    "s = pd.Series(np.random.randn(5), ['a', 'b', 'c', 'd', 'e'])\n",
    "s"
   ]
  },
  {
   "cell_type": "code",
   "execution_count": 25,
   "id": "f87d669e-e304-4676-b612-aa3d838ff82b",
   "metadata": {},
   "outputs": [
    {
     "data": {
      "text/plain": [
       "b   -1.945504\n",
       "c    1.731469\n",
       "d   -0.344387\n",
       "e   -1.063203\n",
       "dtype: float64"
      ]
     },
     "execution_count": 25,
     "metadata": {},
     "output_type": "execute_result"
    }
   ],
   "source": [
    "s1 = s[1:]\n",
    "s1"
   ]
  },
  {
   "cell_type": "code",
   "execution_count": 26,
   "id": "249c5e3a-cb54-48b0-b6ca-e160f87d4caf",
   "metadata": {},
   "outputs": [
    {
     "data": {
      "text/plain": [
       "a    1.084174\n",
       "b   -1.945504\n",
       "c    1.731469\n",
       "d   -0.344387\n",
       "dtype: float64"
      ]
     },
     "execution_count": 26,
     "metadata": {},
     "output_type": "execute_result"
    }
   ],
   "source": [
    "s2 = s[:-1]\n",
    "s2"
   ]
  },
  {
   "cell_type": "code",
   "execution_count": 29,
   "id": "ac6f90b9-f677-4772-b774-5b1704893a55",
   "metadata": {},
   "outputs": [
    {
     "data": {
      "text/plain": [
       "(b   -1.945504\n",
       " c    1.731469\n",
       " d   -0.344387\n",
       " dtype: float64,\n",
       " b   -1.945504\n",
       " c    1.731469\n",
       " d   -0.344387\n",
       " dtype: float64)"
      ]
     },
     "execution_count": 29,
     "metadata": {},
     "output_type": "execute_result"
    }
   ],
   "source": [
    "s1.align(s2, join='inner')"
   ]
  },
  {
   "cell_type": "code",
   "execution_count": 30,
   "id": "8619faca-a79e-4720-b4ff-fa2b4dd694fb",
   "metadata": {},
   "outputs": [
    {
     "data": {
      "text/plain": [
       "(a         NaN\n",
       " b   -1.945504\n",
       " c    1.731469\n",
       " d   -0.344387\n",
       " e   -1.063203\n",
       " dtype: float64,\n",
       " a    1.084174\n",
       " b   -1.945504\n",
       " c    1.731469\n",
       " d   -0.344387\n",
       " e         NaN\n",
       " dtype: float64)"
      ]
     },
     "execution_count": 30,
     "metadata": {},
     "output_type": "execute_result"
    }
   ],
   "source": [
    "s1.align(s2, join='outer')"
   ]
  },
  {
   "cell_type": "code",
   "execution_count": 31,
   "id": "9b920b6c-db42-4053-b60a-43f932118c6a",
   "metadata": {},
   "outputs": [
    {
     "data": {
      "text/plain": [
       "(b   -1.945504\n",
       " c    1.731469\n",
       " d   -0.344387\n",
       " e   -1.063203\n",
       " dtype: float64,\n",
       " b   -1.945504\n",
       " c    1.731469\n",
       " d   -0.344387\n",
       " e         NaN\n",
       " dtype: float64)"
      ]
     },
     "execution_count": 31,
     "metadata": {},
     "output_type": "execute_result"
    }
   ],
   "source": [
    "s1.align(s2, join='left')"
   ]
  },
  {
   "cell_type": "code",
   "execution_count": 33,
   "id": "ba94043b-c15c-4a4d-a5e1-5f8f5433a639",
   "metadata": {},
   "outputs": [
    {
     "data": {
      "text/plain": [
       "(a         NaN\n",
       " b   -1.945504\n",
       " c    1.731469\n",
       " d   -0.344387\n",
       " dtype: float64,\n",
       " a    1.084174\n",
       " b   -1.945504\n",
       " c    1.731469\n",
       " d   -0.344387\n",
       " dtype: float64)"
      ]
     },
     "execution_count": 33,
     "metadata": {},
     "output_type": "execute_result"
    }
   ],
   "source": [
    "s1.align(s2, join='right')"
   ]
  },
  {
   "cell_type": "markdown",
   "id": "9474ae69-1b5e-4905-90fa-27cb31742712",
   "metadata": {},
   "source": [
    "<br>\n",
    "agian, you can use align for data frames"
   ]
  },
  {
   "cell_type": "code",
   "execution_count": 34,
   "id": "1ce3c98f-12dc-4cdc-bf16-3da6ade0ac65",
   "metadata": {},
   "outputs": [
    {
     "data": {
      "text/html": [
       "<div>\n",
       "<style scoped>\n",
       "    .dataframe tbody tr th:only-of-type {\n",
       "        vertical-align: middle;\n",
       "    }\n",
       "\n",
       "    .dataframe tbody tr th {\n",
       "        vertical-align: top;\n",
       "    }\n",
       "\n",
       "    .dataframe thead th {\n",
       "        text-align: right;\n",
       "    }\n",
       "</style>\n",
       "<table border=\"1\" class=\"dataframe\">\n",
       "  <thead>\n",
       "    <tr style=\"text-align: right;\">\n",
       "      <th></th>\n",
       "      <th>one</th>\n",
       "      <th>two</th>\n",
       "      <th>three</th>\n",
       "    </tr>\n",
       "  </thead>\n",
       "  <tbody>\n",
       "    <tr>\n",
       "      <th>a</th>\n",
       "      <td>0.729924</td>\n",
       "      <td>1.037791</td>\n",
       "      <td>NaN</td>\n",
       "    </tr>\n",
       "    <tr>\n",
       "      <th>b</th>\n",
       "      <td>0.163467</td>\n",
       "      <td>-1.100254</td>\n",
       "      <td>-1.462609</td>\n",
       "    </tr>\n",
       "    <tr>\n",
       "      <th>c</th>\n",
       "      <td>-0.077453</td>\n",
       "      <td>-0.787528</td>\n",
       "      <td>0.682092</td>\n",
       "    </tr>\n",
       "    <tr>\n",
       "      <th>d</th>\n",
       "      <td>NaN</td>\n",
       "      <td>-2.190634</td>\n",
       "      <td>-0.246684</td>\n",
       "    </tr>\n",
       "  </tbody>\n",
       "</table>\n",
       "</div>"
      ],
      "text/plain": [
       "        one       two     three\n",
       "a  0.729924  1.037791       NaN\n",
       "b  0.163467 -1.100254 -1.462609\n",
       "c -0.077453 -0.787528  0.682092\n",
       "d       NaN -2.190634 -0.246684"
      ]
     },
     "execution_count": 34,
     "metadata": {},
     "output_type": "execute_result"
    }
   ],
   "source": [
    "df"
   ]
  },
  {
   "cell_type": "code",
   "execution_count": 35,
   "id": "1a569cbb-2872-4ec3-b555-a7bc3ee3d58d",
   "metadata": {},
   "outputs": [
    {
     "data": {
      "text/html": [
       "<div>\n",
       "<style scoped>\n",
       "    .dataframe tbody tr th:only-of-type {\n",
       "        vertical-align: middle;\n",
       "    }\n",
       "\n",
       "    .dataframe tbody tr th {\n",
       "        vertical-align: top;\n",
       "    }\n",
       "\n",
       "    .dataframe thead th {\n",
       "        text-align: right;\n",
       "    }\n",
       "</style>\n",
       "<table border=\"1\" class=\"dataframe\">\n",
       "  <thead>\n",
       "    <tr style=\"text-align: right;\">\n",
       "      <th></th>\n",
       "      <th>one</th>\n",
       "    </tr>\n",
       "  </thead>\n",
       "  <tbody>\n",
       "    <tr>\n",
       "      <th>c</th>\n",
       "      <td>-0.077453</td>\n",
       "    </tr>\n",
       "    <tr>\n",
       "      <th>b</th>\n",
       "      <td>0.163467</td>\n",
       "    </tr>\n",
       "    <tr>\n",
       "      <th>a</th>\n",
       "      <td>0.729924</td>\n",
       "    </tr>\n",
       "    <tr>\n",
       "      <th>f</th>\n",
       "      <td>NaN</td>\n",
       "    </tr>\n",
       "  </tbody>\n",
       "</table>\n",
       "</div>"
      ],
      "text/plain": [
       "        one\n",
       "c -0.077453\n",
       "b  0.163467\n",
       "a  0.729924\n",
       "f       NaN"
      ]
     },
     "execution_count": 35,
     "metadata": {},
     "output_type": "execute_result"
    }
   ],
   "source": [
    "df2"
   ]
  },
  {
   "cell_type": "code",
   "execution_count": 41,
   "id": "5dff10e2-2f11-44fb-a919-b22138d527e0",
   "metadata": {},
   "outputs": [
    {
     "data": {
      "text/plain": [
       "(        one\n",
       " c -0.077453\n",
       " b  0.163467\n",
       " a  0.729924,\n",
       "         one\n",
       " c -0.077453\n",
       " b  0.163467\n",
       " a  0.729924)"
      ]
     },
     "execution_count": 41,
     "metadata": {},
     "output_type": "execute_result"
    }
   ],
   "source": [
    "df2.align(df, join='inner')"
   ]
  },
  {
   "cell_type": "markdown",
   "id": "a7588a26-338b-4d15-b299-61a3d4df67d6",
   "metadata": {},
   "source": [
    "if you use align for dataframes, you can pass **axis** to it:"
   ]
  },
  {
   "cell_type": "code",
   "execution_count": 40,
   "id": "2c202cac-b2a2-4090-bb68-942c38b63a65",
   "metadata": {},
   "outputs": [
    {
     "data": {
      "text/plain": [
       "(        one\n",
       " c -0.077453\n",
       " b  0.163467\n",
       " a  0.729924,\n",
       "         one       two     three\n",
       " c -0.077453 -0.787528  0.682092\n",
       " b  0.163467 -1.100254 -1.462609\n",
       " a  0.729924  1.037791       NaN)"
      ]
     },
     "execution_count": 40,
     "metadata": {},
     "output_type": "execute_result"
    }
   ],
   "source": [
    "df2.align(df, join='inner', axis=0)"
   ]
  },
  {
   "cell_type": "markdown",
   "id": "b7b5728d-2b60-4c16-b751-a16d64505f76",
   "metadata": {},
   "source": [
    "### Filling while reindexing\n"
   ]
  },
  {
   "cell_type": "markdown",
   "id": "3fe9d898-91d4-4cd6-bec3-6cc2879fe7ad",
   "metadata": {},
   "source": [
    "reindex() takes an optional parameter method which is a filling method chosen from the following table:\n",
    "\n"
   ]
  },
  {
   "cell_type": "code",
   "execution_count": 43,
   "id": "5ad25348-b7fb-4e47-ab51-e0ecae3e17be",
   "metadata": {},
   "outputs": [
    {
     "data": {
      "text/plain": [
       "DatetimeIndex(['2000-01-03', '2000-01-04', '2000-01-05', '2000-01-06',\n",
       "               '2000-01-07', '2000-01-08', '2000-01-09', '2000-01-10'],\n",
       "              dtype='datetime64[ns]', freq='D')"
      ]
     },
     "execution_count": 43,
     "metadata": {},
     "output_type": "execute_result"
    }
   ],
   "source": [
    "rng = pd.date_range(\"1/3/2000\", periods=8)\n",
    "rng"
   ]
  },
  {
   "cell_type": "code",
   "execution_count": 45,
   "id": "ab7f6efb-db62-46e9-993b-4b45f24f34bd",
   "metadata": {},
   "outputs": [
    {
     "data": {
      "text/plain": [
       "2000-01-03   -0.649459\n",
       "2000-01-04    1.590622\n",
       "2000-01-05    0.415590\n",
       "2000-01-06    0.765835\n",
       "2000-01-07   -0.817032\n",
       "2000-01-08   -1.561473\n",
       "2000-01-09   -2.139507\n",
       "2000-01-10   -0.072055\n",
       "Freq: D, dtype: float64"
      ]
     },
     "execution_count": 45,
     "metadata": {},
     "output_type": "execute_result"
    }
   ],
   "source": [
    "ts = pd.Series(np.random.randn(8), index=rng)\n",
    "ts"
   ]
  },
  {
   "cell_type": "code",
   "execution_count": 47,
   "id": "114661d6-dfe5-4cdb-bce2-b499558541fa",
   "metadata": {},
   "outputs": [
    {
     "data": {
      "text/plain": [
       "2000-01-03   -0.649459\n",
       "2000-01-06    0.765835\n",
       "2000-01-09   -2.139507\n",
       "Freq: 3D, dtype: float64"
      ]
     },
     "execution_count": 47,
     "metadata": {},
     "output_type": "execute_result"
    }
   ],
   "source": [
    "ts2 = ts[[0, 3, 6]]\n",
    "ts2"
   ]
  },
  {
   "cell_type": "code",
   "execution_count": 50,
   "id": "96c7cb79-6f32-4d4b-b410-68d0e8070d32",
   "metadata": {},
   "outputs": [
    {
     "data": {
      "text/plain": [
       "2000-01-03   -0.649459\n",
       "2000-01-04         NaN\n",
       "2000-01-05         NaN\n",
       "2000-01-06    0.765835\n",
       "2000-01-07         NaN\n",
       "2000-01-08         NaN\n",
       "2000-01-09   -2.139507\n",
       "2000-01-10         NaN\n",
       "Freq: D, dtype: float64"
      ]
     },
     "execution_count": 50,
     "metadata": {},
     "output_type": "execute_result"
    }
   ],
   "source": [
    "ts2.reindex(ts.index)"
   ]
  },
  {
   "cell_type": "markdown",
   "id": "41f7258a-4c52-461b-a2ec-cc78baeddf97",
   "metadata": {},
   "source": [
    "as we can see, there are some NAN values in the table, and here is the way we can fill them: "
   ]
  },
  {
   "cell_type": "code",
   "execution_count": 51,
   "id": "b4154819-929c-485d-9743-05bef5753928",
   "metadata": {},
   "outputs": [
    {
     "data": {
      "text/plain": [
       "2000-01-03   -0.649459\n",
       "2000-01-04   -0.649459\n",
       "2000-01-05   -0.649459\n",
       "2000-01-06    0.765835\n",
       "2000-01-07    0.765835\n",
       "2000-01-08    0.765835\n",
       "2000-01-09   -2.139507\n",
       "2000-01-10   -2.139507\n",
       "Freq: D, dtype: float64"
      ]
     },
     "execution_count": 51,
     "metadata": {},
     "output_type": "execute_result"
    }
   ],
   "source": [
    "ts2.reindex(ts.index, method='ffill')"
   ]
  },
  {
   "cell_type": "markdown",
   "id": "c17c5305-d743-4aa1-bae7-ddaa7d81a242",
   "metadata": {},
   "source": [
    "**Important** <br>\n",
    "\n",
    "These methods require that the indexes are **ordered** increasing or decreasing.\n",
    "Note that the same result could have been achieved using fillna (except for method='nearest') or interpolate:\n"
   ]
  },
  {
   "cell_type": "code",
   "execution_count": 56,
   "id": "254df771-6e8a-4dd1-a4ce-fae83f854243",
   "metadata": {},
   "outputs": [
    {
     "data": {
      "text/plain": [
       "2000-01-03   -0.649459\n",
       "2000-01-04   -0.649459\n",
       "2000-01-05   -0.649459\n",
       "2000-01-06    0.765835\n",
       "2000-01-07    0.765835\n",
       "2000-01-08    0.765835\n",
       "2000-01-09   -2.139507\n",
       "2000-01-10   -2.139507\n",
       "Freq: D, dtype: float64"
      ]
     },
     "execution_count": 56,
     "metadata": {},
     "output_type": "execute_result"
    }
   ],
   "source": [
    "ts2.reindex(ts.index).fillna(method='ffill') # just like the above one"
   ]
  },
  {
   "cell_type": "markdown",
   "id": "c981dbcb-d3d1-415d-9310-3a3d9e0a2175",
   "metadata": {},
   "source": [
    "### Limits on filling while reindexing\n"
   ]
  },
  {
   "cell_type": "code",
   "execution_count": 58,
   "id": "b3e2f090-5ede-4c07-abe9-c211cd48e8a3",
   "metadata": {},
   "outputs": [
    {
     "data": {
      "text/plain": [
       "2000-01-03   -0.649459\n",
       "2000-01-04   -0.649459\n",
       "2000-01-05         NaN\n",
       "2000-01-06    0.765835\n",
       "2000-01-07    0.765835\n",
       "2000-01-08         NaN\n",
       "2000-01-09   -2.139507\n",
       "2000-01-10   -2.139507\n",
       "Freq: D, dtype: float64"
      ]
     },
     "execution_count": 58,
     "metadata": {},
     "output_type": "execute_result"
    }
   ],
   "source": [
    "# Limit specifies the maximum count of consecutive matches\n",
    "ts2.reindex(ts.index, method=\"ffill\", limit=1)"
   ]
  },
  {
   "cell_type": "code",
   "execution_count": 59,
   "id": "3a2d91cd-bd87-44fb-ac90-5d937a89a9fe",
   "metadata": {},
   "outputs": [
    {
     "data": {
      "text/plain": [
       "2000-01-03   -0.649459\n",
       "2000-01-04   -0.649459\n",
       "2000-01-05         NaN\n",
       "2000-01-06    0.765835\n",
       "2000-01-07    0.765835\n",
       "2000-01-08         NaN\n",
       "2000-01-09   -2.139507\n",
       "2000-01-10   -2.139507\n",
       "Freq: D, dtype: float64"
      ]
     },
     "execution_count": 59,
     "metadata": {},
     "output_type": "execute_result"
    }
   ],
   "source": [
    "# In contrast, tolerance specifies the maximum distance between the index and indexer values:\n",
    "ts2.reindex(ts.index, method=\"ffill\", tolerance=\"1 day\")"
   ]
  },
  {
   "cell_type": "markdown",
   "id": "a27ecb57-8970-4d5b-a3e2-2c8d153f7984",
   "metadata": {},
   "source": [
    "### Dropping labels from an axis\n"
   ]
  },
  {
   "cell_type": "code",
   "execution_count": 60,
   "id": "12026a3f-fcdc-46f7-8121-298a3eaea184",
   "metadata": {},
   "outputs": [
    {
     "data": {
      "text/html": [
       "<div>\n",
       "<style scoped>\n",
       "    .dataframe tbody tr th:only-of-type {\n",
       "        vertical-align: middle;\n",
       "    }\n",
       "\n",
       "    .dataframe tbody tr th {\n",
       "        vertical-align: top;\n",
       "    }\n",
       "\n",
       "    .dataframe thead th {\n",
       "        text-align: right;\n",
       "    }\n",
       "</style>\n",
       "<table border=\"1\" class=\"dataframe\">\n",
       "  <thead>\n",
       "    <tr style=\"text-align: right;\">\n",
       "      <th></th>\n",
       "      <th>one</th>\n",
       "      <th>two</th>\n",
       "      <th>three</th>\n",
       "    </tr>\n",
       "  </thead>\n",
       "  <tbody>\n",
       "    <tr>\n",
       "      <th>a</th>\n",
       "      <td>0.729924</td>\n",
       "      <td>1.037791</td>\n",
       "      <td>NaN</td>\n",
       "    </tr>\n",
       "    <tr>\n",
       "      <th>b</th>\n",
       "      <td>0.163467</td>\n",
       "      <td>-1.100254</td>\n",
       "      <td>-1.462609</td>\n",
       "    </tr>\n",
       "    <tr>\n",
       "      <th>c</th>\n",
       "      <td>-0.077453</td>\n",
       "      <td>-0.787528</td>\n",
       "      <td>0.682092</td>\n",
       "    </tr>\n",
       "    <tr>\n",
       "      <th>d</th>\n",
       "      <td>NaN</td>\n",
       "      <td>-2.190634</td>\n",
       "      <td>-0.246684</td>\n",
       "    </tr>\n",
       "  </tbody>\n",
       "</table>\n",
       "</div>"
      ],
      "text/plain": [
       "        one       two     three\n",
       "a  0.729924  1.037791       NaN\n",
       "b  0.163467 -1.100254 -1.462609\n",
       "c -0.077453 -0.787528  0.682092\n",
       "d       NaN -2.190634 -0.246684"
      ]
     },
     "execution_count": 60,
     "metadata": {},
     "output_type": "execute_result"
    }
   ],
   "source": [
    "df"
   ]
  },
  {
   "cell_type": "code",
   "execution_count": 63,
   "id": "76a82a55-4f4a-40aa-952c-7054b2911103",
   "metadata": {},
   "outputs": [
    {
     "data": {
      "text/html": [
       "<div>\n",
       "<style scoped>\n",
       "    .dataframe tbody tr th:only-of-type {\n",
       "        vertical-align: middle;\n",
       "    }\n",
       "\n",
       "    .dataframe tbody tr th {\n",
       "        vertical-align: top;\n",
       "    }\n",
       "\n",
       "    .dataframe thead th {\n",
       "        text-align: right;\n",
       "    }\n",
       "</style>\n",
       "<table border=\"1\" class=\"dataframe\">\n",
       "  <thead>\n",
       "    <tr style=\"text-align: right;\">\n",
       "      <th></th>\n",
       "      <th>one</th>\n",
       "      <th>two</th>\n",
       "      <th>three</th>\n",
       "    </tr>\n",
       "  </thead>\n",
       "  <tbody>\n",
       "    <tr>\n",
       "      <th>b</th>\n",
       "      <td>0.163467</td>\n",
       "      <td>-1.100254</td>\n",
       "      <td>-1.462609</td>\n",
       "    </tr>\n",
       "    <tr>\n",
       "      <th>c</th>\n",
       "      <td>-0.077453</td>\n",
       "      <td>-0.787528</td>\n",
       "      <td>0.682092</td>\n",
       "    </tr>\n",
       "    <tr>\n",
       "      <th>d</th>\n",
       "      <td>NaN</td>\n",
       "      <td>-2.190634</td>\n",
       "      <td>-0.246684</td>\n",
       "    </tr>\n",
       "  </tbody>\n",
       "</table>\n",
       "</div>"
      ],
      "text/plain": [
       "        one       two     three\n",
       "b  0.163467 -1.100254 -1.462609\n",
       "c -0.077453 -0.787528  0.682092\n",
       "d       NaN -2.190634 -0.246684"
      ]
     },
     "execution_count": 63,
     "metadata": {},
     "output_type": "execute_result"
    }
   ],
   "source": [
    "df.drop('a')"
   ]
  },
  {
   "cell_type": "code",
   "execution_count": 64,
   "id": "a0f4be65-ef0c-4d71-9438-f2d4fb401fbf",
   "metadata": {},
   "outputs": [
    {
     "data": {
      "text/html": [
       "<div>\n",
       "<style scoped>\n",
       "    .dataframe tbody tr th:only-of-type {\n",
       "        vertical-align: middle;\n",
       "    }\n",
       "\n",
       "    .dataframe tbody tr th {\n",
       "        vertical-align: top;\n",
       "    }\n",
       "\n",
       "    .dataframe thead th {\n",
       "        text-align: right;\n",
       "    }\n",
       "</style>\n",
       "<table border=\"1\" class=\"dataframe\">\n",
       "  <thead>\n",
       "    <tr style=\"text-align: right;\">\n",
       "      <th></th>\n",
       "      <th>one</th>\n",
       "      <th>two</th>\n",
       "      <th>three</th>\n",
       "    </tr>\n",
       "  </thead>\n",
       "  <tbody>\n",
       "    <tr>\n",
       "      <th>b</th>\n",
       "      <td>0.163467</td>\n",
       "      <td>-1.100254</td>\n",
       "      <td>-1.462609</td>\n",
       "    </tr>\n",
       "  </tbody>\n",
       "</table>\n",
       "</div>"
      ],
      "text/plain": [
       "        one       two     three\n",
       "b  0.163467 -1.100254 -1.462609"
      ]
     },
     "execution_count": 64,
     "metadata": {},
     "output_type": "execute_result"
    }
   ],
   "source": [
    "df.drop(['a', 'c', 'd'])"
   ]
  },
  {
   "cell_type": "code",
   "execution_count": 65,
   "id": "2934a7a1-2d31-46b9-b180-8314407dabf8",
   "metadata": {},
   "outputs": [
    {
     "data": {
      "text/html": [
       "<div>\n",
       "<style scoped>\n",
       "    .dataframe tbody tr th:only-of-type {\n",
       "        vertical-align: middle;\n",
       "    }\n",
       "\n",
       "    .dataframe tbody tr th {\n",
       "        vertical-align: top;\n",
       "    }\n",
       "\n",
       "    .dataframe thead th {\n",
       "        text-align: right;\n",
       "    }\n",
       "</style>\n",
       "<table border=\"1\" class=\"dataframe\">\n",
       "  <thead>\n",
       "    <tr style=\"text-align: right;\">\n",
       "      <th></th>\n",
       "      <th>three</th>\n",
       "    </tr>\n",
       "  </thead>\n",
       "  <tbody>\n",
       "    <tr>\n",
       "      <th>c</th>\n",
       "      <td>0.682092</td>\n",
       "    </tr>\n",
       "    <tr>\n",
       "      <th>d</th>\n",
       "      <td>-0.246684</td>\n",
       "    </tr>\n",
       "  </tbody>\n",
       "</table>\n",
       "</div>"
      ],
      "text/plain": [
       "      three\n",
       "c  0.682092\n",
       "d -0.246684"
      ]
     },
     "execution_count": 65,
     "metadata": {},
     "output_type": "execute_result"
    }
   ],
   "source": [
    "df.drop(index=['a', 'b'], columns=['one', 'two'])"
   ]
  },
  {
   "cell_type": "markdown",
   "id": "78c5ede1-9755-4646-9638-489f642cf69f",
   "metadata": {},
   "source": [
    "### Renaming / mapping labels"
   ]
  },
  {
   "cell_type": "code",
   "execution_count": 66,
   "id": "f5b31efd-066a-4a9c-bdd2-9fcce7a49e55",
   "metadata": {},
   "outputs": [
    {
     "data": {
      "text/plain": [
       "a    1.084174\n",
       "b   -1.945504\n",
       "c    1.731469\n",
       "d   -0.344387\n",
       "e   -1.063203\n",
       "dtype: float64"
      ]
     },
     "execution_count": 66,
     "metadata": {},
     "output_type": "execute_result"
    }
   ],
   "source": [
    "s"
   ]
  },
  {
   "cell_type": "code",
   "execution_count": 71,
   "id": "2e2b8cbd-0484-41bd-93e5-e9bb02d25023",
   "metadata": {},
   "outputs": [
    {
     "data": {
      "text/plain": [
       "a    1.084174\n",
       "b   -1.945504\n",
       "c    1.731469\n",
       "d   -0.344387\n",
       "e   -1.063203\n",
       "Name: my_serie, dtype: float64"
      ]
     },
     "execution_count": 71,
     "metadata": {},
     "output_type": "execute_result"
    }
   ],
   "source": [
    "s.rename('my_serie') # scaller will change Serie's name"
   ]
  },
  {
   "cell_type": "code",
   "execution_count": 73,
   "id": "d3020906-f4ee-4c8b-a58d-c09ee5963f6f",
   "metadata": {},
   "outputs": [
    {
     "data": {
      "text/plain": [
       "A    1.084174\n",
       "B   -1.945504\n",
       "C    1.731469\n",
       "D   -0.344387\n",
       "E   -1.063203\n",
       "dtype: float64"
      ]
     },
     "execution_count": 73,
     "metadata": {},
     "output_type": "execute_result"
    }
   ],
   "source": [
    "s.rename(lambda x: x.upper()) # function will change the Serie's indexes"
   ]
  },
  {
   "cell_type": "code",
   "execution_count": 79,
   "id": "b6453cf9-af45-451c-bb58-4b633304fedb",
   "metadata": {},
   "outputs": [
    {
     "data": {
      "text/plain": [
       "z    1.084174\n",
       "x   -1.945504\n",
       "c    1.731469\n",
       "y   -0.344387\n",
       "e   -1.063203\n",
       "dtype: float64"
      ]
     },
     "execution_count": 79,
     "metadata": {},
     "output_type": "execute_result"
    }
   ],
   "source": [
    "s.rename(\n",
    "    index={\"a\": \"z\", \"b\": \"x\", \"d\": \"y\"},\n",
    ")"
   ]
  },
  {
   "cell_type": "code",
   "execution_count": 85,
   "id": "9f8e62d0-1bdb-4726-96bd-6bb1a479f98f",
   "metadata": {},
   "outputs": [
    {
     "data": {
      "text/html": [
       "<div>\n",
       "<style scoped>\n",
       "    .dataframe tbody tr th:only-of-type {\n",
       "        vertical-align: middle;\n",
       "    }\n",
       "\n",
       "    .dataframe tbody tr th {\n",
       "        vertical-align: top;\n",
       "    }\n",
       "\n",
       "    .dataframe thead th {\n",
       "        text-align: right;\n",
       "    }\n",
       "</style>\n",
       "<table border=\"1\" class=\"dataframe\">\n",
       "  <thead>\n",
       "    <tr style=\"text-align: right;\">\n",
       "      <th></th>\n",
       "      <th>X</th>\n",
       "      <th>two</th>\n",
       "      <th>three</th>\n",
       "    </tr>\n",
       "  </thead>\n",
       "  <tbody>\n",
       "    <tr>\n",
       "      <th>z</th>\n",
       "      <td>0.729924</td>\n",
       "      <td>1.037791</td>\n",
       "      <td>NaN</td>\n",
       "    </tr>\n",
       "    <tr>\n",
       "      <th>x</th>\n",
       "      <td>0.163467</td>\n",
       "      <td>-1.100254</td>\n",
       "      <td>-1.462609</td>\n",
       "    </tr>\n",
       "    <tr>\n",
       "      <th>c</th>\n",
       "      <td>-0.077453</td>\n",
       "      <td>-0.787528</td>\n",
       "      <td>0.682092</td>\n",
       "    </tr>\n",
       "    <tr>\n",
       "      <th>y</th>\n",
       "      <td>NaN</td>\n",
       "      <td>-2.190634</td>\n",
       "      <td>-0.246684</td>\n",
       "    </tr>\n",
       "  </tbody>\n",
       "</table>\n",
       "</div>"
      ],
      "text/plain": [
       "          X       two     three\n",
       "z  0.729924  1.037791       NaN\n",
       "x  0.163467 -1.100254 -1.462609\n",
       "c -0.077453 -0.787528  0.682092\n",
       "y       NaN -2.190634 -0.246684"
      ]
     },
     "execution_count": 85,
     "metadata": {},
     "output_type": "execute_result"
    }
   ],
   "source": [
    "df.rename(\n",
    "    index={\"a\": \"z\", \"b\": \"x\", \"d\": \"y\"},\n",
    "    columns={'one': 'X'}\n",
    ")"
   ]
  },
  {
   "cell_type": "code",
   "execution_count": 87,
   "id": "09dac7bb-db63-4aec-9e81-7c5958408f1d",
   "metadata": {},
   "outputs": [
    {
     "data": {
      "text/html": [
       "<div>\n",
       "<style scoped>\n",
       "    .dataframe tbody tr th:only-of-type {\n",
       "        vertical-align: middle;\n",
       "    }\n",
       "\n",
       "    .dataframe tbody tr th {\n",
       "        vertical-align: top;\n",
       "    }\n",
       "\n",
       "    .dataframe thead th {\n",
       "        text-align: right;\n",
       "    }\n",
       "</style>\n",
       "<table border=\"1\" class=\"dataframe\">\n",
       "  <thead>\n",
       "    <tr style=\"text-align: right;\">\n",
       "      <th></th>\n",
       "      <th>X</th>\n",
       "      <th>two</th>\n",
       "      <th>three</th>\n",
       "    </tr>\n",
       "  </thead>\n",
       "  <tbody>\n",
       "    <tr>\n",
       "      <th>a</th>\n",
       "      <td>0.729924</td>\n",
       "      <td>1.037791</td>\n",
       "      <td>NaN</td>\n",
       "    </tr>\n",
       "    <tr>\n",
       "      <th>b</th>\n",
       "      <td>0.163467</td>\n",
       "      <td>-1.100254</td>\n",
       "      <td>-1.462609</td>\n",
       "    </tr>\n",
       "    <tr>\n",
       "      <th>c</th>\n",
       "      <td>-0.077453</td>\n",
       "      <td>-0.787528</td>\n",
       "      <td>0.682092</td>\n",
       "    </tr>\n",
       "    <tr>\n",
       "      <th>d</th>\n",
       "      <td>NaN</td>\n",
       "      <td>-2.190634</td>\n",
       "      <td>-0.246684</td>\n",
       "    </tr>\n",
       "  </tbody>\n",
       "</table>\n",
       "</div>"
      ],
      "text/plain": [
       "          X       two     three\n",
       "a  0.729924  1.037791       NaN\n",
       "b  0.163467 -1.100254 -1.462609\n",
       "c -0.077453 -0.787528  0.682092\n",
       "d       NaN -2.190634 -0.246684"
      ]
     },
     "execution_count": 87,
     "metadata": {},
     "output_type": "execute_result"
    }
   ],
   "source": [
    "df.rename({\"one\": \"X\"}, axis=\"columns\")  # like always, you can use axis instead of above method.."
   ]
  }
 ],
 "metadata": {
  "kernelspec": {
   "display_name": "Python 3 (ipykernel)",
   "language": "python",
   "name": "python3"
  },
  "language_info": {
   "codemirror_mode": {
    "name": "ipython",
    "version": 3
   },
   "file_extension": ".py",
   "mimetype": "text/x-python",
   "name": "python",
   "nbconvert_exporter": "python",
   "pygments_lexer": "ipython3",
   "version": "3.9.12"
  }
 },
 "nbformat": 4,
 "nbformat_minor": 5
}
