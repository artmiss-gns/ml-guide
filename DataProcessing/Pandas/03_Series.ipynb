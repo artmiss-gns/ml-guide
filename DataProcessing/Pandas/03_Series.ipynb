{
 "cells": [
  {
   "cell_type": "code",
   "execution_count": 1,
   "id": "aa80a2ce-c9d4-47c7-967b-ab39c5975766",
   "metadata": {},
   "outputs": [],
   "source": [
    "import pandas as pd\n",
    "import numpy as np"
   ]
  },
  {
   "cell_type": "markdown",
   "id": "195b41bc-b5d4-4318-88fd-8d0a59134e5a",
   "metadata": {},
   "source": [
    "There are three main data structures in pandas:\n",
    "- Series—1D\n",
    "- DataFrame—2D\n",
    "- Panel—3D\n"
   ]
  },
  {
   "cell_type": "code",
   "execution_count": 2,
   "id": "d4b98269-5247-4e08-bde8-084bbd258797",
   "metadata": {},
   "outputs": [
    {
     "data": {
      "text/plain": [
       "pandas.core.series.Series"
      ]
     },
     "execution_count": 2,
     "metadata": {},
     "output_type": "execute_result"
    }
   ],
   "source": [
    "pd.Series"
   ]
  },
  {
   "cell_type": "code",
   "execution_count": 3,
   "id": "e3926c27-b917-4a12-a152-719a8c0a39af",
   "metadata": {},
   "outputs": [
    {
     "data": {
      "text/plain": [
       "pandas.core.frame.DataFrame"
      ]
     },
     "execution_count": 3,
     "metadata": {},
     "output_type": "execute_result"
    }
   ],
   "source": [
    "pd.DataFrame"
   ]
  },
  {
   "cell_type": "markdown",
   "id": "542f41e7-883a-4ee3-a059-e4f48e215fe4",
   "metadata": {},
   "source": [
    "## Series"
   ]
  },
  {
   "cell_type": "code",
   "execution_count": 5,
   "id": "fc328ad4-a2ed-4528-a54b-8512f3c392c0",
   "metadata": {},
   "outputs": [],
   "source": [
    "import pandas as pd\n",
    "import numpy as np"
   ]
  },
  {
   "cell_type": "code",
   "execution_count": 6,
   "id": "9a441578-2641-4cea-b136-733367b8a938",
   "metadata": {},
   "outputs": [
    {
     "data": {
      "text/plain": [
       "0    1\n",
       "1    2\n",
       "2    3\n",
       "3    4\n",
       "4    5\n",
       "dtype: int64"
      ]
     },
     "execution_count": 6,
     "metadata": {},
     "output_type": "execute_result"
    }
   ],
   "source": [
    "pd.Series([1, 2, 3, 4, 5])"
   ]
  },
  {
   "cell_type": "code",
   "execution_count": 11,
   "id": "f5f4b00f-b726-4ebf-87fc-f7fc81bcfe21",
   "metadata": {},
   "outputs": [
    {
     "data": {
      "text/plain": [
       "a    0\n",
       "b    1\n",
       "c    2\n",
       "d    3\n",
       "e    4\n",
       "dtype: int64"
      ]
     },
     "execution_count": 11,
     "metadata": {},
     "output_type": "execute_result"
    }
   ],
   "source": [
    "s = pd.Series(np.arange(5), index=['a', 'b', 'c', 'd', 'e'])\n",
    "s"
   ]
  },
  {
   "cell_type": "code",
   "execution_count": 12,
   "id": "29c46083-ab15-44cb-830d-1f2811cffbe9",
   "metadata": {},
   "outputs": [
    {
     "data": {
      "text/plain": [
       "Index(['a', 'b', 'c', 'd', 'e'], dtype='object')"
      ]
     },
     "execution_count": 12,
     "metadata": {},
     "output_type": "execute_result"
    }
   ],
   "source": [
    "s.index"
   ]
  },
  {
   "cell_type": "markdown",
   "id": "b95a6b13-849f-4399-8d9d-3f9a67a27910",
   "metadata": {},
   "source": [
    "**Note**:<br> pandas supports non-unique index values. If an operation that does not support duplicate index values is attempted, an exception will be raised at that time. The reason for being lazy is nearly all performance-based (there are many instances in computations, like parts of GroupBy, where the index is not used)."
   ]
  },
  {
   "cell_type": "code",
   "execution_count": 3,
   "id": "3881547c-b929-43a2-86d5-476a440dd415",
   "metadata": {},
   "outputs": [
    {
     "data": {
      "text/plain": [
       "a    2.020283\n",
       "b    1.410510\n",
       "a    0.435688\n",
       "c   -0.334158\n",
       "a    0.125384\n",
       "dtype: float64"
      ]
     },
     "execution_count": 3,
     "metadata": {},
     "output_type": "execute_result"
    }
   ],
   "source": [
    "# so you can have non-unique indexes :\n",
    "s = pd.Series(np.random.randn(5), index=['a', 'b', 'a', 'c' ,'a'])\n",
    "s"
   ]
  },
  {
   "cell_type": "code",
   "execution_count": 4,
   "id": "339079de-74c5-4842-bb41-5c008e08039e",
   "metadata": {},
   "outputs": [
    {
     "data": {
      "text/plain": [
       "a    2.020283\n",
       "a    0.435688\n",
       "a    0.125384\n",
       "dtype: float64"
      ]
     },
     "execution_count": 4,
     "metadata": {},
     "output_type": "execute_result"
    }
   ],
   "source": [
    "s['a']"
   ]
  },
  {
   "cell_type": "markdown",
   "id": "c6375796-9b9c-4a03-916b-c7e0eac8fce3",
   "metadata": {},
   "source": [
    "<br> </br>\n",
    "### From Dict"
   ]
  },
  {
   "cell_type": "code",
   "execution_count": 16,
   "id": "481b792f-d10a-466a-a1b2-c45cd56e9f7c",
   "metadata": {},
   "outputs": [
    {
     "data": {
      "text/plain": [
       "a    1\n",
       "b    2\n",
       "c    3\n",
       "dtype: int64"
      ]
     },
     "execution_count": 16,
     "metadata": {},
     "output_type": "execute_result"
    }
   ],
   "source": [
    "dic = {\n",
    "    'a': 1,\n",
    "    'b': 2,\n",
    "    'c': 3,\n",
    "}\n",
    "\n",
    "pd.Series(dic)"
   ]
  },
  {
   "cell_type": "markdown",
   "id": "6a2833bf-9cc2-41b8-8440-f53398adf1bc",
   "metadata": {},
   "source": [
    "<br>Actually you can think of pandas Series as a **Dictionary** <ins>except</ins> you can have non-unique index( key) <br>\n",
    "in Series <ins>and</ins> you can have non-hashable index in Series"
   ]
  },
  {
   "cell_type": "markdown",
   "id": "0fa4e959-0cd8-4f1d-9057-903bb65395d3",
   "metadata": {},
   "source": [
    "<br>"
   ]
  },
  {
   "cell_type": "code",
   "execution_count": 19,
   "id": "7f58d5dc-8085-4670-9450-96d1f83ee4be",
   "metadata": {},
   "outputs": [
    {
     "data": {
      "text/plain": [
       "a    1.0\n",
       "b    2.0\n",
       "c    3.0\n",
       "d    NaN\n",
       "dtype: float64"
      ]
     },
     "execution_count": 19,
     "metadata": {},
     "output_type": "execute_result"
    }
   ],
   "source": [
    "dic = {\n",
    "    'a': 1,\n",
    "    'b': 2,\n",
    "    'c': 3,\n",
    "}\n",
    "\n",
    "index = ['a', 'b', 'c', 'd'] # one more element in here\n",
    "\n",
    "\n",
    "pd.Series(dic, index=index)"
   ]
  },
  {
   "cell_type": "markdown",
   "id": "b2f9f3d5-408f-4268-8720-9cf54f5e997e",
   "metadata": {},
   "source": [
    "it becames **NaN**"
   ]
  },
  {
   "cell_type": "markdown",
   "id": "3b8b4e0f-418f-4ed0-a5a3-dbc6fcdfe377",
   "metadata": {},
   "source": [
    "\n",
    "**Note**: NaN (not a number) is the standard missing data marker used in pandas.\n",
    "\n"
   ]
  },
  {
   "cell_type": "markdown",
   "id": "5e0efb11-c13c-42be-8239-da3c764517e6",
   "metadata": {},
   "source": [
    "if you used list instead of dictionary here, and your index length was more thant the list length, <br>\n",
    "you would have recived an error! ( unlike here )\n",
    "<br> <br>"
   ]
  },
  {
   "cell_type": "markdown",
   "id": "925c3209-d8c4-47ce-9513-ab74ca2af6d3",
   "metadata": {},
   "source": [
    "### From scalar value\n",
    "\n"
   ]
  },
  {
   "cell_type": "code",
   "execution_count": 20,
   "id": "5d25f5fd-99e1-44fe-8e64-e639d2f30b4e",
   "metadata": {},
   "outputs": [
    {
     "data": {
      "text/plain": [
       "0    5\n",
       "1    5\n",
       "2    5\n",
       "3    5\n",
       "4    5\n",
       "dtype: int64"
      ]
     },
     "execution_count": 20,
     "metadata": {},
     "output_type": "execute_result"
    }
   ],
   "source": [
    "pd.Series(5, [0, 1, 2, 3, 4])"
   ]
  },
  {
   "cell_type": "markdown",
   "id": "a8d78a0f-cf19-4085-a00e-0f698683d9a4",
   "metadata": {},
   "source": [
    "<br><br>"
   ]
  },
  {
   "cell_type": "markdown",
   "id": "2fd5b4f9-296e-4f2f-ac34-813d2ab08d79",
   "metadata": {},
   "source": [
    "## Series is ndarray-like\n"
   ]
  },
  {
   "cell_type": "code",
   "execution_count": 26,
   "id": "5615af15-092b-4cc0-bfc5-97fb2a5d676c",
   "metadata": {},
   "outputs": [
    {
     "data": {
      "text/plain": [
       "a    7\n",
       "b    9\n",
       "c    1\n",
       "d    4\n",
       "dtype: int64"
      ]
     },
     "execution_count": 26,
     "metadata": {},
     "output_type": "execute_result"
    }
   ],
   "source": [
    "s = pd.Series(\n",
    "    np.random.randint(1, 10, size=4),\n",
    "    index=['a', 'b', 'c', 'd']\n",
    ")\n",
    "\n",
    "s"
   ]
  },
  {
   "cell_type": "code",
   "execution_count": 27,
   "id": "d8f88b1b-1d2c-419c-bcc6-57e9d8134b79",
   "metadata": {},
   "outputs": [
    {
     "data": {
      "text/plain": [
       "7"
      ]
     },
     "execution_count": 27,
     "metadata": {},
     "output_type": "execute_result"
    }
   ],
   "source": [
    "s['a']"
   ]
  },
  {
   "cell_type": "code",
   "execution_count": 28,
   "id": "9eb2f7fb-cbea-4bde-8551-b79c807b8a7a",
   "metadata": {},
   "outputs": [
    {
     "data": {
      "text/plain": [
       "7"
      ]
     },
     "execution_count": 28,
     "metadata": {},
     "output_type": "execute_result"
    }
   ],
   "source": [
    "s[0]"
   ]
  },
  {
   "cell_type": "code",
   "execution_count": 33,
   "id": "caa135a4-1e80-4e44-bc1c-9f3276adeafb",
   "metadata": {},
   "outputs": [
    {
     "data": {
      "text/plain": [
       "c    1\n",
       "d    4\n",
       "dtype: int64"
      ]
     },
     "execution_count": 33,
     "metadata": {},
     "output_type": "execute_result"
    }
   ],
   "source": [
    "s[2:]"
   ]
  },
  {
   "cell_type": "code",
   "execution_count": 31,
   "id": "9c769c83-4368-4fd6-92b0-fa951373279f",
   "metadata": {},
   "outputs": [
    {
     "data": {
      "text/plain": [
       "a    7\n",
       "b    9\n",
       "dtype: int64"
      ]
     },
     "execution_count": 31,
     "metadata": {},
     "output_type": "execute_result"
    }
   ],
   "source": [
    "s[s > s.mean()]"
   ]
  },
  {
   "cell_type": "code",
   "execution_count": 39,
   "id": "e83e1450-be83-4b19-9c73-abc3a0d3158b",
   "metadata": {},
   "outputs": [
    {
     "data": {
      "text/plain": [
       "a    7\n",
       "c    1\n",
       "d    4\n",
       "dtype: int64"
      ]
     },
     "execution_count": 39,
     "metadata": {},
     "output_type": "execute_result"
    }
   ],
   "source": [
    "s[ [0, 2, 3] ] #important"
   ]
  },
  {
   "cell_type": "code",
   "execution_count": 41,
   "id": "fba6adf5-c4e9-432a-ab67-7bfc2cc6d4a4",
   "metadata": {},
   "outputs": [
    {
     "data": {
      "text/plain": [
       "a    1.945910\n",
       "b    2.197225\n",
       "c    0.000000\n",
       "d    1.386294\n",
       "dtype: float64"
      ]
     },
     "execution_count": 41,
     "metadata": {},
     "output_type": "execute_result"
    }
   ],
   "source": [
    "np.log(s)"
   ]
  },
  {
   "cell_type": "code",
   "execution_count": 42,
   "id": "c111c548-2445-429d-9ee4-3a3de47fb12c",
   "metadata": {},
   "outputs": [
    {
     "data": {
      "text/plain": [
       "5.25"
      ]
     },
     "execution_count": 42,
     "metadata": {},
     "output_type": "execute_result"
    }
   ],
   "source": [
    "np.mean(s)"
   ]
  },
  {
   "cell_type": "code",
   "execution_count": 43,
   "id": "1999b476-cc29-4c6b-93dd-4505b395945d",
   "metadata": {},
   "outputs": [
    {
     "data": {
      "text/plain": [
       "dtype('int64')"
      ]
     },
     "execution_count": 43,
     "metadata": {},
     "output_type": "execute_result"
    }
   ],
   "source": [
    "s.dtype"
   ]
  },
  {
   "cell_type": "markdown",
   "id": "fbd68ee0-fd5c-4f6a-92ea-db4f22e50b9a",
   "metadata": {},
   "source": [
    "<br>\n",
    "If you need the actual array backing a Series, use Series.array.\n",
    "\n"
   ]
  },
  {
   "cell_type": "code",
   "execution_count": 44,
   "id": "1adf326f-4e54-42a1-b7a6-f11ce650f8bc",
   "metadata": {},
   "outputs": [
    {
     "data": {
      "text/plain": [
       "<PandasArray>\n",
       "[7, 9, 1, 4]\n",
       "Length: 4, dtype: int64"
      ]
     },
     "execution_count": 44,
     "metadata": {},
     "output_type": "execute_result"
    }
   ],
   "source": [
    "pd.array(s)"
   ]
  },
  {
   "cell_type": "code",
   "execution_count": 45,
   "id": "e68a7264-b53c-4dcb-a344-70638b2aabca",
   "metadata": {},
   "outputs": [
    {
     "data": {
      "text/plain": [
       "<PandasArray>\n",
       "[7, 9, 1, 4]\n",
       "Length: 4, dtype: int64"
      ]
     },
     "execution_count": 45,
     "metadata": {},
     "output_type": "execute_result"
    }
   ],
   "source": [
    "s.array"
   ]
  },
  {
   "cell_type": "markdown",
   "id": "3d8ee665-7584-44aa-8f91-a45f1ef2c5b1",
   "metadata": {},
   "source": [
    "Series.array will always be an ExtensionArray. Briefly, an ExtensionArray is a thin wrapper around one or more concrete arrays like a numpy.ndarray. pandas knows how to take an ExtensionArray and store it in a Series or a column of a DataFrame. See dtypes for more."
   ]
  },
  {
   "cell_type": "markdown",
   "id": "d72bc0dd-db76-4fb9-a6cf-e1e1fa3354d2",
   "metadata": {},
   "source": [
    "<br>"
   ]
  },
  {
   "cell_type": "markdown",
   "id": "006e13f8-865c-45e0-b495-96d0e14623f3",
   "metadata": {},
   "source": [
    "<br>\n",
    "While Series is ndarray-like, if you need an actual ndarray, then use Series.to_numpy()."
   ]
  },
  {
   "cell_type": "code",
   "execution_count": 46,
   "id": "212f68a3-607e-4687-bb1e-4d1e415d38a8",
   "metadata": {},
   "outputs": [
    {
     "data": {
      "text/plain": [
       "array([7, 9, 1, 4])"
      ]
     },
     "execution_count": 46,
     "metadata": {},
     "output_type": "execute_result"
    }
   ],
   "source": [
    "s.to_numpy()"
   ]
  },
  {
   "cell_type": "markdown",
   "id": "3ff80dc1-f3b2-419e-88e2-744e1b5f9bd6",
   "metadata": {},
   "source": [
    "<br> <br>"
   ]
  },
  {
   "cell_type": "markdown",
   "id": "eddb192a-6c55-4233-b0d5-b039ed0bc6aa",
   "metadata": {},
   "source": [
    "## Series is dict-like"
   ]
  },
  {
   "cell_type": "code",
   "execution_count": 47,
   "id": "ce3af6d5-5972-4bf7-a56c-0918e210e40c",
   "metadata": {},
   "outputs": [
    {
     "data": {
      "text/plain": [
       "a    7\n",
       "b    9\n",
       "c    1\n",
       "d    4\n",
       "dtype: int64"
      ]
     },
     "execution_count": 47,
     "metadata": {},
     "output_type": "execute_result"
    }
   ],
   "source": [
    "s"
   ]
  },
  {
   "cell_type": "code",
   "execution_count": 48,
   "id": "d23fb627-5aa8-416c-9348-7b7c34590ccf",
   "metadata": {},
   "outputs": [
    {
     "data": {
      "text/plain": [
       "7"
      ]
     },
     "execution_count": 48,
     "metadata": {},
     "output_type": "execute_result"
    }
   ],
   "source": [
    "s['a']"
   ]
  },
  {
   "cell_type": "code",
   "execution_count": 49,
   "id": "02092197-f66b-41b6-9e8e-74fa44d5b098",
   "metadata": {},
   "outputs": [
    {
     "data": {
      "text/plain": [
       "Index(['a', 'b', 'c', 'd'], dtype='object')"
      ]
     },
     "execution_count": 49,
     "metadata": {},
     "output_type": "execute_result"
    }
   ],
   "source": [
    "s.index"
   ]
  },
  {
   "cell_type": "code",
   "execution_count": 52,
   "id": "3c20389e-32de-4975-996a-09c50f79071c",
   "metadata": {},
   "outputs": [
    {
     "data": {
      "text/plain": [
       "array([7, 9, 1, 4])"
      ]
     },
     "execution_count": 52,
     "metadata": {},
     "output_type": "execute_result"
    }
   ],
   "source": [
    "s.values"
   ]
  },
  {
   "cell_type": "code",
   "execution_count": 53,
   "id": "ff6c79e3-4a5d-47e2-8673-230cfcad47a9",
   "metadata": {},
   "outputs": [
    {
     "data": {
      "text/plain": [
       "a    0\n",
       "b    9\n",
       "c    1\n",
       "d    4\n",
       "dtype: int64"
      ]
     },
     "execution_count": 53,
     "metadata": {},
     "output_type": "execute_result"
    }
   ],
   "source": [
    "s['a'] = 0\n",
    "s"
   ]
  },
  {
   "cell_type": "code",
   "execution_count": 54,
   "id": "27605f37-fe16-47aa-b7d3-03931fc03ae9",
   "metadata": {},
   "outputs": [
    {
     "data": {
      "text/plain": [
       "True"
      ]
     },
     "execution_count": 54,
     "metadata": {},
     "output_type": "execute_result"
    }
   ],
   "source": [
    "'b' in s"
   ]
  },
  {
   "cell_type": "markdown",
   "id": "73bef485-12d6-418b-b70b-2ea6b0a9cbe2",
   "metadata": {},
   "source": [
    "If a label is not contained, an exception is raised:\n",
    "\n",
    "Using the get method, a missing label will return None or specified default:"
   ]
  },
  {
   "cell_type": "code",
   "execution_count": 57,
   "id": "0e351165-4d51-428a-b627-7282db19c206",
   "metadata": {},
   "outputs": [],
   "source": [
    "# s['q'] it will raise error"
   ]
  },
  {
   "cell_type": "code",
   "execution_count": 59,
   "id": "6d77749d-f340-400b-8d8c-d4fa54d8e48a",
   "metadata": {},
   "outputs": [
    {
     "name": "stdout",
     "output_type": "stream",
     "text": [
      "None\n"
     ]
    }
   ],
   "source": [
    "print(s.get('q'))"
   ]
  },
  {
   "cell_type": "code",
   "execution_count": 60,
   "id": "15d50df1-212f-45bd-8f48-2dc018b47188",
   "metadata": {},
   "outputs": [
    {
     "name": "stdout",
     "output_type": "stream",
     "text": [
      "0\n"
     ]
    }
   ],
   "source": [
    "print(s.get('a'))"
   ]
  },
  {
   "cell_type": "code",
   "execution_count": 62,
   "id": "3448efff-43b0-4cb4-ac45-4719aeefec97",
   "metadata": {},
   "outputs": [
    {
     "data": {
      "text/plain": [
       "'not-found'"
      ]
     },
     "execution_count": 62,
     "metadata": {},
     "output_type": "execute_result"
    }
   ],
   "source": [
    "s.get('q', default='not-found') # just like dict"
   ]
  },
  {
   "cell_type": "markdown",
   "id": "b37667c0-58fc-401f-8087-9f485f73a85a",
   "metadata": {},
   "source": [
    "## Vectorized operations and label alignment with Series\n"
   ]
  },
  {
   "cell_type": "code",
   "execution_count": 64,
   "id": "35a1759f-5cc4-441d-9e61-710acf2a040d",
   "metadata": {},
   "outputs": [
    {
     "data": {
      "text/plain": [
       "a    0\n",
       "b    9\n",
       "c    1\n",
       "d    4\n",
       "dtype: int64"
      ]
     },
     "execution_count": 64,
     "metadata": {},
     "output_type": "execute_result"
    }
   ],
   "source": [
    "s"
   ]
  },
  {
   "cell_type": "code",
   "execution_count": 65,
   "id": "53bdb81d-58c0-475f-80db-93e1aa0a4e65",
   "metadata": {},
   "outputs": [
    {
     "data": {
      "text/plain": [
       "a     0\n",
       "b    18\n",
       "c     2\n",
       "d     8\n",
       "dtype: int64"
      ]
     },
     "execution_count": 65,
     "metadata": {},
     "output_type": "execute_result"
    }
   ],
   "source": [
    "s + s"
   ]
  },
  {
   "cell_type": "code",
   "execution_count": 66,
   "id": "9fbe2b5c-f027-4606-beb3-8a3af610af12",
   "metadata": {},
   "outputs": [
    {
     "data": {
      "text/plain": [
       "a     0\n",
       "b    18\n",
       "c     2\n",
       "d     8\n",
       "dtype: int64"
      ]
     },
     "execution_count": 66,
     "metadata": {},
     "output_type": "execute_result"
    }
   ],
   "source": [
    "s * 2"
   ]
  },
  {
   "cell_type": "markdown",
   "id": "8202827f-1278-4427-934e-c287fa49e14a",
   "metadata": {},
   "source": [
    "<br>\n",
    "\n",
    "A key difference between Series and ndarray is that operations between Series **automatically align the data based on label**. Thus, you can write computations without giving consideration to whether the Series involved have the same labels."
   ]
  },
  {
   "cell_type": "markdown",
   "id": "bd1044ca-f44d-4ee1-92d3-f3cde3a00f1b",
   "metadata": {},
   "source": [
    "<br></br>\n",
    "This concept is really important, so --> pandas alligns the data based on it's **index name**"
   ]
  },
  {
   "cell_type": "code",
   "execution_count": 67,
   "id": "c94e7570-fdbf-45be-b5a2-dd4a341933dd",
   "metadata": {},
   "outputs": [
    {
     "data": {
      "text/plain": [
       "b    9\n",
       "c    1\n",
       "d    4\n",
       "dtype: int64"
      ]
     },
     "execution_count": 67,
     "metadata": {},
     "output_type": "execute_result"
    }
   ],
   "source": [
    "s[1:]"
   ]
  },
  {
   "cell_type": "code",
   "execution_count": 68,
   "id": "35334cd2-8e5f-4479-96e3-f834d646d7e1",
   "metadata": {},
   "outputs": [
    {
     "data": {
      "text/plain": [
       "a    0\n",
       "b    9\n",
       "c    1\n",
       "dtype: int64"
      ]
     },
     "execution_count": 68,
     "metadata": {},
     "output_type": "execute_result"
    }
   ],
   "source": [
    "s[:-1]"
   ]
  },
  {
   "cell_type": "code",
   "execution_count": 69,
   "id": "62429789-dce7-4eb5-ab59-09615fe3b38e",
   "metadata": {},
   "outputs": [
    {
     "data": {
      "text/plain": [
       "a     NaN\n",
       "b    18.0\n",
       "c     2.0\n",
       "d     NaN\n",
       "dtype: float64"
      ]
     },
     "execution_count": 69,
     "metadata": {},
     "output_type": "execute_result"
    }
   ],
   "source": [
    "s[1:] + s[:-1]"
   ]
  },
  {
   "cell_type": "markdown",
   "id": "e8334631-fab8-4c9b-923d-3d6efe49becb",
   "metadata": {},
   "source": [
    "one of them doesn't have label 'a'<br>\n",
    "one of them doesn't have label 'd'<br>\n",
    "so NaN will be assigned for them"
   ]
  },
  {
   "cell_type": "markdown",
   "id": "393d7e66-182b-426c-ac6a-10e6f552fbcf",
   "metadata": {},
   "source": [
    "## Name attribute\n"
   ]
  },
  {
   "cell_type": "code",
   "execution_count": 8,
   "id": "034780bf-429e-418d-9a66-682f3ba80f67",
   "metadata": {},
   "outputs": [
    {
     "data": {
      "text/plain": [
       "0   -0.090041\n",
       "1    2.658800\n",
       "2   -0.603770\n",
       "3   -1.203347\n",
       "4    0.090409\n",
       "Name: serie, dtype: float64"
      ]
     },
     "execution_count": 8,
     "metadata": {},
     "output_type": "execute_result"
    }
   ],
   "source": [
    "s = pd.Series(np.random.randn(5), name='serie')\n",
    "s"
   ]
  },
  {
   "cell_type": "code",
   "execution_count": 9,
   "id": "189ffa02-246f-4f20-85c0-a7910f6d47c2",
   "metadata": {},
   "outputs": [
    {
     "data": {
      "text/plain": [
       "'serie'"
      ]
     },
     "execution_count": 9,
     "metadata": {},
     "output_type": "execute_result"
    }
   ],
   "source": [
    "s.name"
   ]
  },
  {
   "cell_type": "code",
   "execution_count": 10,
   "id": "c03c7fbd-1f5c-4dc5-921d-5996f3fa3662",
   "metadata": {},
   "outputs": [
    {
     "data": {
      "text/plain": [
       "'serie2'"
      ]
     },
     "execution_count": 10,
     "metadata": {},
     "output_type": "execute_result"
    }
   ],
   "source": [
    "s.name = 'serie2'\n",
    "s.name"
   ]
  },
  {
   "cell_type": "code",
   "execution_count": 11,
   "id": "0c969abe-9f70-4abd-858c-ef3cfe30efdc",
   "metadata": {},
   "outputs": [
    {
     "data": {
      "text/plain": [
       "'serie3'"
      ]
     },
     "execution_count": 11,
     "metadata": {},
     "output_type": "execute_result"
    }
   ],
   "source": [
    "s2 = s.rename('serie3')\n",
    "s2.name"
   ]
  },
  {
   "cell_type": "markdown",
   "id": "a2313e58-c455-4de0-92a9-359ee80b9a72",
   "metadata": {},
   "source": [
    "Note that s and s2 refer to different objects.\n",
    "\n"
   ]
  },
  {
   "cell_type": "markdown",
   "id": "1e833975-a534-4224-929b-560d0e275513",
   "metadata": {},
   "source": [
    "<br>\n",
    "<br>"
   ]
  },
  {
   "cell_type": "markdown",
   "id": "5e95dd28-98a5-40f6-afb0-66c2b89d5c1d",
   "metadata": {},
   "source": [
    "### Copy and View"
   ]
  },
  {
   "cell_type": "code",
   "execution_count": 84,
   "id": "512df173-b029-4e2b-a592-bae26ff8f59c",
   "metadata": {},
   "outputs": [
    {
     "data": {
      "text/html": [
       "<div>\n",
       "<style scoped>\n",
       "    .dataframe tbody tr th:only-of-type {\n",
       "        vertical-align: middle;\n",
       "    }\n",
       "\n",
       "    .dataframe tbody tr th {\n",
       "        vertical-align: top;\n",
       "    }\n",
       "\n",
       "    .dataframe thead th {\n",
       "        text-align: right;\n",
       "    }\n",
       "</style>\n",
       "<table border=\"1\" class=\"dataframe\">\n",
       "  <thead>\n",
       "    <tr style=\"text-align: right;\">\n",
       "      <th></th>\n",
       "      <th>0</th>\n",
       "      <th>1</th>\n",
       "      <th>2</th>\n",
       "      <th>3</th>\n",
       "    </tr>\n",
       "  </thead>\n",
       "  <tbody>\n",
       "    <tr>\n",
       "      <th>0</th>\n",
       "      <td>0.399534</td>\n",
       "      <td>0.630542</td>\n",
       "      <td>0.913081</td>\n",
       "      <td>0.203280</td>\n",
       "    </tr>\n",
       "    <tr>\n",
       "      <th>1</th>\n",
       "      <td>0.205706</td>\n",
       "      <td>0.834606</td>\n",
       "      <td>-1.246822</td>\n",
       "      <td>-0.607256</td>\n",
       "    </tr>\n",
       "    <tr>\n",
       "      <th>2</th>\n",
       "      <td>-1.746456</td>\n",
       "      <td>-0.419059</td>\n",
       "      <td>0.253390</td>\n",
       "      <td>0.601311</td>\n",
       "    </tr>\n",
       "    <tr>\n",
       "      <th>3</th>\n",
       "      <td>-0.864971</td>\n",
       "      <td>1.449097</td>\n",
       "      <td>0.651267</td>\n",
       "      <td>0.645717</td>\n",
       "    </tr>\n",
       "  </tbody>\n",
       "</table>\n",
       "</div>"
      ],
      "text/plain": [
       "          0         1         2         3\n",
       "0  0.399534  0.630542  0.913081  0.203280\n",
       "1  0.205706  0.834606 -1.246822 -0.607256\n",
       "2 -1.746456 -0.419059  0.253390  0.601311\n",
       "3 -0.864971  1.449097  0.651267  0.645717"
      ]
     },
     "execution_count": 84,
     "metadata": {},
     "output_type": "execute_result"
    }
   ],
   "source": [
    "a = np.random.randn(4, 4)\n",
    "b = pd.DataFrame(a)\n",
    "b"
   ]
  },
  {
   "cell_type": "code",
   "execution_count": 85,
   "id": "d91acb18-c496-49e8-901f-9d0e341ebb5f",
   "metadata": {},
   "outputs": [
    {
     "data": {
      "text/plain": [
       "array([[ 0.        ,  0.        ,  0.        ,  0.        ],\n",
       "       [ 0.20570585,  0.83460556, -1.24682201, -0.60725625],\n",
       "       [-1.74645592, -0.41905922,  0.25339009,  0.60131108],\n",
       "       [-0.86497122,  1.44909717,  0.65126742,  0.64571682]])"
      ]
     },
     "execution_count": 85,
     "metadata": {},
     "output_type": "execute_result"
    }
   ],
   "source": [
    "a[0] = 0\n",
    "a"
   ]
  },
  {
   "cell_type": "code",
   "execution_count": 86,
   "id": "95da6d73-6925-44c0-9c12-c51ccd631ec8",
   "metadata": {},
   "outputs": [
    {
     "data": {
      "text/html": [
       "<div>\n",
       "<style scoped>\n",
       "    .dataframe tbody tr th:only-of-type {\n",
       "        vertical-align: middle;\n",
       "    }\n",
       "\n",
       "    .dataframe tbody tr th {\n",
       "        vertical-align: top;\n",
       "    }\n",
       "\n",
       "    .dataframe thead th {\n",
       "        text-align: right;\n",
       "    }\n",
       "</style>\n",
       "<table border=\"1\" class=\"dataframe\">\n",
       "  <thead>\n",
       "    <tr style=\"text-align: right;\">\n",
       "      <th></th>\n",
       "      <th>0</th>\n",
       "      <th>1</th>\n",
       "      <th>2</th>\n",
       "      <th>3</th>\n",
       "    </tr>\n",
       "  </thead>\n",
       "  <tbody>\n",
       "    <tr>\n",
       "      <th>0</th>\n",
       "      <td>0.000000</td>\n",
       "      <td>0.000000</td>\n",
       "      <td>0.000000</td>\n",
       "      <td>0.000000</td>\n",
       "    </tr>\n",
       "    <tr>\n",
       "      <th>1</th>\n",
       "      <td>0.205706</td>\n",
       "      <td>0.834606</td>\n",
       "      <td>-1.246822</td>\n",
       "      <td>-0.607256</td>\n",
       "    </tr>\n",
       "    <tr>\n",
       "      <th>2</th>\n",
       "      <td>-1.746456</td>\n",
       "      <td>-0.419059</td>\n",
       "      <td>0.253390</td>\n",
       "      <td>0.601311</td>\n",
       "    </tr>\n",
       "    <tr>\n",
       "      <th>3</th>\n",
       "      <td>-0.864971</td>\n",
       "      <td>1.449097</td>\n",
       "      <td>0.651267</td>\n",
       "      <td>0.645717</td>\n",
       "    </tr>\n",
       "  </tbody>\n",
       "</table>\n",
       "</div>"
      ],
      "text/plain": [
       "          0         1         2         3\n",
       "0  0.000000  0.000000  0.000000  0.000000\n",
       "1  0.205706  0.834606 -1.246822 -0.607256\n",
       "2 -1.746456 -0.419059  0.253390  0.601311\n",
       "3 -0.864971  1.449097  0.651267  0.645717"
      ]
     },
     "execution_count": 86,
     "metadata": {},
     "output_type": "execute_result"
    }
   ],
   "source": [
    "b"
   ]
  },
  {
   "cell_type": "markdown",
   "id": "32de2dd0-9ffd-44aa-b83b-4bafb5ca5910",
   "metadata": {},
   "source": [
    "as you can see the first row of b has also changed, why?\n"
   ]
  },
  {
   "cell_type": "code",
   "execution_count": 3,
   "id": "10bd30d1-0daf-4cf1-84b7-4a7fc6822fdd",
   "metadata": {},
   "outputs": [
    {
     "data": {
      "text/html": [
       "<div>\n",
       "<style scoped>\n",
       "    .dataframe tbody tr th:only-of-type {\n",
       "        vertical-align: middle;\n",
       "    }\n",
       "\n",
       "    .dataframe tbody tr th {\n",
       "        vertical-align: top;\n",
       "    }\n",
       "\n",
       "    .dataframe thead th {\n",
       "        text-align: right;\n",
       "    }\n",
       "</style>\n",
       "<table border=\"1\" class=\"dataframe\">\n",
       "  <thead>\n",
       "    <tr style=\"text-align: right;\">\n",
       "      <th></th>\n",
       "      <th>0</th>\n",
       "      <th>1</th>\n",
       "      <th>2</th>\n",
       "      <th>3</th>\n",
       "    </tr>\n",
       "  </thead>\n",
       "  <tbody>\n",
       "    <tr>\n",
       "      <th>0</th>\n",
       "      <td>-0.160965</td>\n",
       "      <td>0.267512</td>\n",
       "      <td>-1.645385</td>\n",
       "      <td>0.169228</td>\n",
       "    </tr>\n",
       "    <tr>\n",
       "      <th>1</th>\n",
       "      <td>0.181696</td>\n",
       "      <td>0.854095</td>\n",
       "      <td>1.526907</td>\n",
       "      <td>-0.599061</td>\n",
       "    </tr>\n",
       "    <tr>\n",
       "      <th>2</th>\n",
       "      <td>-1.669549</td>\n",
       "      <td>-0.255968</td>\n",
       "      <td>0.238605</td>\n",
       "      <td>-1.005476</td>\n",
       "    </tr>\n",
       "    <tr>\n",
       "      <th>3</th>\n",
       "      <td>2.275539</td>\n",
       "      <td>-1.406166</td>\n",
       "      <td>-0.587911</td>\n",
       "      <td>-1.508659</td>\n",
       "    </tr>\n",
       "  </tbody>\n",
       "</table>\n",
       "</div>"
      ],
      "text/plain": [
       "          0         1         2         3\n",
       "0 -0.160965  0.267512 -1.645385  0.169228\n",
       "1  0.181696  0.854095  1.526907 -0.599061\n",
       "2 -1.669549 -0.255968  0.238605 -1.005476\n",
       "3  2.275539 -1.406166 -0.587911 -1.508659"
      ]
     },
     "execution_count": 3,
     "metadata": {},
     "output_type": "execute_result"
    }
   ],
   "source": [
    "a = np.random.randn(4, 4)\n",
    "b = pd.DataFrame(a, copy=True)\n",
    "b"
   ]
  },
  {
   "cell_type": "code",
   "execution_count": 4,
   "id": "239fb2e2-1678-4839-b9f3-70f738b671f3",
   "metadata": {},
   "outputs": [
    {
     "data": {
      "text/plain": [
       "array([[ 0.        ,  0.        ,  0.        ,  0.        ],\n",
       "       [ 0.18169611,  0.85409496,  1.52690695, -0.59906058],\n",
       "       [-1.66954862, -0.25596821,  0.23860472, -1.00547639],\n",
       "       [ 2.27553936, -1.40616592, -0.58791133, -1.50865927]])"
      ]
     },
     "execution_count": 4,
     "metadata": {},
     "output_type": "execute_result"
    }
   ],
   "source": [
    "a[0] = 0\n",
    "a"
   ]
  },
  {
   "cell_type": "code",
   "execution_count": 5,
   "id": "9acdccf4-e024-48b4-ace4-51aff560273a",
   "metadata": {},
   "outputs": [
    {
     "data": {
      "text/html": [
       "<div>\n",
       "<style scoped>\n",
       "    .dataframe tbody tr th:only-of-type {\n",
       "        vertical-align: middle;\n",
       "    }\n",
       "\n",
       "    .dataframe tbody tr th {\n",
       "        vertical-align: top;\n",
       "    }\n",
       "\n",
       "    .dataframe thead th {\n",
       "        text-align: right;\n",
       "    }\n",
       "</style>\n",
       "<table border=\"1\" class=\"dataframe\">\n",
       "  <thead>\n",
       "    <tr style=\"text-align: right;\">\n",
       "      <th></th>\n",
       "      <th>0</th>\n",
       "      <th>1</th>\n",
       "      <th>2</th>\n",
       "      <th>3</th>\n",
       "    </tr>\n",
       "  </thead>\n",
       "  <tbody>\n",
       "    <tr>\n",
       "      <th>0</th>\n",
       "      <td>-0.160965</td>\n",
       "      <td>0.267512</td>\n",
       "      <td>-1.645385</td>\n",
       "      <td>0.169228</td>\n",
       "    </tr>\n",
       "    <tr>\n",
       "      <th>1</th>\n",
       "      <td>0.181696</td>\n",
       "      <td>0.854095</td>\n",
       "      <td>1.526907</td>\n",
       "      <td>-0.599061</td>\n",
       "    </tr>\n",
       "    <tr>\n",
       "      <th>2</th>\n",
       "      <td>-1.669549</td>\n",
       "      <td>-0.255968</td>\n",
       "      <td>0.238605</td>\n",
       "      <td>-1.005476</td>\n",
       "    </tr>\n",
       "    <tr>\n",
       "      <th>3</th>\n",
       "      <td>2.275539</td>\n",
       "      <td>-1.406166</td>\n",
       "      <td>-0.587911</td>\n",
       "      <td>-1.508659</td>\n",
       "    </tr>\n",
       "  </tbody>\n",
       "</table>\n",
       "</div>"
      ],
      "text/plain": [
       "          0         1         2         3\n",
       "0 -0.160965  0.267512 -1.645385  0.169228\n",
       "1  0.181696  0.854095  1.526907 -0.599061\n",
       "2 -1.669549 -0.255968  0.238605 -1.005476\n",
       "3  2.275539 -1.406166 -0.587911 -1.508659"
      ]
     },
     "execution_count": 5,
     "metadata": {},
     "output_type": "execute_result"
    }
   ],
   "source": [
    "b"
   ]
  },
  {
   "cell_type": "markdown",
   "id": "79eb745e-6898-4d9e-a061-fde374394ebb",
   "metadata": {},
   "source": [
    "and here we can see that the first row hasn't changed!"
   ]
  },
  {
   "cell_type": "markdown",
   "id": "5000a0be-6472-4d76-9ffb-f22c8ca74e95",
   "metadata": {},
   "source": [
    "___"
   ]
  },
  {
   "cell_type": "code",
   "execution_count": 13,
   "id": "5ef6ed5e-7eea-4e85-9c8f-153ef6a093c4",
   "metadata": {},
   "outputs": [
    {
     "data": {
      "text/html": [
       "<div>\n",
       "<style scoped>\n",
       "    .dataframe tbody tr th:only-of-type {\n",
       "        vertical-align: middle;\n",
       "    }\n",
       "\n",
       "    .dataframe tbody tr th {\n",
       "        vertical-align: top;\n",
       "    }\n",
       "\n",
       "    .dataframe thead th {\n",
       "        text-align: right;\n",
       "    }\n",
       "</style>\n",
       "<table border=\"1\" class=\"dataframe\">\n",
       "  <thead>\n",
       "    <tr style=\"text-align: right;\">\n",
       "      <th></th>\n",
       "      <th>0</th>\n",
       "    </tr>\n",
       "  </thead>\n",
       "  <tbody>\n",
       "    <tr>\n",
       "      <th>0</th>\n",
       "      <td>1</td>\n",
       "    </tr>\n",
       "    <tr>\n",
       "      <th>1</th>\n",
       "      <td>2</td>\n",
       "    </tr>\n",
       "    <tr>\n",
       "      <th>2</th>\n",
       "      <td>3</td>\n",
       "    </tr>\n",
       "    <tr>\n",
       "      <th>3</th>\n",
       "      <td>4</td>\n",
       "    </tr>\n",
       "  </tbody>\n",
       "</table>\n",
       "</div>"
      ],
      "text/plain": [
       "   0\n",
       "0  1\n",
       "1  2\n",
       "2  3\n",
       "3  4"
      ]
     },
     "execution_count": 13,
     "metadata": {},
     "output_type": "execute_result"
    }
   ],
   "source": [
    "a = [1, 2, 3, 4]\n",
    "b = pd.DataFrame(a, copy=False)\n",
    "b"
   ]
  },
  {
   "cell_type": "code",
   "execution_count": 14,
   "id": "8a1b0252-49f0-42b4-ba13-9418cf6780af",
   "metadata": {},
   "outputs": [
    {
     "data": {
      "text/html": [
       "<div>\n",
       "<style scoped>\n",
       "    .dataframe tbody tr th:only-of-type {\n",
       "        vertical-align: middle;\n",
       "    }\n",
       "\n",
       "    .dataframe tbody tr th {\n",
       "        vertical-align: top;\n",
       "    }\n",
       "\n",
       "    .dataframe thead th {\n",
       "        text-align: right;\n",
       "    }\n",
       "</style>\n",
       "<table border=\"1\" class=\"dataframe\">\n",
       "  <thead>\n",
       "    <tr style=\"text-align: right;\">\n",
       "      <th></th>\n",
       "      <th>0</th>\n",
       "    </tr>\n",
       "  </thead>\n",
       "  <tbody>\n",
       "    <tr>\n",
       "      <th>0</th>\n",
       "      <td>1</td>\n",
       "    </tr>\n",
       "    <tr>\n",
       "      <th>1</th>\n",
       "      <td>2</td>\n",
       "    </tr>\n",
       "    <tr>\n",
       "      <th>2</th>\n",
       "      <td>3</td>\n",
       "    </tr>\n",
       "    <tr>\n",
       "      <th>3</th>\n",
       "      <td>4</td>\n",
       "    </tr>\n",
       "  </tbody>\n",
       "</table>\n",
       "</div>"
      ],
      "text/plain": [
       "   0\n",
       "0  1\n",
       "1  2\n",
       "2  3\n",
       "3  4"
      ]
     },
     "execution_count": 14,
     "metadata": {},
     "output_type": "execute_result"
    }
   ],
   "source": [
    "a = [0, 0, 0, 0]\n",
    "b"
   ]
  },
  {
   "cell_type": "markdown",
   "id": "28ae9aef-2911-433f-a7af-21bd367591be",
   "metadata": {},
   "source": [
    "if you give the DataFrame :\n",
    "1) ndarray \n",
    "2) Series\n",
    "\n",
    "the copy=False will gives you a **MemoryView**\n",
    "\n",
    "but anything else except these 2 --> will copy the data (even if you put copy=False) "
   ]
  }
 ],
 "metadata": {
  "kernelspec": {
   "display_name": "Python 3 (ipykernel)",
   "language": "python",
   "name": "python3"
  },
  "language_info": {
   "codemirror_mode": {
    "name": "ipython",
    "version": 3
   },
   "file_extension": ".py",
   "mimetype": "text/x-python",
   "name": "python",
   "nbconvert_exporter": "python",
   "pygments_lexer": "ipython3",
   "version": "3.12.2"
  }
 },
 "nbformat": 4,
 "nbformat_minor": 5
}
