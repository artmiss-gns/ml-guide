{
 "cells": [
  {
   "cell_type": "markdown",
   "id": "306a4004-269e-4c29-a21b-903d3fc5730b",
   "metadata": {},
   "source": [
    "Table of Contents:\n",
    "\n",
    "- Descriptive statistics\n",
    "- Summarizing data: describe\n",
    "- Index of min/max values\n",
    "- Value counts (histogramming) / mode)\n",
    "- Discretization and quantiling"
   ]
  },
  {
   "cell_type": "code",
   "execution_count": 1,
   "id": "bbee2136-151d-4d7e-a1d0-0467cabe1b27",
   "metadata": {},
   "outputs": [],
   "source": [
    "import numpy as np\n",
    "import pandas as pd"
   ]
  },
  {
   "cell_type": "code",
   "execution_count": 2,
   "id": "181a0102-e4ec-49e4-b5a4-62b7f21786cd",
   "metadata": {},
   "outputs": [
    {
     "data": {
      "text/html": [
       "<div>\n",
       "<style scoped>\n",
       "    .dataframe tbody tr th:only-of-type {\n",
       "        vertical-align: middle;\n",
       "    }\n",
       "\n",
       "    .dataframe tbody tr th {\n",
       "        vertical-align: top;\n",
       "    }\n",
       "\n",
       "    .dataframe thead th {\n",
       "        text-align: right;\n",
       "    }\n",
       "</style>\n",
       "<table border=\"1\" class=\"dataframe\">\n",
       "  <thead>\n",
       "    <tr style=\"text-align: right;\">\n",
       "      <th></th>\n",
       "      <th>name</th>\n",
       "      <th>age</th>\n",
       "      <th>income</th>\n",
       "      <th>id</th>\n",
       "    </tr>\n",
       "  </thead>\n",
       "  <tbody>\n",
       "    <tr>\n",
       "      <th>0</th>\n",
       "      <td>Emma</td>\n",
       "      <td>20.0</td>\n",
       "      <td>3500000.0</td>\n",
       "      <td>-0.984651</td>\n",
       "    </tr>\n",
       "    <tr>\n",
       "      <th>1</th>\n",
       "      <td>Harry</td>\n",
       "      <td>20.0</td>\n",
       "      <td>2000000.0</td>\n",
       "      <td>0.697746</td>\n",
       "    </tr>\n",
       "    <tr>\n",
       "      <th>2</th>\n",
       "      <td>khashy</td>\n",
       "      <td>NaN</td>\n",
       "      <td>100000.0</td>\n",
       "      <td>0.489154</td>\n",
       "    </tr>\n",
       "    <tr>\n",
       "      <th>3</th>\n",
       "      <td>Chester</td>\n",
       "      <td>25.0</td>\n",
       "      <td>NaN</td>\n",
       "      <td>0.308554</td>\n",
       "    </tr>\n",
       "    <tr>\n",
       "      <th>4</th>\n",
       "      <td>fariborz</td>\n",
       "      <td>50.0</td>\n",
       "      <td>1000.0</td>\n",
       "      <td>-1.376147</td>\n",
       "    </tr>\n",
       "    <tr>\n",
       "      <th>5</th>\n",
       "      <td>kourush</td>\n",
       "      <td>NaN</td>\n",
       "      <td>NaN</td>\n",
       "      <td>1.058736</td>\n",
       "    </tr>\n",
       "  </tbody>\n",
       "</table>\n",
       "</div>"
      ],
      "text/plain": [
       "       name   age     income        id\n",
       "0      Emma  20.0  3500000.0 -0.984651\n",
       "1     Harry  20.0  2000000.0  0.697746\n",
       "2    khashy   NaN   100000.0  0.489154\n",
       "3   Chester  25.0        NaN  0.308554\n",
       "4  fariborz  50.0     1000.0 -1.376147\n",
       "5   kourush   NaN        NaN  1.058736"
      ]
     },
     "execution_count": 2,
     "metadata": {},
     "output_type": "execute_result"
    }
   ],
   "source": [
    "df = pd.DataFrame(\n",
    "    {\n",
    "        'name': ['Emma', 'Harry', 'khashy', 'Chester', 'fariborz', 'kourush'],\n",
    "        'age': [20, 20, np.NaN, 25, 50, np.NaN],\n",
    "        'income': [3500000, 2000000, 100000, np.NaN, 1000, np.NaN],\n",
    "        'id' : np.random.randn(6),\n",
    "    }\n",
    ")\n",
    "df"
   ]
  },
  {
   "cell_type": "code",
   "execution_count": 3,
   "id": "2a68b147-85f6-41e3-9f4b-494012c855a9",
   "metadata": {},
   "outputs": [
    {
     "data": {
      "text/plain": [
       "28.75"
      ]
     },
     "execution_count": 3,
     "metadata": {},
     "output_type": "execute_result"
    }
   ],
   "source": [
    "df['age'].mean()"
   ]
  },
  {
   "cell_type": "code",
   "execution_count": 4,
   "id": "5f37f358-27d2-434d-afdb-75c3fe035dd6",
   "metadata": {},
   "outputs": [
    {
     "data": {
      "text/plain": [
       "1166673.0051162418"
      ]
     },
     "execution_count": 4,
     "metadata": {},
     "output_type": "execute_result"
    }
   ],
   "source": [
    "df.loc[0, 'age':].mean()"
   ]
  },
  {
   "cell_type": "code",
   "execution_count": 5,
   "id": "9bc3c3c8-869f-4ebd-9971-e7b9bf66385c",
   "metadata": {},
   "outputs": [
    {
     "data": {
      "text/html": [
       "<div>\n",
       "<style scoped>\n",
       "    .dataframe tbody tr th:only-of-type {\n",
       "        vertical-align: middle;\n",
       "    }\n",
       "\n",
       "    .dataframe tbody tr th {\n",
       "        vertical-align: top;\n",
       "    }\n",
       "\n",
       "    .dataframe thead th {\n",
       "        text-align: right;\n",
       "    }\n",
       "</style>\n",
       "<table border=\"1\" class=\"dataframe\">\n",
       "  <thead>\n",
       "    <tr style=\"text-align: right;\">\n",
       "      <th></th>\n",
       "      <th>one</th>\n",
       "      <th>two</th>\n",
       "      <th>three</th>\n",
       "    </tr>\n",
       "  </thead>\n",
       "  <tbody>\n",
       "    <tr>\n",
       "      <th>a</th>\n",
       "      <td>-0.311662</td>\n",
       "      <td>-0.710599</td>\n",
       "      <td>NaN</td>\n",
       "    </tr>\n",
       "    <tr>\n",
       "      <th>b</th>\n",
       "      <td>0.867480</td>\n",
       "      <td>-0.922103</td>\n",
       "      <td>-0.918198</td>\n",
       "    </tr>\n",
       "    <tr>\n",
       "      <th>c</th>\n",
       "      <td>0.170806</td>\n",
       "      <td>-1.675954</td>\n",
       "      <td>0.117454</td>\n",
       "    </tr>\n",
       "    <tr>\n",
       "      <th>d</th>\n",
       "      <td>NaN</td>\n",
       "      <td>-1.589849</td>\n",
       "      <td>-0.125601</td>\n",
       "    </tr>\n",
       "  </tbody>\n",
       "</table>\n",
       "</div>"
      ],
      "text/plain": [
       "        one       two     three\n",
       "a -0.311662 -0.710599       NaN\n",
       "b  0.867480 -0.922103 -0.918198\n",
       "c  0.170806 -1.675954  0.117454\n",
       "d       NaN -1.589849 -0.125601"
      ]
     },
     "execution_count": 5,
     "metadata": {},
     "output_type": "execute_result"
    }
   ],
   "source": [
    "df2 = pd.DataFrame(\n",
    "    {\n",
    "        \"one\": pd.Series(np.random.randn(3), index=[\"a\", \"b\", \"c\"]),\n",
    "        \"two\": pd.Series(np.random.randn(4), index=[\"a\", \"b\", \"c\", \"d\"]),\n",
    "        \"three\": pd.Series(np.random.randn(3), index=[\"b\", \"c\", \"d\"]),\n",
    "    }\n",
    ")\n",
    "df2"
   ]
  },
  {
   "cell_type": "code",
   "execution_count": 6,
   "id": "be5ebf49-8e9c-4602-b0db-23ddc918d94c",
   "metadata": {},
   "outputs": [
    {
     "data": {
      "text/plain": [
       "a   -0.511131\n",
       "b   -0.324274\n",
       "c   -0.462565\n",
       "d   -0.857725\n",
       "dtype: float64"
      ]
     },
     "execution_count": 6,
     "metadata": {},
     "output_type": "execute_result"
    }
   ],
   "source": [
    "df2.mean(axis=1)"
   ]
  },
  {
   "cell_type": "code",
   "execution_count": 7,
   "id": "15f92cd9-755c-4ec1-b2be-54c4bbcb9486",
   "metadata": {},
   "outputs": [
    {
     "data": {
      "text/plain": [
       "one      0.242208\n",
       "two     -1.224626\n",
       "three   -0.308782\n",
       "dtype: float64"
      ]
     },
     "execution_count": 7,
     "metadata": {},
     "output_type": "execute_result"
    }
   ],
   "source": [
    "df2.mean(axis='rows')"
   ]
  },
  {
   "cell_type": "code",
   "execution_count": 8,
   "id": "75720a85-ec9b-42c6-864c-4631d3aaafb3",
   "metadata": {},
   "outputs": [
    {
     "data": {
      "text/plain": [
       "one      0.242208\n",
       "two     -1.224626\n",
       "three   -0.308782\n",
       "dtype: float64"
      ]
     },
     "execution_count": 8,
     "metadata": {},
     "output_type": "execute_result"
    }
   ],
   "source": [
    "df2.mean(axis='index')"
   ]
  },
  {
   "cell_type": "markdown",
   "id": "cee7078a-76a5-4d66-849c-bc2a7fb6bff3",
   "metadata": {},
   "source": [
    "\n",
    "<br></br>\n",
    "All such methods have a **skipna** option signaling whether to exclude missing data (True by default):\n",
    "\n"
   ]
  },
  {
   "cell_type": "code",
   "execution_count": 9,
   "id": "d9bb1f2e-4cb8-4ed2-98d0-8636a41bb2b4",
   "metadata": {},
   "outputs": [
    {
     "data": {
      "text/plain": [
       "one           NaN\n",
       "two     -1.224626\n",
       "three         NaN\n",
       "dtype: float64"
      ]
     },
     "execution_count": 9,
     "metadata": {},
     "output_type": "execute_result"
    }
   ],
   "source": [
    "# with False skipna, columns with Null values return None\n",
    "df2.mean(skipna=False)"
   ]
  },
  {
   "cell_type": "markdown",
   "id": "ff28ab7d-c233-4461-a83b-23b19b34fd33",
   "metadata": {},
   "source": [
    "### cumsum"
   ]
  },
  {
   "cell_type": "markdown",
   "id": "8b7fb58a-18f7-4f3e-8013-3935c9270b25",
   "metadata": {},
   "source": [
    "Return cumulative sum over a DataFrame or Series axis."
   ]
  },
  {
   "cell_type": "code",
   "execution_count": 10,
   "id": "9d4f15a7-2ecf-4854-8686-049e979719db",
   "metadata": {},
   "outputs": [
    {
     "data": {
      "text/html": [
       "<div>\n",
       "<style scoped>\n",
       "    .dataframe tbody tr th:only-of-type {\n",
       "        vertical-align: middle;\n",
       "    }\n",
       "\n",
       "    .dataframe tbody tr th {\n",
       "        vertical-align: top;\n",
       "    }\n",
       "\n",
       "    .dataframe thead th {\n",
       "        text-align: right;\n",
       "    }\n",
       "</style>\n",
       "<table border=\"1\" class=\"dataframe\">\n",
       "  <thead>\n",
       "    <tr style=\"text-align: right;\">\n",
       "      <th></th>\n",
       "      <th>one</th>\n",
       "      <th>two</th>\n",
       "      <th>three</th>\n",
       "    </tr>\n",
       "  </thead>\n",
       "  <tbody>\n",
       "    <tr>\n",
       "      <th>a</th>\n",
       "      <td>-0.311662</td>\n",
       "      <td>-0.710599</td>\n",
       "      <td>NaN</td>\n",
       "    </tr>\n",
       "    <tr>\n",
       "      <th>b</th>\n",
       "      <td>0.867480</td>\n",
       "      <td>-0.922103</td>\n",
       "      <td>-0.918198</td>\n",
       "    </tr>\n",
       "    <tr>\n",
       "      <th>c</th>\n",
       "      <td>0.170806</td>\n",
       "      <td>-1.675954</td>\n",
       "      <td>0.117454</td>\n",
       "    </tr>\n",
       "    <tr>\n",
       "      <th>d</th>\n",
       "      <td>NaN</td>\n",
       "      <td>-1.589849</td>\n",
       "      <td>-0.125601</td>\n",
       "    </tr>\n",
       "  </tbody>\n",
       "</table>\n",
       "</div>"
      ],
      "text/plain": [
       "        one       two     three\n",
       "a -0.311662 -0.710599       NaN\n",
       "b  0.867480 -0.922103 -0.918198\n",
       "c  0.170806 -1.675954  0.117454\n",
       "d       NaN -1.589849 -0.125601"
      ]
     },
     "execution_count": 10,
     "metadata": {},
     "output_type": "execute_result"
    }
   ],
   "source": [
    "df2"
   ]
  },
  {
   "cell_type": "code",
   "execution_count": 11,
   "id": "ba871b2f-312a-4bb4-8c15-6e278f34a43e",
   "metadata": {},
   "outputs": [
    {
     "data": {
      "text/html": [
       "<div>\n",
       "<style scoped>\n",
       "    .dataframe tbody tr th:only-of-type {\n",
       "        vertical-align: middle;\n",
       "    }\n",
       "\n",
       "    .dataframe tbody tr th {\n",
       "        vertical-align: top;\n",
       "    }\n",
       "\n",
       "    .dataframe thead th {\n",
       "        text-align: right;\n",
       "    }\n",
       "</style>\n",
       "<table border=\"1\" class=\"dataframe\">\n",
       "  <thead>\n",
       "    <tr style=\"text-align: right;\">\n",
       "      <th></th>\n",
       "      <th>one</th>\n",
       "      <th>two</th>\n",
       "      <th>three</th>\n",
       "    </tr>\n",
       "  </thead>\n",
       "  <tbody>\n",
       "    <tr>\n",
       "      <th>a</th>\n",
       "      <td>-0.311662</td>\n",
       "      <td>-1.022261</td>\n",
       "      <td>NaN</td>\n",
       "    </tr>\n",
       "    <tr>\n",
       "      <th>b</th>\n",
       "      <td>0.867480</td>\n",
       "      <td>-0.054624</td>\n",
       "      <td>-0.972822</td>\n",
       "    </tr>\n",
       "    <tr>\n",
       "      <th>c</th>\n",
       "      <td>0.170806</td>\n",
       "      <td>-1.505148</td>\n",
       "      <td>-1.387694</td>\n",
       "    </tr>\n",
       "    <tr>\n",
       "      <th>d</th>\n",
       "      <td>NaN</td>\n",
       "      <td>-1.589849</td>\n",
       "      <td>-1.715450</td>\n",
       "    </tr>\n",
       "  </tbody>\n",
       "</table>\n",
       "</div>"
      ],
      "text/plain": [
       "        one       two     three\n",
       "a -0.311662 -1.022261       NaN\n",
       "b  0.867480 -0.054624 -0.972822\n",
       "c  0.170806 -1.505148 -1.387694\n",
       "d       NaN -1.589849 -1.715450"
      ]
     },
     "execution_count": 11,
     "metadata": {},
     "output_type": "execute_result"
    }
   ],
   "source": [
    "df2.cumsum(axis=1)"
   ]
  },
  {
   "cell_type": "markdown",
   "id": "1dd4bb0e-1aa2-4203-9fdd-d0cde9308116",
   "metadata": {},
   "source": [
    "Note that methods like cumsum() and cumprod() preserve the location of NaN values.\n",
    "\n"
   ]
  },
  {
   "cell_type": "markdown",
   "id": "82158efb-1778-431d-93a9-a5e7a6865a70",
   "metadata": {},
   "source": [
    "### cumprod"
   ]
  },
  {
   "cell_type": "markdown",
   "id": "0bdd6e93-461d-43ff-b039-eccbb8055907",
   "metadata": {},
   "source": [
    "Return cumulative product over a DataFrame or Series axis.\n"
   ]
  },
  {
   "cell_type": "code",
   "execution_count": 12,
   "id": "57c8963a-684b-4064-83b7-2cbbce49d533",
   "metadata": {},
   "outputs": [
    {
     "data": {
      "text/html": [
       "<div>\n",
       "<style scoped>\n",
       "    .dataframe tbody tr th:only-of-type {\n",
       "        vertical-align: middle;\n",
       "    }\n",
       "\n",
       "    .dataframe tbody tr th {\n",
       "        vertical-align: top;\n",
       "    }\n",
       "\n",
       "    .dataframe thead th {\n",
       "        text-align: right;\n",
       "    }\n",
       "</style>\n",
       "<table border=\"1\" class=\"dataframe\">\n",
       "  <thead>\n",
       "    <tr style=\"text-align: right;\">\n",
       "      <th></th>\n",
       "      <th>one</th>\n",
       "      <th>two</th>\n",
       "      <th>three</th>\n",
       "    </tr>\n",
       "  </thead>\n",
       "  <tbody>\n",
       "    <tr>\n",
       "      <th>a</th>\n",
       "      <td>-0.311662</td>\n",
       "      <td>0.221467</td>\n",
       "      <td>NaN</td>\n",
       "    </tr>\n",
       "    <tr>\n",
       "      <th>b</th>\n",
       "      <td>0.867480</td>\n",
       "      <td>-0.799906</td>\n",
       "      <td>0.734472</td>\n",
       "    </tr>\n",
       "    <tr>\n",
       "      <th>c</th>\n",
       "      <td>0.170806</td>\n",
       "      <td>-0.286263</td>\n",
       "      <td>-0.033623</td>\n",
       "    </tr>\n",
       "    <tr>\n",
       "      <th>d</th>\n",
       "      <td>NaN</td>\n",
       "      <td>-1.589849</td>\n",
       "      <td>0.199687</td>\n",
       "    </tr>\n",
       "  </tbody>\n",
       "</table>\n",
       "</div>"
      ],
      "text/plain": [
       "        one       two     three\n",
       "a -0.311662  0.221467       NaN\n",
       "b  0.867480 -0.799906  0.734472\n",
       "c  0.170806 -0.286263 -0.033623\n",
       "d       NaN -1.589849  0.199687"
      ]
     },
     "execution_count": 12,
     "metadata": {},
     "output_type": "execute_result"
    }
   ],
   "source": [
    "df2.cumprod(axis=1)"
   ]
  },
  {
   "cell_type": "markdown",
   "id": "fcb35ea2-6a7f-4624-82e5-8cf14728fd85",
   "metadata": {},
   "source": [
    "### nunique()"
   ]
  },
  {
   "cell_type": "markdown",
   "id": "e0f58435-fa63-48ba-a583-c14d4c995b7c",
   "metadata": {},
   "source": [
    "Series.nunique() will return the number of unique non-NA values in a Series:"
   ]
  },
  {
   "cell_type": "code",
   "execution_count": 13,
   "id": "bdab79bb-ab15-4df1-a68e-d85210424d93",
   "metadata": {},
   "outputs": [
    {
     "data": {
      "text/html": [
       "<div>\n",
       "<style scoped>\n",
       "    .dataframe tbody tr th:only-of-type {\n",
       "        vertical-align: middle;\n",
       "    }\n",
       "\n",
       "    .dataframe tbody tr th {\n",
       "        vertical-align: top;\n",
       "    }\n",
       "\n",
       "    .dataframe thead th {\n",
       "        text-align: right;\n",
       "    }\n",
       "</style>\n",
       "<table border=\"1\" class=\"dataframe\">\n",
       "  <thead>\n",
       "    <tr style=\"text-align: right;\">\n",
       "      <th></th>\n",
       "      <th>one</th>\n",
       "      <th>two</th>\n",
       "      <th>three</th>\n",
       "    </tr>\n",
       "  </thead>\n",
       "  <tbody>\n",
       "    <tr>\n",
       "      <th>a</th>\n",
       "      <td>-0.311662</td>\n",
       "      <td>-0.710599</td>\n",
       "      <td>NaN</td>\n",
       "    </tr>\n",
       "    <tr>\n",
       "      <th>b</th>\n",
       "      <td>0.867480</td>\n",
       "      <td>-0.922103</td>\n",
       "      <td>-0.918198</td>\n",
       "    </tr>\n",
       "    <tr>\n",
       "      <th>c</th>\n",
       "      <td>0.170806</td>\n",
       "      <td>-1.675954</td>\n",
       "      <td>0.117454</td>\n",
       "    </tr>\n",
       "    <tr>\n",
       "      <th>d</th>\n",
       "      <td>NaN</td>\n",
       "      <td>-1.589849</td>\n",
       "      <td>-0.125601</td>\n",
       "    </tr>\n",
       "  </tbody>\n",
       "</table>\n",
       "</div>"
      ],
      "text/plain": [
       "        one       two     three\n",
       "a -0.311662 -0.710599       NaN\n",
       "b  0.867480 -0.922103 -0.918198\n",
       "c  0.170806 -1.675954  0.117454\n",
       "d       NaN -1.589849 -0.125601"
      ]
     },
     "execution_count": 13,
     "metadata": {},
     "output_type": "execute_result"
    }
   ],
   "source": [
    "df2"
   ]
  },
  {
   "cell_type": "code",
   "execution_count": 14,
   "id": "0762bd7e-3a79-4a94-9356-a6ccecff7dc3",
   "metadata": {},
   "outputs": [
    {
     "data": {
      "text/plain": [
       "one      3\n",
       "two      4\n",
       "three    3\n",
       "dtype: int64"
      ]
     },
     "execution_count": 14,
     "metadata": {},
     "output_type": "execute_result"
    }
   ],
   "source": [
    "df2.nunique()"
   ]
  },
  {
   "cell_type": "markdown",
   "id": "34e2dc50-bda4-4d2f-a4f1-eca15f426570",
   "metadata": {},
   "source": [
    "### Summarizing data: describe\n"
   ]
  },
  {
   "cell_type": "code",
   "execution_count": 15,
   "id": "621463eb-4972-490a-a610-0b295428260f",
   "metadata": {},
   "outputs": [
    {
     "data": {
      "text/html": [
       "<div>\n",
       "<style scoped>\n",
       "    .dataframe tbody tr th:only-of-type {\n",
       "        vertical-align: middle;\n",
       "    }\n",
       "\n",
       "    .dataframe tbody tr th {\n",
       "        vertical-align: top;\n",
       "    }\n",
       "\n",
       "    .dataframe thead th {\n",
       "        text-align: right;\n",
       "    }\n",
       "</style>\n",
       "<table border=\"1\" class=\"dataframe\">\n",
       "  <thead>\n",
       "    <tr style=\"text-align: right;\">\n",
       "      <th></th>\n",
       "      <th>one</th>\n",
       "      <th>two</th>\n",
       "      <th>three</th>\n",
       "    </tr>\n",
       "  </thead>\n",
       "  <tbody>\n",
       "    <tr>\n",
       "      <th>a</th>\n",
       "      <td>-0.311662</td>\n",
       "      <td>-0.710599</td>\n",
       "      <td>NaN</td>\n",
       "    </tr>\n",
       "    <tr>\n",
       "      <th>b</th>\n",
       "      <td>0.867480</td>\n",
       "      <td>-0.922103</td>\n",
       "      <td>-0.918198</td>\n",
       "    </tr>\n",
       "    <tr>\n",
       "      <th>c</th>\n",
       "      <td>0.170806</td>\n",
       "      <td>-1.675954</td>\n",
       "      <td>0.117454</td>\n",
       "    </tr>\n",
       "    <tr>\n",
       "      <th>d</th>\n",
       "      <td>NaN</td>\n",
       "      <td>-1.589849</td>\n",
       "      <td>-0.125601</td>\n",
       "    </tr>\n",
       "  </tbody>\n",
       "</table>\n",
       "</div>"
      ],
      "text/plain": [
       "        one       two     three\n",
       "a -0.311662 -0.710599       NaN\n",
       "b  0.867480 -0.922103 -0.918198\n",
       "c  0.170806 -1.675954  0.117454\n",
       "d       NaN -1.589849 -0.125601"
      ]
     },
     "execution_count": 15,
     "metadata": {},
     "output_type": "execute_result"
    }
   ],
   "source": [
    "df2"
   ]
  },
  {
   "cell_type": "code",
   "execution_count": 16,
   "id": "1cf0db74-30a3-4f2e-a939-1e4a0162d735",
   "metadata": {},
   "outputs": [
    {
     "data": {
      "text/html": [
       "<div>\n",
       "<style scoped>\n",
       "    .dataframe tbody tr th:only-of-type {\n",
       "        vertical-align: middle;\n",
       "    }\n",
       "\n",
       "    .dataframe tbody tr th {\n",
       "        vertical-align: top;\n",
       "    }\n",
       "\n",
       "    .dataframe thead th {\n",
       "        text-align: right;\n",
       "    }\n",
       "</style>\n",
       "<table border=\"1\" class=\"dataframe\">\n",
       "  <thead>\n",
       "    <tr style=\"text-align: right;\">\n",
       "      <th></th>\n",
       "      <th>one</th>\n",
       "      <th>two</th>\n",
       "      <th>three</th>\n",
       "    </tr>\n",
       "  </thead>\n",
       "  <tbody>\n",
       "    <tr>\n",
       "      <th>count</th>\n",
       "      <td>3.000000</td>\n",
       "      <td>4.000000</td>\n",
       "      <td>3.000000</td>\n",
       "    </tr>\n",
       "    <tr>\n",
       "      <th>mean</th>\n",
       "      <td>0.242208</td>\n",
       "      <td>-1.224626</td>\n",
       "      <td>-0.308782</td>\n",
       "    </tr>\n",
       "    <tr>\n",
       "      <th>std</th>\n",
       "      <td>0.592805</td>\n",
       "      <td>0.480565</td>\n",
       "      <td>0.541581</td>\n",
       "    </tr>\n",
       "    <tr>\n",
       "      <th>min</th>\n",
       "      <td>-0.311662</td>\n",
       "      <td>-1.675954</td>\n",
       "      <td>-0.918198</td>\n",
       "    </tr>\n",
       "    <tr>\n",
       "      <th>25%</th>\n",
       "      <td>-0.070428</td>\n",
       "      <td>-1.611375</td>\n",
       "      <td>-0.521900</td>\n",
       "    </tr>\n",
       "    <tr>\n",
       "      <th>50%</th>\n",
       "      <td>0.170806</td>\n",
       "      <td>-1.255976</td>\n",
       "      <td>-0.125601</td>\n",
       "    </tr>\n",
       "    <tr>\n",
       "      <th>75%</th>\n",
       "      <td>0.519143</td>\n",
       "      <td>-0.869227</td>\n",
       "      <td>-0.004073</td>\n",
       "    </tr>\n",
       "    <tr>\n",
       "      <th>max</th>\n",
       "      <td>0.867480</td>\n",
       "      <td>-0.710599</td>\n",
       "      <td>0.117454</td>\n",
       "    </tr>\n",
       "  </tbody>\n",
       "</table>\n",
       "</div>"
      ],
      "text/plain": [
       "            one       two     three\n",
       "count  3.000000  4.000000  3.000000\n",
       "mean   0.242208 -1.224626 -0.308782\n",
       "std    0.592805  0.480565  0.541581\n",
       "min   -0.311662 -1.675954 -0.918198\n",
       "25%   -0.070428 -1.611375 -0.521900\n",
       "50%    0.170806 -1.255976 -0.125601\n",
       "75%    0.519143 -0.869227 -0.004073\n",
       "max    0.867480 -0.710599  0.117454"
      ]
     },
     "execution_count": 16,
     "metadata": {},
     "output_type": "execute_result"
    }
   ],
   "source": [
    "df2.describe()"
   ]
  },
  {
   "cell_type": "markdown",
   "id": "9b08b53f-7d22-4454-befb-280417a0e5f0",
   "metadata": {},
   "source": [
    "You can select specific percentiles to include in the output:"
   ]
  },
  {
   "cell_type": "code",
   "execution_count": 17,
   "id": "9d204bc6-7790-4602-9074-f7686d6ce0ac",
   "metadata": {},
   "outputs": [
    {
     "data": {
      "text/html": [
       "<div>\n",
       "<style scoped>\n",
       "    .dataframe tbody tr th:only-of-type {\n",
       "        vertical-align: middle;\n",
       "    }\n",
       "\n",
       "    .dataframe tbody tr th {\n",
       "        vertical-align: top;\n",
       "    }\n",
       "\n",
       "    .dataframe thead th {\n",
       "        text-align: right;\n",
       "    }\n",
       "</style>\n",
       "<table border=\"1\" class=\"dataframe\">\n",
       "  <thead>\n",
       "    <tr style=\"text-align: right;\">\n",
       "      <th></th>\n",
       "      <th>one</th>\n",
       "      <th>two</th>\n",
       "      <th>three</th>\n",
       "    </tr>\n",
       "  </thead>\n",
       "  <tbody>\n",
       "    <tr>\n",
       "      <th>count</th>\n",
       "      <td>3.000000</td>\n",
       "      <td>4.000000</td>\n",
       "      <td>3.000000</td>\n",
       "    </tr>\n",
       "    <tr>\n",
       "      <th>mean</th>\n",
       "      <td>0.242208</td>\n",
       "      <td>-1.224626</td>\n",
       "      <td>-0.308782</td>\n",
       "    </tr>\n",
       "    <tr>\n",
       "      <th>std</th>\n",
       "      <td>0.592805</td>\n",
       "      <td>0.480565</td>\n",
       "      <td>0.541581</td>\n",
       "    </tr>\n",
       "    <tr>\n",
       "      <th>min</th>\n",
       "      <td>-0.311662</td>\n",
       "      <td>-1.675954</td>\n",
       "      <td>-0.918198</td>\n",
       "    </tr>\n",
       "    <tr>\n",
       "      <th>0%</th>\n",
       "      <td>-0.311662</td>\n",
       "      <td>-1.675954</td>\n",
       "      <td>-0.918198</td>\n",
       "    </tr>\n",
       "    <tr>\n",
       "      <th>5%</th>\n",
       "      <td>-0.263415</td>\n",
       "      <td>-1.663038</td>\n",
       "      <td>-0.838938</td>\n",
       "    </tr>\n",
       "    <tr>\n",
       "      <th>25%</th>\n",
       "      <td>-0.070428</td>\n",
       "      <td>-1.611375</td>\n",
       "      <td>-0.521900</td>\n",
       "    </tr>\n",
       "    <tr>\n",
       "      <th>50%</th>\n",
       "      <td>0.170806</td>\n",
       "      <td>-1.255976</td>\n",
       "      <td>-0.125601</td>\n",
       "    </tr>\n",
       "    <tr>\n",
       "      <th>75%</th>\n",
       "      <td>0.519143</td>\n",
       "      <td>-0.869227</td>\n",
       "      <td>-0.004073</td>\n",
       "    </tr>\n",
       "    <tr>\n",
       "      <th>95%</th>\n",
       "      <td>0.797812</td>\n",
       "      <td>-0.742325</td>\n",
       "      <td>0.093149</td>\n",
       "    </tr>\n",
       "    <tr>\n",
       "      <th>100%</th>\n",
       "      <td>0.867480</td>\n",
       "      <td>-0.710599</td>\n",
       "      <td>0.117454</td>\n",
       "    </tr>\n",
       "    <tr>\n",
       "      <th>max</th>\n",
       "      <td>0.867480</td>\n",
       "      <td>-0.710599</td>\n",
       "      <td>0.117454</td>\n",
       "    </tr>\n",
       "  </tbody>\n",
       "</table>\n",
       "</div>"
      ],
      "text/plain": [
       "            one       two     three\n",
       "count  3.000000  4.000000  3.000000\n",
       "mean   0.242208 -1.224626 -0.308782\n",
       "std    0.592805  0.480565  0.541581\n",
       "min   -0.311662 -1.675954 -0.918198\n",
       "0%    -0.311662 -1.675954 -0.918198\n",
       "5%    -0.263415 -1.663038 -0.838938\n",
       "25%   -0.070428 -1.611375 -0.521900\n",
       "50%    0.170806 -1.255976 -0.125601\n",
       "75%    0.519143 -0.869227 -0.004073\n",
       "95%    0.797812 -0.742325  0.093149\n",
       "100%   0.867480 -0.710599  0.117454\n",
       "max    0.867480 -0.710599  0.117454"
      ]
     },
     "execution_count": 17,
     "metadata": {},
     "output_type": "execute_result"
    }
   ],
   "source": [
    "df2.describe(percentiles=[0, 0.05, 0.25, 0.5, 0.75, 0.95, 1])"
   ]
  },
  {
   "cell_type": "markdown",
   "id": "2ac9bc87-053a-465c-8f76-59b8904511c6",
   "metadata": {},
   "source": [
    "For a non-numerical Series object, describe() will give a simple summary of the number of unique values and most frequently occurring values:"
   ]
  },
  {
   "cell_type": "code",
   "execution_count": 18,
   "id": "45e3e5b4-eac3-499b-9d22-5f5438e256d3",
   "metadata": {},
   "outputs": [
    {
     "data": {
      "text/html": [
       "<div>\n",
       "<style scoped>\n",
       "    .dataframe tbody tr th:only-of-type {\n",
       "        vertical-align: middle;\n",
       "    }\n",
       "\n",
       "    .dataframe tbody tr th {\n",
       "        vertical-align: top;\n",
       "    }\n",
       "\n",
       "    .dataframe thead th {\n",
       "        text-align: right;\n",
       "    }\n",
       "</style>\n",
       "<table border=\"1\" class=\"dataframe\">\n",
       "  <thead>\n",
       "    <tr style=\"text-align: right;\">\n",
       "      <th></th>\n",
       "      <th>name</th>\n",
       "      <th>age</th>\n",
       "      <th>income</th>\n",
       "      <th>id</th>\n",
       "    </tr>\n",
       "  </thead>\n",
       "  <tbody>\n",
       "    <tr>\n",
       "      <th>0</th>\n",
       "      <td>Emma</td>\n",
       "      <td>20.0</td>\n",
       "      <td>3500000.0</td>\n",
       "      <td>-0.984651</td>\n",
       "    </tr>\n",
       "    <tr>\n",
       "      <th>1</th>\n",
       "      <td>Harry</td>\n",
       "      <td>20.0</td>\n",
       "      <td>2000000.0</td>\n",
       "      <td>0.697746</td>\n",
       "    </tr>\n",
       "    <tr>\n",
       "      <th>2</th>\n",
       "      <td>khashy</td>\n",
       "      <td>NaN</td>\n",
       "      <td>100000.0</td>\n",
       "      <td>0.489154</td>\n",
       "    </tr>\n",
       "    <tr>\n",
       "      <th>3</th>\n",
       "      <td>Chester</td>\n",
       "      <td>25.0</td>\n",
       "      <td>NaN</td>\n",
       "      <td>0.308554</td>\n",
       "    </tr>\n",
       "    <tr>\n",
       "      <th>4</th>\n",
       "      <td>fariborz</td>\n",
       "      <td>50.0</td>\n",
       "      <td>1000.0</td>\n",
       "      <td>-1.376147</td>\n",
       "    </tr>\n",
       "    <tr>\n",
       "      <th>5</th>\n",
       "      <td>kourush</td>\n",
       "      <td>NaN</td>\n",
       "      <td>NaN</td>\n",
       "      <td>1.058736</td>\n",
       "    </tr>\n",
       "  </tbody>\n",
       "</table>\n",
       "</div>"
      ],
      "text/plain": [
       "       name   age     income        id\n",
       "0      Emma  20.0  3500000.0 -0.984651\n",
       "1     Harry  20.0  2000000.0  0.697746\n",
       "2    khashy   NaN   100000.0  0.489154\n",
       "3   Chester  25.0        NaN  0.308554\n",
       "4  fariborz  50.0     1000.0 -1.376147\n",
       "5   kourush   NaN        NaN  1.058736"
      ]
     },
     "execution_count": 18,
     "metadata": {},
     "output_type": "execute_result"
    }
   ],
   "source": [
    "df"
   ]
  },
  {
   "cell_type": "code",
   "execution_count": 19,
   "id": "b3b41039-b4b3-4103-b22d-5b62a1225d74",
   "metadata": {},
   "outputs": [
    {
     "data": {
      "text/plain": [
       "count        6\n",
       "unique       6\n",
       "top       Emma\n",
       "freq         1\n",
       "Name: name, dtype: object"
      ]
     },
     "execution_count": 19,
     "metadata": {},
     "output_type": "execute_result"
    }
   ],
   "source": [
    "df['name'].describe()"
   ]
  },
  {
   "cell_type": "markdown",
   "id": "882405ec-c631-490d-84a6-3416f377fbfd",
   "metadata": {},
   "source": [
    "Note that on a mixed-type DataFrame object, describe() will restrict the summary to include **only numerical** columns or, if none are, only categorical columns:\n",
    "\n"
   ]
  },
  {
   "cell_type": "markdown",
   "id": "4e9ef3ae-a9f3-4dc3-8a04-16f5e4887e01",
   "metadata": {},
   "source": [
    "This behavior can be controlled by providing a list of types as include/exclude arguments. The special value all can also be used:\n",
    "\n"
   ]
  },
  {
   "cell_type": "code",
   "execution_count": 20,
   "id": "e02d04b2-1573-4836-bf90-cbb238e4965f",
   "metadata": {},
   "outputs": [
    {
     "data": {
      "text/html": [
       "<div>\n",
       "<style scoped>\n",
       "    .dataframe tbody tr th:only-of-type {\n",
       "        vertical-align: middle;\n",
       "    }\n",
       "\n",
       "    .dataframe tbody tr th {\n",
       "        vertical-align: top;\n",
       "    }\n",
       "\n",
       "    .dataframe thead th {\n",
       "        text-align: right;\n",
       "    }\n",
       "</style>\n",
       "<table border=\"1\" class=\"dataframe\">\n",
       "  <thead>\n",
       "    <tr style=\"text-align: right;\">\n",
       "      <th></th>\n",
       "      <th>name</th>\n",
       "    </tr>\n",
       "  </thead>\n",
       "  <tbody>\n",
       "    <tr>\n",
       "      <th>count</th>\n",
       "      <td>6</td>\n",
       "    </tr>\n",
       "    <tr>\n",
       "      <th>unique</th>\n",
       "      <td>6</td>\n",
       "    </tr>\n",
       "    <tr>\n",
       "      <th>top</th>\n",
       "      <td>Emma</td>\n",
       "    </tr>\n",
       "    <tr>\n",
       "      <th>freq</th>\n",
       "      <td>1</td>\n",
       "    </tr>\n",
       "  </tbody>\n",
       "</table>\n",
       "</div>"
      ],
      "text/plain": [
       "        name\n",
       "count      6\n",
       "unique     6\n",
       "top     Emma\n",
       "freq       1"
      ]
     },
     "execution_count": 20,
     "metadata": {},
     "output_type": "execute_result"
    }
   ],
   "source": [
    "df.describe(include=['object'])"
   ]
  },
  {
   "cell_type": "code",
   "execution_count": 21,
   "id": "b28201f9-6abc-432c-8129-8fd5a16e477b",
   "metadata": {},
   "outputs": [
    {
     "data": {
      "text/html": [
       "<div>\n",
       "<style scoped>\n",
       "    .dataframe tbody tr th:only-of-type {\n",
       "        vertical-align: middle;\n",
       "    }\n",
       "\n",
       "    .dataframe tbody tr th {\n",
       "        vertical-align: top;\n",
       "    }\n",
       "\n",
       "    .dataframe thead th {\n",
       "        text-align: right;\n",
       "    }\n",
       "</style>\n",
       "<table border=\"1\" class=\"dataframe\">\n",
       "  <thead>\n",
       "    <tr style=\"text-align: right;\">\n",
       "      <th></th>\n",
       "      <th>age</th>\n",
       "      <th>income</th>\n",
       "      <th>id</th>\n",
       "    </tr>\n",
       "  </thead>\n",
       "  <tbody>\n",
       "    <tr>\n",
       "      <th>count</th>\n",
       "      <td>4.000000</td>\n",
       "      <td>4.000000e+00</td>\n",
       "      <td>6.000000</td>\n",
       "    </tr>\n",
       "    <tr>\n",
       "      <th>mean</th>\n",
       "      <td>28.750000</td>\n",
       "      <td>1.400250e+06</td>\n",
       "      <td>0.032232</td>\n",
       "    </tr>\n",
       "    <tr>\n",
       "      <th>std</th>\n",
       "      <td>14.361407</td>\n",
       "      <td>1.675032e+06</td>\n",
       "      <td>0.979728</td>\n",
       "    </tr>\n",
       "    <tr>\n",
       "      <th>min</th>\n",
       "      <td>20.000000</td>\n",
       "      <td>1.000000e+03</td>\n",
       "      <td>-1.376147</td>\n",
       "    </tr>\n",
       "    <tr>\n",
       "      <th>25%</th>\n",
       "      <td>20.000000</td>\n",
       "      <td>7.525000e+04</td>\n",
       "      <td>-0.661350</td>\n",
       "    </tr>\n",
       "    <tr>\n",
       "      <th>50%</th>\n",
       "      <td>22.500000</td>\n",
       "      <td>1.050000e+06</td>\n",
       "      <td>0.398854</td>\n",
       "    </tr>\n",
       "    <tr>\n",
       "      <th>75%</th>\n",
       "      <td>31.250000</td>\n",
       "      <td>2.375000e+06</td>\n",
       "      <td>0.645598</td>\n",
       "    </tr>\n",
       "    <tr>\n",
       "      <th>max</th>\n",
       "      <td>50.000000</td>\n",
       "      <td>3.500000e+06</td>\n",
       "      <td>1.058736</td>\n",
       "    </tr>\n",
       "  </tbody>\n",
       "</table>\n",
       "</div>"
      ],
      "text/plain": [
       "             age        income        id\n",
       "count   4.000000  4.000000e+00  6.000000\n",
       "mean   28.750000  1.400250e+06  0.032232\n",
       "std    14.361407  1.675032e+06  0.979728\n",
       "min    20.000000  1.000000e+03 -1.376147\n",
       "25%    20.000000  7.525000e+04 -0.661350\n",
       "50%    22.500000  1.050000e+06  0.398854\n",
       "75%    31.250000  2.375000e+06  0.645598\n",
       "max    50.000000  3.500000e+06  1.058736"
      ]
     },
     "execution_count": 21,
     "metadata": {},
     "output_type": "execute_result"
    }
   ],
   "source": [
    "df.describe(include=['number'])"
   ]
  },
  {
   "cell_type": "code",
   "execution_count": 22,
   "id": "e8e696dd-9c57-442c-b86d-dbd1269d8a6d",
   "metadata": {},
   "outputs": [
    {
     "data": {
      "text/html": [
       "<div>\n",
       "<style scoped>\n",
       "    .dataframe tbody tr th:only-of-type {\n",
       "        vertical-align: middle;\n",
       "    }\n",
       "\n",
       "    .dataframe tbody tr th {\n",
       "        vertical-align: top;\n",
       "    }\n",
       "\n",
       "    .dataframe thead th {\n",
       "        text-align: right;\n",
       "    }\n",
       "</style>\n",
       "<table border=\"1\" class=\"dataframe\">\n",
       "  <thead>\n",
       "    <tr style=\"text-align: right;\">\n",
       "      <th></th>\n",
       "      <th>name</th>\n",
       "      <th>age</th>\n",
       "      <th>income</th>\n",
       "      <th>id</th>\n",
       "    </tr>\n",
       "  </thead>\n",
       "  <tbody>\n",
       "    <tr>\n",
       "      <th>count</th>\n",
       "      <td>6</td>\n",
       "      <td>4.000000</td>\n",
       "      <td>4.000000e+00</td>\n",
       "      <td>6.000000</td>\n",
       "    </tr>\n",
       "    <tr>\n",
       "      <th>unique</th>\n",
       "      <td>6</td>\n",
       "      <td>NaN</td>\n",
       "      <td>NaN</td>\n",
       "      <td>NaN</td>\n",
       "    </tr>\n",
       "    <tr>\n",
       "      <th>top</th>\n",
       "      <td>Emma</td>\n",
       "      <td>NaN</td>\n",
       "      <td>NaN</td>\n",
       "      <td>NaN</td>\n",
       "    </tr>\n",
       "    <tr>\n",
       "      <th>freq</th>\n",
       "      <td>1</td>\n",
       "      <td>NaN</td>\n",
       "      <td>NaN</td>\n",
       "      <td>NaN</td>\n",
       "    </tr>\n",
       "    <tr>\n",
       "      <th>mean</th>\n",
       "      <td>NaN</td>\n",
       "      <td>28.750000</td>\n",
       "      <td>1.400250e+06</td>\n",
       "      <td>0.032232</td>\n",
       "    </tr>\n",
       "    <tr>\n",
       "      <th>std</th>\n",
       "      <td>NaN</td>\n",
       "      <td>14.361407</td>\n",
       "      <td>1.675032e+06</td>\n",
       "      <td>0.979728</td>\n",
       "    </tr>\n",
       "    <tr>\n",
       "      <th>min</th>\n",
       "      <td>NaN</td>\n",
       "      <td>20.000000</td>\n",
       "      <td>1.000000e+03</td>\n",
       "      <td>-1.376147</td>\n",
       "    </tr>\n",
       "    <tr>\n",
       "      <th>25%</th>\n",
       "      <td>NaN</td>\n",
       "      <td>20.000000</td>\n",
       "      <td>7.525000e+04</td>\n",
       "      <td>-0.661350</td>\n",
       "    </tr>\n",
       "    <tr>\n",
       "      <th>50%</th>\n",
       "      <td>NaN</td>\n",
       "      <td>22.500000</td>\n",
       "      <td>1.050000e+06</td>\n",
       "      <td>0.398854</td>\n",
       "    </tr>\n",
       "    <tr>\n",
       "      <th>75%</th>\n",
       "      <td>NaN</td>\n",
       "      <td>31.250000</td>\n",
       "      <td>2.375000e+06</td>\n",
       "      <td>0.645598</td>\n",
       "    </tr>\n",
       "    <tr>\n",
       "      <th>max</th>\n",
       "      <td>NaN</td>\n",
       "      <td>50.000000</td>\n",
       "      <td>3.500000e+06</td>\n",
       "      <td>1.058736</td>\n",
       "    </tr>\n",
       "  </tbody>\n",
       "</table>\n",
       "</div>"
      ],
      "text/plain": [
       "        name        age        income        id\n",
       "count      6   4.000000  4.000000e+00  6.000000\n",
       "unique     6        NaN           NaN       NaN\n",
       "top     Emma        NaN           NaN       NaN\n",
       "freq       1        NaN           NaN       NaN\n",
       "mean     NaN  28.750000  1.400250e+06  0.032232\n",
       "std      NaN  14.361407  1.675032e+06  0.979728\n",
       "min      NaN  20.000000  1.000000e+03 -1.376147\n",
       "25%      NaN  20.000000  7.525000e+04 -0.661350\n",
       "50%      NaN  22.500000  1.050000e+06  0.398854\n",
       "75%      NaN  31.250000  2.375000e+06  0.645598\n",
       "max      NaN  50.000000  3.500000e+06  1.058736"
      ]
     },
     "execution_count": 22,
     "metadata": {},
     "output_type": "execute_result"
    }
   ],
   "source": [
    "df.describe(include='all') #it's kinda useless"
   ]
  },
  {
   "cell_type": "markdown",
   "id": "78979cee-f9c3-434e-bd09-617c8f78c382",
   "metadata": {},
   "source": [
    "### Index of min/max values\n"
   ]
  },
  {
   "cell_type": "markdown",
   "id": "ef725238-c390-42ea-bc7d-0abaaecaec2a",
   "metadata": {},
   "source": [
    "The **idxmin()** and **idxmax()** functions on Series and DataFrame compute the index labels with the minimum and maximum corresponding values:\n",
    "\n"
   ]
  },
  {
   "cell_type": "code",
   "execution_count": 23,
   "id": "004c5514-5629-4354-b64a-f2e9bc4fed5f",
   "metadata": {},
   "outputs": [],
   "source": [
    "youngest_index = df['age'].idxmin()"
   ]
  },
  {
   "cell_type": "code",
   "execution_count": 24,
   "id": "42964da1-2cb3-41b0-82c4-16b1d3145399",
   "metadata": {},
   "outputs": [
    {
     "data": {
      "text/plain": [
       "20.0"
      ]
     },
     "execution_count": 24,
     "metadata": {},
     "output_type": "execute_result"
    }
   ],
   "source": [
    "df.loc[youngest_index, 'age'] # minmum age in df"
   ]
  },
  {
   "cell_type": "code",
   "execution_count": 25,
   "id": "dd3d5f41-c720-4a3c-8845-01c543efa61f",
   "metadata": {},
   "outputs": [],
   "source": [
    "highest_income_index = df['income'].idxmax()"
   ]
  },
  {
   "cell_type": "code",
   "execution_count": 26,
   "id": "865fd48d-e0a8-40bb-b8fd-9e380694e015",
   "metadata": {},
   "outputs": [
    {
     "data": {
      "text/plain": [
       "3500000.0"
      ]
     },
     "execution_count": 26,
     "metadata": {},
     "output_type": "execute_result"
    }
   ],
   "source": [
    "df.loc[highest_income_index, 'income']"
   ]
  },
  {
   "cell_type": "markdown",
   "id": "f788da1d-e64d-4be9-b4f4-ee232f649795",
   "metadata": {},
   "source": [
    "When there are multiple rows (or columns) matching the minimum or maximum value, idxmin() and idxmax() return the **first** matching index:\n",
    "\n"
   ]
  },
  {
   "cell_type": "markdown",
   "id": "5f8c22b9-aef4-4e12-8bf3-6b14e0dfbecc",
   "metadata": {},
   "source": [
    "**Note**: idxmin and idxmax are called argmin and argmax in NumPy."
   ]
  },
  {
   "cell_type": "markdown",
   "id": "4d1749d2-dfe2-402e-9241-ffb7640c32e7",
   "metadata": {},
   "source": [
    "### Value counts (histogramming) / mode"
   ]
  },
  {
   "cell_type": "code",
   "execution_count": 27,
   "id": "419d59c2-0a59-485a-bfd3-fd3b203d9101",
   "metadata": {},
   "outputs": [
    {
     "data": {
      "text/plain": [
       "age\n",
       "20.0    2\n",
       "25.0    1\n",
       "50.0    1\n",
       "Name: count, dtype: int64"
      ]
     },
     "execution_count": 27,
     "metadata": {},
     "output_type": "execute_result"
    }
   ],
   "source": [
    "df['age'].value_counts()"
   ]
  },
  {
   "cell_type": "code",
   "execution_count": 28,
   "id": "18b9ddc9-d9c8-4854-99ec-081ad38a20ed",
   "metadata": {},
   "outputs": [
    {
     "data": {
      "text/plain": [
       "name      age \n",
       "Chester   25.0    1\n",
       "Emma      20.0    1\n",
       "Harry     20.0    1\n",
       "fariborz  50.0    1\n",
       "Name: count, dtype: int64"
      ]
     },
     "execution_count": 28,
     "metadata": {},
     "output_type": "execute_result"
    }
   ],
   "source": [
    "df.loc[:,'name':'age'].value_counts()"
   ]
  },
  {
   "cell_type": "markdown",
   "id": "d985bde8-6699-45ef-a4ec-ccbfc7f10789",
   "metadata": {},
   "source": [
    "### Discretization and quantiling\n"
   ]
  },
  {
   "cell_type": "markdown",
   "id": "556cb709-2f9f-4f10-a567-8b8356e66390",
   "metadata": {},
   "source": [
    "\n",
    "Continuous values can be discretized using the **cut() (bins based on values)** and **qcut() (bins based on sample quantiles)** functions:"
   ]
  },
  {
   "cell_type": "markdown",
   "id": "de344995-a3ec-4fce-a30d-a3edb747cbca",
   "metadata": {},
   "source": [
    "#### cut"
   ]
  },
  {
   "cell_type": "code",
   "execution_count": 29,
   "id": "85ff7135-3168-4ceb-9e23-3d9f85352d1b",
   "metadata": {},
   "outputs": [
    {
     "data": {
      "text/plain": [
       "[(0.997, 2.0], (0.997, 2.0], (2.0, 3.0], (3.0, 4.0]]\n",
       "Categories (3, interval[float64, right]): [(0.997, 2.0] < (2.0, 3.0] < (3.0, 4.0]]"
      ]
     },
     "execution_count": 29,
     "metadata": {},
     "output_type": "execute_result"
    }
   ],
   "source": [
    "pd.cut(\n",
    "    [1, 2, 3, 4],\n",
    "    3\n",
    ")"
   ]
  },
  {
   "cell_type": "code",
   "execution_count": 30,
   "id": "b9373e3c-62aa-49c0-97d3-c2455425bdef",
   "metadata": {},
   "outputs": [
    {
     "data": {
      "text/plain": [
       "['a', 'a', 'a', 'a', 'a', ..., 'e', 'e', 'e', 'e', 'e']\n",
       "Length: 100\n",
       "Categories (5, object): ['a' < 'b' < 'c' < 'd' < 'e']"
      ]
     },
     "execution_count": 30,
     "metadata": {},
     "output_type": "execute_result"
    }
   ],
   "source": [
    "pd.cut(\n",
    "    np.arange(100),\n",
    "    5,\n",
    "    labels=['a', 'b', 'c', 'd', 'e']\n",
    ")"
   ]
  },
  {
   "cell_type": "markdown",
   "id": "370c3a4b-e3b6-4a55-baeb-1c95c02125c0",
   "metadata": {},
   "source": [
    "You can also customize the cut edges by proving an array of edges. Here we cut the array at -5, -1, 0, 1, 5 values:\n",
    "\n",
    "    "
   ]
  },
  {
   "cell_type": "code",
   "execution_count": 31,
   "id": "490dc499-2e46-441a-ae64-a69a754e72c7",
   "metadata": {},
   "outputs": [
    {
     "data": {
      "text/plain": [
       "[NaN, 'a', 'a', 'a', 'a', ..., 'a', 'a', 'a', 'a', 'a']\n",
       "Length: 20\n",
       "Categories (4, object): ['a' < 'b' < 'c' < 'd']"
      ]
     },
     "execution_count": 31,
     "metadata": {},
     "output_type": "execute_result"
    }
   ],
   "source": [
    "pd.cut(\n",
    "    np.arange(20),\n",
    "    [0, 25, 50, 75, 100],\n",
    "    labels=['a', 'b', 'c', 'd'])"
   ]
  },
  {
   "cell_type": "code",
   "execution_count": 32,
   "id": "7f551920-f3e3-4262-9b2c-481a8e34ff2f",
   "metadata": {},
   "outputs": [
    {
     "data": {
      "text/plain": [
       "[NaN, (0.0, 5.0], (0.0, 5.0], (0.0, 5.0], (0.0, 5.0], ..., (10.0, 15.0], NaN, NaN, NaN, NaN]\n",
       "Length: 20\n",
       "Categories (3, interval[int64, right]): [(0, 5] < (5, 10] < (10, 15]]"
      ]
     },
     "execution_count": 32,
     "metadata": {},
     "output_type": "execute_result"
    }
   ],
   "source": [
    "pd.cut(\n",
    "    np.arange(20),\n",
    "    np.arange(0, 20, 5)\n",
    ")"
   ]
  },
  {
   "cell_type": "markdown",
   "id": "b8fc9e63-b5fd-40e8-aa0e-e80f197c547d",
   "metadata": {},
   "source": [
    "#### qcut"
   ]
  },
  {
   "cell_type": "code",
   "execution_count": 33,
   "id": "10a3b022-ea15-46d1-9094-52d7176e75f9",
   "metadata": {},
   "outputs": [
    {
     "data": {
      "text/plain": [
       "[(-3.211, -0.654], (-3.211, -0.654], (-0.654, -0.0112], (-3.211, -0.654], (0.672, 2.892], ..., (0.672, 2.892], (-0.654, -0.0112], (0.672, 2.892], (-0.0112, 0.672], (-0.654, -0.0112]]\n",
       "Length: 1000\n",
       "Categories (4, interval[float64, right]): [(-3.211, -0.654] < (-0.654, -0.0112] < (-0.0112, 0.672] < (0.672, 2.892]]"
      ]
     },
     "execution_count": 33,
     "metadata": {},
     "output_type": "execute_result"
    }
   ],
   "source": [
    "arr = np.random.normal(size=1000)\n",
    "factor = pd.qcut(\n",
    "    arr,\n",
    "    [0, 0.25, 0.5, 0.75, 1]\n",
    ")\n",
    "factor"
   ]
  },
  {
   "cell_type": "code",
   "execution_count": 34,
   "id": "67528385-9e73-4cab-bab9-786f90807680",
   "metadata": {},
   "outputs": [
    {
     "name": "stderr",
     "output_type": "stream",
     "text": [
      "/var/folders/ft/r3rwscxj6bxgq3r7vv3pf6340000gn/T/ipykernel_34090/524676245.py:1: FutureWarning: pandas.value_counts is deprecated and will be removed in a future version. Use pd.Series(obj).value_counts() instead.\n",
      "  pd.value_counts(factor)\n"
     ]
    },
    {
     "data": {
      "text/plain": [
       "(-3.211, -0.654]     250\n",
       "(-0.654, -0.0112]    250\n",
       "(-0.0112, 0.672]     250\n",
       "(0.672, 2.892]       250\n",
       "Name: count, dtype: int64"
      ]
     },
     "execution_count": 34,
     "metadata": {},
     "output_type": "execute_result"
    }
   ],
   "source": [
    "pd.value_counts(factor)"
   ]
  },
  {
   "cell_type": "markdown",
   "id": "6b4c6927-97a3-4421-8d3a-c61ed77429cc",
   "metadata": {},
   "source": [
    "<br><br>"
   ]
  },
  {
   "cell_type": "markdown",
   "id": "e280cd90-984d-4b70-9668-fa08598f8be1",
   "metadata": {},
   "source": [
    "We can also pass infinite values to define the bins:\n",
    "\n"
   ]
  },
  {
   "cell_type": "code",
   "execution_count": 35,
   "id": "165d0fa6-8265-443b-93bb-61ec341601fb",
   "metadata": {},
   "outputs": [
    {
     "data": {
      "text/plain": [
       "[(-inf, 0.0], (-inf, 0.0], (-inf, 0.0], (-inf, 0.0], (0.0, inf], ..., (0.0, inf], (-inf, 0.0], (0.0, inf], (0.0, inf], (-inf, 0.0]]\n",
       "Length: 1000\n",
       "Categories (2, interval[float64, right]): [(-inf, 0.0] < (0.0, inf]]"
      ]
     },
     "execution_count": 35,
     "metadata": {},
     "output_type": "execute_result"
    }
   ],
   "source": [
    "pd.cut(\n",
    "    arr,\n",
    "    [-np.inf, 0, np.inf]\n",
    ")"
   ]
  },
  {
   "cell_type": "markdown",
   "id": "0b1c578b-e3fa-4944-972d-309013ec2dac",
   "metadata": {},
   "source": [
    "You can also have **repetitive labels**, but you have to set the **order** keyword argument to False as it doesn't make sense to define order with repitative values. Otherwise, you will get ValueError."
   ]
  },
  {
   "cell_type": "code",
   "execution_count": 36,
   "id": "306bc181-d6bc-4560-908d-e48fcae651b2",
   "metadata": {},
   "outputs": [
    {
     "data": {
      "text/plain": [
       "array([ 0.25221919,  1.39216627,  0.17140153, -0.92448342, -1.56098357,\n",
       "        1.53441896,  1.02820723, -1.5300965 , -0.19595366, -1.34767461])"
      ]
     },
     "execution_count": 36,
     "metadata": {},
     "output_type": "execute_result"
    }
   ],
   "source": [
    "arr = np.random.normal(size=10)\n",
    "arr"
   ]
  },
  {
   "cell_type": "code",
   "execution_count": 37,
   "id": "8fb7c362-fd10-4176-a8f8-979ae1970a63",
   "metadata": {},
   "outputs": [
    {
     "data": {
      "text/plain": [
       "['normal', 'rare', 'normal', 'normal', 'rare', 'rare', 'rare', 'rare', 'normal', 'rare']\n",
       "Categories (3, object): ['impossible', 'normal', 'rare']"
      ]
     },
     "execution_count": 37,
     "metadata": {},
     "output_type": "execute_result"
    }
   ],
   "source": [
    "pd.cut(\n",
    "    arr,\n",
    "    [-4, -2.5, -1, 0, 1, 2.5, 4],\n",
    "    labels=['impossible','rare', 'normal', 'normal', 'rare', 'impossible'],\n",
    "    ordered=False,\n",
    ")"
   ]
  }
 ],
 "metadata": {
  "kernelspec": {
   "display_name": "Python 3 (ipykernel)",
   "language": "python",
   "name": "python3"
  },
  "language_info": {
   "codemirror_mode": {
    "name": "ipython",
    "version": 3
   },
   "file_extension": ".py",
   "mimetype": "text/x-python",
   "name": "python",
   "nbconvert_exporter": "python",
   "pygments_lexer": "ipython3",
   "version": "3.12.2"
  }
 },
 "nbformat": 4,
 "nbformat_minor": 5
}
