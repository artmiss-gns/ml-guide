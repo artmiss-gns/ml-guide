{
 "cells": [
  {
   "cell_type": "code",
   "execution_count": 1,
   "id": "6f6bc266-c88d-43cb-b442-4c95243a096b",
   "metadata": {},
   "outputs": [],
   "source": [
    "import numpy as np\n",
    "import pandas as pd"
   ]
  },
  {
   "cell_type": "markdown",
   "id": "3cf806fd-bf76-4843-842d-6b5a4110be58",
   "metadata": {},
   "source": [
    "- items()      --> iterates on **columns** / like a dictionary \n",
    "- iterrows()   --> iterates on **rows** / doesn't preserve the datatypes\n",
    "- itertuples() -->  iterates on **rows** / faster than iterrows / returns a **namedtuple** / preserves the datatypes \n",
    "\n",
    "<br>"
   ]
  },
  {
   "cell_type": "markdown",
   "id": "fabd82b5-1c5f-4942-a1c4-a834a21aee37",
   "metadata": {},
   "source": [
    "### iteration on Series"
   ]
  },
  {
   "cell_type": "code",
   "execution_count": 3,
   "id": "ae00b94c-a083-4a43-b8c0-d5b5599e0d2d",
   "metadata": {},
   "outputs": [
    {
     "data": {
      "text/plain": [
       "0   -0.686844\n",
       "1   -0.869235\n",
       "2   -0.492136\n",
       "3   -0.499241\n",
       "4    0.594399\n",
       "dtype: float64"
      ]
     },
     "execution_count": 3,
     "metadata": {},
     "output_type": "execute_result"
    }
   ],
   "source": [
    "s = pd.Series(np.random.randn(5))\n",
    "s"
   ]
  },
  {
   "cell_type": "code",
   "execution_count": 4,
   "id": "07fe1cf4-9974-43b2-b274-696bd35b0d36",
   "metadata": {},
   "outputs": [
    {
     "name": "stdout",
     "output_type": "stream",
     "text": [
      "-0.6868443204149748\n",
      "-0.8692350769605786\n",
      "-0.4921364952704538\n",
      "-0.4992410637393864\n",
      "0.5943986093123964\n"
     ]
    }
   ],
   "source": [
    "for i in s :\n",
    "    print(i)"
   ]
  },
  {
   "cell_type": "markdown",
   "id": "a1d201d2-6676-4b28-a432-8f82420cdcaf",
   "metadata": {},
   "source": [
    "it will iterate on Serie's elements"
   ]
  },
  {
   "cell_type": "markdown",
   "id": "78f37fd7-3a96-4a9f-a4e3-42cc923ae243",
   "metadata": {},
   "source": [
    "### iteration on DataFrame"
   ]
  },
  {
   "cell_type": "code",
   "execution_count": 5,
   "id": "4d7baba6-0199-494d-adb5-6ad716b843fb",
   "metadata": {},
   "outputs": [
    {
     "data": {
      "text/html": [
       "<div>\n",
       "<style scoped>\n",
       "    .dataframe tbody tr th:only-of-type {\n",
       "        vertical-align: middle;\n",
       "    }\n",
       "\n",
       "    .dataframe tbody tr th {\n",
       "        vertical-align: top;\n",
       "    }\n",
       "\n",
       "    .dataframe thead th {\n",
       "        text-align: right;\n",
       "    }\n",
       "</style>\n",
       "<table border=\"1\" class=\"dataframe\">\n",
       "  <thead>\n",
       "    <tr style=\"text-align: right;\">\n",
       "      <th></th>\n",
       "      <th>a</th>\n",
       "      <th>b</th>\n",
       "      <th>c</th>\n",
       "    </tr>\n",
       "  </thead>\n",
       "  <tbody>\n",
       "    <tr>\n",
       "      <th>0</th>\n",
       "      <td>1</td>\n",
       "      <td>a</td>\n",
       "      <td>1.200</td>\n",
       "    </tr>\n",
       "    <tr>\n",
       "      <th>1</th>\n",
       "      <td>2</td>\n",
       "      <td>b</td>\n",
       "      <td>2.550</td>\n",
       "    </tr>\n",
       "    <tr>\n",
       "      <th>2</th>\n",
       "      <td>3</td>\n",
       "      <td>c</td>\n",
       "      <td>0.005</td>\n",
       "    </tr>\n",
       "  </tbody>\n",
       "</table>\n",
       "</div>"
      ],
      "text/plain": [
       "   a  b      c\n",
       "0  1  a  1.200\n",
       "1  2  b  2.550\n",
       "2  3  c  0.005"
      ]
     },
     "execution_count": 5,
     "metadata": {},
     "output_type": "execute_result"
    }
   ],
   "source": [
    "df = pd.DataFrame(\n",
    "    {\n",
    "        'a': [1, 2, 3],\n",
    "        'b': ['a', 'b', 'c'],\n",
    "        'c': [1.2, 2.55, 0.005]\n",
    "    }\n",
    ")\n",
    "df"
   ]
  },
  {
   "cell_type": "code",
   "execution_count": 6,
   "id": "07646388-9620-435e-9fbb-7e2f60f0a833",
   "metadata": {},
   "outputs": [
    {
     "name": "stdout",
     "output_type": "stream",
     "text": [
      "a\n",
      "b\n",
      "c\n"
     ]
    }
   ],
   "source": [
    "for i in df :\n",
    "    print(i)"
   ]
  },
  {
   "cell_type": "markdown",
   "id": "76a2ca84-8244-41ab-999b-a3e01956073a",
   "metadata": {},
   "source": [
    "iteration on DataFrames will return the column names<br> <br>"
   ]
  },
  {
   "cell_type": "markdown",
   "id": "d313a8be-56e3-4e0c-88bf-cf62bf3f95b3",
   "metadata": {},
   "source": [
    "**Warning**\n",
    "\n",
    "Iterating through pandas objects is generally slow. In many cases,<br></br>\n",
    "iterating manually over the rows is not needed and can be avoided with one of the following approaches:\n",
    "\n",
    "- Look for a **vectorized** solution: many operations can be performed using **built-in methods or NumPy functions**, (boolean) indexing, …\n",
    "- When you have a function that cannot work on the full DataFrame/Series at once, it is better to use **apply()** instead of iterating over the values.\n",
    "- If you need to do iterative manipulations on the values but performance is important, consider writing the inner loop with cython or numba. See the **enhancing performance section of pandas docs** for some examples of this approach.\n",
    "\n",
    "**Warning**<br>\n",
    "You should never modify something you are iterating over.<br>\n",
    "This is not guaranteed to work in all cases. Depending on the data types, the iterator returns a copy and not a view, and writing to it will have no effect!\n",
    "\n",
    "For example, in the following case setting the value has no effect:"
   ]
  },
  {
   "cell_type": "code",
   "execution_count": 19,
   "id": "c81016d9-0257-40d3-b658-0f82a5c02521",
   "metadata": {},
   "outputs": [
    {
     "name": "stdout",
     "output_type": "stream",
     "text": [
      "   a  b      c\n",
      "0  1  a  1.200\n",
      "1  2  b  2.550\n",
      "2  3  c  0.005\n"
     ]
    }
   ],
   "source": [
    "for index, value in df.iterrows() :\n",
    "    value[0] += 1\n",
    "print(df)"
   ]
  },
  {
   "cell_type": "markdown",
   "id": "91c702d8-896d-441e-95dc-923130fba7f7",
   "metadata": {},
   "source": [
    "as you can see, the dataframe hasn't changed, because in the iteration, the pandas gave us a **copy**<br>\n",
    "of the dataframe, and not the actuall dataframe"
   ]
  },
  {
   "cell_type": "markdown",
   "id": "3a0f32a5-119b-4b8a-bc4a-7fa3c561f4d4",
   "metadata": {},
   "source": [
    "Note: To update a dataframe in pandas while iterating row by row, you can use **df.at**:"
   ]
  },
  {
   "cell_type": "code",
   "execution_count": 27,
   "id": "d1ba1636-d4d4-4644-b878-8f8ccdbaae2d",
   "metadata": {},
   "outputs": [
    {
     "name": "stdout",
     "output_type": "stream",
     "text": [
      "   a  b      c\n",
      "0  2  a  1.200\n",
      "1  3  b  2.550\n",
      "2  4  c  0.005\n"
     ]
    }
   ],
   "source": [
    "for index, value in df.iterrows() :\n",
    "    df.at[index, 'a'] += 1\n",
    "print(df)"
   ]
  },
  {
   "cell_type": "markdown",
   "id": "7903ff45-5736-411a-b3d7-bf0b4b1b5ce9",
   "metadata": {},
   "source": [
    "and as we can see, it has changed!!!"
   ]
  },
  {
   "cell_type": "markdown",
   "id": "ae0dde88-813b-4db4-baec-757337822881",
   "metadata": {},
   "source": [
    "### items()"
   ]
  },
  {
   "cell_type": "markdown",
   "id": "65904b9f-12fb-46ab-b7de-7ac0c7432dda",
   "metadata": {},
   "source": [
    "Consistent with the **dict-like** interface, items() iterates through key-value pairs: <br>\n",
    "it iterates through **columns**"
   ]
  },
  {
   "cell_type": "code",
   "execution_count": 44,
   "id": "887c1eda-6817-49e2-ba80-673a4c62e1e5",
   "metadata": {},
   "outputs": [
    {
     "name": "stdout",
     "output_type": "stream",
     "text": [
      "---- a ----\n",
      "0    2\n",
      "1    3\n",
      "2    4\n",
      "Name: a, dtype: int64\n",
      "\n",
      "---- b ----\n",
      "0    a\n",
      "1    b\n",
      "2    c\n",
      "Name: b, dtype: object\n",
      "\n",
      "---- c ----\n",
      "0    1.200\n",
      "1    2.550\n",
      "2    0.005\n",
      "Name: c, dtype: float64\n",
      "\n"
     ]
    }
   ],
   "source": [
    "for column, value in df.items() :\n",
    "    print(f\"---- {column:^2}----\")\n",
    "    print(value, end='\\n\\n')"
   ]
  },
  {
   "cell_type": "markdown",
   "id": "ac8e80f9-1989-432e-9369-a5019563924c",
   "metadata": {},
   "source": [
    "### iterrows"
   ]
  },
  {
   "cell_type": "code",
   "execution_count": 46,
   "id": "c18eefe9-19d3-439c-9d58-53aa6b70f63a",
   "metadata": {},
   "outputs": [
    {
     "name": "stdout",
     "output_type": "stream",
     "text": [
      "---- c ----\n",
      "a      2\n",
      "b      a\n",
      "c    1.2\n",
      "Name: 0, dtype: object\n",
      "\n",
      "---- c ----\n",
      "a       3\n",
      "b       b\n",
      "c    2.55\n",
      "Name: 1, dtype: object\n",
      "\n",
      "---- c ----\n",
      "a        4\n",
      "b        c\n",
      "c    0.005\n",
      "Name: 2, dtype: object\n",
      "\n"
     ]
    }
   ],
   "source": [
    "for index, value in df.iterrows() :\n",
    "    print(f\"---- {column:^2}----\")\n",
    "    print(value, end='\\n\\n')"
   ]
  },
  {
   "cell_type": "markdown",
   "id": "59b392b3-0012-4646-8f98-f9b7d26f5f07",
   "metadata": {},
   "source": [
    "**Note**: ‌ ‌ Because iterrows() returns a Series for each row, **it does not preserve dtypes across the rows** (dtypes are preserved across columns for DataFrames). "
   ]
  },
  {
   "cell_type": "markdown",
   "id": "cbc5ff5f-1e5c-451d-8f1d-d9b1a20f9c4d",
   "metadata": {},
   "source": [
    "‌To preserve dtypes while iterating over the rows, it is better to use **itertuples()** which returns **namedtuples** of the values and which is generally much **faster** than iterrows(). ‌ For instance, a contrived way to transpose the DataFrame would be:"
   ]
  },
  {
   "cell_type": "code",
   "execution_count": 47,
   "id": "4ad5c28f-2b99-4ef1-9d8d-74991518dfb8",
   "metadata": {},
   "outputs": [
    {
     "data": {
      "text/html": [
       "<div>\n",
       "<style scoped>\n",
       "    .dataframe tbody tr th:only-of-type {\n",
       "        vertical-align: middle;\n",
       "    }\n",
       "\n",
       "    .dataframe tbody tr th {\n",
       "        vertical-align: top;\n",
       "    }\n",
       "\n",
       "    .dataframe thead th {\n",
       "        text-align: right;\n",
       "    }\n",
       "</style>\n",
       "<table border=\"1\" class=\"dataframe\">\n",
       "  <thead>\n",
       "    <tr style=\"text-align: right;\">\n",
       "      <th></th>\n",
       "      <th>a</th>\n",
       "      <th>b</th>\n",
       "      <th>c</th>\n",
       "    </tr>\n",
       "  </thead>\n",
       "  <tbody>\n",
       "    <tr>\n",
       "      <th>0</th>\n",
       "      <td>2</td>\n",
       "      <td>a</td>\n",
       "      <td>1.200</td>\n",
       "    </tr>\n",
       "    <tr>\n",
       "      <th>1</th>\n",
       "      <td>3</td>\n",
       "      <td>b</td>\n",
       "      <td>2.550</td>\n",
       "    </tr>\n",
       "    <tr>\n",
       "      <th>2</th>\n",
       "      <td>4</td>\n",
       "      <td>c</td>\n",
       "      <td>0.005</td>\n",
       "    </tr>\n",
       "  </tbody>\n",
       "</table>\n",
       "</div>"
      ],
      "text/plain": [
       "   a  b      c\n",
       "0  2  a  1.200\n",
       "1  3  b  2.550\n",
       "2  4  c  0.005"
      ]
     },
     "execution_count": 47,
     "metadata": {},
     "output_type": "execute_result"
    }
   ],
   "source": [
    "df"
   ]
  },
  {
   "cell_type": "code",
   "execution_count": 48,
   "id": "9feca8ca-5ffc-44b2-834a-5afc1c6aff81",
   "metadata": {},
   "outputs": [
    {
     "data": {
      "text/html": [
       "<div>\n",
       "<style scoped>\n",
       "    .dataframe tbody tr th:only-of-type {\n",
       "        vertical-align: middle;\n",
       "    }\n",
       "\n",
       "    .dataframe tbody tr th {\n",
       "        vertical-align: top;\n",
       "    }\n",
       "\n",
       "    .dataframe thead th {\n",
       "        text-align: right;\n",
       "    }\n",
       "</style>\n",
       "<table border=\"1\" class=\"dataframe\">\n",
       "  <thead>\n",
       "    <tr style=\"text-align: right;\">\n",
       "      <th></th>\n",
       "      <th>0</th>\n",
       "      <th>1</th>\n",
       "      <th>2</th>\n",
       "    </tr>\n",
       "  </thead>\n",
       "  <tbody>\n",
       "    <tr>\n",
       "      <th>a</th>\n",
       "      <td>2</td>\n",
       "      <td>3</td>\n",
       "      <td>4</td>\n",
       "    </tr>\n",
       "    <tr>\n",
       "      <th>b</th>\n",
       "      <td>a</td>\n",
       "      <td>b</td>\n",
       "      <td>c</td>\n",
       "    </tr>\n",
       "    <tr>\n",
       "      <th>c</th>\n",
       "      <td>1.2</td>\n",
       "      <td>2.55</td>\n",
       "      <td>0.005</td>\n",
       "    </tr>\n",
       "  </tbody>\n",
       "</table>\n",
       "</div>"
      ],
      "text/plain": [
       "     0     1      2\n",
       "a    2     3      4\n",
       "b    a     b      c\n",
       "c  1.2  2.55  0.005"
      ]
     },
     "execution_count": 48,
     "metadata": {},
     "output_type": "execute_result"
    }
   ],
   "source": [
    "df_T = df.T\n",
    "df_T"
   ]
  },
  {
   "cell_type": "code",
   "execution_count": 56,
   "id": "c9a828e7-f763-416d-bf86-1b95002cdd91",
   "metadata": {},
   "outputs": [
    {
     "data": {
      "text/html": [
       "<div>\n",
       "<style scoped>\n",
       "    .dataframe tbody tr th:only-of-type {\n",
       "        vertical-align: middle;\n",
       "    }\n",
       "\n",
       "    .dataframe tbody tr th {\n",
       "        vertical-align: top;\n",
       "    }\n",
       "\n",
       "    .dataframe thead th {\n",
       "        text-align: right;\n",
       "    }\n",
       "</style>\n",
       "<table border=\"1\" class=\"dataframe\">\n",
       "  <thead>\n",
       "    <tr style=\"text-align: right;\">\n",
       "      <th></th>\n",
       "      <th>0</th>\n",
       "      <th>1</th>\n",
       "      <th>2</th>\n",
       "    </tr>\n",
       "  </thead>\n",
       "  <tbody>\n",
       "    <tr>\n",
       "      <th>a</th>\n",
       "      <td>2</td>\n",
       "      <td>3</td>\n",
       "      <td>4</td>\n",
       "    </tr>\n",
       "    <tr>\n",
       "      <th>b</th>\n",
       "      <td>a</td>\n",
       "      <td>b</td>\n",
       "      <td>c</td>\n",
       "    </tr>\n",
       "    <tr>\n",
       "      <th>c</th>\n",
       "      <td>1.2</td>\n",
       "      <td>2.55</td>\n",
       "      <td>0.005</td>\n",
       "    </tr>\n",
       "  </tbody>\n",
       "</table>\n",
       "</div>"
      ],
      "text/plain": [
       "     0     1      2\n",
       "a    2     3      4\n",
       "b    a     b      c\n",
       "c  1.2  2.55  0.005"
      ]
     },
     "execution_count": 56,
     "metadata": {},
     "output_type": "execute_result"
    }
   ],
   "source": [
    "pd.DataFrame({key: value for key, value in df.iterrows()})"
   ]
  },
  {
   "cell_type": "markdown",
   "id": "09c9c0c8-5127-4d85-9983-15844caf332f",
   "metadata": {},
   "source": [
    "### itertuples()"
   ]
  },
  {
   "cell_type": "markdown",
   "id": "7c687f78-dd53-4d40-b09c-648d4ffde70e",
   "metadata": {},
   "source": [
    "The itertuples() method will return an iterator yielding a **namedtuple** for each row in the DataFrame.<br> The first element of the tuple will be the row’s corresponding index value, while the remaining values are the row values."
   ]
  },
  {
   "cell_type": "code",
   "execution_count": 60,
   "id": "c2c27bb7-4d23-4cad-87a1-2213adda141c",
   "metadata": {},
   "outputs": [
    {
     "name": "stdout",
     "output_type": "stream",
     "text": [
      "Pandas(Index=0, a=2, b='a', c=1.2)\n",
      "Pandas(Index=1, a=3, b='b', c=2.55)\n",
      "Pandas(Index=2, a=4, b='c', c=0.005)\n"
     ]
    }
   ],
   "source": [
    "for value in df.itertuples() :\n",
    "    print(value)"
   ]
  },
  {
   "cell_type": "markdown",
   "id": "65f41e04-8a05-4577-a881-b191cebd7b1b",
   "metadata": {},
   "source": [
    "**WARNING**<BR>The column names will be renamed to positional names if they are invalid Python identifiers, repeated, or start with an underscore"
   ]
  },
  {
   "cell_type": "code",
   "execution_count": 67,
   "id": "c84feeea-c617-48da-bf4e-543dc10641b0",
   "metadata": {},
   "outputs": [
    {
     "data": {
      "text/html": [
       "<div>\n",
       "<style scoped>\n",
       "    .dataframe tbody tr th:only-of-type {\n",
       "        vertical-align: middle;\n",
       "    }\n",
       "\n",
       "    .dataframe tbody tr th {\n",
       "        vertical-align: top;\n",
       "    }\n",
       "\n",
       "    .dataframe thead th {\n",
       "        text-align: right;\n",
       "    }\n",
       "</style>\n",
       "<table border=\"1\" class=\"dataframe\">\n",
       "  <thead>\n",
       "    <tr style=\"text-align: right;\">\n",
       "      <th></th>\n",
       "      <th>family name</th>\n",
       "      <th>age</th>\n",
       "    </tr>\n",
       "    <tr>\n",
       "      <th>name</th>\n",
       "      <th></th>\n",
       "      <th></th>\n",
       "    </tr>\n",
       "  </thead>\n",
       "  <tbody>\n",
       "    <tr>\n",
       "      <th>ali</th>\n",
       "      <td>a</td>\n",
       "      <td>1</td>\n",
       "    </tr>\n",
       "    <tr>\n",
       "      <th>kazem</th>\n",
       "      <td>b</td>\n",
       "      <td>2</td>\n",
       "    </tr>\n",
       "  </tbody>\n",
       "</table>\n",
       "</div>"
      ],
      "text/plain": [
       "      family name  age\n",
       "name                  \n",
       "ali             a    1\n",
       "kazem           b    2"
      ]
     },
     "execution_count": 67,
     "metadata": {},
     "output_type": "execute_result"
    }
   ],
   "source": [
    "tmp = pd.DataFrame(\n",
    "    {'name': ['ali', 'kazem'],\n",
    "     'family name': ['a', 'b'],\n",
    "     'age': [1, 2]\n",
    "    }\n",
    ")\n",
    "tmp.set_index('name', inplace=True)\n",
    "tmp"
   ]
  },
  {
   "cell_type": "code",
   "execution_count": 68,
   "id": "d8611c48-19f7-4e79-88ec-61b8f8424ae1",
   "metadata": {},
   "outputs": [
    {
     "name": "stdout",
     "output_type": "stream",
     "text": [
      "Pandas(Index='ali', _1='a', age=1)\n",
      "Pandas(Index='kazem', _1='b', age=2)\n"
     ]
    }
   ],
   "source": [
    "for i in tmp.itertuples() :\n",
    "    print(i)"
   ]
  },
  {
   "cell_type": "markdown",
   "id": "b9198e51-3809-4182-a71d-a47e2f5d78e1",
   "metadata": {},
   "source": [
    "as you can see, the col_name of the dataframe has changed to _1"
   ]
  }
 ],
 "metadata": {
  "kernelspec": {
   "display_name": "Python 3 (ipykernel)",
   "language": "python",
   "name": "python3"
  },
  "language_info": {
   "codemirror_mode": {
    "name": "ipython",
    "version": 3
   },
   "file_extension": ".py",
   "mimetype": "text/x-python",
   "name": "python",
   "nbconvert_exporter": "python",
   "pygments_lexer": "ipython3",
   "version": "3.9.12"
  }
 },
 "nbformat": 4,
 "nbformat_minor": 5
}
