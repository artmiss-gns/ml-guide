{
 "cells": [
  {
   "cell_type": "code",
   "execution_count": 2,
   "id": "ed1116c7-092b-46fb-b8f1-7779fb1c0687",
   "metadata": {},
   "outputs": [],
   "source": [
    "import numpy as np\n",
    "import pandas as pd"
   ]
  },
  {
   "cell_type": "markdown",
   "id": "34cfe671-f2b4-4f8a-8b06-9ed32c96d0d6",
   "metadata": {},
   "source": [
    "pandas supports many datatypes...<br>\n",
    "check the main jupyter page for more info "
   ]
  },
  {
   "cell_type": "markdown",
   "id": "061fe07a-5e3b-4f9e-a69e-8ce9f4ef2c14",
   "metadata": {},
   "source": [
    "pandas has to ways to store strings : \n",
    "- object\n",
    "- StringDtype"
   ]
  },
  {
   "cell_type": "code",
   "execution_count": 14,
   "id": "d3faa8fa-0b39-448e-87ad-fa13eb0619e4",
   "metadata": {},
   "outputs": [
    {
     "data": {
      "text/html": [
       "<div>\n",
       "<style scoped>\n",
       "    .dataframe tbody tr th:only-of-type {\n",
       "        vertical-align: middle;\n",
       "    }\n",
       "\n",
       "    .dataframe tbody tr th {\n",
       "        vertical-align: top;\n",
       "    }\n",
       "\n",
       "    .dataframe thead th {\n",
       "        text-align: right;\n",
       "    }\n",
       "</style>\n",
       "<table border=\"1\" class=\"dataframe\">\n",
       "  <thead>\n",
       "    <tr style=\"text-align: right;\">\n",
       "      <th></th>\n",
       "      <th>A</th>\n",
       "      <th>B</th>\n",
       "      <th>C</th>\n",
       "      <th>D</th>\n",
       "      <th>E</th>\n",
       "      <th>F</th>\n",
       "    </tr>\n",
       "  </thead>\n",
       "  <tbody>\n",
       "    <tr>\n",
       "      <th>0</th>\n",
       "      <td>1</td>\n",
       "      <td>1.2</td>\n",
       "      <td>hello</td>\n",
       "      <td>2002-01-31</td>\n",
       "      <td>False</td>\n",
       "      <td>1</td>\n",
       "    </tr>\n",
       "    <tr>\n",
       "      <th>1</th>\n",
       "      <td>2</td>\n",
       "      <td>2.2</td>\n",
       "      <td>a</td>\n",
       "      <td>2002-02-28</td>\n",
       "      <td>False</td>\n",
       "      <td>2</td>\n",
       "    </tr>\n",
       "    <tr>\n",
       "      <th>2</th>\n",
       "      <td>3</td>\n",
       "      <td>0.4</td>\n",
       "      <td>B</td>\n",
       "      <td>2002-03-31</td>\n",
       "      <td>False</td>\n",
       "      <td>3</td>\n",
       "    </tr>\n",
       "  </tbody>\n",
       "</table>\n",
       "</div>"
      ],
      "text/plain": [
       "   A    B      C          D      E  F\n",
       "0  1  1.2  hello 2002-01-31  False  1\n",
       "1  2  2.2      a 2002-02-28  False  2\n",
       "2  3  0.4      B 2002-03-31  False  3"
      ]
     },
     "execution_count": 14,
     "metadata": {},
     "output_type": "execute_result"
    }
   ],
   "source": [
    "df = pd.DataFrame(\n",
    "    {\n",
    "        \"A\": [1, 2, 3],\n",
    "        \"B\": [1.2, 2.2, 0.4],\n",
    "        \"C\": [\"hello\", \"a\", \"B\"],\n",
    "        \"D\": pd.Series(pd.date_range(\"2002/1/1\", periods=3,  freq=\"M\")),\n",
    "        \"E\": False,\n",
    "        \"F\": pd.Series([1, 2, 3], dtype=\"int8\"),\n",
    "    }\n",
    ")\n",
    "df"
   ]
  },
  {
   "cell_type": "markdown",
   "id": "b72f44a0-357d-40be-b7a4-59b1cfbe16d0",
   "metadata": {},
   "source": [
    "always check the dtype of your dataframe columns : "
   ]
  },
  {
   "cell_type": "markdown",
   "id": "e7fdd93c-0c11-4933-9074-736eeeb5169b",
   "metadata": {},
   "source": [
    "columns A and F look the same, but if we check theri dtype, it shows that they are not completyly the same"
   ]
  },
  {
   "cell_type": "code",
   "execution_count": 15,
   "id": "03e4d6cb-5c48-4ce0-b177-3b14f6efd265",
   "metadata": {},
   "outputs": [
    {
     "data": {
      "text/plain": [
       "A             int64\n",
       "B           float64\n",
       "C            object\n",
       "D    datetime64[ns]\n",
       "E              bool\n",
       "F              int8\n",
       "dtype: object"
      ]
     },
     "execution_count": 15,
     "metadata": {},
     "output_type": "execute_result"
    }
   ],
   "source": [
    "df.dtypes"
   ]
  },
  {
   "cell_type": "markdown",
   "id": "d1dac693-54b4-4732-a027-d4cecfbadb7a",
   "metadata": {},
   "source": [
    "the mumbers of columns of each type in a DataFrame can be found by calling `DataFrame.dtypes.value_counts()`"
   ]
  },
  {
   "cell_type": "code",
   "execution_count": 16,
   "id": "b19580f5-3886-4f74-bc97-56d9455f5ebb",
   "metadata": {},
   "outputs": [
    {
     "data": {
      "text/plain": [
       "int64             1\n",
       "float64           1\n",
       "object            1\n",
       "datetime64[ns]    1\n",
       "bool              1\n",
       "int8              1\n",
       "dtype: int64"
      ]
     },
     "execution_count": 16,
     "metadata": {},
     "output_type": "execute_result"
    }
   ],
   "source": [
    "df.dtypes.value_counts()"
   ]
  },
  {
   "cell_type": "markdown",
   "id": "83c18c13-33e7-42c6-baa8-9882fc0677a0",
   "metadata": {},
   "source": [
    "### upcasting"
   ]
  },
  {
   "cell_type": "code",
   "execution_count": 17,
   "id": "9acf3be5-9c68-443e-836f-ad5d4846c940",
   "metadata": {},
   "outputs": [
    {
     "data": {
      "text/html": [
       "<div>\n",
       "<style scoped>\n",
       "    .dataframe tbody tr th:only-of-type {\n",
       "        vertical-align: middle;\n",
       "    }\n",
       "\n",
       "    .dataframe tbody tr th {\n",
       "        vertical-align: top;\n",
       "    }\n",
       "\n",
       "    .dataframe thead th {\n",
       "        text-align: right;\n",
       "    }\n",
       "</style>\n",
       "<table border=\"1\" class=\"dataframe\">\n",
       "  <thead>\n",
       "    <tr style=\"text-align: right;\">\n",
       "      <th></th>\n",
       "      <th>A</th>\n",
       "    </tr>\n",
       "  </thead>\n",
       "  <tbody>\n",
       "    <tr>\n",
       "      <th>0</th>\n",
       "      <td>1.022202</td>\n",
       "    </tr>\n",
       "    <tr>\n",
       "      <th>1</th>\n",
       "      <td>-1.679857</td>\n",
       "    </tr>\n",
       "    <tr>\n",
       "      <th>2</th>\n",
       "      <td>-1.006968</td>\n",
       "    </tr>\n",
       "    <tr>\n",
       "      <th>3</th>\n",
       "      <td>1.473950</td>\n",
       "    </tr>\n",
       "    <tr>\n",
       "      <th>4</th>\n",
       "      <td>-0.321038</td>\n",
       "    </tr>\n",
       "  </tbody>\n",
       "</table>\n",
       "</div>"
      ],
      "text/plain": [
       "          A\n",
       "0  1.022202\n",
       "1 -1.679857\n",
       "2 -1.006968\n",
       "3  1.473950\n",
       "4 -0.321038"
      ]
     },
     "execution_count": 17,
     "metadata": {},
     "output_type": "execute_result"
    }
   ],
   "source": [
    "df1 = pd.DataFrame({\"A\": np.random.randn(5)})\n",
    "df1"
   ]
  },
  {
   "cell_type": "code",
   "execution_count": 18,
   "id": "b002a58f-d2b8-4be9-ae65-a7f52b1865bf",
   "metadata": {},
   "outputs": [
    {
     "data": {
      "text/plain": [
       "A    float64\n",
       "dtype: object"
      ]
     },
     "execution_count": 18,
     "metadata": {},
     "output_type": "execute_result"
    }
   ],
   "source": [
    "df1.dtypes"
   ]
  },
  {
   "cell_type": "code",
   "execution_count": 19,
   "id": "03dad021-2ef1-4449-bdd6-35e029bad183",
   "metadata": {},
   "outputs": [
    {
     "data": {
      "text/html": [
       "<div>\n",
       "<style scoped>\n",
       "    .dataframe tbody tr th:only-of-type {\n",
       "        vertical-align: middle;\n",
       "    }\n",
       "\n",
       "    .dataframe tbody tr th {\n",
       "        vertical-align: top;\n",
       "    }\n",
       "\n",
       "    .dataframe thead th {\n",
       "        text-align: right;\n",
       "    }\n",
       "</style>\n",
       "<table border=\"1\" class=\"dataframe\">\n",
       "  <thead>\n",
       "    <tr style=\"text-align: right;\">\n",
       "      <th></th>\n",
       "      <th>A</th>\n",
       "      <th>B</th>\n",
       "      <th>C</th>\n",
       "    </tr>\n",
       "  </thead>\n",
       "  <tbody>\n",
       "    <tr>\n",
       "      <th>0</th>\n",
       "      <td>1.162296</td>\n",
       "      <td>-0.721798</td>\n",
       "      <td>0</td>\n",
       "    </tr>\n",
       "    <tr>\n",
       "      <th>1</th>\n",
       "      <td>-1.872885</td>\n",
       "      <td>0.276769</td>\n",
       "      <td>0</td>\n",
       "    </tr>\n",
       "    <tr>\n",
       "      <th>2</th>\n",
       "      <td>0.656854</td>\n",
       "      <td>-1.488564</td>\n",
       "      <td>0</td>\n",
       "    </tr>\n",
       "    <tr>\n",
       "      <th>3</th>\n",
       "      <td>-0.650797</td>\n",
       "      <td>1.090862</td>\n",
       "      <td>2</td>\n",
       "    </tr>\n",
       "    <tr>\n",
       "      <th>4</th>\n",
       "      <td>-0.121598</td>\n",
       "      <td>-0.313899</td>\n",
       "      <td>255</td>\n",
       "    </tr>\n",
       "  </tbody>\n",
       "</table>\n",
       "</div>"
      ],
      "text/plain": [
       "          A         B    C\n",
       "0  1.162296 -0.721798    0\n",
       "1 -1.872885  0.276769    0\n",
       "2  0.656854 -1.488564    0\n",
       "3 -0.650797  1.090862    2\n",
       "4 -0.121598 -0.313899  255"
      ]
     },
     "execution_count": 19,
     "metadata": {},
     "output_type": "execute_result"
    }
   ],
   "source": [
    "df2 = pd.DataFrame(\n",
    "    {\n",
    "        \"A\": np.random.randn(5).astype('float32'),\n",
    "        \"B\": np.random.randn(5),\n",
    "        \"C\": np.random.randn(5).astype('uint8'),\n",
    "    }\n",
    ")\n",
    "df2"
   ]
  },
  {
   "cell_type": "code",
   "execution_count": 20,
   "id": "45522ce8-9825-4499-acee-f1ecb599f668",
   "metadata": {},
   "outputs": [
    {
     "data": {
      "text/plain": [
       "A    float32\n",
       "B    float64\n",
       "C      uint8\n",
       "dtype: object"
      ]
     },
     "execution_count": 20,
     "metadata": {},
     "output_type": "execute_result"
    }
   ],
   "source": [
    "df2.dtypes"
   ]
  },
  {
   "cell_type": "code",
   "execution_count": 27,
   "id": "e6e01339-4428-4d1f-900e-c6186d5af42b",
   "metadata": {},
   "outputs": [
    {
     "data": {
      "text/html": [
       "<div>\n",
       "<style scoped>\n",
       "    .dataframe tbody tr th:only-of-type {\n",
       "        vertical-align: middle;\n",
       "    }\n",
       "\n",
       "    .dataframe tbody tr th {\n",
       "        vertical-align: top;\n",
       "    }\n",
       "\n",
       "    .dataframe thead th {\n",
       "        text-align: right;\n",
       "    }\n",
       "</style>\n",
       "<table border=\"1\" class=\"dataframe\">\n",
       "  <thead>\n",
       "    <tr style=\"text-align: right;\">\n",
       "      <th></th>\n",
       "      <th>A</th>\n",
       "      <th>B</th>\n",
       "      <th>C</th>\n",
       "    </tr>\n",
       "  </thead>\n",
       "  <tbody>\n",
       "    <tr>\n",
       "      <th>0</th>\n",
       "      <td>2.184499</td>\n",
       "      <td>-0.721798</td>\n",
       "      <td>0.0</td>\n",
       "    </tr>\n",
       "    <tr>\n",
       "      <th>1</th>\n",
       "      <td>-3.552743</td>\n",
       "      <td>0.276769</td>\n",
       "      <td>0.0</td>\n",
       "    </tr>\n",
       "    <tr>\n",
       "      <th>2</th>\n",
       "      <td>-0.350113</td>\n",
       "      <td>-1.488564</td>\n",
       "      <td>0.0</td>\n",
       "    </tr>\n",
       "    <tr>\n",
       "      <th>3</th>\n",
       "      <td>0.823153</td>\n",
       "      <td>1.090862</td>\n",
       "      <td>2.0</td>\n",
       "    </tr>\n",
       "    <tr>\n",
       "      <th>4</th>\n",
       "      <td>-0.442637</td>\n",
       "      <td>-0.313899</td>\n",
       "      <td>255.0</td>\n",
       "    </tr>\n",
       "  </tbody>\n",
       "</table>\n",
       "</div>"
      ],
      "text/plain": [
       "          A         B      C\n",
       "0  2.184499 -0.721798    0.0\n",
       "1 -3.552743  0.276769    0.0\n",
       "2 -0.350113 -1.488564    0.0\n",
       "3  0.823153  1.090862    2.0\n",
       "4 -0.442637 -0.313899  255.0"
      ]
     },
     "execution_count": 27,
     "metadata": {},
     "output_type": "execute_result"
    }
   ],
   "source": [
    "df3 = df1.reindex_like(df2).fillna(value=0.0) + df2\n",
    "df3"
   ]
  },
  {
   "cell_type": "code",
   "execution_count": 28,
   "id": "458121ce-338c-4444-ba92-c36d5815f151",
   "metadata": {},
   "outputs": [
    {
     "data": {
      "text/plain": [
       "A    float64\n",
       "B    float64\n",
       "C    float64\n",
       "dtype: object"
      ]
     },
     "execution_count": 28,
     "metadata": {},
     "output_type": "execute_result"
    }
   ],
   "source": [
    "df3.dtypes"
   ]
  },
  {
   "cell_type": "markdown",
   "id": "ab38f02d-2f4d-4206-84bc-f40c6bb0a8ac",
   "metadata": {},
   "source": [
    "it returns the dtype that can accommodate ALL of the types in the resulting homogeneous dtyped Numpy array.<br>"
   ]
  },
  {
   "cell_type": "markdown",
   "id": "7eb572ba-3101-45ae-bdf6-1222a81c42c5",
   "metadata": {},
   "source": [
    "### astype"
   ]
  },
  {
   "cell_type": "code",
   "execution_count": 30,
   "id": "ba6092ce-eec8-4826-8465-9fe80cd018e7",
   "metadata": {},
   "outputs": [
    {
     "data": {
      "text/plain": [
       "A    float64\n",
       "dtype: object"
      ]
     },
     "execution_count": 30,
     "metadata": {},
     "output_type": "execute_result"
    }
   ],
   "source": [
    "df1.dtypes"
   ]
  },
  {
   "cell_type": "code",
   "execution_count": 31,
   "id": "6aa1c031-b660-4fc1-b339-3dbb36af3bb1",
   "metadata": {},
   "outputs": [
    {
     "data": {
      "text/plain": [
       "A    float16\n",
       "dtype: object"
      ]
     },
     "execution_count": 31,
     "metadata": {},
     "output_type": "execute_result"
    }
   ],
   "source": [
    "df1.astype(\"float16\").dtypes"
   ]
  },
  {
   "cell_type": "markdown",
   "id": "e8677136-161f-44a2-8a5f-16670122f342",
   "metadata": {},
   "source": [
    "### object conversion"
   ]
  },
  {
   "cell_type": "code",
   "execution_count": 41,
   "id": "d24b9698-9bd7-4522-9cb1-385ddab4e0b1",
   "metadata": {},
   "outputs": [
    {
     "data": {
      "text/html": [
       "<div>\n",
       "<style scoped>\n",
       "    .dataframe tbody tr th:only-of-type {\n",
       "        vertical-align: middle;\n",
       "    }\n",
       "\n",
       "    .dataframe tbody tr th {\n",
       "        vertical-align: top;\n",
       "    }\n",
       "\n",
       "    .dataframe thead th {\n",
       "        text-align: right;\n",
       "    }\n",
       "</style>\n",
       "<table border=\"1\" class=\"dataframe\">\n",
       "  <thead>\n",
       "    <tr style=\"text-align: right;\">\n",
       "      <th></th>\n",
       "      <th>0</th>\n",
       "      <th>1</th>\n",
       "    </tr>\n",
       "  </thead>\n",
       "  <tbody>\n",
       "    <tr>\n",
       "      <th>0</th>\n",
       "      <td>1</td>\n",
       "      <td>2</td>\n",
       "    </tr>\n",
       "    <tr>\n",
       "      <th>1</th>\n",
       "      <td>a</td>\n",
       "      <td>b</td>\n",
       "    </tr>\n",
       "    <tr>\n",
       "      <th>2</th>\n",
       "      <td>2002-02-01 00:00:00</td>\n",
       "      <td>2022-01-01 00:00:00</td>\n",
       "    </tr>\n",
       "  </tbody>\n",
       "</table>\n",
       "</div>"
      ],
      "text/plain": [
       "                     0                    1\n",
       "0                    1                    2\n",
       "1                    a                    b\n",
       "2  2002-02-01 00:00:00  2022-01-01 00:00:00"
      ]
     },
     "execution_count": 41,
     "metadata": {},
     "output_type": "execute_result"
    }
   ],
   "source": [
    "df = pd.DataFrame(\n",
    "    [\n",
    "        [1, 2], \n",
    "        ['a', 'b'],\n",
    "        pd.Series(pd.date_range('2002-2-1', '2022-1-1',periods=2)),\n",
    "    ]\n",
    ")\n",
    "df"
   ]
  },
  {
   "cell_type": "code",
   "execution_count": 42,
   "id": "708e999d-4f78-44ae-a176-95c28db4659d",
   "metadata": {},
   "outputs": [
    {
     "data": {
      "text/plain": [
       "0    object\n",
       "1    object\n",
       "dtype: object"
      ]
     },
     "execution_count": 42,
     "metadata": {},
     "output_type": "execute_result"
    }
   ],
   "source": [
    "df.dtypes"
   ]
  },
  {
   "cell_type": "code",
   "execution_count": 44,
   "id": "8178c000-6ed0-467b-a4a5-1c29465700a6",
   "metadata": {},
   "outputs": [
    {
     "data": {
      "text/html": [
       "<div>\n",
       "<style scoped>\n",
       "    .dataframe tbody tr th:only-of-type {\n",
       "        vertical-align: middle;\n",
       "    }\n",
       "\n",
       "    .dataframe tbody tr th {\n",
       "        vertical-align: top;\n",
       "    }\n",
       "\n",
       "    .dataframe thead th {\n",
       "        text-align: right;\n",
       "    }\n",
       "</style>\n",
       "<table border=\"1\" class=\"dataframe\">\n",
       "  <thead>\n",
       "    <tr style=\"text-align: right;\">\n",
       "      <th></th>\n",
       "      <th>0</th>\n",
       "      <th>1</th>\n",
       "      <th>2</th>\n",
       "    </tr>\n",
       "  </thead>\n",
       "  <tbody>\n",
       "    <tr>\n",
       "      <th>0</th>\n",
       "      <td>1</td>\n",
       "      <td>a</td>\n",
       "      <td>2002-02-01</td>\n",
       "    </tr>\n",
       "    <tr>\n",
       "      <th>1</th>\n",
       "      <td>2</td>\n",
       "      <td>b</td>\n",
       "      <td>2022-01-01</td>\n",
       "    </tr>\n",
       "  </tbody>\n",
       "</table>\n",
       "</div>"
      ],
      "text/plain": [
       "   0  1          2\n",
       "0  1  a 2002-02-01\n",
       "1  2  b 2022-01-01"
      ]
     },
     "execution_count": 44,
     "metadata": {},
     "output_type": "execute_result"
    }
   ],
   "source": [
    "df2 = df.T\n",
    "df2"
   ]
  },
  {
   "cell_type": "code",
   "execution_count": 45,
   "id": "9facddb2-0ea8-4cb2-b30e-2f2478bfe697",
   "metadata": {},
   "outputs": [
    {
     "data": {
      "text/plain": [
       "0            object\n",
       "1            object\n",
       "2    datetime64[ns]\n",
       "dtype: object"
      ]
     },
     "execution_count": 45,
     "metadata": {},
     "output_type": "execute_result"
    }
   ],
   "source": [
    "df2.dtypes"
   ]
  },
  {
   "cell_type": "markdown",
   "id": "0969133b-06e3-4698-91a1-e45d1c74c944",
   "metadata": {},
   "source": [
    "the data in column 1 and column 2 are stored as `object`, we can fix it by `infer_objects`"
   ]
  },
  {
   "cell_type": "code",
   "execution_count": 48,
   "id": "8d491f41-f97f-4df9-9c4d-0887ae961a43",
   "metadata": {},
   "outputs": [
    {
     "data": {
      "text/html": [
       "<div>\n",
       "<style scoped>\n",
       "    .dataframe tbody tr th:only-of-type {\n",
       "        vertical-align: middle;\n",
       "    }\n",
       "\n",
       "    .dataframe tbody tr th {\n",
       "        vertical-align: top;\n",
       "    }\n",
       "\n",
       "    .dataframe thead th {\n",
       "        text-align: right;\n",
       "    }\n",
       "</style>\n",
       "<table border=\"1\" class=\"dataframe\">\n",
       "  <thead>\n",
       "    <tr style=\"text-align: right;\">\n",
       "      <th></th>\n",
       "      <th>0</th>\n",
       "      <th>1</th>\n",
       "      <th>2</th>\n",
       "    </tr>\n",
       "  </thead>\n",
       "  <tbody>\n",
       "    <tr>\n",
       "      <th>0</th>\n",
       "      <td>1</td>\n",
       "      <td>a</td>\n",
       "      <td>2002-02-01</td>\n",
       "    </tr>\n",
       "    <tr>\n",
       "      <th>1</th>\n",
       "      <td>2</td>\n",
       "      <td>b</td>\n",
       "      <td>2022-01-01</td>\n",
       "    </tr>\n",
       "  </tbody>\n",
       "</table>\n",
       "</div>"
      ],
      "text/plain": [
       "   0  1          2\n",
       "0  1  a 2002-02-01\n",
       "1  2  b 2022-01-01"
      ]
     },
     "execution_count": 48,
     "metadata": {},
     "output_type": "execute_result"
    }
   ],
   "source": [
    "df2 = df2.infer_objects()\n",
    "df2"
   ]
  },
  {
   "cell_type": "code",
   "execution_count": 50,
   "id": "0893fb81-48cc-4256-857a-547278b5e84c",
   "metadata": {},
   "outputs": [
    {
     "data": {
      "text/plain": [
       "0             int64\n",
       "1            object\n",
       "2    datetime64[ns]\n",
       "dtype: object"
      ]
     },
     "execution_count": 50,
     "metadata": {},
     "output_type": "execute_result"
    }
   ],
   "source": [
    "df2.dtypes"
   ]
  },
  {
   "cell_type": "markdown",
   "id": "f3c1bb3c-f8b6-48b3-9839-6b88109fc41c",
   "metadata": {},
   "source": [
    "and now it is fiexed!<br><br>"
   ]
  },
  {
   "cell_type": "markdown",
   "id": "462726ed-5557-4712-bbf2-c26cd39c405c",
   "metadata": {},
   "source": [
    "#### `to_numeric`"
   ]
  },
  {
   "cell_type": "code",
   "execution_count": 52,
   "id": "6feb52ff-ee84-4f35-89d3-7bc99b429803",
   "metadata": {},
   "outputs": [
    {
     "data": {
      "text/plain": [
       "array([1.  , 1.2 , 3.23])"
      ]
     },
     "execution_count": 52,
     "metadata": {},
     "output_type": "execute_result"
    }
   ],
   "source": [
    "m = [1, '1.2', 3.23]\n",
    "pd.to_numeric(m)"
   ]
  },
  {
   "cell_type": "markdown",
   "id": "93a001cf-d336-46ac-af9f-577e45148c7b",
   "metadata": {},
   "source": [
    "#### `to_datetime`"
   ]
  },
  {
   "cell_type": "code",
   "execution_count": 54,
   "id": "b99e657c-1ed7-413f-ba70-1317707adea4",
   "metadata": {},
   "outputs": [],
   "source": [
    "import datetime"
   ]
  },
  {
   "cell_type": "code",
   "execution_count": 55,
   "id": "db3f7ac2-ff96-405a-93d9-acb1e2d9b91c",
   "metadata": {},
   "outputs": [],
   "source": [
    "m = ['2016', datetime.datetime(2020, 1, 22), '2000/2/2']"
   ]
  },
  {
   "cell_type": "code",
   "execution_count": 56,
   "id": "451557b5-b4f4-48d5-8c79-06378c7d1807",
   "metadata": {},
   "outputs": [
    {
     "data": {
      "text/plain": [
       "DatetimeIndex(['2016-01-01', '2020-01-22', '2000-02-02'], dtype='datetime64[ns]', freq=None)"
      ]
     },
     "execution_count": 56,
     "metadata": {},
     "output_type": "execute_result"
    }
   ],
   "source": [
    "pd.to_datetime(m)"
   ]
  },
  {
   "cell_type": "markdown",
   "id": "54776f50-443d-4f4c-b68e-eb2961094c3f",
   "metadata": {},
   "source": [
    "#### `to_timedelta`"
   ]
  },
  {
   "cell_type": "code",
   "execution_count": 57,
   "id": "f7e86161-7da8-41e4-be5f-ca0d028992f7",
   "metadata": {},
   "outputs": [],
   "source": [
    "m = ['5us', pd.Timedelta('1day')]"
   ]
  },
  {
   "cell_type": "code",
   "execution_count": 59,
   "id": "b632e81e-e261-4f87-84c9-7abec5d99754",
   "metadata": {},
   "outputs": [
    {
     "data": {
      "text/plain": [
       "TimedeltaIndex(['0 days 00:00:00.000005', '1 days 00:00:00'], dtype='timedelta64[ns]', freq=None)"
      ]
     },
     "execution_count": 59,
     "metadata": {},
     "output_type": "execute_result"
    }
   ],
   "source": [
    "pd.to_timedelta(m)"
   ]
  },
  {
   "cell_type": "markdown",
   "id": "346c15f4-e1ad-4cf7-b9fc-74bae5f78e95",
   "metadata": {},
   "source": [
    "to force conversion, we can pass in `errors` argument, which specifies how pandas should deal with elements that cannot be converted to desired dtype or object.<br>\n",
    "by default, `erros='raise`, meaning that any erros encountered will be raised during the conversion process.<br>\n",
    "`errors='coerce` --> the errors will be ignored and pandas will convert problematic elements to `pd.NaT` or `pd.nan`<br><br>"
   ]
  },
  {
   "cell_type": "code",
   "execution_count": 69,
   "id": "b4372a91-a808-44d6-89e4-154cdcdd790c",
   "metadata": {},
   "outputs": [],
   "source": [
    "m = [1, 2.2, 'abc']"
   ]
  },
  {
   "cell_type": "code",
   "execution_count": 70,
   "id": "afcc0211-b95a-4907-b1fd-43c468f335f8",
   "metadata": {},
   "outputs": [
    {
     "ename": "ValueError",
     "evalue": "Unable to parse string \"abc\" at position 2",
     "output_type": "error",
     "traceback": [
      "\u001b[0;31m---------------------------------------------------------------------------\u001b[0m",
      "\u001b[0;31mValueError\u001b[0m                                Traceback (most recent call last)",
      "File \u001b[0;32m~/anaconda3/lib/python3.9/site-packages/pandas/_libs/lib.pyx:2315\u001b[0m, in \u001b[0;36mpandas._libs.lib.maybe_convert_numeric\u001b[0;34m()\u001b[0m\n",
      "\u001b[0;31mValueError\u001b[0m: Unable to parse string \"abc\"",
      "\nDuring handling of the above exception, another exception occurred:\n",
      "\u001b[0;31mValueError\u001b[0m                                Traceback (most recent call last)",
      "Input \u001b[0;32mIn [70]\u001b[0m, in \u001b[0;36m<cell line: 1>\u001b[0;34m()\u001b[0m\n\u001b[0;32m----> 1\u001b[0m \u001b[43mpd\u001b[49m\u001b[38;5;241;43m.\u001b[39;49m\u001b[43mto_numeric\u001b[49m\u001b[43m(\u001b[49m\u001b[43mm\u001b[49m\u001b[43m,\u001b[49m\u001b[43m \u001b[49m\u001b[43merrors\u001b[49m\u001b[38;5;241;43m=\u001b[39;49m\u001b[38;5;124;43m'\u001b[39;49m\u001b[38;5;124;43mraise\u001b[39;49m\u001b[38;5;124;43m'\u001b[39;49m\u001b[43m)\u001b[49m\n",
      "File \u001b[0;32m~/anaconda3/lib/python3.9/site-packages/pandas/core/tools/numeric.py:184\u001b[0m, in \u001b[0;36mto_numeric\u001b[0;34m(arg, errors, downcast)\u001b[0m\n\u001b[1;32m    182\u001b[0m coerce_numeric \u001b[38;5;241m=\u001b[39m errors \u001b[38;5;129;01mnot\u001b[39;00m \u001b[38;5;129;01min\u001b[39;00m (\u001b[38;5;124m\"\u001b[39m\u001b[38;5;124mignore\u001b[39m\u001b[38;5;124m\"\u001b[39m, \u001b[38;5;124m\"\u001b[39m\u001b[38;5;124mraise\u001b[39m\u001b[38;5;124m\"\u001b[39m)\n\u001b[1;32m    183\u001b[0m \u001b[38;5;28;01mtry\u001b[39;00m:\n\u001b[0;32m--> 184\u001b[0m     values, _ \u001b[38;5;241m=\u001b[39m \u001b[43mlib\u001b[49m\u001b[38;5;241;43m.\u001b[39;49m\u001b[43mmaybe_convert_numeric\u001b[49m\u001b[43m(\u001b[49m\n\u001b[1;32m    185\u001b[0m \u001b[43m        \u001b[49m\u001b[43mvalues\u001b[49m\u001b[43m,\u001b[49m\u001b[43m \u001b[49m\u001b[38;5;28;43mset\u001b[39;49m\u001b[43m(\u001b[49m\u001b[43m)\u001b[49m\u001b[43m,\u001b[49m\u001b[43m \u001b[49m\u001b[43mcoerce_numeric\u001b[49m\u001b[38;5;241;43m=\u001b[39;49m\u001b[43mcoerce_numeric\u001b[49m\n\u001b[1;32m    186\u001b[0m \u001b[43m    \u001b[49m\u001b[43m)\u001b[49m\n\u001b[1;32m    187\u001b[0m \u001b[38;5;28;01mexcept\u001b[39;00m (\u001b[38;5;167;01mValueError\u001b[39;00m, \u001b[38;5;167;01mTypeError\u001b[39;00m):\n\u001b[1;32m    188\u001b[0m     \u001b[38;5;28;01mif\u001b[39;00m errors \u001b[38;5;241m==\u001b[39m \u001b[38;5;124m\"\u001b[39m\u001b[38;5;124mraise\u001b[39m\u001b[38;5;124m\"\u001b[39m:\n",
      "File \u001b[0;32m~/anaconda3/lib/python3.9/site-packages/pandas/_libs/lib.pyx:2357\u001b[0m, in \u001b[0;36mpandas._libs.lib.maybe_convert_numeric\u001b[0;34m()\u001b[0m\n",
      "\u001b[0;31mValueError\u001b[0m: Unable to parse string \"abc\" at position 2"
     ]
    }
   ],
   "source": [
    "pd.to_numeric(m, errors='raise') # default"
   ]
  },
  {
   "cell_type": "code",
   "execution_count": 67,
   "id": "ed79788d-f486-4352-afad-dbd05fdd2949",
   "metadata": {},
   "outputs": [
    {
     "data": {
      "text/plain": [
       "array([1. , 2.2, nan])"
      ]
     },
     "execution_count": 67,
     "metadata": {},
     "output_type": "execute_result"
    }
   ],
   "source": [
    "pd.to_numeric(m, errors='coerce')"
   ]
  },
  {
   "cell_type": "code",
   "execution_count": 71,
   "id": "ab12327a-8eb0-4b0b-a119-2b36b3cfd412",
   "metadata": {},
   "outputs": [
    {
     "data": {
      "text/plain": [
       "array([1, 2.2, 'abc'], dtype=object)"
      ]
     },
     "execution_count": 71,
     "metadata": {},
     "output_type": "execute_result"
    }
   ],
   "source": [
    "pd.to_numeric(m, errors='ignore')"
   ]
  },
  {
   "cell_type": "markdown",
   "id": "46a61506-8c31-408a-b27f-81c248adcaaa",
   "metadata": {},
   "source": [
    "### Selecting columns based on dtype"
   ]
  },
  {
   "cell_type": "code",
   "execution_count": 73,
   "id": "cbe187b8-b158-4535-99c1-98cc4ec0cf76",
   "metadata": {},
   "outputs": [
    {
     "data": {
      "text/html": [
       "<div>\n",
       "<style scoped>\n",
       "    .dataframe tbody tr th:only-of-type {\n",
       "        vertical-align: middle;\n",
       "    }\n",
       "\n",
       "    .dataframe tbody tr th {\n",
       "        vertical-align: top;\n",
       "    }\n",
       "\n",
       "    .dataframe thead th {\n",
       "        text-align: right;\n",
       "    }\n",
       "</style>\n",
       "<table border=\"1\" class=\"dataframe\">\n",
       "  <thead>\n",
       "    <tr style=\"text-align: right;\">\n",
       "      <th></th>\n",
       "      <th>string</th>\n",
       "      <th>int64</th>\n",
       "      <th>uint8</th>\n",
       "      <th>float64</th>\n",
       "      <th>bool1</th>\n",
       "      <th>bool2</th>\n",
       "      <th>dates</th>\n",
       "      <th>category</th>\n",
       "    </tr>\n",
       "  </thead>\n",
       "  <tbody>\n",
       "    <tr>\n",
       "      <th>0</th>\n",
       "      <td>a</td>\n",
       "      <td>1</td>\n",
       "      <td>3</td>\n",
       "      <td>4.0</td>\n",
       "      <td>True</td>\n",
       "      <td>False</td>\n",
       "      <td>2022-11-27 02:42:08.332650</td>\n",
       "      <td>A</td>\n",
       "    </tr>\n",
       "    <tr>\n",
       "      <th>1</th>\n",
       "      <td>b</td>\n",
       "      <td>2</td>\n",
       "      <td>4</td>\n",
       "      <td>5.0</td>\n",
       "      <td>False</td>\n",
       "      <td>True</td>\n",
       "      <td>2022-11-28 02:42:08.332650</td>\n",
       "      <td>B</td>\n",
       "    </tr>\n",
       "    <tr>\n",
       "      <th>2</th>\n",
       "      <td>c</td>\n",
       "      <td>3</td>\n",
       "      <td>5</td>\n",
       "      <td>6.0</td>\n",
       "      <td>True</td>\n",
       "      <td>False</td>\n",
       "      <td>2022-11-29 02:42:08.332650</td>\n",
       "      <td>C</td>\n",
       "    </tr>\n",
       "  </tbody>\n",
       "</table>\n",
       "</div>"
      ],
      "text/plain": [
       "  string  int64  uint8  float64  bool1  bool2                      dates  \\\n",
       "0      a      1      3      4.0   True  False 2022-11-27 02:42:08.332650   \n",
       "1      b      2      4      5.0  False   True 2022-11-28 02:42:08.332650   \n",
       "2      c      3      5      6.0   True  False 2022-11-29 02:42:08.332650   \n",
       "\n",
       "  category  \n",
       "0        A  \n",
       "1        B  \n",
       "2        C  "
      ]
     },
     "execution_count": 73,
     "metadata": {},
     "output_type": "execute_result"
    }
   ],
   "source": [
    "df = pd.DataFrame(\n",
    "    {\n",
    "        \"string\": list(\"abc\"),\n",
    "        \"int64\": list(range(1, 4)),\n",
    "        \"uint8\": np.arange(3, 6).astype(\"u1\"),\n",
    "        \"float64\": np.arange(4.0, 7.0),\n",
    "        \"bool1\": [True, False, True],\n",
    "        \"bool2\": [False, True, False],\n",
    "        \"dates\": pd.date_range(\"now\", periods=3),\n",
    "        \"category\": pd.Series(list(\"ABC\")).astype(\"category\"),\n",
    "    }\n",
    ")"
   ]
  },
  {
   "cell_type": "code",
   "execution_count": 75,
   "id": "ac0eb3f4-cf21-4bf4-b817-006c120e855e",
   "metadata": {},
   "outputs": [
    {
     "data": {
      "text/html": [
       "<div>\n",
       "<style scoped>\n",
       "    .dataframe tbody tr th:only-of-type {\n",
       "        vertical-align: middle;\n",
       "    }\n",
       "\n",
       "    .dataframe tbody tr th {\n",
       "        vertical-align: top;\n",
       "    }\n",
       "\n",
       "    .dataframe thead th {\n",
       "        text-align: right;\n",
       "    }\n",
       "</style>\n",
       "<table border=\"1\" class=\"dataframe\">\n",
       "  <thead>\n",
       "    <tr style=\"text-align: right;\">\n",
       "      <th></th>\n",
       "      <th>string</th>\n",
       "      <th>int64</th>\n",
       "      <th>uint8</th>\n",
       "      <th>float64</th>\n",
       "      <th>bool1</th>\n",
       "      <th>bool2</th>\n",
       "      <th>dates</th>\n",
       "      <th>category</th>\n",
       "      <th>uint64</th>\n",
       "      <th>other_dates</th>\n",
       "      <th>tz_aware_dates</th>\n",
       "    </tr>\n",
       "  </thead>\n",
       "  <tbody>\n",
       "    <tr>\n",
       "      <th>0</th>\n",
       "      <td>a</td>\n",
       "      <td>1</td>\n",
       "      <td>3</td>\n",
       "      <td>4.0</td>\n",
       "      <td>True</td>\n",
       "      <td>False</td>\n",
       "      <td>2022-11-27 02:42:08.332650</td>\n",
       "      <td>A</td>\n",
       "      <td>3</td>\n",
       "      <td>2013-01-01</td>\n",
       "      <td>2013-01-01 00:00:00-05:00</td>\n",
       "    </tr>\n",
       "    <tr>\n",
       "      <th>1</th>\n",
       "      <td>b</td>\n",
       "      <td>2</td>\n",
       "      <td>4</td>\n",
       "      <td>5.0</td>\n",
       "      <td>False</td>\n",
       "      <td>True</td>\n",
       "      <td>2022-11-28 02:42:08.332650</td>\n",
       "      <td>B</td>\n",
       "      <td>4</td>\n",
       "      <td>2013-01-02</td>\n",
       "      <td>2013-01-02 00:00:00-05:00</td>\n",
       "    </tr>\n",
       "    <tr>\n",
       "      <th>2</th>\n",
       "      <td>c</td>\n",
       "      <td>3</td>\n",
       "      <td>5</td>\n",
       "      <td>6.0</td>\n",
       "      <td>True</td>\n",
       "      <td>False</td>\n",
       "      <td>2022-11-29 02:42:08.332650</td>\n",
       "      <td>C</td>\n",
       "      <td>5</td>\n",
       "      <td>2013-01-03</td>\n",
       "      <td>2013-01-03 00:00:00-05:00</td>\n",
       "    </tr>\n",
       "  </tbody>\n",
       "</table>\n",
       "</div>"
      ],
      "text/plain": [
       "  string  int64  uint8  float64  bool1  bool2                      dates  \\\n",
       "0      a      1      3      4.0   True  False 2022-11-27 02:42:08.332650   \n",
       "1      b      2      4      5.0  False   True 2022-11-28 02:42:08.332650   \n",
       "2      c      3      5      6.0   True  False 2022-11-29 02:42:08.332650   \n",
       "\n",
       "  category  uint64 other_dates            tz_aware_dates  \n",
       "0        A       3  2013-01-01 2013-01-01 00:00:00-05:00  \n",
       "1        B       4  2013-01-02 2013-01-02 00:00:00-05:00  \n",
       "2        C       5  2013-01-03 2013-01-03 00:00:00-05:00  "
      ]
     },
     "execution_count": 75,
     "metadata": {},
     "output_type": "execute_result"
    }
   ],
   "source": [
    "df[\"uint64\"] = np.arange(3, 6).astype(\"u8\")\n",
    "df[\"other_dates\"] = pd.date_range(\"20130101\", periods=3)\n",
    "df[\"tz_aware_dates\"] = pd.date_range(\"20130101\", periods=3, tz=\"US/Eastern\")\n",
    "\n",
    "df"
   ]
  },
  {
   "cell_type": "code",
   "execution_count": 76,
   "id": "133b2047-3518-46f1-b646-d51b7d5343cc",
   "metadata": {},
   "outputs": [
    {
     "data": {
      "text/plain": [
       "string                                object\n",
       "int64                                  int64\n",
       "uint8                                  uint8\n",
       "float64                              float64\n",
       "bool1                                   bool\n",
       "bool2                                   bool\n",
       "dates                         datetime64[ns]\n",
       "category                            category\n",
       "uint64                                uint64\n",
       "other_dates                   datetime64[ns]\n",
       "tz_aware_dates    datetime64[ns, US/Eastern]\n",
       "dtype: object"
      ]
     },
     "execution_count": 76,
     "metadata": {},
     "output_type": "execute_result"
    }
   ],
   "source": [
    "df.dtypes"
   ]
  },
  {
   "cell_type": "code",
   "execution_count": 77,
   "id": "714c2d3f-178e-48dd-a16a-0bd46aa176a2",
   "metadata": {},
   "outputs": [
    {
     "data": {
      "text/html": [
       "<div>\n",
       "<style scoped>\n",
       "    .dataframe tbody tr th:only-of-type {\n",
       "        vertical-align: middle;\n",
       "    }\n",
       "\n",
       "    .dataframe tbody tr th {\n",
       "        vertical-align: top;\n",
       "    }\n",
       "\n",
       "    .dataframe thead th {\n",
       "        text-align: right;\n",
       "    }\n",
       "</style>\n",
       "<table border=\"1\" class=\"dataframe\">\n",
       "  <thead>\n",
       "    <tr style=\"text-align: right;\">\n",
       "      <th></th>\n",
       "      <th>uint8</th>\n",
       "    </tr>\n",
       "  </thead>\n",
       "  <tbody>\n",
       "    <tr>\n",
       "      <th>0</th>\n",
       "      <td>3</td>\n",
       "    </tr>\n",
       "    <tr>\n",
       "      <th>1</th>\n",
       "      <td>4</td>\n",
       "    </tr>\n",
       "    <tr>\n",
       "      <th>2</th>\n",
       "      <td>5</td>\n",
       "    </tr>\n",
       "  </tbody>\n",
       "</table>\n",
       "</div>"
      ],
      "text/plain": [
       "   uint8\n",
       "0      3\n",
       "1      4\n",
       "2      5"
      ]
     },
     "execution_count": 77,
     "metadata": {},
     "output_type": "execute_result"
    }
   ],
   "source": [
    "df.select_dtypes('uint8')"
   ]
  },
  {
   "cell_type": "code",
   "execution_count": 78,
   "id": "815cb555-c404-4b22-8978-81123882e98c",
   "metadata": {},
   "outputs": [
    {
     "data": {
      "text/html": [
       "<div>\n",
       "<style scoped>\n",
       "    .dataframe tbody tr th:only-of-type {\n",
       "        vertical-align: middle;\n",
       "    }\n",
       "\n",
       "    .dataframe tbody tr th {\n",
       "        vertical-align: top;\n",
       "    }\n",
       "\n",
       "    .dataframe thead th {\n",
       "        text-align: right;\n",
       "    }\n",
       "</style>\n",
       "<table border=\"1\" class=\"dataframe\">\n",
       "  <thead>\n",
       "    <tr style=\"text-align: right;\">\n",
       "      <th></th>\n",
       "      <th>bool1</th>\n",
       "      <th>bool2</th>\n",
       "    </tr>\n",
       "  </thead>\n",
       "  <tbody>\n",
       "    <tr>\n",
       "      <th>0</th>\n",
       "      <td>True</td>\n",
       "      <td>False</td>\n",
       "    </tr>\n",
       "    <tr>\n",
       "      <th>1</th>\n",
       "      <td>False</td>\n",
       "      <td>True</td>\n",
       "    </tr>\n",
       "    <tr>\n",
       "      <th>2</th>\n",
       "      <td>True</td>\n",
       "      <td>False</td>\n",
       "    </tr>\n",
       "  </tbody>\n",
       "</table>\n",
       "</div>"
      ],
      "text/plain": [
       "   bool1  bool2\n",
       "0   True  False\n",
       "1  False   True\n",
       "2   True  False"
      ]
     },
     "execution_count": 78,
     "metadata": {},
     "output_type": "execute_result"
    }
   ],
   "source": [
    "df.select_dtypes('bool')"
   ]
  },
  {
   "cell_type": "code",
   "execution_count": 80,
   "id": "78c0c6cc-d009-4908-be78-a8d0b30b77ee",
   "metadata": {},
   "outputs": [
    {
     "data": {
      "text/html": [
       "<div>\n",
       "<style scoped>\n",
       "    .dataframe tbody tr th:only-of-type {\n",
       "        vertical-align: middle;\n",
       "    }\n",
       "\n",
       "    .dataframe tbody tr th {\n",
       "        vertical-align: top;\n",
       "    }\n",
       "\n",
       "    .dataframe thead th {\n",
       "        text-align: right;\n",
       "    }\n",
       "</style>\n",
       "<table border=\"1\" class=\"dataframe\">\n",
       "  <thead>\n",
       "    <tr style=\"text-align: right;\">\n",
       "      <th></th>\n",
       "      <th>string</th>\n",
       "      <th>bool1</th>\n",
       "      <th>bool2</th>\n",
       "    </tr>\n",
       "  </thead>\n",
       "  <tbody>\n",
       "    <tr>\n",
       "      <th>0</th>\n",
       "      <td>a</td>\n",
       "      <td>True</td>\n",
       "      <td>False</td>\n",
       "    </tr>\n",
       "    <tr>\n",
       "      <th>1</th>\n",
       "      <td>b</td>\n",
       "      <td>False</td>\n",
       "      <td>True</td>\n",
       "    </tr>\n",
       "    <tr>\n",
       "      <th>2</th>\n",
       "      <td>c</td>\n",
       "      <td>True</td>\n",
       "      <td>False</td>\n",
       "    </tr>\n",
       "  </tbody>\n",
       "</table>\n",
       "</div>"
      ],
      "text/plain": [
       "  string  bool1  bool2\n",
       "0      a   True  False\n",
       "1      b  False   True\n",
       "2      c   True  False"
      ]
     },
     "execution_count": 80,
     "metadata": {},
     "output_type": "execute_result"
    }
   ],
   "source": [
    "df.select_dtypes(['bool', 'object'])"
   ]
  },
  {
   "cell_type": "code",
   "execution_count": 82,
   "id": "456c5b62-03a1-4d7f-bdb2-7dd60d4a0931",
   "metadata": {},
   "outputs": [
    {
     "data": {
      "text/html": [
       "<div>\n",
       "<style scoped>\n",
       "    .dataframe tbody tr th:only-of-type {\n",
       "        vertical-align: middle;\n",
       "    }\n",
       "\n",
       "    .dataframe tbody tr th {\n",
       "        vertical-align: top;\n",
       "    }\n",
       "\n",
       "    .dataframe thead th {\n",
       "        text-align: right;\n",
       "    }\n",
       "</style>\n",
       "<table border=\"1\" class=\"dataframe\">\n",
       "  <thead>\n",
       "    <tr style=\"text-align: right;\">\n",
       "      <th></th>\n",
       "      <th>string</th>\n",
       "      <th>bool1</th>\n",
       "      <th>bool2</th>\n",
       "    </tr>\n",
       "  </thead>\n",
       "  <tbody>\n",
       "    <tr>\n",
       "      <th>0</th>\n",
       "      <td>a</td>\n",
       "      <td>True</td>\n",
       "      <td>False</td>\n",
       "    </tr>\n",
       "    <tr>\n",
       "      <th>1</th>\n",
       "      <td>b</td>\n",
       "      <td>False</td>\n",
       "      <td>True</td>\n",
       "    </tr>\n",
       "    <tr>\n",
       "      <th>2</th>\n",
       "      <td>c</td>\n",
       "      <td>True</td>\n",
       "      <td>False</td>\n",
       "    </tr>\n",
       "  </tbody>\n",
       "</table>\n",
       "</div>"
      ],
      "text/plain": [
       "  string  bool1  bool2\n",
       "0      a   True  False\n",
       "1      b  False   True\n",
       "2      c   True  False"
      ]
     },
     "execution_count": 82,
     "metadata": {},
     "output_type": "execute_result"
    }
   ],
   "source": [
    "df.select_dtypes(include=['bool', 'object']) # the same as above"
   ]
  },
  {
   "cell_type": "code",
   "execution_count": 84,
   "id": "100b69c4-7384-4213-92b3-497af9bf5a98",
   "metadata": {},
   "outputs": [
    {
     "data": {
      "text/html": [
       "<div>\n",
       "<style scoped>\n",
       "    .dataframe tbody tr th:only-of-type {\n",
       "        vertical-align: middle;\n",
       "    }\n",
       "\n",
       "    .dataframe tbody tr th {\n",
       "        vertical-align: top;\n",
       "    }\n",
       "\n",
       "    .dataframe thead th {\n",
       "        text-align: right;\n",
       "    }\n",
       "</style>\n",
       "<table border=\"1\" class=\"dataframe\">\n",
       "  <thead>\n",
       "    <tr style=\"text-align: right;\">\n",
       "      <th></th>\n",
       "      <th>string</th>\n",
       "      <th>int64</th>\n",
       "      <th>uint8</th>\n",
       "      <th>float64</th>\n",
       "      <th>dates</th>\n",
       "      <th>category</th>\n",
       "      <th>uint64</th>\n",
       "      <th>other_dates</th>\n",
       "      <th>tz_aware_dates</th>\n",
       "    </tr>\n",
       "  </thead>\n",
       "  <tbody>\n",
       "    <tr>\n",
       "      <th>0</th>\n",
       "      <td>a</td>\n",
       "      <td>1</td>\n",
       "      <td>3</td>\n",
       "      <td>4.0</td>\n",
       "      <td>2022-11-27 02:42:08.332650</td>\n",
       "      <td>A</td>\n",
       "      <td>3</td>\n",
       "      <td>2013-01-01</td>\n",
       "      <td>2013-01-01 00:00:00-05:00</td>\n",
       "    </tr>\n",
       "    <tr>\n",
       "      <th>1</th>\n",
       "      <td>b</td>\n",
       "      <td>2</td>\n",
       "      <td>4</td>\n",
       "      <td>5.0</td>\n",
       "      <td>2022-11-28 02:42:08.332650</td>\n",
       "      <td>B</td>\n",
       "      <td>4</td>\n",
       "      <td>2013-01-02</td>\n",
       "      <td>2013-01-02 00:00:00-05:00</td>\n",
       "    </tr>\n",
       "    <tr>\n",
       "      <th>2</th>\n",
       "      <td>c</td>\n",
       "      <td>3</td>\n",
       "      <td>5</td>\n",
       "      <td>6.0</td>\n",
       "      <td>2022-11-29 02:42:08.332650</td>\n",
       "      <td>C</td>\n",
       "      <td>5</td>\n",
       "      <td>2013-01-03</td>\n",
       "      <td>2013-01-03 00:00:00-05:00</td>\n",
       "    </tr>\n",
       "  </tbody>\n",
       "</table>\n",
       "</div>"
      ],
      "text/plain": [
       "  string  int64  uint8  float64                      dates category  uint64  \\\n",
       "0      a      1      3      4.0 2022-11-27 02:42:08.332650        A       3   \n",
       "1      b      2      4      5.0 2022-11-28 02:42:08.332650        B       4   \n",
       "2      c      3      5      6.0 2022-11-29 02:42:08.332650        C       5   \n",
       "\n",
       "  other_dates            tz_aware_dates  \n",
       "0  2013-01-01 2013-01-01 00:00:00-05:00  \n",
       "1  2013-01-02 2013-01-02 00:00:00-05:00  \n",
       "2  2013-01-03 2013-01-03 00:00:00-05:00  "
      ]
     },
     "execution_count": 84,
     "metadata": {},
     "output_type": "execute_result"
    }
   ],
   "source": [
    "df.select_dtypes(exclude=['bool']) # everything but bool type"
   ]
  }
 ],
 "metadata": {
  "kernelspec": {
   "display_name": "Python 3 (ipykernel)",
   "language": "python",
   "name": "python3"
  },
  "language_info": {
   "codemirror_mode": {
    "name": "ipython",
    "version": 3
   },
   "file_extension": ".py",
   "mimetype": "text/x-python",
   "name": "python",
   "nbconvert_exporter": "python",
   "pygments_lexer": "ipython3",
   "version": "3.9.12"
  }
 },
 "nbformat": 4,
 "nbformat_minor": 5
}
